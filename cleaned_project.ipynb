{
 "cells": [
  {
   "cell_type": "markdown",
   "id": "fff5e09c",
   "metadata": {},
   "source": [
    "# Project 2 – Loan Applications 💸"
   ]
  },
  {
   "cell_type": "code",
   "execution_count": 20,
   "id": "b0cb1214",
   "metadata": {},
   "outputs": [],
   "source": [
    "import pandas as pd\n",
    "import numpy as np\n",
    "from pathlib import Path\n",
    "\n",
    "import plotly.express as px\n",
    "import plotly.graph_objects as go\n",
    "import plotly.io as pio\n",
    "pd.options.plotting.backend = 'plotly'\n",
    "\n",
    "from IPython.display import display\n",
    "\n",
    "# DSC 80 preferred styles\n",
    "pio.templates[\"dsc80\"] = go.layout.Template(\n",
    "    layout=dict(\n",
    "        margin=dict(l=30, r=30, t=30, b=30),\n",
    "        autosize=True,\n",
    "        width=600,\n",
    "        height=400,\n",
    "        xaxis=dict(showgrid=True),\n",
    "        yaxis=dict(showgrid=True),\n",
    "        title=dict(x=0.5, xanchor=\"center\"),\n",
    "    )\n",
    ")\n",
    "pio.templates.default = \"simple_white+dsc80\"\n",
    "\n",
    "import plotly.figure_factory as ff\n",
    "def create_kde_plotly(df, group_col, group1, group2, vals_col, title=''):\n",
    "    fig = ff.create_distplot(\n",
    "        hist_data=[df.loc[df[group_col] == group1, vals_col], df.loc[df[group_col] == group2, vals_col]],\n",
    "        group_labels=[group1, group2],\n",
    "        show_rug=False, show_hist=False\n",
    "    )\n",
    "    return fig.update_layout(title=title)"
   ]
  },
  {
   "cell_type": "code",
   "execution_count": 21,
   "id": "aa99b5e0",
   "metadata": {},
   "outputs": [],
   "source": [
    "from project import *"
   ]
  },
  {
   "cell_type": "code",
   "execution_count": 22,
   "id": "1684dabf",
   "metadata": {
    "scrolled": true
   },
   "outputs": [
    {
     "data": {
      "text/html": [
       "<div>\n",
       "<style scoped>\n",
       "    .dataframe tbody tr th:only-of-type {\n",
       "        vertical-align: middle;\n",
       "    }\n",
       "\n",
       "    .dataframe tbody tr th {\n",
       "        vertical-align: top;\n",
       "    }\n",
       "\n",
       "    .dataframe thead th {\n",
       "        text-align: right;\n",
       "    }\n",
       "</style>\n",
       "<table border=\"1\" class=\"dataframe\">\n",
       "  <thead>\n",
       "    <tr style=\"text-align: right;\">\n",
       "      <th></th>\n",
       "      <th>id</th>\n",
       "      <th>loan_amnt</th>\n",
       "      <th>issue_d</th>\n",
       "      <th>term</th>\n",
       "      <th>int_rate</th>\n",
       "      <th>grade</th>\n",
       "      <th>sub_grade</th>\n",
       "      <th>emp_title</th>\n",
       "      <th>verification_status</th>\n",
       "      <th>home_ownership</th>\n",
       "      <th>annual_inc</th>\n",
       "      <th>loan_status</th>\n",
       "      <th>purpose</th>\n",
       "      <th>desc</th>\n",
       "      <th>addr_state</th>\n",
       "      <th>dti</th>\n",
       "      <th>fico_range_low</th>\n",
       "      <th>fico_range_high</th>\n",
       "      <th>hardship_flag</th>\n",
       "      <th>mths_since_last_delinq</th>\n",
       "    </tr>\n",
       "  </thead>\n",
       "  <tbody>\n",
       "    <tr>\n",
       "      <th>0</th>\n",
       "      <td>17965023</td>\n",
       "      <td>18000.0</td>\n",
       "      <td>Jun-2014</td>\n",
       "      <td>60 months</td>\n",
       "      <td>16.99</td>\n",
       "      <td>D</td>\n",
       "      <td>D3</td>\n",
       "      <td>sales</td>\n",
       "      <td>Source Verified</td>\n",
       "      <td>RENT</td>\n",
       "      <td>60000.0</td>\n",
       "      <td>Charged Off</td>\n",
       "      <td>debt_consolidation</td>\n",
       "      <td>NaN</td>\n",
       "      <td>MN</td>\n",
       "      <td>23.22</td>\n",
       "      <td>700.0</td>\n",
       "      <td>704.0</td>\n",
       "      <td>N</td>\n",
       "      <td>72.0</td>\n",
       "    </tr>\n",
       "    <tr>\n",
       "      <th>1</th>\n",
       "      <td>111414087</td>\n",
       "      <td>10000.0</td>\n",
       "      <td>Jun-2017</td>\n",
       "      <td>36 months</td>\n",
       "      <td>16.02</td>\n",
       "      <td>C</td>\n",
       "      <td>C5</td>\n",
       "      <td>mechanic</td>\n",
       "      <td>Source Verified</td>\n",
       "      <td>OWN</td>\n",
       "      <td>50000.0</td>\n",
       "      <td>Current</td>\n",
       "      <td>home_improvement</td>\n",
       "      <td>NaN</td>\n",
       "      <td>IL</td>\n",
       "      <td>6.14</td>\n",
       "      <td>680.0</td>\n",
       "      <td>684.0</td>\n",
       "      <td>N</td>\n",
       "      <td>6.0</td>\n",
       "    </tr>\n",
       "    <tr>\n",
       "      <th>2</th>\n",
       "      <td>95219557</td>\n",
       "      <td>12800.0</td>\n",
       "      <td>Dec-2016</td>\n",
       "      <td>36 months</td>\n",
       "      <td>7.99</td>\n",
       "      <td>A</td>\n",
       "      <td>A5</td>\n",
       "      <td>general manager</td>\n",
       "      <td>Not Verified</td>\n",
       "      <td>MORTGAGE</td>\n",
       "      <td>47500.0</td>\n",
       "      <td>Fully Paid</td>\n",
       "      <td>debt_consolidation</td>\n",
       "      <td>NaN</td>\n",
       "      <td>MO</td>\n",
       "      <td>12.89</td>\n",
       "      <td>705.0</td>\n",
       "      <td>709.0</td>\n",
       "      <td>N</td>\n",
       "      <td>66.0</td>\n",
       "    </tr>\n",
       "    <tr>\n",
       "      <th>3</th>\n",
       "      <td>142831837</td>\n",
       "      <td>16000.0</td>\n",
       "      <td>Oct-2018</td>\n",
       "      <td>60 months</td>\n",
       "      <td>23.40</td>\n",
       "      <td>E</td>\n",
       "      <td>E1</td>\n",
       "      <td>nurse</td>\n",
       "      <td>Source Verified</td>\n",
       "      <td>MORTGAGE</td>\n",
       "      <td>120000.0</td>\n",
       "      <td>Current</td>\n",
       "      <td>home_improvement</td>\n",
       "      <td>NaN</td>\n",
       "      <td>FL</td>\n",
       "      <td>5.66</td>\n",
       "      <td>670.0</td>\n",
       "      <td>674.0</td>\n",
       "      <td>N</td>\n",
       "      <td>NaN</td>\n",
       "    </tr>\n",
       "    <tr>\n",
       "      <th>4</th>\n",
       "      <td>140113255</td>\n",
       "      <td>40000.0</td>\n",
       "      <td>Sep-2018</td>\n",
       "      <td>60 months</td>\n",
       "      <td>7.84</td>\n",
       "      <td>A</td>\n",
       "      <td>A4</td>\n",
       "      <td>staff pharmacist</td>\n",
       "      <td>Verified</td>\n",
       "      <td>MORTGAGE</td>\n",
       "      <td>150000.0</td>\n",
       "      <td>Current</td>\n",
       "      <td>debt_consolidation</td>\n",
       "      <td>NaN</td>\n",
       "      <td>MN</td>\n",
       "      <td>12.24</td>\n",
       "      <td>735.0</td>\n",
       "      <td>739.0</td>\n",
       "      <td>N</td>\n",
       "      <td>NaN</td>\n",
       "    </tr>\n",
       "  </tbody>\n",
       "</table>\n",
       "</div>"
      ],
      "text/plain": [
       "          id  loan_amnt   issue_d        term  int_rate grade sub_grade  \\\n",
       "0   17965023    18000.0  Jun-2014   60 months     16.99     D        D3   \n",
       "1  111414087    10000.0  Jun-2017   36 months     16.02     C        C5   \n",
       "2   95219557    12800.0  Dec-2016   36 months      7.99     A        A5   \n",
       "3  142831837    16000.0  Oct-2018   60 months     23.40     E        E1   \n",
       "4  140113255    40000.0  Sep-2018   60 months      7.84     A        A4   \n",
       "\n",
       "          emp_title verification_status home_ownership  annual_inc  \\\n",
       "0             sales     Source Verified           RENT     60000.0   \n",
       "1          mechanic     Source Verified            OWN     50000.0   \n",
       "2   general manager        Not Verified       MORTGAGE     47500.0   \n",
       "3             nurse     Source Verified       MORTGAGE    120000.0   \n",
       "4  staff pharmacist            Verified       MORTGAGE    150000.0   \n",
       "\n",
       "   loan_status             purpose desc addr_state    dti  fico_range_low  \\\n",
       "0  Charged Off  debt_consolidation  NaN         MN  23.22           700.0   \n",
       "1      Current    home_improvement  NaN         IL   6.14           680.0   \n",
       "2   Fully Paid  debt_consolidation  NaN         MO  12.89           705.0   \n",
       "3      Current    home_improvement  NaN         FL   5.66           670.0   \n",
       "4      Current  debt_consolidation  NaN         MN  12.24           735.0   \n",
       "\n",
       "   fico_range_high hardship_flag  mths_since_last_delinq  \n",
       "0            704.0             N                    72.0  \n",
       "1            684.0             N                     6.0  \n",
       "2            709.0             N                    66.0  \n",
       "3            674.0             N                     NaN  \n",
       "4            739.0             N                     NaN  "
      ]
     },
     "execution_count": 22,
     "metadata": {},
     "output_type": "execute_result"
    }
   ],
   "source": [
    "loans_path = Path('data') / 'loans.csv'\n",
    "loans = pd.read_csv(loans_path)\n",
    "loans.head()"
   ]
  },
  {
   "cell_type": "markdown",
   "id": "a179fd5f",
   "metadata": {},
   "source": [
    "Each row of the dataset corresponds to a different loan that the LendingClub approved and paid out. Some of the key columns are:\n",
    "- `'loan_amnt' (float)`: the amount of the loan, or how much the borrower borrowed.\n",
    "- `'issue_d' (str)`: the date on which the loan was issued.\n",
    "- `'term' (str)`: the length of the loan, that is, the amount of time the borrower has to pay the loan back.\n",
    "- `'int_rate' (float)`: the interest rate the borrower will pay on their loan amount.\n",
    "\n",
    "First, it's worth exploring the distribution of loan amounts. You'll see that the largest possible loan given out through LendingClub was \\\\$40,000."
   ]
  },
  {
   "cell_type": "code",
   "execution_count": 23,
   "id": "5d572c60",
   "metadata": {},
   "outputs": [
    {
     "data": {
      "text/plain": [
       "count     6300.000000\n",
       "mean     15568.801587\n",
       "std       7398.968439\n",
       "min       1000.000000\n",
       "25%      10400.000000\n",
       "50%      15000.000000\n",
       "75%      19125.000000\n",
       "max      40000.000000\n",
       "Name: loan_amnt, dtype: float64"
      ]
     },
     "execution_count": 23,
     "metadata": {},
     "output_type": "execute_result"
    }
   ],
   "source": [
    "loans['loan_amnt'].describe()"
   ]
  },
  {
   "cell_type": "markdown",
   "id": "070d4524",
   "metadata": {},
   "source": [
    "Note that when a borrower is approved for a loan, they are presented with multiple offers with different loan terms and interest rates. **Larger interest rates make the loan more expensive for the borrower – as a borrower, you want a lower interest rate!** Even for the same loan amount, different borrowers were approved for different terms and interest rates. Take a look below:"
   ]
  },
  {
   "cell_type": "code",
   "execution_count": 28,
   "id": "31bc965d",
   "metadata": {},
   "outputs": [
    {
     "data": {
      "text/html": [
       "<div>\n",
       "<style scoped>\n",
       "    .dataframe tbody tr th:only-of-type {\n",
       "        vertical-align: middle;\n",
       "    }\n",
       "\n",
       "    .dataframe tbody tr th {\n",
       "        vertical-align: top;\n",
       "    }\n",
       "\n",
       "    .dataframe thead th {\n",
       "        text-align: right;\n",
       "    }\n",
       "</style>\n",
       "<table border=\"1\" class=\"dataframe\">\n",
       "  <thead>\n",
       "    <tr style=\"text-align: right;\">\n",
       "      <th></th>\n",
       "      <th>loan_amnt</th>\n",
       "      <th>term</th>\n",
       "      <th>int_rate</th>\n",
       "    </tr>\n",
       "  </thead>\n",
       "  <tbody>\n",
       "    <tr>\n",
       "      <th>249</th>\n",
       "      <td>3600.0</td>\n",
       "      <td>36 months</td>\n",
       "      <td>24.50</td>\n",
       "    </tr>\n",
       "    <tr>\n",
       "      <th>626</th>\n",
       "      <td>3600.0</td>\n",
       "      <td>36 months</td>\n",
       "      <td>13.99</td>\n",
       "    </tr>\n",
       "    <tr>\n",
       "      <th>1020</th>\n",
       "      <td>3600.0</td>\n",
       "      <td>36 months</td>\n",
       "      <td>11.49</td>\n",
       "    </tr>\n",
       "    <tr>\n",
       "      <th>2141</th>\n",
       "      <td>3600.0</td>\n",
       "      <td>36 months</td>\n",
       "      <td>10.08</td>\n",
       "    </tr>\n",
       "    <tr>\n",
       "      <th>2145</th>\n",
       "      <td>3600.0</td>\n",
       "      <td>36 months</td>\n",
       "      <td>5.32</td>\n",
       "    </tr>\n",
       "    <tr>\n",
       "      <th>2584</th>\n",
       "      <td>3600.0</td>\n",
       "      <td>36 months</td>\n",
       "      <td>16.29</td>\n",
       "    </tr>\n",
       "    <tr>\n",
       "      <th>2739</th>\n",
       "      <td>3600.0</td>\n",
       "      <td>36 months</td>\n",
       "      <td>8.24</td>\n",
       "    </tr>\n",
       "    <tr>\n",
       "      <th>3845</th>\n",
       "      <td>3600.0</td>\n",
       "      <td>36 months</td>\n",
       "      <td>13.66</td>\n",
       "    </tr>\n",
       "    <tr>\n",
       "      <th>4153</th>\n",
       "      <td>3600.0</td>\n",
       "      <td>36 months</td>\n",
       "      <td>12.59</td>\n",
       "    </tr>\n",
       "    <tr>\n",
       "      <th>4368</th>\n",
       "      <td>3600.0</td>\n",
       "      <td>36 months</td>\n",
       "      <td>14.08</td>\n",
       "    </tr>\n",
       "    <tr>\n",
       "      <th>4575</th>\n",
       "      <td>3600.0</td>\n",
       "      <td>36 months</td>\n",
       "      <td>16.46</td>\n",
       "    </tr>\n",
       "    <tr>\n",
       "      <th>4959</th>\n",
       "      <td>3600.0</td>\n",
       "      <td>36 months</td>\n",
       "      <td>10.75</td>\n",
       "    </tr>\n",
       "    <tr>\n",
       "      <th>4984</th>\n",
       "      <td>3600.0</td>\n",
       "      <td>36 months</td>\n",
       "      <td>13.99</td>\n",
       "    </tr>\n",
       "    <tr>\n",
       "      <th>5478</th>\n",
       "      <td>3600.0</td>\n",
       "      <td>60 months</td>\n",
       "      <td>10.59</td>\n",
       "    </tr>\n",
       "    <tr>\n",
       "      <th>5560</th>\n",
       "      <td>3600.0</td>\n",
       "      <td>36 months</td>\n",
       "      <td>19.99</td>\n",
       "    </tr>\n",
       "    <tr>\n",
       "      <th>5693</th>\n",
       "      <td>3600.0</td>\n",
       "      <td>36 months</td>\n",
       "      <td>13.99</td>\n",
       "    </tr>\n",
       "    <tr>\n",
       "      <th>6113</th>\n",
       "      <td>3600.0</td>\n",
       "      <td>36 months</td>\n",
       "      <td>15.59</td>\n",
       "    </tr>\n",
       "  </tbody>\n",
       "</table>\n",
       "</div>"
      ],
      "text/plain": [
       "      loan_amnt        term  int_rate\n",
       "249      3600.0   36 months     24.50\n",
       "626      3600.0   36 months     13.99\n",
       "1020     3600.0   36 months     11.49\n",
       "2141     3600.0   36 months     10.08\n",
       "2145     3600.0   36 months      5.32\n",
       "2584     3600.0   36 months     16.29\n",
       "2739     3600.0   36 months      8.24\n",
       "3845     3600.0   36 months     13.66\n",
       "4153     3600.0   36 months     12.59\n",
       "4368     3600.0   36 months     14.08\n",
       "4575     3600.0   36 months     16.46\n",
       "4959     3600.0   36 months     10.75\n",
       "4984     3600.0   36 months     13.99\n",
       "5478     3600.0   60 months     10.59\n",
       "5560     3600.0   36 months     19.99\n",
       "5693     3600.0   36 months     13.99\n",
       "6113     3600.0   36 months     15.59"
      ]
     },
     "execution_count": 28,
     "metadata": {},
     "output_type": "execute_result"
    }
   ],
   "source": [
    "loans.loc[loans['loan_amnt'] == 3600, ['loan_amnt', 'term', 'int_rate']]"
   ]
  },
  {
   "cell_type": "markdown",
   "id": "b2f358d2",
   "metadata": {},
   "source": [
    "So, why do different borrowers receive different terms and interest rates, despite asking for the same amount of money? The factors that influence loan offers are complex, but it's [known](https://www.bankofamerica.com/smallbusiness/resources/post/factors-that-impact-loan-decisions-and-how-to-increase-your-approval-odds/) that some of the key factors are employment status, annual income, and credit score, among other things.\n",
    "\n",
    "In this project, I will **explore how various borrower characteristics are related to one another**, in an attempt to better understand the complexity behind loans. It's important to remember, though, that this dataset only contains information about actually approved loans, **not** all loan applications."
   ]
  },
  {
   "cell_type": "markdown",
   "id": "1afa8825",
   "metadata": {},
   "source": [
    "\n",
    "---\n",
    "\n",
    "<a id='outline'></a>\n",
    "\n",
    "### Navigating the Project 🗺\n",
    "\n",
    "Click on the links below to navigate to different parts of the project. \n",
    "\n",
    "\n",
    "- [Part 1: Understanding Lender Decision-Making 🤔](#part1)\n",
    "    - [✅ Question 1 (Checkpoint Question)](#question1)\n",
    "    - [✅ Question 2 (Checkpoint Question)](#question2)\n",
    "    - [Question 3](#Question-3)\n",
    "    - [Question 4](#Question-4)\n",
    "- [Part 2: Calculating Disposable Incomes 💰](#part2)\n",
    "    - [Question 5](#Question-5)\n",
    "    - [Question 6](#Question-6)\n",
    "    - [Question 7](#Question-7)\n",
    "    - [Question 8](#Question-8)\n",
    "- [Part 3: Identifying Simpson's Paradox 🙃](#part3)\n",
    "    - [Question 9](#Question-9)\n",
    "    - [Question 10](#Question-10)\n",
    "    \n",
    "---\n",
    "<!--     - [✅ Question 1 (Checkpoint Question)](#Question-1)\n",
    "    - [✅ Question 2 (Checkpoint Question)](#Question-2) -->"
   ]
  },
  {
   "cell_type": "markdown",
   "id": "8ec83f58",
   "metadata": {},
   "source": [
    "<a id='part1'></a>\n",
    "\n",
    "## Part 1: Understanding Lender Decision-Making 🤔\n",
    "\n",
    "([return to the outline](#outline))\n",
    "\n",
    "As mentioned above, the dataset we have only has information about approved loans – we don't have information about individuals who applied for loans and weren't approved. That means that we can't directly study what distinguishes successful loan applications from unsuccessful ones.\n",
    "\n",
    "We'll start by understanding the **quantitative risks** that lenders assess when deciding what terms and interest rates to give to borrowers. Lenders typically charge higher interest rates to borrowers they perceive as high-risk. This practice serves several purposes: it offsets potential losses from unpaid debts, discourages excessively risky lending, and ensures that the higher returns from these loans can cover defaults. \n",
    "\n",
    "The first quantitative metric we'll look at is **debt-to-income (DTI) ratio**. Understanding the impact of such a metric on interest rates helps us in evaluating how lenders quantify risk.\n",
    "\n",
    "<!-- The realm of lender decision-making is complex and multifaceted, influenced by a blend of traditional and non-traditional metrics. Our motivation is to delve into this domain and comprehend financial indicators, starting with: \n",
    " -->\n",
    " \n",
    "<!-- **Quantitative Risks:** Traditional metrics like **Debt-to-Income (DTI)** ratio and annual income are quantifiable and offer a concrete basis for assessing a borrower's financial health. \n",
    " -->\n",
    "<br/>\n",
    "\n",
    "$$\n",
    "\\text{DTI} = \\left( \\frac{\\text{Total Monthly Debt Payments}}{\\text{Gross Monthly Income}} \\right) \\cdot 100 \n",
    "$$\n",
    "\n",
    "<br/>\n",
    "\n",
    "Note that you don't need to calculate DTIs – they are already provided for us in the `'dti'` column of `loans`.\n",
    "\n",
    "\n",
    "A low DTI indicates that a borrower is less likely to face financial strain from taking on additional debt, making them a lower risk to lenders. Conversely, a high DTI may signal financial overextension, suggesting a higher risk for default – that is, a higher risk that the borrower won't pay back the loan. \n",
    "\n",
    "When a lender perceives a higher risk of default, they often charge a higher interest rate. Let's see if this correlation is present in our dataset by looking a scatter plot of interest rate (`'int_rate'`) vs DTI (`'dti'`)."
   ]
  },
  {
   "cell_type": "code",
   "execution_count": 29,
   "id": "4f258a8d",
   "metadata": {},
   "outputs": [],
   "source": [
    "# Note: If the plot below doesn't appear, uncomment and run the following line.\n",
    "# It will make all plotly plots render in a new browser tab.\n",
    "# This is more inconvenient, but should bypass any rendering issues.\n",
    "\n",
    "# pio.renderers.default = 'browser'"
   ]
  },
  {
   "cell_type": "code",
   "execution_count": 30,
   "id": "25e42bb1",
   "metadata": {},
   "outputs": [
    {
     "data": {
      "application/vnd.plotly.v1+json": {
       "config": {
        "plotlyServerURL": "https://plot.ly"
       },
       "data": [
        {
         "hovertemplate": "Debt-to-Income Ratio=%{x}<br>Interest Rate (%)=%{y}<extra></extra>",
         "legendgroup": "",
         "marker": {
          "color": "#1F77B4",
          "symbol": "circle"
         },
         "mode": "markers",
         "name": "",
         "orientation": "v",
         "showlegend": false,
         "type": "scatter",
         "x": {
          "bdata": "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",
          "dtype": "f8"
         },
         "xaxis": "x",
         "y": {
          "bdata": "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",
          "dtype": "f8"
         },
         "yaxis": "y"
        },
        {
         "hovertemplate": "<b>OLS trendline</b><br>int_rate = 0.105557 * dti + 10.9694<br>R<sup>2</sup>=0.031603<br><br>Debt-to-Income Ratio=%{x}<br>Interest Rate (%)=%{y} <b>(trend)</b><extra></extra>",
         "legendgroup": "",
         "line": {
          "color": "orange"
         },
         "marker": {
          "color": "#1F77B4",
          "symbol": "circle"
         },
         "mode": "lines",
         "name": "",
         "showlegend": false,
         "type": "scatter",
         "x": {
          "bdata": "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",
          "dtype": "f8"
         },
         "xaxis": "x",
         "y": {
          "bdata": "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",
          "dtype": "f8"
         },
         "yaxis": "y"
        }
       ],
       "layout": {
        "legend": {
         "tracegroupgap": 0
        },
        "template": {
         "data": {
          "bar": [
           {
            "error_x": {
             "color": "rgb(36,36,36)"
            },
            "error_y": {
             "color": "rgb(36,36,36)"
            },
            "marker": {
             "line": {
              "color": "white",
              "width": 0.5
             },
             "pattern": {
              "fillmode": "overlay",
              "size": 10,
              "solidity": 0.2
             }
            },
            "type": "bar"
           }
          ],
          "barpolar": [
           {
            "marker": {
             "line": {
              "color": "white",
              "width": 0.5
             },
             "pattern": {
              "fillmode": "overlay",
              "size": 10,
              "solidity": 0.2
             }
            },
            "type": "barpolar"
           }
          ],
          "carpet": [
           {
            "aaxis": {
             "endlinecolor": "rgb(36,36,36)",
             "gridcolor": "white",
             "linecolor": "white",
             "minorgridcolor": "white",
             "startlinecolor": "rgb(36,36,36)"
            },
            "baxis": {
             "endlinecolor": "rgb(36,36,36)",
             "gridcolor": "white",
             "linecolor": "white",
             "minorgridcolor": "white",
             "startlinecolor": "rgb(36,36,36)"
            },
            "type": "carpet"
           }
          ],
          "choropleth": [
           {
            "colorbar": {
             "outlinewidth": 1,
             "tickcolor": "rgb(36,36,36)",
             "ticks": "outside"
            },
            "type": "choropleth"
           }
          ],
          "contour": [
           {
            "colorbar": {
             "outlinewidth": 1,
             "tickcolor": "rgb(36,36,36)",
             "ticks": "outside"
            },
            "colorscale": [
             [
              0,
              "#440154"
             ],
             [
              0.1111111111111111,
              "#482878"
             ],
             [
              0.2222222222222222,
              "#3e4989"
             ],
             [
              0.3333333333333333,
              "#31688e"
             ],
             [
              0.4444444444444444,
              "#26828e"
             ],
             [
              0.5555555555555556,
              "#1f9e89"
             ],
             [
              0.6666666666666666,
              "#35b779"
             ],
             [
              0.7777777777777778,
              "#6ece58"
             ],
             [
              0.8888888888888888,
              "#b5de2b"
             ],
             [
              1,
              "#fde725"
             ]
            ],
            "type": "contour"
           }
          ],
          "contourcarpet": [
           {
            "colorbar": {
             "outlinewidth": 1,
             "tickcolor": "rgb(36,36,36)",
             "ticks": "outside"
            },
            "type": "contourcarpet"
           }
          ],
          "heatmap": [
           {
            "colorbar": {
             "outlinewidth": 1,
             "tickcolor": "rgb(36,36,36)",
             "ticks": "outside"
            },
            "colorscale": [
             [
              0,
              "#440154"
             ],
             [
              0.1111111111111111,
              "#482878"
             ],
             [
              0.2222222222222222,
              "#3e4989"
             ],
             [
              0.3333333333333333,
              "#31688e"
             ],
             [
              0.4444444444444444,
              "#26828e"
             ],
             [
              0.5555555555555556,
              "#1f9e89"
             ],
             [
              0.6666666666666666,
              "#35b779"
             ],
             [
              0.7777777777777778,
              "#6ece58"
             ],
             [
              0.8888888888888888,
              "#b5de2b"
             ],
             [
              1,
              "#fde725"
             ]
            ],
            "type": "heatmap"
           }
          ],
          "histogram": [
           {
            "marker": {
             "line": {
              "color": "white",
              "width": 0.6
             }
            },
            "type": "histogram"
           }
          ],
          "histogram2d": [
           {
            "colorbar": {
             "outlinewidth": 1,
             "tickcolor": "rgb(36,36,36)",
             "ticks": "outside"
            },
            "colorscale": [
             [
              0,
              "#440154"
             ],
             [
              0.1111111111111111,
              "#482878"
             ],
             [
              0.2222222222222222,
              "#3e4989"
             ],
             [
              0.3333333333333333,
              "#31688e"
             ],
             [
              0.4444444444444444,
              "#26828e"
             ],
             [
              0.5555555555555556,
              "#1f9e89"
             ],
             [
              0.6666666666666666,
              "#35b779"
             ],
             [
              0.7777777777777778,
              "#6ece58"
             ],
             [
              0.8888888888888888,
              "#b5de2b"
             ],
             [
              1,
              "#fde725"
             ]
            ],
            "type": "histogram2d"
           }
          ],
          "histogram2dcontour": [
           {
            "colorbar": {
             "outlinewidth": 1,
             "tickcolor": "rgb(36,36,36)",
             "ticks": "outside"
            },
            "colorscale": [
             [
              0,
              "#440154"
             ],
             [
              0.1111111111111111,
              "#482878"
             ],
             [
              0.2222222222222222,
              "#3e4989"
             ],
             [
              0.3333333333333333,
              "#31688e"
             ],
             [
              0.4444444444444444,
              "#26828e"
             ],
             [
              0.5555555555555556,
              "#1f9e89"
             ],
             [
              0.6666666666666666,
              "#35b779"
             ],
             [
              0.7777777777777778,
              "#6ece58"
             ],
             [
              0.8888888888888888,
              "#b5de2b"
             ],
             [
              1,
              "#fde725"
             ]
            ],
            "type": "histogram2dcontour"
           }
          ],
          "mesh3d": [
           {
            "colorbar": {
             "outlinewidth": 1,
             "tickcolor": "rgb(36,36,36)",
             "ticks": "outside"
            },
            "type": "mesh3d"
           }
          ],
          "parcoords": [
           {
            "line": {
             "colorbar": {
              "outlinewidth": 1,
              "tickcolor": "rgb(36,36,36)",
              "ticks": "outside"
             }
            },
            "type": "parcoords"
           }
          ],
          "pie": [
           {
            "automargin": true,
            "type": "pie"
           }
          ],
          "scatter": [
           {
            "fillpattern": {
             "fillmode": "overlay",
             "size": 10,
             "solidity": 0.2
            },
            "type": "scatter"
           }
          ],
          "scatter3d": [
           {
            "line": {
             "colorbar": {
              "outlinewidth": 1,
              "tickcolor": "rgb(36,36,36)",
              "ticks": "outside"
             }
            },
            "marker": {
             "colorbar": {
              "outlinewidth": 1,
              "tickcolor": "rgb(36,36,36)",
              "ticks": "outside"
             }
            },
            "type": "scatter3d"
           }
          ],
          "scattercarpet": [
           {
            "marker": {
             "colorbar": {
              "outlinewidth": 1,
              "tickcolor": "rgb(36,36,36)",
              "ticks": "outside"
             }
            },
            "type": "scattercarpet"
           }
          ],
          "scattergeo": [
           {
            "marker": {
             "colorbar": {
              "outlinewidth": 1,
              "tickcolor": "rgb(36,36,36)",
              "ticks": "outside"
             }
            },
            "type": "scattergeo"
           }
          ],
          "scattergl": [
           {
            "marker": {
             "colorbar": {
              "outlinewidth": 1,
              "tickcolor": "rgb(36,36,36)",
              "ticks": "outside"
             }
            },
            "type": "scattergl"
           }
          ],
          "scattermap": [
           {
            "marker": {
             "colorbar": {
              "outlinewidth": 1,
              "tickcolor": "rgb(36,36,36)",
              "ticks": "outside"
             }
            },
            "type": "scattermap"
           }
          ],
          "scattermapbox": [
           {
            "marker": {
             "colorbar": {
              "outlinewidth": 1,
              "tickcolor": "rgb(36,36,36)",
              "ticks": "outside"
             }
            },
            "type": "scattermapbox"
           }
          ],
          "scatterpolar": [
           {
            "marker": {
             "colorbar": {
              "outlinewidth": 1,
              "tickcolor": "rgb(36,36,36)",
              "ticks": "outside"
             }
            },
            "type": "scatterpolar"
           }
          ],
          "scatterpolargl": [
           {
            "marker": {
             "colorbar": {
              "outlinewidth": 1,
              "tickcolor": "rgb(36,36,36)",
              "ticks": "outside"
             }
            },
            "type": "scatterpolargl"
           }
          ],
          "scatterternary": [
           {
            "marker": {
             "colorbar": {
              "outlinewidth": 1,
              "tickcolor": "rgb(36,36,36)",
              "ticks": "outside"
             }
            },
            "type": "scatterternary"
           }
          ],
          "surface": [
           {
            "colorbar": {
             "outlinewidth": 1,
             "tickcolor": "rgb(36,36,36)",
             "ticks": "outside"
            },
            "colorscale": [
             [
              0,
              "#440154"
             ],
             [
              0.1111111111111111,
              "#482878"
             ],
             [
              0.2222222222222222,
              "#3e4989"
             ],
             [
              0.3333333333333333,
              "#31688e"
             ],
             [
              0.4444444444444444,
              "#26828e"
             ],
             [
              0.5555555555555556,
              "#1f9e89"
             ],
             [
              0.6666666666666666,
              "#35b779"
             ],
             [
              0.7777777777777778,
              "#6ece58"
             ],
             [
              0.8888888888888888,
              "#b5de2b"
             ],
             [
              1,
              "#fde725"
             ]
            ],
            "type": "surface"
           }
          ],
          "table": [
           {
            "cells": {
             "fill": {
              "color": "rgb(237,237,237)"
             },
             "line": {
              "color": "white"
             }
            },
            "header": {
             "fill": {
              "color": "rgb(217,217,217)"
             },
             "line": {
              "color": "white"
             }
            },
            "type": "table"
           }
          ]
         },
         "layout": {
          "annotationdefaults": {
           "arrowhead": 0,
           "arrowwidth": 1
          },
          "autosize": true,
          "autotypenumbers": "strict",
          "coloraxis": {
           "colorbar": {
            "outlinewidth": 1,
            "tickcolor": "rgb(36,36,36)",
            "ticks": "outside"
           }
          },
          "colorscale": {
           "diverging": [
            [
             0,
             "rgb(103,0,31)"
            ],
            [
             0.1,
             "rgb(178,24,43)"
            ],
            [
             0.2,
             "rgb(214,96,77)"
            ],
            [
             0.3,
             "rgb(244,165,130)"
            ],
            [
             0.4,
             "rgb(253,219,199)"
            ],
            [
             0.5,
             "rgb(247,247,247)"
            ],
            [
             0.6,
             "rgb(209,229,240)"
            ],
            [
             0.7,
             "rgb(146,197,222)"
            ],
            [
             0.8,
             "rgb(67,147,195)"
            ],
            [
             0.9,
             "rgb(33,102,172)"
            ],
            [
             1,
             "rgb(5,48,97)"
            ]
           ],
           "sequential": [
            [
             0,
             "#440154"
            ],
            [
             0.1111111111111111,
             "#482878"
            ],
            [
             0.2222222222222222,
             "#3e4989"
            ],
            [
             0.3333333333333333,
             "#31688e"
            ],
            [
             0.4444444444444444,
             "#26828e"
            ],
            [
             0.5555555555555556,
             "#1f9e89"
            ],
            [
             0.6666666666666666,
             "#35b779"
            ],
            [
             0.7777777777777778,
             "#6ece58"
            ],
            [
             0.8888888888888888,
             "#b5de2b"
            ],
            [
             1,
             "#fde725"
            ]
           ],
           "sequentialminus": [
            [
             0,
             "#440154"
            ],
            [
             0.1111111111111111,
             "#482878"
            ],
            [
             0.2222222222222222,
             "#3e4989"
            ],
            [
             0.3333333333333333,
             "#31688e"
            ],
            [
             0.4444444444444444,
             "#26828e"
            ],
            [
             0.5555555555555556,
             "#1f9e89"
            ],
            [
             0.6666666666666666,
             "#35b779"
            ],
            [
             0.7777777777777778,
             "#6ece58"
            ],
            [
             0.8888888888888888,
             "#b5de2b"
            ],
            [
             1,
             "#fde725"
            ]
           ]
          },
          "colorway": [
           "#1F77B4",
           "#FF7F0E",
           "#2CA02C",
           "#D62728",
           "#9467BD",
           "#8C564B",
           "#E377C2",
           "#7F7F7F",
           "#BCBD22",
           "#17BECF"
          ],
          "font": {
           "color": "rgb(36,36,36)"
          },
          "geo": {
           "bgcolor": "white",
           "lakecolor": "white",
           "landcolor": "white",
           "showlakes": true,
           "showland": true,
           "subunitcolor": "white"
          },
          "height": 400,
          "hoverlabel": {
           "align": "left"
          },
          "hovermode": "closest",
          "mapbox": {
           "style": "light"
          },
          "margin": {
           "b": 30,
           "l": 30,
           "r": 30,
           "t": 30
          },
          "paper_bgcolor": "white",
          "plot_bgcolor": "white",
          "polar": {
           "angularaxis": {
            "gridcolor": "rgb(232,232,232)",
            "linecolor": "rgb(36,36,36)",
            "showgrid": false,
            "showline": true,
            "ticks": "outside"
           },
           "bgcolor": "white",
           "radialaxis": {
            "gridcolor": "rgb(232,232,232)",
            "linecolor": "rgb(36,36,36)",
            "showgrid": false,
            "showline": true,
            "ticks": "outside"
           }
          },
          "scene": {
           "xaxis": {
            "backgroundcolor": "white",
            "gridcolor": "rgb(232,232,232)",
            "gridwidth": 2,
            "linecolor": "rgb(36,36,36)",
            "showbackground": true,
            "showgrid": false,
            "showline": true,
            "ticks": "outside",
            "zeroline": false,
            "zerolinecolor": "rgb(36,36,36)"
           },
           "yaxis": {
            "backgroundcolor": "white",
            "gridcolor": "rgb(232,232,232)",
            "gridwidth": 2,
            "linecolor": "rgb(36,36,36)",
            "showbackground": true,
            "showgrid": false,
            "showline": true,
            "ticks": "outside",
            "zeroline": false,
            "zerolinecolor": "rgb(36,36,36)"
           },
           "zaxis": {
            "backgroundcolor": "white",
            "gridcolor": "rgb(232,232,232)",
            "gridwidth": 2,
            "linecolor": "rgb(36,36,36)",
            "showbackground": true,
            "showgrid": false,
            "showline": true,
            "ticks": "outside",
            "zeroline": false,
            "zerolinecolor": "rgb(36,36,36)"
           }
          },
          "shapedefaults": {
           "fillcolor": "black",
           "line": {
            "width": 0
           },
           "opacity": 0.3
          },
          "ternary": {
           "aaxis": {
            "gridcolor": "rgb(232,232,232)",
            "linecolor": "rgb(36,36,36)",
            "showgrid": false,
            "showline": true,
            "ticks": "outside"
           },
           "baxis": {
            "gridcolor": "rgb(232,232,232)",
            "linecolor": "rgb(36,36,36)",
            "showgrid": false,
            "showline": true,
            "ticks": "outside"
           },
           "bgcolor": "white",
           "caxis": {
            "gridcolor": "rgb(232,232,232)",
            "linecolor": "rgb(36,36,36)",
            "showgrid": false,
            "showline": true,
            "ticks": "outside"
           }
          },
          "title": {
           "x": 0.5,
           "xanchor": "center"
          },
          "width": 600,
          "xaxis": {
           "automargin": true,
           "gridcolor": "rgb(232,232,232)",
           "linecolor": "rgb(36,36,36)",
           "showgrid": true,
           "showline": true,
           "ticks": "outside",
           "title": {
            "standoff": 15
           },
           "zeroline": false,
           "zerolinecolor": "rgb(36,36,36)"
          },
          "yaxis": {
           "automargin": true,
           "gridcolor": "rgb(232,232,232)",
           "linecolor": "rgb(36,36,36)",
           "showgrid": true,
           "showline": true,
           "ticks": "outside",
           "title": {
            "standoff": 15
           },
           "zeroline": false,
           "zerolinecolor": "rgb(36,36,36)"
          }
         }
        },
        "title": {
         "text": "Interest Rate vs. Debt-to-Income Ratio"
        },
        "xaxis": {
         "anchor": "y",
         "domain": [
          0,
          1
         ],
         "title": {
          "text": "Debt-to-Income Ratio"
         }
        },
        "yaxis": {
         "anchor": "x",
         "domain": [
          0,
          1
         ],
         "title": {
          "text": "Interest Rate (%)"
         }
        }
       }
      }
     },
     "metadata": {},
     "output_type": "display_data"
    }
   ],
   "source": [
    "sample_set = loans.sample(200, random_state=1)\n",
    "\n",
    "fig = px.scatter(sample_set, x='dti', y='int_rate', trendline='ols',\n",
    "                 labels={'dti': 'Debt-to-Income Ratio', 'int_rate': 'Interest Rate (%)'},\n",
    "                 trendline_color_override='orange',\n",
    "                 title='Interest Rate vs. Debt-to-Income Ratio')\n",
    "\n",
    "fig.show()"
   ]
  },
  {
   "cell_type": "markdown",
   "id": "720635a5",
   "metadata": {},
   "source": [
    "Indeed, it is!"
   ]
  },
  {
   "cell_type": "markdown",
   "id": "cbd8708c",
   "metadata": {},
   "source": [
    "<!-- ### ✅ Question 1 (Checkpoint Question) -->\n",
    "### ✅ Question 1 (Checkpoint Question)\n",
    "\n",
    "\n",
    "<a id='question1'></a>\n",
    "\n",
    "([return to the outline](#outline))\n",
    "\n",
    "We'll work with DTIs shortly, but first, we need to clean the dataset by completing the implementation of the function `clean_loans`, which takes in a DataFrame like `loans` and returns a new DataFrame where:\n",
    "\n",
    "- The `'issue_d'` column contains `pd.Timestamp` objects rather than strings.\n",
    "- The `'term'` column contains ints rather than strings.\n",
    "- The `'emp_title'` column is cleaned such that:\n",
    "    - All employment titles are lowercase.\n",
    "    - Leading and trailing whitespaces are removed.\n",
    "    - The `'rn'` title is replaced with `'registered nurse'`. Note that there are other titles that include `'rn'` as part of a larger string, like `'clinical rn'` or `'attorney'`; for simplicity, **don't** replace `'rn'` in these titles with `'registered nurse'`. Instead, only replace titles that are exactly `'rn'` with `'registered nurse'`. (This means that you shouldn't use `.str.replace` to do your replacement here!)  \n",
    "- There is a new column, `'term_end'`, which contains the date (as a `pd.Timestamp` object) on which each loan is fully paid.\n",
    "    - ***Hint***: Use `pd.DateOffset`."
   ]
  },
  {
   "cell_type": "code",
   "execution_count": 38,
   "id": "e6730dc3-c1cd-4990-958e-2955651f255d",
   "metadata": {},
   "outputs": [
    {
     "ename": "AttributeError",
     "evalue": "Can only use .str accessor with string values!",
     "output_type": "error",
     "traceback": [
      "\u001b[31m---------------------------------------------------------------------------\u001b[39m",
      "\u001b[31mAttributeError\u001b[39m                            Traceback (most recent call last)",
      "\u001b[36mCell\u001b[39m\u001b[36m \u001b[39m\u001b[32mIn[38]\u001b[39m\u001b[32m, line 1\u001b[39m\n\u001b[32m----> \u001b[39m\u001b[32m1\u001b[39m loans[\u001b[33m'\u001b[39m\u001b[33mterm\u001b[39m\u001b[33m'\u001b[39m] = loans[\u001b[33m'\u001b[39m\u001b[33mterm\u001b[39m\u001b[33m'\u001b[39m].str.replace(\u001b[33m'\u001b[39m\u001b[33mmonths\u001b[39m\u001b[33m'\u001b[39m, \u001b[33m'\u001b[39m\u001b[33m'\u001b[39m).astype(\u001b[38;5;28mint\u001b[39m)\n",
      "\u001b[36mFile \u001b[39m\u001b[32m~/anaconda3/envs/portfolio_ds/lib/python3.12/site-packages/pandas/core/generic.py:6299\u001b[39m, in \u001b[36mNDFrame.__getattr__\u001b[39m\u001b[34m(self, name)\u001b[39m\n\u001b[32m   6292\u001b[39m \u001b[38;5;28;01mif\u001b[39;00m (\n\u001b[32m   6293\u001b[39m     name \u001b[38;5;129;01mnot\u001b[39;00m \u001b[38;5;129;01min\u001b[39;00m \u001b[38;5;28mself\u001b[39m._internal_names_set\n\u001b[32m   6294\u001b[39m     \u001b[38;5;129;01mand\u001b[39;00m name \u001b[38;5;129;01mnot\u001b[39;00m \u001b[38;5;129;01min\u001b[39;00m \u001b[38;5;28mself\u001b[39m._metadata\n\u001b[32m   6295\u001b[39m     \u001b[38;5;129;01mand\u001b[39;00m name \u001b[38;5;129;01mnot\u001b[39;00m \u001b[38;5;129;01min\u001b[39;00m \u001b[38;5;28mself\u001b[39m._accessors\n\u001b[32m   6296\u001b[39m     \u001b[38;5;129;01mand\u001b[39;00m \u001b[38;5;28mself\u001b[39m._info_axis._can_hold_identifiers_and_holds_name(name)\n\u001b[32m   6297\u001b[39m ):\n\u001b[32m   6298\u001b[39m     \u001b[38;5;28;01mreturn\u001b[39;00m \u001b[38;5;28mself\u001b[39m[name]\n\u001b[32m-> \u001b[39m\u001b[32m6299\u001b[39m \u001b[38;5;28;01mreturn\u001b[39;00m \u001b[38;5;28mobject\u001b[39m.\u001b[34m__getattribute__\u001b[39m(\u001b[38;5;28mself\u001b[39m, name)\n",
      "\u001b[36mFile \u001b[39m\u001b[32m~/anaconda3/envs/portfolio_ds/lib/python3.12/site-packages/pandas/core/accessor.py:224\u001b[39m, in \u001b[36mCachedAccessor.__get__\u001b[39m\u001b[34m(self, obj, cls)\u001b[39m\n\u001b[32m    221\u001b[39m \u001b[38;5;28;01mif\u001b[39;00m obj \u001b[38;5;129;01mis\u001b[39;00m \u001b[38;5;28;01mNone\u001b[39;00m:\n\u001b[32m    222\u001b[39m     \u001b[38;5;66;03m# we're accessing the attribute of the class, i.e., Dataset.geo\u001b[39;00m\n\u001b[32m    223\u001b[39m     \u001b[38;5;28;01mreturn\u001b[39;00m \u001b[38;5;28mself\u001b[39m._accessor\n\u001b[32m--> \u001b[39m\u001b[32m224\u001b[39m accessor_obj = \u001b[38;5;28mself\u001b[39m._accessor(obj)\n\u001b[32m    225\u001b[39m \u001b[38;5;66;03m# Replace the property with the accessor object. Inspired by:\u001b[39;00m\n\u001b[32m    226\u001b[39m \u001b[38;5;66;03m# https://www.pydanny.com/cached-property.html\u001b[39;00m\n\u001b[32m    227\u001b[39m \u001b[38;5;66;03m# We need to use object.__setattr__ because we overwrite __setattr__ on\u001b[39;00m\n\u001b[32m    228\u001b[39m \u001b[38;5;66;03m# NDFrame\u001b[39;00m\n\u001b[32m    229\u001b[39m \u001b[38;5;28mobject\u001b[39m.\u001b[34m__setattr__\u001b[39m(obj, \u001b[38;5;28mself\u001b[39m._name, accessor_obj)\n",
      "\u001b[36mFile \u001b[39m\u001b[32m~/anaconda3/envs/portfolio_ds/lib/python3.12/site-packages/pandas/core/strings/accessor.py:191\u001b[39m, in \u001b[36mStringMethods.__init__\u001b[39m\u001b[34m(self, data)\u001b[39m\n\u001b[32m    188\u001b[39m \u001b[38;5;28;01mdef\u001b[39;00m\u001b[38;5;250m \u001b[39m\u001b[34m__init__\u001b[39m(\u001b[38;5;28mself\u001b[39m, data) -> \u001b[38;5;28;01mNone\u001b[39;00m:\n\u001b[32m    189\u001b[39m     \u001b[38;5;28;01mfrom\u001b[39;00m\u001b[38;5;250m \u001b[39m\u001b[34;01mpandas\u001b[39;00m\u001b[34;01m.\u001b[39;00m\u001b[34;01mcore\u001b[39;00m\u001b[34;01m.\u001b[39;00m\u001b[34;01marrays\u001b[39;00m\u001b[34;01m.\u001b[39;00m\u001b[34;01mstring_\u001b[39;00m\u001b[38;5;250m \u001b[39m\u001b[38;5;28;01mimport\u001b[39;00m StringDtype\n\u001b[32m--> \u001b[39m\u001b[32m191\u001b[39m     \u001b[38;5;28mself\u001b[39m._inferred_dtype = \u001b[38;5;28mself\u001b[39m._validate(data)\n\u001b[32m    192\u001b[39m     \u001b[38;5;28mself\u001b[39m._is_categorical = \u001b[38;5;28misinstance\u001b[39m(data.dtype, CategoricalDtype)\n\u001b[32m    193\u001b[39m     \u001b[38;5;28mself\u001b[39m._is_string = \u001b[38;5;28misinstance\u001b[39m(data.dtype, StringDtype)\n",
      "\u001b[36mFile \u001b[39m\u001b[32m~/anaconda3/envs/portfolio_ds/lib/python3.12/site-packages/pandas/core/strings/accessor.py:245\u001b[39m, in \u001b[36mStringMethods._validate\u001b[39m\u001b[34m(data)\u001b[39m\n\u001b[32m    242\u001b[39m inferred_dtype = lib.infer_dtype(values, skipna=\u001b[38;5;28;01mTrue\u001b[39;00m)\n\u001b[32m    244\u001b[39m \u001b[38;5;28;01mif\u001b[39;00m inferred_dtype \u001b[38;5;129;01mnot\u001b[39;00m \u001b[38;5;129;01min\u001b[39;00m allowed_types:\n\u001b[32m--> \u001b[39m\u001b[32m245\u001b[39m     \u001b[38;5;28;01mraise\u001b[39;00m \u001b[38;5;167;01mAttributeError\u001b[39;00m(\u001b[33m\"\u001b[39m\u001b[33mCan only use .str accessor with string values!\u001b[39m\u001b[33m\"\u001b[39m)\n\u001b[32m    246\u001b[39m \u001b[38;5;28;01mreturn\u001b[39;00m inferred_dtype\n",
      "\u001b[31mAttributeError\u001b[39m: Can only use .str accessor with string values!"
     ]
    }
   ],
   "source": [
    "loans['term'] = loans['term'].str.replace('months', '').astype(int)"
   ]
  },
  {
   "cell_type": "code",
   "execution_count": null,
   "id": "f5f25fcc",
   "metadata": {
    "tags": []
   },
   "outputs": [
    {
     "data": {
      "text/plain": [
       "0      2019-06-01\n",
       "1      2020-06-01\n",
       "2      2019-12-01\n",
       "3      2023-10-01\n",
       "4      2023-09-01\n",
       "          ...    \n",
       "6295   2017-05-01\n",
       "6296   2020-04-01\n",
       "6297   2020-11-01\n",
       "6298   2019-12-01\n",
       "6299   2020-06-01\n",
       "Name: term_end, Length: 6300, dtype: datetime64[ns]"
      ]
     },
     "execution_count": 33,
     "metadata": {},
     "output_type": "execute_result"
    }
   ],
   "source": [
    "loans['issue_d'] = pd.to_datetime(loans['issue_d'])\n",
    "\n",
    "loans['term_end'] = loans.apply(lambda row: row['issue_d'] + pd.DateOffset(months=row['term']), axis=1)\n",
    "loans['term_end']"
   ]
  },
  {
   "cell_type": "code",
   "execution_count": null,
   "id": "56b1845d",
   "metadata": {
    "tags": []
   },
   "outputs": [
    {
     "data": {
      "text/plain": [
       "0                   sales\n",
       "1                mechanic\n",
       "2         general manager\n",
       "3                   nurse\n",
       "4        staff pharmacist\n",
       "              ...        \n",
       "6295         senior buyer\n",
       "6296     registered nurse\n",
       "6297           technician\n",
       "6298    software engineer\n",
       "6299              teacher\n",
       "Name: emp_title, Length: 6300, dtype: object"
      ]
     },
     "execution_count": 34,
     "metadata": {},
     "output_type": "execute_result"
    }
   ],
   "source": [
    "loans['emp_title'].str.strip().str.lower().transform(lambda job: 'registered_nurse' if job == 'rn' else job)"
   ]
  },
  {
   "cell_type": "code",
   "execution_count": 39,
   "id": "4eea67d2-18a1-408f-abdd-bdc32017ed05",
   "metadata": {},
   "outputs": [
    {
     "data": {
      "text/html": [
       "<div>\n",
       "<style scoped>\n",
       "    .dataframe tbody tr th:only-of-type {\n",
       "        vertical-align: middle;\n",
       "    }\n",
       "\n",
       "    .dataframe tbody tr th {\n",
       "        vertical-align: top;\n",
       "    }\n",
       "\n",
       "    .dataframe thead th {\n",
       "        text-align: right;\n",
       "    }\n",
       "</style>\n",
       "<table border=\"1\" class=\"dataframe\">\n",
       "  <thead>\n",
       "    <tr style=\"text-align: right;\">\n",
       "      <th></th>\n",
       "      <th>id</th>\n",
       "      <th>loan_amnt</th>\n",
       "      <th>issue_d</th>\n",
       "      <th>term</th>\n",
       "      <th>int_rate</th>\n",
       "      <th>grade</th>\n",
       "      <th>sub_grade</th>\n",
       "      <th>emp_title</th>\n",
       "      <th>verification_status</th>\n",
       "      <th>home_ownership</th>\n",
       "      <th>annual_inc</th>\n",
       "      <th>loan_status</th>\n",
       "      <th>purpose</th>\n",
       "      <th>desc</th>\n",
       "      <th>addr_state</th>\n",
       "      <th>dti</th>\n",
       "      <th>fico_range_low</th>\n",
       "      <th>fico_range_high</th>\n",
       "      <th>hardship_flag</th>\n",
       "      <th>mths_since_last_delinq</th>\n",
       "    </tr>\n",
       "  </thead>\n",
       "  <tbody>\n",
       "    <tr>\n",
       "      <th>0</th>\n",
       "      <td>17965023</td>\n",
       "      <td>18000.0</td>\n",
       "      <td>Jun-2014</td>\n",
       "      <td>60 months</td>\n",
       "      <td>16.99</td>\n",
       "      <td>D</td>\n",
       "      <td>D3</td>\n",
       "      <td>sales</td>\n",
       "      <td>Source Verified</td>\n",
       "      <td>RENT</td>\n",
       "      <td>60000.0</td>\n",
       "      <td>Charged Off</td>\n",
       "      <td>debt_consolidation</td>\n",
       "      <td>NaN</td>\n",
       "      <td>MN</td>\n",
       "      <td>23.22</td>\n",
       "      <td>700.0</td>\n",
       "      <td>704.0</td>\n",
       "      <td>N</td>\n",
       "      <td>72.0</td>\n",
       "    </tr>\n",
       "    <tr>\n",
       "      <th>1</th>\n",
       "      <td>111414087</td>\n",
       "      <td>10000.0</td>\n",
       "      <td>Jun-2017</td>\n",
       "      <td>36 months</td>\n",
       "      <td>16.02</td>\n",
       "      <td>C</td>\n",
       "      <td>C5</td>\n",
       "      <td>mechanic</td>\n",
       "      <td>Source Verified</td>\n",
       "      <td>OWN</td>\n",
       "      <td>50000.0</td>\n",
       "      <td>Current</td>\n",
       "      <td>home_improvement</td>\n",
       "      <td>NaN</td>\n",
       "      <td>IL</td>\n",
       "      <td>6.14</td>\n",
       "      <td>680.0</td>\n",
       "      <td>684.0</td>\n",
       "      <td>N</td>\n",
       "      <td>6.0</td>\n",
       "    </tr>\n",
       "    <tr>\n",
       "      <th>2</th>\n",
       "      <td>95219557</td>\n",
       "      <td>12800.0</td>\n",
       "      <td>Dec-2016</td>\n",
       "      <td>36 months</td>\n",
       "      <td>7.99</td>\n",
       "      <td>A</td>\n",
       "      <td>A5</td>\n",
       "      <td>general manager</td>\n",
       "      <td>Not Verified</td>\n",
       "      <td>MORTGAGE</td>\n",
       "      <td>47500.0</td>\n",
       "      <td>Fully Paid</td>\n",
       "      <td>debt_consolidation</td>\n",
       "      <td>NaN</td>\n",
       "      <td>MO</td>\n",
       "      <td>12.89</td>\n",
       "      <td>705.0</td>\n",
       "      <td>709.0</td>\n",
       "      <td>N</td>\n",
       "      <td>66.0</td>\n",
       "    </tr>\n",
       "    <tr>\n",
       "      <th>3</th>\n",
       "      <td>142831837</td>\n",
       "      <td>16000.0</td>\n",
       "      <td>Oct-2018</td>\n",
       "      <td>60 months</td>\n",
       "      <td>23.40</td>\n",
       "      <td>E</td>\n",
       "      <td>E1</td>\n",
       "      <td>nurse</td>\n",
       "      <td>Source Verified</td>\n",
       "      <td>MORTGAGE</td>\n",
       "      <td>120000.0</td>\n",
       "      <td>Current</td>\n",
       "      <td>home_improvement</td>\n",
       "      <td>NaN</td>\n",
       "      <td>FL</td>\n",
       "      <td>5.66</td>\n",
       "      <td>670.0</td>\n",
       "      <td>674.0</td>\n",
       "      <td>N</td>\n",
       "      <td>NaN</td>\n",
       "    </tr>\n",
       "    <tr>\n",
       "      <th>4</th>\n",
       "      <td>140113255</td>\n",
       "      <td>40000.0</td>\n",
       "      <td>Sep-2018</td>\n",
       "      <td>60 months</td>\n",
       "      <td>7.84</td>\n",
       "      <td>A</td>\n",
       "      <td>A4</td>\n",
       "      <td>staff pharmacist</td>\n",
       "      <td>Verified</td>\n",
       "      <td>MORTGAGE</td>\n",
       "      <td>150000.0</td>\n",
       "      <td>Current</td>\n",
       "      <td>debt_consolidation</td>\n",
       "      <td>NaN</td>\n",
       "      <td>MN</td>\n",
       "      <td>12.24</td>\n",
       "      <td>735.0</td>\n",
       "      <td>739.0</td>\n",
       "      <td>N</td>\n",
       "      <td>NaN</td>\n",
       "    </tr>\n",
       "    <tr>\n",
       "      <th>...</th>\n",
       "      <td>...</td>\n",
       "      <td>...</td>\n",
       "      <td>...</td>\n",
       "      <td>...</td>\n",
       "      <td>...</td>\n",
       "      <td>...</td>\n",
       "      <td>...</td>\n",
       "      <td>...</td>\n",
       "      <td>...</td>\n",
       "      <td>...</td>\n",
       "      <td>...</td>\n",
       "      <td>...</td>\n",
       "      <td>...</td>\n",
       "      <td>...</td>\n",
       "      <td>...</td>\n",
       "      <td>...</td>\n",
       "      <td>...</td>\n",
       "      <td>...</td>\n",
       "      <td>...</td>\n",
       "      <td>...</td>\n",
       "    </tr>\n",
       "    <tr>\n",
       "      <th>6295</th>\n",
       "      <td>16121830</td>\n",
       "      <td>20000.0</td>\n",
       "      <td>May-2014</td>\n",
       "      <td>36 months</td>\n",
       "      <td>6.03</td>\n",
       "      <td>A</td>\n",
       "      <td>A1</td>\n",
       "      <td>senior buyer</td>\n",
       "      <td>Verified</td>\n",
       "      <td>RENT</td>\n",
       "      <td>124000.0</td>\n",
       "      <td>Fully Paid</td>\n",
       "      <td>debt_consolidation</td>\n",
       "      <td>NaN</td>\n",
       "      <td>CA</td>\n",
       "      <td>6.91</td>\n",
       "      <td>720.0</td>\n",
       "      <td>724.0</td>\n",
       "      <td>N</td>\n",
       "      <td>54.0</td>\n",
       "    </tr>\n",
       "    <tr>\n",
       "      <th>6296</th>\n",
       "      <td>105091208</td>\n",
       "      <td>20000.0</td>\n",
       "      <td>Apr-2017</td>\n",
       "      <td>36 months</td>\n",
       "      <td>7.99</td>\n",
       "      <td>A</td>\n",
       "      <td>A5</td>\n",
       "      <td>registered nurse</td>\n",
       "      <td>Source Verified</td>\n",
       "      <td>OWN</td>\n",
       "      <td>220000.0</td>\n",
       "      <td>Fully Paid</td>\n",
       "      <td>debt_consolidation</td>\n",
       "      <td>NaN</td>\n",
       "      <td>CA</td>\n",
       "      <td>5.66</td>\n",
       "      <td>695.0</td>\n",
       "      <td>699.0</td>\n",
       "      <td>N</td>\n",
       "      <td>NaN</td>\n",
       "    </tr>\n",
       "    <tr>\n",
       "      <th>6297</th>\n",
       "      <td>63990101</td>\n",
       "      <td>10800.0</td>\n",
       "      <td>Nov-2015</td>\n",
       "      <td>60 months</td>\n",
       "      <td>18.49</td>\n",
       "      <td>E</td>\n",
       "      <td>E2</td>\n",
       "      <td>technician</td>\n",
       "      <td>Verified</td>\n",
       "      <td>OWN</td>\n",
       "      <td>35000.0</td>\n",
       "      <td>Charged Off</td>\n",
       "      <td>debt_consolidation</td>\n",
       "      <td>NaN</td>\n",
       "      <td>NY</td>\n",
       "      <td>25.39</td>\n",
       "      <td>675.0</td>\n",
       "      <td>679.0</td>\n",
       "      <td>N</td>\n",
       "      <td>39.0</td>\n",
       "    </tr>\n",
       "    <tr>\n",
       "      <th>6298</th>\n",
       "      <td>37641672</td>\n",
       "      <td>15000.0</td>\n",
       "      <td>Dec-2014</td>\n",
       "      <td>60 months</td>\n",
       "      <td>14.31</td>\n",
       "      <td>C</td>\n",
       "      <td>C4</td>\n",
       "      <td>software engineer</td>\n",
       "      <td>Source Verified</td>\n",
       "      <td>RENT</td>\n",
       "      <td>150000.0</td>\n",
       "      <td>Fully Paid</td>\n",
       "      <td>credit_card</td>\n",
       "      <td>NaN</td>\n",
       "      <td>CA</td>\n",
       "      <td>10.63</td>\n",
       "      <td>660.0</td>\n",
       "      <td>664.0</td>\n",
       "      <td>N</td>\n",
       "      <td>22.0</td>\n",
       "    </tr>\n",
       "    <tr>\n",
       "      <th>6299</th>\n",
       "      <td>50587446</td>\n",
       "      <td>14000.0</td>\n",
       "      <td>Jun-2015</td>\n",
       "      <td>60 months</td>\n",
       "      <td>9.99</td>\n",
       "      <td>B</td>\n",
       "      <td>B3</td>\n",
       "      <td>teacher</td>\n",
       "      <td>Not Verified</td>\n",
       "      <td>MORTGAGE</td>\n",
       "      <td>44868.0</td>\n",
       "      <td>Current</td>\n",
       "      <td>home_improvement</td>\n",
       "      <td>NaN</td>\n",
       "      <td>TX</td>\n",
       "      <td>9.25</td>\n",
       "      <td>685.0</td>\n",
       "      <td>689.0</td>\n",
       "      <td>N</td>\n",
       "      <td>NaN</td>\n",
       "    </tr>\n",
       "  </tbody>\n",
       "</table>\n",
       "<p>6300 rows × 20 columns</p>\n",
       "</div>"
      ],
      "text/plain": [
       "             id  loan_amnt   issue_d        term  int_rate grade sub_grade  \\\n",
       "0      17965023    18000.0  Jun-2014   60 months     16.99     D        D3   \n",
       "1     111414087    10000.0  Jun-2017   36 months     16.02     C        C5   \n",
       "2      95219557    12800.0  Dec-2016   36 months      7.99     A        A5   \n",
       "3     142831837    16000.0  Oct-2018   60 months     23.40     E        E1   \n",
       "4     140113255    40000.0  Sep-2018   60 months      7.84     A        A4   \n",
       "...         ...        ...       ...         ...       ...   ...       ...   \n",
       "6295   16121830    20000.0  May-2014   36 months      6.03     A        A1   \n",
       "6296  105091208    20000.0  Apr-2017   36 months      7.99     A        A5   \n",
       "6297   63990101    10800.0  Nov-2015   60 months     18.49     E        E2   \n",
       "6298   37641672    15000.0  Dec-2014   60 months     14.31     C        C4   \n",
       "6299   50587446    14000.0  Jun-2015   60 months      9.99     B        B3   \n",
       "\n",
       "              emp_title verification_status home_ownership  annual_inc  \\\n",
       "0                 sales     Source Verified           RENT     60000.0   \n",
       "1              mechanic     Source Verified            OWN     50000.0   \n",
       "2       general manager        Not Verified       MORTGAGE     47500.0   \n",
       "3                 nurse     Source Verified       MORTGAGE    120000.0   \n",
       "4      staff pharmacist            Verified       MORTGAGE    150000.0   \n",
       "...                 ...                 ...            ...         ...   \n",
       "6295       senior buyer            Verified           RENT    124000.0   \n",
       "6296   registered nurse     Source Verified            OWN    220000.0   \n",
       "6297         technician            Verified            OWN     35000.0   \n",
       "6298  software engineer     Source Verified           RENT    150000.0   \n",
       "6299            teacher        Not Verified       MORTGAGE     44868.0   \n",
       "\n",
       "      loan_status             purpose desc addr_state    dti  fico_range_low  \\\n",
       "0     Charged Off  debt_consolidation  NaN         MN  23.22           700.0   \n",
       "1         Current    home_improvement  NaN         IL   6.14           680.0   \n",
       "2      Fully Paid  debt_consolidation  NaN         MO  12.89           705.0   \n",
       "3         Current    home_improvement  NaN         FL   5.66           670.0   \n",
       "4         Current  debt_consolidation  NaN         MN  12.24           735.0   \n",
       "...           ...                 ...  ...        ...    ...             ...   \n",
       "6295   Fully Paid  debt_consolidation  NaN         CA   6.91           720.0   \n",
       "6296   Fully Paid  debt_consolidation  NaN         CA   5.66           695.0   \n",
       "6297  Charged Off  debt_consolidation  NaN         NY  25.39           675.0   \n",
       "6298   Fully Paid         credit_card  NaN         CA  10.63           660.0   \n",
       "6299      Current    home_improvement  NaN         TX   9.25           685.0   \n",
       "\n",
       "      fico_range_high hardship_flag  mths_since_last_delinq  \n",
       "0               704.0             N                    72.0  \n",
       "1               684.0             N                     6.0  \n",
       "2               709.0             N                    66.0  \n",
       "3               674.0             N                     NaN  \n",
       "4               739.0             N                     NaN  \n",
       "...               ...           ...                     ...  \n",
       "6295            724.0             N                    54.0  \n",
       "6296            699.0             N                     NaN  \n",
       "6297            679.0             N                    39.0  \n",
       "6298            664.0             N                    22.0  \n",
       "6299            689.0             N                     NaN  \n",
       "\n",
       "[6300 rows x 20 columns]"
      ]
     },
     "execution_count": 39,
     "metadata": {},
     "output_type": "execute_result"
    }
   ],
   "source": [
    "loan =pd.read_csv(loans_path)\n",
    "loan"
   ]
  },
  {
   "cell_type": "code",
   "execution_count": 40,
   "id": "ddcc7cf4-f8f6-4a78-b28c-4ca4134c16ac",
   "metadata": {},
   "outputs": [
    {
     "data": {
      "text/plain": [
       "0       Jun-2014\n",
       "1       Jun-2017\n",
       "2       Dec-2016\n",
       "3       Oct-2018\n",
       "4       Sep-2018\n",
       "          ...   \n",
       "6295    May-2014\n",
       "6296    Apr-2017\n",
       "6297    Nov-2015\n",
       "6298    Dec-2014\n",
       "6299    Jun-2015\n",
       "Length: 6300, dtype: object"
      ]
     },
     "execution_count": 40,
     "metadata": {},
     "output_type": "execute_result"
    }
   ],
   "source": [
    "loan.apply(lambda row: row['issue_d'], axis=1)\n"
   ]
  },
  {
   "cell_type": "markdown",
   "id": "1d2802d9",
   "metadata": {},
   "source": [
    "Run the cell below to call `clean_data` on `loans`. Make sure to run this cell before moving forward, otherwise the tests won't work correctly."
   ]
  },
  {
   "cell_type": "code",
   "execution_count": 37,
   "id": "f4e4d058",
   "metadata": {
    "scrolled": true
   },
   "outputs": [
    {
     "data": {
      "text/html": [
       "<div>\n",
       "<style scoped>\n",
       "    .dataframe tbody tr th:only-of-type {\n",
       "        vertical-align: middle;\n",
       "    }\n",
       "\n",
       "    .dataframe tbody tr th {\n",
       "        vertical-align: top;\n",
       "    }\n",
       "\n",
       "    .dataframe thead th {\n",
       "        text-align: right;\n",
       "    }\n",
       "</style>\n",
       "<table border=\"1\" class=\"dataframe\">\n",
       "  <thead>\n",
       "    <tr style=\"text-align: right;\">\n",
       "      <th></th>\n",
       "      <th>id</th>\n",
       "      <th>loan_amnt</th>\n",
       "      <th>issue_d</th>\n",
       "      <th>term</th>\n",
       "      <th>int_rate</th>\n",
       "      <th>grade</th>\n",
       "      <th>sub_grade</th>\n",
       "      <th>emp_title</th>\n",
       "      <th>verification_status</th>\n",
       "      <th>home_ownership</th>\n",
       "      <th>...</th>\n",
       "      <th>loan_status</th>\n",
       "      <th>purpose</th>\n",
       "      <th>desc</th>\n",
       "      <th>addr_state</th>\n",
       "      <th>dti</th>\n",
       "      <th>fico_range_low</th>\n",
       "      <th>fico_range_high</th>\n",
       "      <th>hardship_flag</th>\n",
       "      <th>mths_since_last_delinq</th>\n",
       "      <th>term_end</th>\n",
       "    </tr>\n",
       "  </thead>\n",
       "  <tbody>\n",
       "    <tr>\n",
       "      <th>0</th>\n",
       "      <td>17965023</td>\n",
       "      <td>18000.0</td>\n",
       "      <td>2014-06-01</td>\n",
       "      <td>60</td>\n",
       "      <td>16.99</td>\n",
       "      <td>D</td>\n",
       "      <td>D3</td>\n",
       "      <td>sales</td>\n",
       "      <td>Source Verified</td>\n",
       "      <td>RENT</td>\n",
       "      <td>...</td>\n",
       "      <td>Charged Off</td>\n",
       "      <td>debt_consolidation</td>\n",
       "      <td>NaN</td>\n",
       "      <td>MN</td>\n",
       "      <td>23.22</td>\n",
       "      <td>700.0</td>\n",
       "      <td>704.0</td>\n",
       "      <td>N</td>\n",
       "      <td>72.0</td>\n",
       "      <td>2019-06-01</td>\n",
       "    </tr>\n",
       "    <tr>\n",
       "      <th>1</th>\n",
       "      <td>111414087</td>\n",
       "      <td>10000.0</td>\n",
       "      <td>2017-06-01</td>\n",
       "      <td>36</td>\n",
       "      <td>16.02</td>\n",
       "      <td>C</td>\n",
       "      <td>C5</td>\n",
       "      <td>mechanic</td>\n",
       "      <td>Source Verified</td>\n",
       "      <td>OWN</td>\n",
       "      <td>...</td>\n",
       "      <td>Current</td>\n",
       "      <td>home_improvement</td>\n",
       "      <td>NaN</td>\n",
       "      <td>IL</td>\n",
       "      <td>6.14</td>\n",
       "      <td>680.0</td>\n",
       "      <td>684.0</td>\n",
       "      <td>N</td>\n",
       "      <td>6.0</td>\n",
       "      <td>2020-06-01</td>\n",
       "    </tr>\n",
       "    <tr>\n",
       "      <th>2</th>\n",
       "      <td>95219557</td>\n",
       "      <td>12800.0</td>\n",
       "      <td>2016-12-01</td>\n",
       "      <td>36</td>\n",
       "      <td>7.99</td>\n",
       "      <td>A</td>\n",
       "      <td>A5</td>\n",
       "      <td>general manager</td>\n",
       "      <td>Not Verified</td>\n",
       "      <td>MORTGAGE</td>\n",
       "      <td>...</td>\n",
       "      <td>Fully Paid</td>\n",
       "      <td>debt_consolidation</td>\n",
       "      <td>NaN</td>\n",
       "      <td>MO</td>\n",
       "      <td>12.89</td>\n",
       "      <td>705.0</td>\n",
       "      <td>709.0</td>\n",
       "      <td>N</td>\n",
       "      <td>66.0</td>\n",
       "      <td>2019-12-01</td>\n",
       "    </tr>\n",
       "    <tr>\n",
       "      <th>3</th>\n",
       "      <td>142831837</td>\n",
       "      <td>16000.0</td>\n",
       "      <td>2018-10-01</td>\n",
       "      <td>60</td>\n",
       "      <td>23.40</td>\n",
       "      <td>E</td>\n",
       "      <td>E1</td>\n",
       "      <td>nurse</td>\n",
       "      <td>Source Verified</td>\n",
       "      <td>MORTGAGE</td>\n",
       "      <td>...</td>\n",
       "      <td>Current</td>\n",
       "      <td>home_improvement</td>\n",
       "      <td>NaN</td>\n",
       "      <td>FL</td>\n",
       "      <td>5.66</td>\n",
       "      <td>670.0</td>\n",
       "      <td>674.0</td>\n",
       "      <td>N</td>\n",
       "      <td>NaN</td>\n",
       "      <td>2023-10-01</td>\n",
       "    </tr>\n",
       "    <tr>\n",
       "      <th>4</th>\n",
       "      <td>140113255</td>\n",
       "      <td>40000.0</td>\n",
       "      <td>2018-09-01</td>\n",
       "      <td>60</td>\n",
       "      <td>7.84</td>\n",
       "      <td>A</td>\n",
       "      <td>A4</td>\n",
       "      <td>staff pharmacist</td>\n",
       "      <td>Verified</td>\n",
       "      <td>MORTGAGE</td>\n",
       "      <td>...</td>\n",
       "      <td>Current</td>\n",
       "      <td>debt_consolidation</td>\n",
       "      <td>NaN</td>\n",
       "      <td>MN</td>\n",
       "      <td>12.24</td>\n",
       "      <td>735.0</td>\n",
       "      <td>739.0</td>\n",
       "      <td>N</td>\n",
       "      <td>NaN</td>\n",
       "      <td>2023-09-01</td>\n",
       "    </tr>\n",
       "  </tbody>\n",
       "</table>\n",
       "<p>5 rows × 21 columns</p>\n",
       "</div>"
      ],
      "text/plain": [
       "          id  loan_amnt    issue_d  term  int_rate grade sub_grade  \\\n",
       "0   17965023    18000.0 2014-06-01    60     16.99     D        D3   \n",
       "1  111414087    10000.0 2017-06-01    36     16.02     C        C5   \n",
       "2   95219557    12800.0 2016-12-01    36      7.99     A        A5   \n",
       "3  142831837    16000.0 2018-10-01    60     23.40     E        E1   \n",
       "4  140113255    40000.0 2018-09-01    60      7.84     A        A4   \n",
       "\n",
       "          emp_title verification_status home_ownership  ...  loan_status  \\\n",
       "0             sales     Source Verified           RENT  ...  Charged Off   \n",
       "1          mechanic     Source Verified            OWN  ...      Current   \n",
       "2   general manager        Not Verified       MORTGAGE  ...   Fully Paid   \n",
       "3             nurse     Source Verified       MORTGAGE  ...      Current   \n",
       "4  staff pharmacist            Verified       MORTGAGE  ...      Current   \n",
       "\n",
       "              purpose desc addr_state    dti  fico_range_low  fico_range_high  \\\n",
       "0  debt_consolidation  NaN         MN  23.22           700.0            704.0   \n",
       "1    home_improvement  NaN         IL   6.14           680.0            684.0   \n",
       "2  debt_consolidation  NaN         MO  12.89           705.0            709.0   \n",
       "3    home_improvement  NaN         FL   5.66           670.0            674.0   \n",
       "4  debt_consolidation  NaN         MN  12.24           735.0            739.0   \n",
       "\n",
       "   hardship_flag mths_since_last_delinq   term_end  \n",
       "0              N                   72.0 2019-06-01  \n",
       "1              N                    6.0 2020-06-01  \n",
       "2              N                   66.0 2019-12-01  \n",
       "3              N                    NaN 2023-10-01  \n",
       "4              N                    NaN 2023-09-01  \n",
       "\n",
       "[5 rows x 21 columns]"
      ]
     },
     "execution_count": 37,
     "metadata": {},
     "output_type": "execute_result"
    }
   ],
   "source": [
    "loans = pd.read_csv(loans_path)\n",
    "loans = clean_loans(loans)\n",
    "loans.head()"
   ]
  },
  {
   "cell_type": "markdown",
   "id": "ad723dd4",
   "metadata": {},
   "source": [
    "Now that we've cleaned `loans`, we can easily do things like plot the number of loans per year in `loans`:"
   ]
  },
  {
   "cell_type": "code",
   "execution_count": null,
   "id": "c2afcf43",
   "metadata": {},
   "outputs": [
    {
     "data": {
      "application/vnd.plotly.v1+json": {
       "config": {
        "plotlyServerURL": "https://plot.ly"
       },
       "data": [
        {
         "hovertemplate": "variable=count<br>issue_d=%{x}<br>Frequency=%{y}<extra></extra>",
         "legendgroup": "count",
         "line": {
          "color": "#1F77B4",
          "dash": "solid"
         },
         "marker": {
          "symbol": "circle"
         },
         "mode": "lines",
         "name": "count",
         "orientation": "v",
         "showlegend": true,
         "type": "scatter",
         "x": [
          2008,
          2009,
          2010,
          2011,
          2012,
          2013,
          2014,
          2015,
          2016,
          2017,
          2018
         ],
         "xaxis": "x",
         "y": [
          5,
          5,
          28,
          49,
          117,
          350,
          748,
          1285,
          1254,
          1201,
          1258
         ],
         "yaxis": "y"
        }
       ],
       "layout": {
        "autosize": true,
        "legend": {
         "title": {
          "text": "variable"
         },
         "tracegroupgap": 0
        },
        "showlegend": false,
        "template": {
         "data": {
          "bar": [
           {
            "error_x": {
             "color": "rgb(36,36,36)"
            },
            "error_y": {
             "color": "rgb(36,36,36)"
            },
            "marker": {
             "line": {
              "color": "white",
              "width": 0.5
             },
             "pattern": {
              "fillmode": "overlay",
              "size": 10,
              "solidity": 0.2
             }
            },
            "type": "bar"
           }
          ],
          "barpolar": [
           {
            "marker": {
             "line": {
              "color": "white",
              "width": 0.5
             },
             "pattern": {
              "fillmode": "overlay",
              "size": 10,
              "solidity": 0.2
             }
            },
            "type": "barpolar"
           }
          ],
          "carpet": [
           {
            "aaxis": {
             "endlinecolor": "rgb(36,36,36)",
             "gridcolor": "white",
             "linecolor": "white",
             "minorgridcolor": "white",
             "startlinecolor": "rgb(36,36,36)"
            },
            "baxis": {
             "endlinecolor": "rgb(36,36,36)",
             "gridcolor": "white",
             "linecolor": "white",
             "minorgridcolor": "white",
             "startlinecolor": "rgb(36,36,36)"
            },
            "type": "carpet"
           }
          ],
          "choropleth": [
           {
            "colorbar": {
             "outlinewidth": 1,
             "tickcolor": "rgb(36,36,36)",
             "ticks": "outside"
            },
            "type": "choropleth"
           }
          ],
          "contour": [
           {
            "colorbar": {
             "outlinewidth": 1,
             "tickcolor": "rgb(36,36,36)",
             "ticks": "outside"
            },
            "colorscale": [
             [
              0,
              "#440154"
             ],
             [
              0.1111111111111111,
              "#482878"
             ],
             [
              0.2222222222222222,
              "#3e4989"
             ],
             [
              0.3333333333333333,
              "#31688e"
             ],
             [
              0.4444444444444444,
              "#26828e"
             ],
             [
              0.5555555555555556,
              "#1f9e89"
             ],
             [
              0.6666666666666666,
              "#35b779"
             ],
             [
              0.7777777777777778,
              "#6ece58"
             ],
             [
              0.8888888888888888,
              "#b5de2b"
             ],
             [
              1,
              "#fde725"
             ]
            ],
            "type": "contour"
           }
          ],
          "contourcarpet": [
           {
            "colorbar": {
             "outlinewidth": 1,
             "tickcolor": "rgb(36,36,36)",
             "ticks": "outside"
            },
            "type": "contourcarpet"
           }
          ],
          "heatmap": [
           {
            "colorbar": {
             "outlinewidth": 1,
             "tickcolor": "rgb(36,36,36)",
             "ticks": "outside"
            },
            "colorscale": [
             [
              0,
              "#440154"
             ],
             [
              0.1111111111111111,
              "#482878"
             ],
             [
              0.2222222222222222,
              "#3e4989"
             ],
             [
              0.3333333333333333,
              "#31688e"
             ],
             [
              0.4444444444444444,
              "#26828e"
             ],
             [
              0.5555555555555556,
              "#1f9e89"
             ],
             [
              0.6666666666666666,
              "#35b779"
             ],
             [
              0.7777777777777778,
              "#6ece58"
             ],
             [
              0.8888888888888888,
              "#b5de2b"
             ],
             [
              1,
              "#fde725"
             ]
            ],
            "type": "heatmap"
           }
          ],
          "heatmapgl": [
           {
            "colorbar": {
             "outlinewidth": 1,
             "tickcolor": "rgb(36,36,36)",
             "ticks": "outside"
            },
            "colorscale": [
             [
              0,
              "#440154"
             ],
             [
              0.1111111111111111,
              "#482878"
             ],
             [
              0.2222222222222222,
              "#3e4989"
             ],
             [
              0.3333333333333333,
              "#31688e"
             ],
             [
              0.4444444444444444,
              "#26828e"
             ],
             [
              0.5555555555555556,
              "#1f9e89"
             ],
             [
              0.6666666666666666,
              "#35b779"
             ],
             [
              0.7777777777777778,
              "#6ece58"
             ],
             [
              0.8888888888888888,
              "#b5de2b"
             ],
             [
              1,
              "#fde725"
             ]
            ],
            "type": "heatmapgl"
           }
          ],
          "histogram": [
           {
            "marker": {
             "line": {
              "color": "white",
              "width": 0.6
             }
            },
            "type": "histogram"
           }
          ],
          "histogram2d": [
           {
            "colorbar": {
             "outlinewidth": 1,
             "tickcolor": "rgb(36,36,36)",
             "ticks": "outside"
            },
            "colorscale": [
             [
              0,
              "#440154"
             ],
             [
              0.1111111111111111,
              "#482878"
             ],
             [
              0.2222222222222222,
              "#3e4989"
             ],
             [
              0.3333333333333333,
              "#31688e"
             ],
             [
              0.4444444444444444,
              "#26828e"
             ],
             [
              0.5555555555555556,
              "#1f9e89"
             ],
             [
              0.6666666666666666,
              "#35b779"
             ],
             [
              0.7777777777777778,
              "#6ece58"
             ],
             [
              0.8888888888888888,
              "#b5de2b"
             ],
             [
              1,
              "#fde725"
             ]
            ],
            "type": "histogram2d"
           }
          ],
          "histogram2dcontour": [
           {
            "colorbar": {
             "outlinewidth": 1,
             "tickcolor": "rgb(36,36,36)",
             "ticks": "outside"
            },
            "colorscale": [
             [
              0,
              "#440154"
             ],
             [
              0.1111111111111111,
              "#482878"
             ],
             [
              0.2222222222222222,
              "#3e4989"
             ],
             [
              0.3333333333333333,
              "#31688e"
             ],
             [
              0.4444444444444444,
              "#26828e"
             ],
             [
              0.5555555555555556,
              "#1f9e89"
             ],
             [
              0.6666666666666666,
              "#35b779"
             ],
             [
              0.7777777777777778,
              "#6ece58"
             ],
             [
              0.8888888888888888,
              "#b5de2b"
             ],
             [
              1,
              "#fde725"
             ]
            ],
            "type": "histogram2dcontour"
           }
          ],
          "mesh3d": [
           {
            "colorbar": {
             "outlinewidth": 1,
             "tickcolor": "rgb(36,36,36)",
             "ticks": "outside"
            },
            "type": "mesh3d"
           }
          ],
          "parcoords": [
           {
            "line": {
             "colorbar": {
              "outlinewidth": 1,
              "tickcolor": "rgb(36,36,36)",
              "ticks": "outside"
             }
            },
            "type": "parcoords"
           }
          ],
          "pie": [
           {
            "automargin": true,
            "type": "pie"
           }
          ],
          "scatter": [
           {
            "fillpattern": {
             "fillmode": "overlay",
             "size": 10,
             "solidity": 0.2
            },
            "type": "scatter"
           }
          ],
          "scatter3d": [
           {
            "line": {
             "colorbar": {
              "outlinewidth": 1,
              "tickcolor": "rgb(36,36,36)",
              "ticks": "outside"
             }
            },
            "marker": {
             "colorbar": {
              "outlinewidth": 1,
              "tickcolor": "rgb(36,36,36)",
              "ticks": "outside"
             }
            },
            "type": "scatter3d"
           }
          ],
          "scattercarpet": [
           {
            "marker": {
             "colorbar": {
              "outlinewidth": 1,
              "tickcolor": "rgb(36,36,36)",
              "ticks": "outside"
             }
            },
            "type": "scattercarpet"
           }
          ],
          "scattergeo": [
           {
            "marker": {
             "colorbar": {
              "outlinewidth": 1,
              "tickcolor": "rgb(36,36,36)",
              "ticks": "outside"
             }
            },
            "type": "scattergeo"
           }
          ],
          "scattergl": [
           {
            "marker": {
             "colorbar": {
              "outlinewidth": 1,
              "tickcolor": "rgb(36,36,36)",
              "ticks": "outside"
             }
            },
            "type": "scattergl"
           }
          ],
          "scattermapbox": [
           {
            "marker": {
             "colorbar": {
              "outlinewidth": 1,
              "tickcolor": "rgb(36,36,36)",
              "ticks": "outside"
             }
            },
            "type": "scattermapbox"
           }
          ],
          "scatterpolar": [
           {
            "marker": {
             "colorbar": {
              "outlinewidth": 1,
              "tickcolor": "rgb(36,36,36)",
              "ticks": "outside"
             }
            },
            "type": "scatterpolar"
           }
          ],
          "scatterpolargl": [
           {
            "marker": {
             "colorbar": {
              "outlinewidth": 1,
              "tickcolor": "rgb(36,36,36)",
              "ticks": "outside"
             }
            },
            "type": "scatterpolargl"
           }
          ],
          "scatterternary": [
           {
            "marker": {
             "colorbar": {
              "outlinewidth": 1,
              "tickcolor": "rgb(36,36,36)",
              "ticks": "outside"
             }
            },
            "type": "scatterternary"
           }
          ],
          "surface": [
           {
            "colorbar": {
             "outlinewidth": 1,
             "tickcolor": "rgb(36,36,36)",
             "ticks": "outside"
            },
            "colorscale": [
             [
              0,
              "#440154"
             ],
             [
              0.1111111111111111,
              "#482878"
             ],
             [
              0.2222222222222222,
              "#3e4989"
             ],
             [
              0.3333333333333333,
              "#31688e"
             ],
             [
              0.4444444444444444,
              "#26828e"
             ],
             [
              0.5555555555555556,
              "#1f9e89"
             ],
             [
              0.6666666666666666,
              "#35b779"
             ],
             [
              0.7777777777777778,
              "#6ece58"
             ],
             [
              0.8888888888888888,
              "#b5de2b"
             ],
             [
              1,
              "#fde725"
             ]
            ],
            "type": "surface"
           }
          ],
          "table": [
           {
            "cells": {
             "fill": {
              "color": "rgb(237,237,237)"
             },
             "line": {
              "color": "white"
             }
            },
            "header": {
             "fill": {
              "color": "rgb(217,217,217)"
             },
             "line": {
              "color": "white"
             }
            },
            "type": "table"
           }
          ]
         },
         "layout": {
          "annotationdefaults": {
           "arrowhead": 0,
           "arrowwidth": 1
          },
          "autosize": true,
          "autotypenumbers": "strict",
          "coloraxis": {
           "colorbar": {
            "outlinewidth": 1,
            "tickcolor": "rgb(36,36,36)",
            "ticks": "outside"
           }
          },
          "colorscale": {
           "diverging": [
            [
             0,
             "rgb(103,0,31)"
            ],
            [
             0.1,
             "rgb(178,24,43)"
            ],
            [
             0.2,
             "rgb(214,96,77)"
            ],
            [
             0.3,
             "rgb(244,165,130)"
            ],
            [
             0.4,
             "rgb(253,219,199)"
            ],
            [
             0.5,
             "rgb(247,247,247)"
            ],
            [
             0.6,
             "rgb(209,229,240)"
            ],
            [
             0.7,
             "rgb(146,197,222)"
            ],
            [
             0.8,
             "rgb(67,147,195)"
            ],
            [
             0.9,
             "rgb(33,102,172)"
            ],
            [
             1,
             "rgb(5,48,97)"
            ]
           ],
           "sequential": [
            [
             0,
             "#440154"
            ],
            [
             0.1111111111111111,
             "#482878"
            ],
            [
             0.2222222222222222,
             "#3e4989"
            ],
            [
             0.3333333333333333,
             "#31688e"
            ],
            [
             0.4444444444444444,
             "#26828e"
            ],
            [
             0.5555555555555556,
             "#1f9e89"
            ],
            [
             0.6666666666666666,
             "#35b779"
            ],
            [
             0.7777777777777778,
             "#6ece58"
            ],
            [
             0.8888888888888888,
             "#b5de2b"
            ],
            [
             1,
             "#fde725"
            ]
           ],
           "sequentialminus": [
            [
             0,
             "#440154"
            ],
            [
             0.1111111111111111,
             "#482878"
            ],
            [
             0.2222222222222222,
             "#3e4989"
            ],
            [
             0.3333333333333333,
             "#31688e"
            ],
            [
             0.4444444444444444,
             "#26828e"
            ],
            [
             0.5555555555555556,
             "#1f9e89"
            ],
            [
             0.6666666666666666,
             "#35b779"
            ],
            [
             0.7777777777777778,
             "#6ece58"
            ],
            [
             0.8888888888888888,
             "#b5de2b"
            ],
            [
             1,
             "#fde725"
            ]
           ]
          },
          "colorway": [
           "#1F77B4",
           "#FF7F0E",
           "#2CA02C",
           "#D62728",
           "#9467BD",
           "#8C564B",
           "#E377C2",
           "#7F7F7F",
           "#BCBD22",
           "#17BECF"
          ],
          "font": {
           "color": "rgb(36,36,36)"
          },
          "geo": {
           "bgcolor": "white",
           "lakecolor": "white",
           "landcolor": "white",
           "showlakes": true,
           "showland": true,
           "subunitcolor": "white"
          },
          "height": 400,
          "hoverlabel": {
           "align": "left"
          },
          "hovermode": "closest",
          "mapbox": {
           "style": "light"
          },
          "margin": {
           "b": 30,
           "l": 30,
           "r": 30,
           "t": 30
          },
          "paper_bgcolor": "white",
          "plot_bgcolor": "white",
          "polar": {
           "angularaxis": {
            "gridcolor": "rgb(232,232,232)",
            "linecolor": "rgb(36,36,36)",
            "showgrid": false,
            "showline": true,
            "ticks": "outside"
           },
           "bgcolor": "white",
           "radialaxis": {
            "gridcolor": "rgb(232,232,232)",
            "linecolor": "rgb(36,36,36)",
            "showgrid": false,
            "showline": true,
            "ticks": "outside"
           }
          },
          "scene": {
           "xaxis": {
            "backgroundcolor": "white",
            "gridcolor": "rgb(232,232,232)",
            "gridwidth": 2,
            "linecolor": "rgb(36,36,36)",
            "showbackground": true,
            "showgrid": false,
            "showline": true,
            "ticks": "outside",
            "zeroline": false,
            "zerolinecolor": "rgb(36,36,36)"
           },
           "yaxis": {
            "backgroundcolor": "white",
            "gridcolor": "rgb(232,232,232)",
            "gridwidth": 2,
            "linecolor": "rgb(36,36,36)",
            "showbackground": true,
            "showgrid": false,
            "showline": true,
            "ticks": "outside",
            "zeroline": false,
            "zerolinecolor": "rgb(36,36,36)"
           },
           "zaxis": {
            "backgroundcolor": "white",
            "gridcolor": "rgb(232,232,232)",
            "gridwidth": 2,
            "linecolor": "rgb(36,36,36)",
            "showbackground": true,
            "showgrid": false,
            "showline": true,
            "ticks": "outside",
            "zeroline": false,
            "zerolinecolor": "rgb(36,36,36)"
           }
          },
          "shapedefaults": {
           "fillcolor": "black",
           "line": {
            "width": 0
           },
           "opacity": 0.3
          },
          "ternary": {
           "aaxis": {
            "gridcolor": "rgb(232,232,232)",
            "linecolor": "rgb(36,36,36)",
            "showgrid": false,
            "showline": true,
            "ticks": "outside"
           },
           "baxis": {
            "gridcolor": "rgb(232,232,232)",
            "linecolor": "rgb(36,36,36)",
            "showgrid": false,
            "showline": true,
            "ticks": "outside"
           },
           "bgcolor": "white",
           "caxis": {
            "gridcolor": "rgb(232,232,232)",
            "linecolor": "rgb(36,36,36)",
            "showgrid": false,
            "showline": true,
            "ticks": "outside"
           }
          },
          "title": {
           "x": 0.5,
           "xanchor": "center"
          },
          "width": 600,
          "xaxis": {
           "automargin": true,
           "gridcolor": "rgb(232,232,232)",
           "linecolor": "rgb(36,36,36)",
           "showgrid": true,
           "showline": true,
           "ticks": "outside",
           "title": {
            "standoff": 15
           },
           "zeroline": false,
           "zerolinecolor": "rgb(36,36,36)"
          },
          "yaxis": {
           "automargin": true,
           "gridcolor": "rgb(232,232,232)",
           "linecolor": "rgb(36,36,36)",
           "showgrid": true,
           "showline": true,
           "ticks": "outside",
           "title": {
            "standoff": 15
           },
           "zeroline": false,
           "zerolinecolor": "rgb(36,36,36)"
          }
         }
        },
        "title": {
         "text": "Number of Loans Granted Per Year<br>(In Sample of Loans)"
        },
        "xaxis": {
         "anchor": "y",
         "autorange": true,
         "domain": [
          0,
          1
         ],
         "range": [
          2008,
          2018
         ],
         "title": {
          "text": "issue_d"
         },
         "type": "linear"
        },
        "yaxis": {
         "anchor": "x",
         "autorange": true,
         "domain": [
          0,
          1
         ],
         "range": [
          -66.11111111111111,
          1356.111111111111
         ],
         "title": {
          "text": "Frequency"
         },
         "type": "linear"
        }
       }
      },
      "image/png": "[encoded data removed]",
      "text/html": [
       "<div>                            <div id=\"6ddb1da4-ccf4-4f3f-b934-2e4a3b038984\" class=\"plotly-graph-div\" style=\"height:400px; width:600px;\"></div>            <script type=\"text/javascript\">                require([\"plotly\"], function(Plotly) {                    window.PLOTLYENV=window.PLOTLYENV || {};                                    if (document.getElementById(\"6ddb1da4-ccf4-4f3f-b934-2e4a3b038984\")) {                    Plotly.newPlot(                        \"6ddb1da4-ccf4-4f3f-b934-2e4a3b038984\",                        [{\"hovertemplate\":\"variable=count\\u003cbr\\u003eissue_d=%{x}\\u003cbr\\u003eFrequency=%{y}\\u003cextra\\u003e\\u003c\\u002fextra\\u003e\",\"legendgroup\":\"count\",\"line\":{\"color\":\"#1F77B4\",\"dash\":\"solid\"},\"marker\":{\"symbol\":\"circle\"},\"mode\":\"lines\",\"name\":\"count\",\"orientation\":\"v\",\"showlegend\":true,\"x\":[2008,2009,2010,2011,2012,2013,2014,2015,2016,2017,2018],\"xaxis\":\"x\",\"y\":[5,5,28,49,117,350,748,1285,1254,1201,1258],\"yaxis\":\"y\",\"type\":\"scatter\"}],                        {\"template\":{\"data\":{\"barpolar\":[{\"marker\":{\"line\":{\"color\":\"white\",\"width\":0.5},\"pattern\":{\"fillmode\":\"overlay\",\"size\":10,\"solidity\":0.2}},\"type\":\"barpolar\"}],\"bar\":[{\"error_x\":{\"color\":\"rgb(36,36,36)\"},\"error_y\":{\"color\":\"rgb(36,36,36)\"},\"marker\":{\"line\":{\"color\":\"white\",\"width\":0.5},\"pattern\":{\"fillmode\":\"overlay\",\"size\":10,\"solidity\":0.2}},\"type\":\"bar\"}],\"carpet\":[{\"aaxis\":{\"endlinecolor\":\"rgb(36,36,36)\",\"gridcolor\":\"white\",\"linecolor\":\"white\",\"minorgridcolor\":\"white\",\"startlinecolor\":\"rgb(36,36,36)\"},\"baxis\":{\"endlinecolor\":\"rgb(36,36,36)\",\"gridcolor\":\"white\",\"linecolor\":\"white\",\"minorgridcolor\":\"white\",\"startlinecolor\":\"rgb(36,36,36)\"},\"type\":\"carpet\"}],\"choropleth\":[{\"colorbar\":{\"outlinewidth\":1,\"tickcolor\":\"rgb(36,36,36)\",\"ticks\":\"outside\"},\"type\":\"choropleth\"}],\"contourcarpet\":[{\"colorbar\":{\"outlinewidth\":1,\"tickcolor\":\"rgb(36,36,36)\",\"ticks\":\"outside\"},\"type\":\"contourcarpet\"}],\"contour\":[{\"colorbar\":{\"outlinewidth\":1,\"tickcolor\":\"rgb(36,36,36)\",\"ticks\":\"outside\"},\"colorscale\":[[0.0,\"#440154\"],[0.1111111111111111,\"#482878\"],[0.2222222222222222,\"#3e4989\"],[0.3333333333333333,\"#31688e\"],[0.4444444444444444,\"#26828e\"],[0.5555555555555556,\"#1f9e89\"],[0.6666666666666666,\"#35b779\"],[0.7777777777777778,\"#6ece58\"],[0.8888888888888888,\"#b5de2b\"],[1.0,\"#fde725\"]],\"type\":\"contour\"}],\"heatmapgl\":[{\"colorbar\":{\"outlinewidth\":1,\"tickcolor\":\"rgb(36,36,36)\",\"ticks\":\"outside\"},\"colorscale\":[[0.0,\"#440154\"],[0.1111111111111111,\"#482878\"],[0.2222222222222222,\"#3e4989\"],[0.3333333333333333,\"#31688e\"],[0.4444444444444444,\"#26828e\"],[0.5555555555555556,\"#1f9e89\"],[0.6666666666666666,\"#35b779\"],[0.7777777777777778,\"#6ece58\"],[0.8888888888888888,\"#b5de2b\"],[1.0,\"#fde725\"]],\"type\":\"heatmapgl\"}],\"heatmap\":[{\"colorbar\":{\"outlinewidth\":1,\"tickcolor\":\"rgb(36,36,36)\",\"ticks\":\"outside\"},\"colorscale\":[[0.0,\"#440154\"],[0.1111111111111111,\"#482878\"],[0.2222222222222222,\"#3e4989\"],[0.3333333333333333,\"#31688e\"],[0.4444444444444444,\"#26828e\"],[0.5555555555555556,\"#1f9e89\"],[0.6666666666666666,\"#35b779\"],[0.7777777777777778,\"#6ece58\"],[0.8888888888888888,\"#b5de2b\"],[1.0,\"#fde725\"]],\"type\":\"heatmap\"}],\"histogram2dcontour\":[{\"colorbar\":{\"outlinewidth\":1,\"tickcolor\":\"rgb(36,36,36)\",\"ticks\":\"outside\"},\"colorscale\":[[0.0,\"#440154\"],[0.1111111111111111,\"#482878\"],[0.2222222222222222,\"#3e4989\"],[0.3333333333333333,\"#31688e\"],[0.4444444444444444,\"#26828e\"],[0.5555555555555556,\"#1f9e89\"],[0.6666666666666666,\"#35b779\"],[0.7777777777777778,\"#6ece58\"],[0.8888888888888888,\"#b5de2b\"],[1.0,\"#fde725\"]],\"type\":\"histogram2dcontour\"}],\"histogram2d\":[{\"colorbar\":{\"outlinewidth\":1,\"tickcolor\":\"rgb(36,36,36)\",\"ticks\":\"outside\"},\"colorscale\":[[0.0,\"#440154\"],[0.1111111111111111,\"#482878\"],[0.2222222222222222,\"#3e4989\"],[0.3333333333333333,\"#31688e\"],[0.4444444444444444,\"#26828e\"],[0.5555555555555556,\"#1f9e89\"],[0.6666666666666666,\"#35b779\"],[0.7777777777777778,\"#6ece58\"],[0.8888888888888888,\"#b5de2b\"],[1.0,\"#fde725\"]],\"type\":\"histogram2d\"}],\"histogram\":[{\"marker\":{\"line\":{\"color\":\"white\",\"width\":0.6}},\"type\":\"histogram\"}],\"mesh3d\":[{\"colorbar\":{\"outlinewidth\":1,\"tickcolor\":\"rgb(36,36,36)\",\"ticks\":\"outside\"},\"type\":\"mesh3d\"}],\"parcoords\":[{\"line\":{\"colorbar\":{\"outlinewidth\":1,\"tickcolor\":\"rgb(36,36,36)\",\"ticks\":\"outside\"}},\"type\":\"parcoords\"}],\"pie\":[{\"automargin\":true,\"type\":\"pie\"}],\"scatter3d\":[{\"line\":{\"colorbar\":{\"outlinewidth\":1,\"tickcolor\":\"rgb(36,36,36)\",\"ticks\":\"outside\"}},\"marker\":{\"colorbar\":{\"outlinewidth\":1,\"tickcolor\":\"rgb(36,36,36)\",\"ticks\":\"outside\"}},\"type\":\"scatter3d\"}],\"scattercarpet\":[{\"marker\":{\"colorbar\":{\"outlinewidth\":1,\"tickcolor\":\"rgb(36,36,36)\",\"ticks\":\"outside\"}},\"type\":\"scattercarpet\"}],\"scattergeo\":[{\"marker\":{\"colorbar\":{\"outlinewidth\":1,\"tickcolor\":\"rgb(36,36,36)\",\"ticks\":\"outside\"}},\"type\":\"scattergeo\"}],\"scattergl\":[{\"marker\":{\"colorbar\":{\"outlinewidth\":1,\"tickcolor\":\"rgb(36,36,36)\",\"ticks\":\"outside\"}},\"type\":\"scattergl\"}],\"scattermapbox\":[{\"marker\":{\"colorbar\":{\"outlinewidth\":1,\"tickcolor\":\"rgb(36,36,36)\",\"ticks\":\"outside\"}},\"type\":\"scattermapbox\"}],\"scatterpolargl\":[{\"marker\":{\"colorbar\":{\"outlinewidth\":1,\"tickcolor\":\"rgb(36,36,36)\",\"ticks\":\"outside\"}},\"type\":\"scatterpolargl\"}],\"scatterpolar\":[{\"marker\":{\"colorbar\":{\"outlinewidth\":1,\"tickcolor\":\"rgb(36,36,36)\",\"ticks\":\"outside\"}},\"type\":\"scatterpolar\"}],\"scatter\":[{\"fillpattern\":{\"fillmode\":\"overlay\",\"size\":10,\"solidity\":0.2},\"type\":\"scatter\"}],\"scatterternary\":[{\"marker\":{\"colorbar\":{\"outlinewidth\":1,\"tickcolor\":\"rgb(36,36,36)\",\"ticks\":\"outside\"}},\"type\":\"scatterternary\"}],\"surface\":[{\"colorbar\":{\"outlinewidth\":1,\"tickcolor\":\"rgb(36,36,36)\",\"ticks\":\"outside\"},\"colorscale\":[[0.0,\"#440154\"],[0.1111111111111111,\"#482878\"],[0.2222222222222222,\"#3e4989\"],[0.3333333333333333,\"#31688e\"],[0.4444444444444444,\"#26828e\"],[0.5555555555555556,\"#1f9e89\"],[0.6666666666666666,\"#35b779\"],[0.7777777777777778,\"#6ece58\"],[0.8888888888888888,\"#b5de2b\"],[1.0,\"#fde725\"]],\"type\":\"surface\"}],\"table\":[{\"cells\":{\"fill\":{\"color\":\"rgb(237,237,237)\"},\"line\":{\"color\":\"white\"}},\"header\":{\"fill\":{\"color\":\"rgb(217,217,217)\"},\"line\":{\"color\":\"white\"}},\"type\":\"table\"}]},\"layout\":{\"annotationdefaults\":{\"arrowhead\":0,\"arrowwidth\":1},\"autotypenumbers\":\"strict\",\"coloraxis\":{\"colorbar\":{\"outlinewidth\":1,\"tickcolor\":\"rgb(36,36,36)\",\"ticks\":\"outside\"}},\"colorscale\":{\"diverging\":[[0.0,\"rgb(103,0,31)\"],[0.1,\"rgb(178,24,43)\"],[0.2,\"rgb(214,96,77)\"],[0.3,\"rgb(244,165,130)\"],[0.4,\"rgb(253,219,199)\"],[0.5,\"rgb(247,247,247)\"],[0.6,\"rgb(209,229,240)\"],[0.7,\"rgb(146,197,222)\"],[0.8,\"rgb(67,147,195)\"],[0.9,\"rgb(33,102,172)\"],[1.0,\"rgb(5,48,97)\"]],\"sequential\":[[0.0,\"#440154\"],[0.1111111111111111,\"#482878\"],[0.2222222222222222,\"#3e4989\"],[0.3333333333333333,\"#31688e\"],[0.4444444444444444,\"#26828e\"],[0.5555555555555556,\"#1f9e89\"],[0.6666666666666666,\"#35b779\"],[0.7777777777777778,\"#6ece58\"],[0.8888888888888888,\"#b5de2b\"],[1.0,\"#fde725\"]],\"sequentialminus\":[[0.0,\"#440154\"],[0.1111111111111111,\"#482878\"],[0.2222222222222222,\"#3e4989\"],[0.3333333333333333,\"#31688e\"],[0.4444444444444444,\"#26828e\"],[0.5555555555555556,\"#1f9e89\"],[0.6666666666666666,\"#35b779\"],[0.7777777777777778,\"#6ece58\"],[0.8888888888888888,\"#b5de2b\"],[1.0,\"#fde725\"]]},\"colorway\":[\"#1F77B4\",\"#FF7F0E\",\"#2CA02C\",\"#D62728\",\"#9467BD\",\"#8C564B\",\"#E377C2\",\"#7F7F7F\",\"#BCBD22\",\"#17BECF\"],\"font\":{\"color\":\"rgb(36,36,36)\"},\"geo\":{\"bgcolor\":\"white\",\"lakecolor\":\"white\",\"landcolor\":\"white\",\"showlakes\":true,\"showland\":true,\"subunitcolor\":\"white\"},\"hoverlabel\":{\"align\":\"left\"},\"hovermode\":\"closest\",\"mapbox\":{\"style\":\"light\"},\"paper_bgcolor\":\"white\",\"plot_bgcolor\":\"white\",\"polar\":{\"angularaxis\":{\"gridcolor\":\"rgb(232,232,232)\",\"linecolor\":\"rgb(36,36,36)\",\"showgrid\":false,\"showline\":true,\"ticks\":\"outside\"},\"bgcolor\":\"white\",\"radialaxis\":{\"gridcolor\":\"rgb(232,232,232)\",\"linecolor\":\"rgb(36,36,36)\",\"showgrid\":false,\"showline\":true,\"ticks\":\"outside\"}},\"scene\":{\"xaxis\":{\"backgroundcolor\":\"white\",\"gridcolor\":\"rgb(232,232,232)\",\"gridwidth\":2,\"linecolor\":\"rgb(36,36,36)\",\"showbackground\":true,\"showgrid\":false,\"showline\":true,\"ticks\":\"outside\",\"zeroline\":false,\"zerolinecolor\":\"rgb(36,36,36)\"},\"yaxis\":{\"backgroundcolor\":\"white\",\"gridcolor\":\"rgb(232,232,232)\",\"gridwidth\":2,\"linecolor\":\"rgb(36,36,36)\",\"showbackground\":true,\"showgrid\":false,\"showline\":true,\"ticks\":\"outside\",\"zeroline\":false,\"zerolinecolor\":\"rgb(36,36,36)\"},\"zaxis\":{\"backgroundcolor\":\"white\",\"gridcolor\":\"rgb(232,232,232)\",\"gridwidth\":2,\"linecolor\":\"rgb(36,36,36)\",\"showbackground\":true,\"showgrid\":false,\"showline\":true,\"ticks\":\"outside\",\"zeroline\":false,\"zerolinecolor\":\"rgb(36,36,36)\"}},\"shapedefaults\":{\"fillcolor\":\"black\",\"line\":{\"width\":0},\"opacity\":0.3},\"ternary\":{\"aaxis\":{\"gridcolor\":\"rgb(232,232,232)\",\"linecolor\":\"rgb(36,36,36)\",\"showgrid\":false,\"showline\":true,\"ticks\":\"outside\"},\"baxis\":{\"gridcolor\":\"rgb(232,232,232)\",\"linecolor\":\"rgb(36,36,36)\",\"showgrid\":false,\"showline\":true,\"ticks\":\"outside\"},\"bgcolor\":\"white\",\"caxis\":{\"gridcolor\":\"rgb(232,232,232)\",\"linecolor\":\"rgb(36,36,36)\",\"showgrid\":false,\"showline\":true,\"ticks\":\"outside\"}},\"title\":{\"x\":0.5,\"xanchor\":\"center\"},\"xaxis\":{\"automargin\":true,\"gridcolor\":\"rgb(232,232,232)\",\"linecolor\":\"rgb(36,36,36)\",\"showgrid\":true,\"showline\":true,\"ticks\":\"outside\",\"title\":{\"standoff\":15},\"zeroline\":false,\"zerolinecolor\":\"rgb(36,36,36)\"},\"yaxis\":{\"automargin\":true,\"gridcolor\":\"rgb(232,232,232)\",\"linecolor\":\"rgb(36,36,36)\",\"showgrid\":true,\"showline\":true,\"ticks\":\"outside\",\"title\":{\"standoff\":15},\"zeroline\":false,\"zerolinecolor\":\"rgb(36,36,36)\"},\"autosize\":true,\"height\":400,\"margin\":{\"b\":30,\"l\":30,\"r\":30,\"t\":30},\"width\":600}},\"xaxis\":{\"anchor\":\"y\",\"domain\":[0.0,1.0],\"title\":{\"text\":\"issue_d\"}},\"yaxis\":{\"anchor\":\"x\",\"domain\":[0.0,1.0],\"title\":{\"text\":\"Frequency\"}},\"legend\":{\"title\":{\"text\":\"variable\"},\"tracegroupgap\":0},\"title\":{\"text\":\"Number of Loans Granted Per Year\\u003cbr\\u003e(In Sample of Loans)\"},\"showlegend\":false},                        {\"responsive\": true}                    ).then(function(){\n",
       "                            \n",
       "var gd = document.getElementById('6ddb1da4-ccf4-4f3f-b934-2e4a3b038984');\n",
       "var x = new MutationObserver(function (mutations, observer) {{\n",
       "        var display = window.getComputedStyle(gd).display;\n",
       "        if (!display || display === 'none') {{\n",
       "            console.log([gd, 'removed!']);\n",
       "            Plotly.purge(gd);\n",
       "            observer.disconnect();\n",
       "        }}\n",
       "}});\n",
       "\n",
       "// Listen for the removal of the full notebook cells\n",
       "var notebookContainer = gd.closest('#notebook-container');\n",
       "if (notebookContainer) {{\n",
       "    x.observe(notebookContainer, {childList: true});\n",
       "}}\n",
       "\n",
       "// Listen for the clearing of the current output cell\n",
       "var outputEl = gd.closest('.output');\n",
       "if (outputEl) {{\n",
       "    x.observe(outputEl, {childList: true});\n",
       "}}\n",
       "\n",
       "                        })                };                });            </script>        </div>"
      ]
     },
     "metadata": {},
     "output_type": "display_data"
    }
   ],
   "source": [
    "(\n",
    "    loans['issue_d'].dt.year\n",
    "    .value_counts()\n",
    "    .sort_index()\n",
    "    .plot(kind='line', \n",
    "          labels={'index': 'Year', 'value': 'Frequency'},\n",
    "          title='Number of Loans Granted Per Year<br>(In Sample of Loans)')\n",
    "    .update_layout(showlegend=False)\n",
    ")"
   ]
  },
  {
   "cell_type": "markdown",
   "id": "9999bd71",
   "metadata": {},
   "source": [
    "Run the cell below to call `correlations` on `loans`, to find the correlations between debt-to-income and interest rate, annual income and interest rate, and FICO credit score and interest rate. Make sure to run this cell before moving forward, otherwise the tests won't work correctly."
   ]
  },
  {
   "cell_type": "code",
   "execution_count": 41,
   "id": "daa25bbc",
   "metadata": {},
   "outputs": [
    {
     "data": {
      "text/plain": [
       "r_dti_int_rate               0.173465\n",
       "r_annual_inc_int_rate       -0.013588\n",
       "r_fico_range_low_int_rate   -0.418918\n",
       "r_term_int_rate              0.383405\n",
       "dtype: float64"
      ]
     },
     "execution_count": 41,
     "metadata": {},
     "output_type": "execute_result"
    }
   ],
   "source": [
    "q2_correlations = correlations(loans, [\n",
    "    ('dti', 'int_rate'),\n",
    "    ('annual_inc', 'int_rate'),\n",
    "    ('fico_range_low', 'int_rate'),\n",
    "    ('term', 'int_rate')\n",
    "])\n",
    "q2_correlations"
   ]
  },
  {
   "cell_type": "markdown",
   "id": "9e8a32e7",
   "metadata": {},
   "source": [
    "Run the cell below to draw a bar chart of the three correlations you computed, stored in `q2_correlations`."
   ]
  },
  {
   "cell_type": "code",
   "execution_count": 42,
   "id": "6256c21d",
   "metadata": {},
   "outputs": [
    {
     "data": {
      "application/vnd.plotly.v1+json": {
       "config": {
        "plotlyServerURL": "https://plot.ly"
       },
       "data": [
        {
         "hovertemplate": "variable=0<br>Correlation=%{x}<br>Pair of Columns=%{y}<extra></extra>",
         "legendgroup": "0",
         "marker": {
          "color": "#1F77B4",
          "pattern": {
           "shape": ""
          }
         },
         "name": "0",
         "orientation": "h",
         "showlegend": true,
         "textposition": "auto",
         "type": "bar",
         "x": {
          "bdata": "Nh7PNx00xj9u4RHU2dOLv0WRX3eOz9q/QtGHD7WJ2D8=",
          "dtype": "f8"
         },
         "xaxis": "x",
         "y": [
          "r_dti_int_rate",
          "r_annual_inc_int_rate",
          "r_fico_range_low_int_rate",
          "r_term_int_rate"
         ],
         "yaxis": "y"
        }
       ],
       "layout": {
        "barmode": "relative",
        "legend": {
         "title": {
          "text": "variable"
         },
         "tracegroupgap": 0
        },
        "showlegend": false,
        "template": {
         "data": {
          "bar": [
           {
            "error_x": {
             "color": "rgb(36,36,36)"
            },
            "error_y": {
             "color": "rgb(36,36,36)"
            },
            "marker": {
             "line": {
              "color": "white",
              "width": 0.5
             },
             "pattern": {
              "fillmode": "overlay",
              "size": 10,
              "solidity": 0.2
             }
            },
            "type": "bar"
           }
          ],
          "barpolar": [
           {
            "marker": {
             "line": {
              "color": "white",
              "width": 0.5
             },
             "pattern": {
              "fillmode": "overlay",
              "size": 10,
              "solidity": 0.2
             }
            },
            "type": "barpolar"
           }
          ],
          "carpet": [
           {
            "aaxis": {
             "endlinecolor": "rgb(36,36,36)",
             "gridcolor": "white",
             "linecolor": "white",
             "minorgridcolor": "white",
             "startlinecolor": "rgb(36,36,36)"
            },
            "baxis": {
             "endlinecolor": "rgb(36,36,36)",
             "gridcolor": "white",
             "linecolor": "white",
             "minorgridcolor": "white",
             "startlinecolor": "rgb(36,36,36)"
            },
            "type": "carpet"
           }
          ],
          "choropleth": [
           {
            "colorbar": {
             "outlinewidth": 1,
             "tickcolor": "rgb(36,36,36)",
             "ticks": "outside"
            },
            "type": "choropleth"
           }
          ],
          "contour": [
           {
            "colorbar": {
             "outlinewidth": 1,
             "tickcolor": "rgb(36,36,36)",
             "ticks": "outside"
            },
            "colorscale": [
             [
              0,
              "#440154"
             ],
             [
              0.1111111111111111,
              "#482878"
             ],
             [
              0.2222222222222222,
              "#3e4989"
             ],
             [
              0.3333333333333333,
              "#31688e"
             ],
             [
              0.4444444444444444,
              "#26828e"
             ],
             [
              0.5555555555555556,
              "#1f9e89"
             ],
             [
              0.6666666666666666,
              "#35b779"
             ],
             [
              0.7777777777777778,
              "#6ece58"
             ],
             [
              0.8888888888888888,
              "#b5de2b"
             ],
             [
              1,
              "#fde725"
             ]
            ],
            "type": "contour"
           }
          ],
          "contourcarpet": [
           {
            "colorbar": {
             "outlinewidth": 1,
             "tickcolor": "rgb(36,36,36)",
             "ticks": "outside"
            },
            "type": "contourcarpet"
           }
          ],
          "heatmap": [
           {
            "colorbar": {
             "outlinewidth": 1,
             "tickcolor": "rgb(36,36,36)",
             "ticks": "outside"
            },
            "colorscale": [
             [
              0,
              "#440154"
             ],
             [
              0.1111111111111111,
              "#482878"
             ],
             [
              0.2222222222222222,
              "#3e4989"
             ],
             [
              0.3333333333333333,
              "#31688e"
             ],
             [
              0.4444444444444444,
              "#26828e"
             ],
             [
              0.5555555555555556,
              "#1f9e89"
             ],
             [
              0.6666666666666666,
              "#35b779"
             ],
             [
              0.7777777777777778,
              "#6ece58"
             ],
             [
              0.8888888888888888,
              "#b5de2b"
             ],
             [
              1,
              "#fde725"
             ]
            ],
            "type": "heatmap"
           }
          ],
          "histogram": [
           {
            "marker": {
             "line": {
              "color": "white",
              "width": 0.6
             }
            },
            "type": "histogram"
           }
          ],
          "histogram2d": [
           {
            "colorbar": {
             "outlinewidth": 1,
             "tickcolor": "rgb(36,36,36)",
             "ticks": "outside"
            },
            "colorscale": [
             [
              0,
              "#440154"
             ],
             [
              0.1111111111111111,
              "#482878"
             ],
             [
              0.2222222222222222,
              "#3e4989"
             ],
             [
              0.3333333333333333,
              "#31688e"
             ],
             [
              0.4444444444444444,
              "#26828e"
             ],
             [
              0.5555555555555556,
              "#1f9e89"
             ],
             [
              0.6666666666666666,
              "#35b779"
             ],
             [
              0.7777777777777778,
              "#6ece58"
             ],
             [
              0.8888888888888888,
              "#b5de2b"
             ],
             [
              1,
              "#fde725"
             ]
            ],
            "type": "histogram2d"
           }
          ],
          "histogram2dcontour": [
           {
            "colorbar": {
             "outlinewidth": 1,
             "tickcolor": "rgb(36,36,36)",
             "ticks": "outside"
            },
            "colorscale": [
             [
              0,
              "#440154"
             ],
             [
              0.1111111111111111,
              "#482878"
             ],
             [
              0.2222222222222222,
              "#3e4989"
             ],
             [
              0.3333333333333333,
              "#31688e"
             ],
             [
              0.4444444444444444,
              "#26828e"
             ],
             [
              0.5555555555555556,
              "#1f9e89"
             ],
             [
              0.6666666666666666,
              "#35b779"
             ],
             [
              0.7777777777777778,
              "#6ece58"
             ],
             [
              0.8888888888888888,
              "#b5de2b"
             ],
             [
              1,
              "#fde725"
             ]
            ],
            "type": "histogram2dcontour"
           }
          ],
          "mesh3d": [
           {
            "colorbar": {
             "outlinewidth": 1,
             "tickcolor": "rgb(36,36,36)",
             "ticks": "outside"
            },
            "type": "mesh3d"
           }
          ],
          "parcoords": [
           {
            "line": {
             "colorbar": {
              "outlinewidth": 1,
              "tickcolor": "rgb(36,36,36)",
              "ticks": "outside"
             }
            },
            "type": "parcoords"
           }
          ],
          "pie": [
           {
            "automargin": true,
            "type": "pie"
           }
          ],
          "scatter": [
           {
            "fillpattern": {
             "fillmode": "overlay",
             "size": 10,
             "solidity": 0.2
            },
            "type": "scatter"
           }
          ],
          "scatter3d": [
           {
            "line": {
             "colorbar": {
              "outlinewidth": 1,
              "tickcolor": "rgb(36,36,36)",
              "ticks": "outside"
             }
            },
            "marker": {
             "colorbar": {
              "outlinewidth": 1,
              "tickcolor": "rgb(36,36,36)",
              "ticks": "outside"
             }
            },
            "type": "scatter3d"
           }
          ],
          "scattercarpet": [
           {
            "marker": {
             "colorbar": {
              "outlinewidth": 1,
              "tickcolor": "rgb(36,36,36)",
              "ticks": "outside"
             }
            },
            "type": "scattercarpet"
           }
          ],
          "scattergeo": [
           {
            "marker": {
             "colorbar": {
              "outlinewidth": 1,
              "tickcolor": "rgb(36,36,36)",
              "ticks": "outside"
             }
            },
            "type": "scattergeo"
           }
          ],
          "scattergl": [
           {
            "marker": {
             "colorbar": {
              "outlinewidth": 1,
              "tickcolor": "rgb(36,36,36)",
              "ticks": "outside"
             }
            },
            "type": "scattergl"
           }
          ],
          "scattermap": [
           {
            "marker": {
             "colorbar": {
              "outlinewidth": 1,
              "tickcolor": "rgb(36,36,36)",
              "ticks": "outside"
             }
            },
            "type": "scattermap"
           }
          ],
          "scattermapbox": [
           {
            "marker": {
             "colorbar": {
              "outlinewidth": 1,
              "tickcolor": "rgb(36,36,36)",
              "ticks": "outside"
             }
            },
            "type": "scattermapbox"
           }
          ],
          "scatterpolar": [
           {
            "marker": {
             "colorbar": {
              "outlinewidth": 1,
              "tickcolor": "rgb(36,36,36)",
              "ticks": "outside"
             }
            },
            "type": "scatterpolar"
           }
          ],
          "scatterpolargl": [
           {
            "marker": {
             "colorbar": {
              "outlinewidth": 1,
              "tickcolor": "rgb(36,36,36)",
              "ticks": "outside"
             }
            },
            "type": "scatterpolargl"
           }
          ],
          "scatterternary": [
           {
            "marker": {
             "colorbar": {
              "outlinewidth": 1,
              "tickcolor": "rgb(36,36,36)",
              "ticks": "outside"
             }
            },
            "type": "scatterternary"
           }
          ],
          "surface": [
           {
            "colorbar": {
             "outlinewidth": 1,
             "tickcolor": "rgb(36,36,36)",
             "ticks": "outside"
            },
            "colorscale": [
             [
              0,
              "#440154"
             ],
             [
              0.1111111111111111,
              "#482878"
             ],
             [
              0.2222222222222222,
              "#3e4989"
             ],
             [
              0.3333333333333333,
              "#31688e"
             ],
             [
              0.4444444444444444,
              "#26828e"
             ],
             [
              0.5555555555555556,
              "#1f9e89"
             ],
             [
              0.6666666666666666,
              "#35b779"
             ],
             [
              0.7777777777777778,
              "#6ece58"
             ],
             [
              0.8888888888888888,
              "#b5de2b"
             ],
             [
              1,
              "#fde725"
             ]
            ],
            "type": "surface"
           }
          ],
          "table": [
           {
            "cells": {
             "fill": {
              "color": "rgb(237,237,237)"
             },
             "line": {
              "color": "white"
             }
            },
            "header": {
             "fill": {
              "color": "rgb(217,217,217)"
             },
             "line": {
              "color": "white"
             }
            },
            "type": "table"
           }
          ]
         },
         "layout": {
          "annotationdefaults": {
           "arrowhead": 0,
           "arrowwidth": 1
          },
          "autosize": true,
          "autotypenumbers": "strict",
          "coloraxis": {
           "colorbar": {
            "outlinewidth": 1,
            "tickcolor": "rgb(36,36,36)",
            "ticks": "outside"
           }
          },
          "colorscale": {
           "diverging": [
            [
             0,
             "rgb(103,0,31)"
            ],
            [
             0.1,
             "rgb(178,24,43)"
            ],
            [
             0.2,
             "rgb(214,96,77)"
            ],
            [
             0.3,
             "rgb(244,165,130)"
            ],
            [
             0.4,
             "rgb(253,219,199)"
            ],
            [
             0.5,
             "rgb(247,247,247)"
            ],
            [
             0.6,
             "rgb(209,229,240)"
            ],
            [
             0.7,
             "rgb(146,197,222)"
            ],
            [
             0.8,
             "rgb(67,147,195)"
            ],
            [
             0.9,
             "rgb(33,102,172)"
            ],
            [
             1,
             "rgb(5,48,97)"
            ]
           ],
           "sequential": [
            [
             0,
             "#440154"
            ],
            [
             0.1111111111111111,
             "#482878"
            ],
            [
             0.2222222222222222,
             "#3e4989"
            ],
            [
             0.3333333333333333,
             "#31688e"
            ],
            [
             0.4444444444444444,
             "#26828e"
            ],
            [
             0.5555555555555556,
             "#1f9e89"
            ],
            [
             0.6666666666666666,
             "#35b779"
            ],
            [
             0.7777777777777778,
             "#6ece58"
            ],
            [
             0.8888888888888888,
             "#b5de2b"
            ],
            [
             1,
             "#fde725"
            ]
           ],
           "sequentialminus": [
            [
             0,
             "#440154"
            ],
            [
             0.1111111111111111,
             "#482878"
            ],
            [
             0.2222222222222222,
             "#3e4989"
            ],
            [
             0.3333333333333333,
             "#31688e"
            ],
            [
             0.4444444444444444,
             "#26828e"
            ],
            [
             0.5555555555555556,
             "#1f9e89"
            ],
            [
             0.6666666666666666,
             "#35b779"
            ],
            [
             0.7777777777777778,
             "#6ece58"
            ],
            [
             0.8888888888888888,
             "#b5de2b"
            ],
            [
             1,
             "#fde725"
            ]
           ]
          },
          "colorway": [
           "#1F77B4",
           "#FF7F0E",
           "#2CA02C",
           "#D62728",
           "#9467BD",
           "#8C564B",
           "#E377C2",
           "#7F7F7F",
           "#BCBD22",
           "#17BECF"
          ],
          "font": {
           "color": "rgb(36,36,36)"
          },
          "geo": {
           "bgcolor": "white",
           "lakecolor": "white",
           "landcolor": "white",
           "showlakes": true,
           "showland": true,
           "subunitcolor": "white"
          },
          "height": 400,
          "hoverlabel": {
           "align": "left"
          },
          "hovermode": "closest",
          "mapbox": {
           "style": "light"
          },
          "margin": {
           "b": 30,
           "l": 30,
           "r": 30,
           "t": 30
          },
          "paper_bgcolor": "white",
          "plot_bgcolor": "white",
          "polar": {
           "angularaxis": {
            "gridcolor": "rgb(232,232,232)",
            "linecolor": "rgb(36,36,36)",
            "showgrid": false,
            "showline": true,
            "ticks": "outside"
           },
           "bgcolor": "white",
           "radialaxis": {
            "gridcolor": "rgb(232,232,232)",
            "linecolor": "rgb(36,36,36)",
            "showgrid": false,
            "showline": true,
            "ticks": "outside"
           }
          },
          "scene": {
           "xaxis": {
            "backgroundcolor": "white",
            "gridcolor": "rgb(232,232,232)",
            "gridwidth": 2,
            "linecolor": "rgb(36,36,36)",
            "showbackground": true,
            "showgrid": false,
            "showline": true,
            "ticks": "outside",
            "zeroline": false,
            "zerolinecolor": "rgb(36,36,36)"
           },
           "yaxis": {
            "backgroundcolor": "white",
            "gridcolor": "rgb(232,232,232)",
            "gridwidth": 2,
            "linecolor": "rgb(36,36,36)",
            "showbackground": true,
            "showgrid": false,
            "showline": true,
            "ticks": "outside",
            "zeroline": false,
            "zerolinecolor": "rgb(36,36,36)"
           },
           "zaxis": {
            "backgroundcolor": "white",
            "gridcolor": "rgb(232,232,232)",
            "gridwidth": 2,
            "linecolor": "rgb(36,36,36)",
            "showbackground": true,
            "showgrid": false,
            "showline": true,
            "ticks": "outside",
            "zeroline": false,
            "zerolinecolor": "rgb(36,36,36)"
           }
          },
          "shapedefaults": {
           "fillcolor": "black",
           "line": {
            "width": 0
           },
           "opacity": 0.3
          },
          "ternary": {
           "aaxis": {
            "gridcolor": "rgb(232,232,232)",
            "linecolor": "rgb(36,36,36)",
            "showgrid": false,
            "showline": true,
            "ticks": "outside"
           },
           "baxis": {
            "gridcolor": "rgb(232,232,232)",
            "linecolor": "rgb(36,36,36)",
            "showgrid": false,
            "showline": true,
            "ticks": "outside"
           },
           "bgcolor": "white",
           "caxis": {
            "gridcolor": "rgb(232,232,232)",
            "linecolor": "rgb(36,36,36)",
            "showgrid": false,
            "showline": true,
            "ticks": "outside"
           }
          },
          "title": {
           "x": 0.5,
           "xanchor": "center"
          },
          "width": 600,
          "xaxis": {
           "automargin": true,
           "gridcolor": "rgb(232,232,232)",
           "linecolor": "rgb(36,36,36)",
           "showgrid": true,
           "showline": true,
           "ticks": "outside",
           "title": {
            "standoff": 15
           },
           "zeroline": false,
           "zerolinecolor": "rgb(36,36,36)"
          },
          "yaxis": {
           "automargin": true,
           "gridcolor": "rgb(232,232,232)",
           "linecolor": "rgb(36,36,36)",
           "showgrid": true,
           "showline": true,
           "ticks": "outside",
           "title": {
            "standoff": 15
           },
           "zeroline": false,
           "zerolinecolor": "rgb(36,36,36)"
          }
         }
        },
        "title": {
         "text": "Correlation Between Interest Rate and Various Quantitative Features"
        },
        "xaxis": {
         "anchor": "y",
         "domain": [
          0,
          1
         ],
         "title": {
          "text": "Correlation"
         }
        },
        "yaxis": {
         "anchor": "x",
         "domain": [
          0,
          1
         ],
         "title": {
          "text": "Pair of Columns"
         }
        }
       }
      }
     },
     "metadata": {},
     "output_type": "display_data"
    }
   ],
   "source": [
    "(\n",
    "    q2_correlations\n",
    "    .plot(kind='barh', \n",
    "          title='Correlation Between Interest Rate and Various Quantitative Features',\n",
    "          labels={'index': 'Pair of Columns', 'value': 'Correlation'}\n",
    "         )\n",
    "    .update_layout(showlegend=False)\n",
    ")"
   ]
  },
  {
   "cell_type": "markdown",
   "id": "1853ea85",
   "metadata": {},
   "source": [
    "You should notice that of the four features analyzed, credit scores are most strongly correlated with interest rates, though term lengths also seem to be quite correlated. Let's first take a look at a scatter plot of interest rate vs. credit score."
   ]
  },
  {
   "cell_type": "code",
   "execution_count": 43,
   "id": "8416f05d",
   "metadata": {},
   "outputs": [
    {
     "data": {
      "application/vnd.plotly.v1+json": {
       "config": {
        "plotlyServerURL": "https://plot.ly"
       },
       "data": [
        {
         "hovertemplate": "Credit Score=%{x}<br>Interest Rate (%)=%{y}<extra></extra>",
         "legendgroup": "",
         "marker": {
          "color": "#1F77B4",
          "symbol": "circle"
         },
         "mode": "markers",
         "name": "",
         "showlegend": false,
         "type": "scattergl",
         "x": {
          "bdata": "AAAAAADghUAAAAAAAECFQAAAAAAACIZAAAAAAADwhEAAAAAAAPiGQAAAAAAAQIVAAAAAAADwhEAAAAAAAOiHQAAAAAAA4IVAAAAAAACghEAAAAAAANCGQAAAAAAAMIZAAAAAAABYhkAAAAAAAKCEQAAAAAAA8IRAAAAAAABohUAAAAAAAJCFQAAAAAAAkIVAAAAAAABgiEAAAAAAAKCEQAAAAAAAMIZAAAAAAABAhUAAAAAAAMiEQAAAAAAAaIVAAAAAAAAgh0AAAAAAACCHQAAAAAAAaIVAAAAAAABYhkAAAAAAAHCHQAAAAAAACIZAAAAAAADwhEAAAAAAALiFQAAAAAAAyIRAAAAAAABYhkAAAAAAAPCEQAAAAAAA4IVAAAAAAABohUAAAAAAAGiFQAAAAAAAyIRAAAAAAAD4hkAAAAAAAKCEQAAAAAAAcIdAAAAAAABYhkAAAAAAAOiHQAAAAAAAaIVAAAAAAACAhkAAAAAAAECFQAAAAAAAyIRAAAAAAACghEAAAAAAAMiEQAAAAAAAGIVAAAAAAACghEAAAAAAAKCEQAAAAAAAGIVAAAAAAADwhEAAAAAAAHCHQAAAAAAAgIZAAAAAAACQhUAAAAAAAOCFQAAAAAAAWIZAAAAAAABohUAAAAAAAFiGQAAAAAAAgIZAAAAAAACYh0AAAAAAALCIQAAAAAAA4IVAAAAAAAAYhUAAAAAAAKiGQAAAAAAAiIhAAAAAAADIhEAAAAAAAICGQAAAAAAA8IRAAAAAAABYhkAAAAAAAJCFQAAAAAAAWIZAAAAAAACAhkAAAAAAABiFQAAAAAAAuIVAAAAAAACghEAAAAAAADCGQAAAAAAAGIVAAAAAAABAhUAAAAAAACCHQAAAAAAAoIRAAAAAAACQhUAAAAAAAOCFQAAAAAAA8IRAAAAAAADIhEAAAAAAALiFQAAAAAAAWIZAAAAAAAAwhkAAAAAAAPiGQAAAAAAAQIVAAAAAAACohkAAAAAAAFiGQAAAAAAACIZAAAAAAACwiEAAAAAAABiFQAAAAAAAGIVAAAAAAADwhEAAAAAAALiFQAAAAAAAMIZAAAAAAADIhEAAAAAAALiFQAAAAAAAkIVAAAAAAABIh0AAAAAAAICGQAAAAAAA8IRAAAAAAACghEAAAAAAABiFQAAAAAAAkIVAAAAAAADIhEAAAAAAAKCEQAAAAAAAoIRAAAAAAABAhUAAAAAAABiFQAAAAAAAyIRAAAAAAADIhEAAAAAAAKCEQAAAAAAAQIVAAAAAAACQhUAAAAAAACCHQAAAAAAAIIdAAAAAAABohUAAAAAAAECFQAAAAAAAmIdAAAAAAADIhEAAAAAAAGiFQAAAAAAAYIhAAAAAAACAhkAAAAAAAOCFQAAAAAAAWIZAAAAAAACQhUAAAAAAAHCHQAAAAAAA4IVAAAAAAACQhUAAAAAAAKCEQAAAAAAA8IRAAAAAAADIhEAAAAAAACCHQAAAAAAAoIRAAAAAAAAIhkAAAAAAAKCEQAAAAAAAUIlAAAAAAADwhEAAAAAAAOiHQAAAAAAAyIRAAAAAAAD4hkAAAAAAALiFQAAAAAAAQIVAAAAAAAC4hUAAAAAAAGiFQAAAAAAAyIRAAAAAAABYhkAAAAAAAOCFQAAAAAAAGIVAAAAAAAAgh0AAAAAAALiFQAAAAAAA8IRAAAAAAACQhUAAAAAAAECFQAAAAAAAqIZAAAAAAAD4hkAAAAAAAJCFQAAAAAAAMIZAAAAAAACAhkAAAAAAAGiFQAAAAAAAoIRAAAAAAABIh0AAAAAAAOCFQAAAAAAAoIRAAAAAAACQhUAAAAAAAOCFQAAAAAAA8IRAAAAAAABohUAAAAAAAECFQAAAAAAAqIZAAAAAAABohUAAAAAAAACJQAAAAAAAgIZAAAAAAACAhkAAAAAAAJCFQAAAAAAAIIdAAAAAAABYhkAAAAAAAOCFQAAAAAAAgIZAAAAAAABAhUAAAAAAAOCFQAAAAAAAuIVAAAAAAAAwhkAAAAAAABCIQAAAAAAAGIVAAAAAAABAhUAAAAAAAICGQAAAAAAAQIVAAAAAAAAYhUAAAAAAACCHQAAAAAAAkIVAAAAAAAB4iUAAAAAAAPCEQAAAAAAAyIRAAAAAAACYh0AAAAAAAPCEQAAAAAAAAIlAAAAAAABAhUAAAAAAAJiHQAAAAAAAGIVAAAAAAADghUAAAAAAAPCEQAAAAAAAgIZAAAAAAADIhEAAAAAAAPiGQAAAAAAAQIVAAAAAAAAYhUAAAAAAAJCFQAAAAAAAoIRAAAAAAACYh0AAAAAAAKCEQAAAAAAAQIVAAAAAAADIhEAAAAAAAKCEQAAAAAAA8IRAAAAAAACghEAAAAAAAHCHQAAAAAAA+IZAAAAAAACQhUAAAAAAAKiGQAAAAAAAkIVAAAAAAAAIhkAAAAAAAPCEQAAAAAAAoIRAAAAAAACghEAAAAAAADiIQAAAAAAA4IVAAAAAAAAgh0AAAAAAALiFQAAAAAAAQIVAAAAAAADQhkAAAAAAAMiEQAAAAAAAMIZAAAAAAAAYhUAAAAAAAKCEQAAAAAAA8IRAAAAAAACghEAAAAAAAJiHQAAAAAAAkIVAAAAAAADwhEAAAAAAAPCEQAAAAAAAyIRAAAAAAADwhEAAAAAAAPiGQAAAAAAA4IVAAAAAAADwhEAAAAAAABiFQAAAAAAAuIVAAAAAAABohUAAAAAAAPCEQAAAAAAA4IVAAAAAAAAwhkAAAAAAAFiGQAAAAAAA4IVAAAAAAACghEAAAAAAAKCEQAAAAAAAuIVAAAAAAACghEAAAAAAAKiGQAAAAAAA8IRAAAAAAADQhkAAAAAAAICGQAAAAAAASIdAAAAAAACQhUAAAAAAAECFQAAAAAAAqIZAAAAAAABAhUAAAAAAADCGQAAAAAAAuIVAAAAAAABohUAAAAAAAKiGQAAAAAAAwIdAAAAAAABAhUAAAAAAAGiFQAAAAAAAwIdAAAAAAAAYhUAAAAAAAGiFQAAAAAAAyIRAAAAAAAAIhkAAAAAAAAiGQAAAAAAAgIZAAAAAAACghEAAAAAAAMiEQAAAAAAA4IVAAAAAAAC4hUAAAAAAAICGQAAAAAAAyIRAAAAAAADIhEAAAAAAANCGQAAAAAAAaIVAAAAAAADQhkAAAAAAAPCEQAAAAAAA8IRAAAAAAAC4hUAAAAAAAJCFQAAAAAAAyIRAAAAAAAD4hkAAAAAAABiFQAAAAAAAmIdAAAAAAAAgh0AAAAAAALiFQAAAAAAA+IZAAAAAAADQhkAAAAAAAPCEQAAAAAAAQIVAAAAAAAAYhUAAAAAAAICGQAAAAAAAoIRAAAAAAABohUAAAAAAANiIQAAAAAAAWIZAAAAAAADIhEAAAAAAABiFQAAAAAAAcIdAAAAAAABYhkAAAAAAAPCEQAAAAAAAMIZAAAAAAAC4hUAAAAAAAGiFQAAAAAAA4IVAAAAAAABohUAAAAAAAMiEQAAAAAAAoIRAAAAAAACghEAAAAAAAMCHQAAAAAAA2IhAAAAAAAAgh0AAAAAAABiFQAAAAAAA4IVAAAAAAAAIhkAAAAAAAOCFQAAAAAAAOIhAAAAAAADIhEAAAAAAANCGQAAAAAAAGIVAAAAAAAAYhUAAAAAAAJCFQAAAAAAAqIZAAAAAAAC4hUAAAAAAAECFQAAAAAAAkIVAAAAAAADwhEAAAAAAAECFQAAAAAAA+IZAAAAAAABwh0AAAAAAAJCFQAAAAAAA0IZAAAAAAABwh0AAAAAAAFiGQAAAAAAA8IRAAAAAAABIh0AAAAAAAPiGQAAAAAAAkIVAAAAAAACIiEAAAAAAAFiGQAAAAAAAOIhAAAAAAADghUAAAAAAAECFQAAAAAAAaIVAAAAAAACohkAAAAAAAPCEQAAAAAAAyIRAAAAAAAD4hkAAAAAAAECFQAAAAAAAyIRAAAAAAABohUAAAAAAAIiIQAAAAAAAcIdAAAAAAACghEAAAAAAABiFQAAAAAAAQIVAAAAAAAAYhUAAAAAAADCGQAAAAAAAIIdAAAAAAACQhUAAAAAAAJCFQAAAAAAAoIRAAAAAAADIhEAAAAAAAPCEQAAAAAAAkIVAAAAAAADIhEAAAAAAAMiEQAAAAAAAQIVAAAAAAAAwhkAAAAAAAMiEQAAAAAAAyIRAAAAAAAD4hkAAAAAAAECFQAAAAAAAGIVAAAAAAACQhUAAAAAAADCGQAAAAAAAaIVAAAAAAABIh0AAAAAAAICGQAAAAAAA8IRAAAAAAACohkAAAAAAACCHQAAAAAAACIZAAAAAAADIhEAAAAAAAICGQAAAAAAAgIZAAAAAAABohUAAAAAAAKCEQAAAAAAAsIhAAAAAAADQhkAAAAAAAGiFQAAAAAAA8IRAAAAAAAAYhUAAAAAAAECFQAAAAAAAYIhAAAAAAABgiEAAAAAAAECFQAAAAAAASIdAAAAAAACQhUAAAAAAADiIQAAAAAAASIdAAAAAAADIhEAAAAAAAGiFQAAAAAAAkIVAAAAAAAD4hkAAAAAAALiFQAAAAAAAoIRAAAAAAABAhUAAAAAAAHCHQAAAAAAAWIZAAAAAAADIhEAAAAAAAMiEQAAAAAAAkIVAAAAAAADghUAAAAAAABiFQAAAAAAA8IRAAAAAAACghEAAAAAAAGCIQAAAAAAAGIVAAAAAAABAhUAAAAAAAPCEQAAAAAAAuIVAAAAAAAAwhkAAAAAAANCGQAAAAAAA0IZAAAAAAABohUAAAAAAAKCEQAAAAAAAWIZAAAAAAABohUAAAAAAAPiGQAAAAAAA8IRAAAAAAADwhEAAAAAAAECFQAAAAAAAyIRAAAAAAACohkAAAAAAADCGQAAAAAAAoIRAAAAAAABohUAAAAAAAECFQAAAAAAACIZAAAAAAAAYhUAAAAAAAJCFQAAAAAAAGIVAAAAAAABAhUAAAAAAAECFQAAAAAAAGIVAAAAAAADghUAAAAAAAECFQAAAAAAAMIZAAAAAAAAwhkAAAAAAABiFQAAAAAAAGIVAAAAAAADIhEAAAAAAAPCEQAAAAAAAyIRAAAAAAABohUAAAAAAALiFQAAAAAAAaIVAAAAAAABAhUAAAAAAAECFQAAAAAAAMIZAAAAAAAAIhkAAAAAAAMiEQAAAAAAA8IRAAAAAAAC4hUAAAAAAAJCFQAAAAAAAyIRAAAAAAABohUAAAAAAAKiGQAAAAAAAgIZAAAAAAACghEAAAAAAAICGQAAAAAAAMIZAAAAAAABAhUAAAAAAADCGQAAAAAAAMIZAAAAAAACAhkAAAAAAAEiHQAAAAAAAaIVAAAAAAAD4hkAAAAAAAJiHQAAAAAAA8IRAAAAAAAC4hUAAAAAAAAiGQAAAAAAAMIZAAAAAAACQhUAAAAAAAGiFQAAAAAAAQIVAAAAAAABAhUAAAAAAAECFQAAAAAAAQIVAAAAAAABAhUAAAAAAAMiEQAAAAAAAuIVAAAAAAACYh0AAAAAAAECFQAAAAAAA0IZAAAAAAAAYhUAAAAAAAAiGQAAAAAAAkIVAAAAAAABYhkAAAAAAAGiFQAAAAAAAQIVAAAAAAADIiUAAAAAAAMiEQAAAAAAA8IRAAAAAAAAwhkAAAAAAAECFQAAAAAAA4IVAAAAAAABAhUAAAAAAALCIQAAAAAAAMIZAAAAAAAAYhUAAAAAAADCGQAAAAAAAGIVAAAAAAAAwhkAAAAAAABiFQAAAAAAA0IZAAAAAAADIhEAAAAAAAJiHQAAAAAAAkIVAAAAAAACghEAAAAAAAOCFQAAAAAAA8IRAAAAAAADIhEAAAAAAAOCFQAAAAAAAkIVAAAAAAADAh0AAAAAAALiFQAAAAAAAMIZAAAAAAABAhUAAAAAAAHCHQAAAAAAACIZAAAAAAADoh0AAAAAAAKCEQAAAAAAAQIVAAAAAAADQhkAAAAAAAKiGQAAAAAAAMIZAAAAAAADwhEAAAAAAAAiGQAAAAAAAaIVAAAAAAABohUAAAAAAAKiGQAAAAAAA8IRAAAAAAAC4hUAAAAAAAEiHQAAAAAAAyIRAAAAAAABohUAAAAAAAJCFQAAAAAAAkIVAAAAAAABAhUAAAAAAAAiGQAAAAAAAuIVAAAAAAACghEAAAAAAAFiGQAAAAAAAaIVAAAAAAADIhEAAAAAAAAiGQAAAAAAAMIZAAAAAAACIiEAAAAAAALiFQAAAAAAA4IVAAAAAAADwhEAAAAAAAOiHQAAAAAAAoIRAAAAAAACQhUAAAAAAAOCFQAAAAAAA4IVAAAAAAADIhEAAAAAAALiFQAAAAAAAyIRAAAAAAADQhkAAAAAAADiIQAAAAAAACIZAAAAAAABYhkAAAAAAAPiGQAAAAAAAaIVAAAAAAADghUAAAAAAAMiEQAAAAAAACIZAAAAAAAD4hkAAAAAAAPCEQAAAAAAAyIRAAAAAAACYh0AAAAAAADCGQAAAAAAAGIVAAAAAAABohUAAAAAAAFiGQAAAAAAAgIZAAAAAAAAIhkAAAAAAAMiEQAAAAAAAkIVAAAAAAACQhUAAAAAAAPCEQAAAAAAAyIRAAAAAAACQhUAAAAAAAECFQAAAAAAA4IVAAAAAAAC4hUAAAAAAAKCEQAAAAAAAyIRAAAAAAADwhEAAAAAAAGiFQAAAAAAAQIVAAAAAAAAIhkAAAAAAALiFQAAAAAAAwIdAAAAAAAC4hUAAAAAAAKCEQAAAAAAAyIRAAAAAAAD4hkAAAAAAAOCFQAAAAAAA4IVAAAAAAAAIhkAAAAAAAMiEQAAAAAAAuIVAAAAAAAAgh0AAAAAAAAiGQAAAAAAAyIRAAAAAAACAhkAAAAAAADCGQAAAAAAAGIVAAAAAAABohUAAAAAAAECFQAAAAAAAQIVAAAAAAADghUAAAAAAAJCFQAAAAAAA8IRAAAAAAABohUAAAAAAAKCEQAAAAAAA8IRAAAAAAADoh0AAAAAAAJCFQAAAAAAA+IZAAAAAAADIhEAAAAAAAECFQAAAAAAA0IZAAAAAAABohUAAAAAAAKCEQAAAAAAAQIVAAAAAAAC4hUAAAAAAAKCEQAAAAAAAMIZAAAAAAADIhEAAAAAAAJCFQAAAAAAA8IRAAAAAAACAhkAAAAAAAMiEQAAAAAAAaIVAAAAAAAC4hUAAAAAAAMCHQAAAAAAAqIZAAAAAAADwhEAAAAAAAPCEQAAAAAAAkIVAAAAAAACghEAAAAAAAOCFQAAAAAAAkIVAAAAAAADoh0AAAAAAAGiFQAAAAAAAqIZAAAAAAABAhUAAAAAAABiFQAAAAAAAyIRAAAAAAABAhUAAAAAAAMiEQAAAAAAAoIRAAAAAAAC4hUAAAAAAADiIQAAAAAAAyIRAAAAAAAC4hUAAAAAAADCGQAAAAAAA8IRAAAAAAABohUAAAAAAALiFQAAAAAAAwIdAAAAAAAD4hkAAAAAAAECFQAAAAAAAMIZAAAAAAADAh0AAAAAAAPCEQAAAAAAA8IRAAAAAAABwh0AAAAAAAJCFQAAAAAAAGIVAAAAAAACAhkAAAAAAAECFQAAAAAAAoIRAAAAAAAAAiUAAAAAAAMiEQAAAAAAAqIZAAAAAAADIhEAAAAAAAMiEQAAAAAAA6IdAAAAAAADIhEAAAAAAAOCFQAAAAAAAGIVAAAAAAABYhkAAAAAAAMiEQAAAAAAAyIRAAAAAAABwh0AAAAAAABiFQAAAAAAAuIVAAAAAAACohkAAAAAAAECFQAAAAAAAGIVAAAAAAAAYhUAAAAAAAOCFQAAAAAAAuIVAAAAAAACwiEAAAAAAAAiGQAAAAAAAuIVAAAAAAACAhkAAAAAAAJCFQAAAAAAAaIVAAAAAAABAhUAAAAAAAKCEQAAAAAAAkIVAAAAAAAAYhUAAAAAAABiFQAAAAAAA8IRAAAAAAAAIhkAAAAAAANCGQAAAAAAAaIVAAAAAAABYhkAAAAAAAMiEQAAAAAAAGIVAAAAAAACghEAAAAAAAMiEQAAAAAAAkIVAAAAAAACwiEAAAAAAAECFQAAAAAAAaIVAAAAAAABAhUAAAAAAAPCEQAAAAAAAaIVAAAAAAACQhUAAAAAAAPCEQAAAAAAA8IRAAAAAAADAh0AAAAAAAFiGQAAAAAAA8IRAAAAAAACohkAAAAAAAOCFQAAAAAAAIIdAAAAAAABIh0AAAAAAAMiEQAAAAAAAGIVAAAAAAAAYhUAAAAAAAFiGQAAAAAAAaIVAAAAAAADwhEAAAAAAAOiHQAAAAAAAIIdAAAAAAADIhEAAAAAAAGiFQAAAAAAAqIZAAAAAAADIhEAAAAAAAICGQAAAAAAAkIVAAAAAAADIhEAAAAAAAJCFQAAAAAAACIZAAAAAAADghUAAAAAAAMiEQAAAAAAAaIVAAAAAAABAhUAAAAAAAGiFQAAAAAAAcIdAAAAAAADwhEAAAAAAAOCFQAAAAAAAqIZAAAAAAAAIhkAAAAAAAMiEQAAAAAAAuIVAAAAAAAAYhUAAAAAAAGiFQAAAAAAA8IRAAAAAAACQhUAAAAAAAJCFQAAAAAAAQIVAAAAAAAC4hUAAAAAAADCGQAAAAAAAGIVAAAAAAACQhUAAAAAAAPCEQAAAAAAA8IRAAAAAAABQiUAAAAAAAGiFQAAAAAAA8IRAAAAAAAAYhUAAAAAAAECFQAAAAAAAoIRAAAAAAACAhkAAAAAAACCHQAAAAAAA8IRAAAAAAACghEAAAAAAAFiGQAAAAAAA0IZAAAAAAAAwhkAAAAAAABiFQAAAAAAAoIRAAAAAAAD4hkAAAAAAALiFQAAAAAAAQIVAAAAAAADwhEAAAAAAADCGQAAAAAAAMIZAAAAAAAA4iEAAAAAAANCGQAAAAAAAyIRAAAAAAACghEAAAAAAAAiGQAAAAAAAkIVAAAAAAACAhkAAAAAAAFiGQAAAAAAAWIZAAAAAAABAhUAAAAAAAICGQAAAAAAAqIZAAAAAAADghUAAAAAAAICGQAAAAAAAaIVAAAAAAABYhkAAAAAAAAiGQAAAAAAAoIRAAAAAAAC4hUAAAAAAAMiEQAAAAAAAkIVAAAAAAADIhEAAAAAAALiFQAAAAAAAWIZAAAAAAACghEAAAAAAAKCEQAAAAAAAkIVAAAAAAAAwhkAAAAAAAAiGQAAAAAAAGIVAAAAAAACghEAAAAAAAKCEQAAAAAAAkIVAAAAAAACghEAAAAAAAPCEQAAAAAAAQIVAAAAAAADghUAAAAAAAGiFQAAAAAAAmIdAAAAAAADYiEAAAAAAABiFQAAAAAAAkIVAAAAAAAAgh0AAAAAAAGiFQAAAAAAAoIRAAAAAAADIhEAAAAAAAGiFQAAAAAAAoIRAAAAAAABAhUAAAAAAAGiFQAAAAAAAkIVAAAAAAABwh0AAAAAAAPCEQAAAAAAA4IVAAAAAAACQhUAAAAAAAECFQAAAAAAAoIRAAAAAAADghUAAAAAAAAiGQAAAAAAAQIVAAAAAAADIhEAAAAAAAMiEQAAAAAAA4IVAAAAAAAD4hkAAAAAAAKCEQAAAAAAA4IVAAAAAAAC4hUAAAAAAAMiEQAAAAAAASIdAAAAAAABwh0AAAAAAAMiEQAAAAAAAgIZAAAAAAADoh0AAAAAAAOCFQAAAAAAAmIdAAAAAAADwhEAAAAAAAMiEQAAAAAAAaIVAAAAAAACghEAAAAAAAECFQAAAAAAAQIVAAAAAAACAhkAAAAAAAFiGQAAAAAAAaIVAAAAAAADghUAAAAAAANCGQAAAAAAAuIVAAAAAAABAhUAAAAAAAPCEQAAAAAAAQIVAAAAAAAC4hUAAAAAAABiFQAAAAAAAyIRAAAAAAACAhkAAAAAAAFiGQAAAAAAAuIVAAAAAAAAgh0AAAAAAAFiGQAAAAAAAuIVAAAAAAACghEAAAAAAAKCEQAAAAAAAmIdAAAAAAABAhUAAAAAAAMCHQAAAAAAAmIdAAAAAAACghEAAAAAAAPiGQAAAAAAAqIZAAAAAAAAYhUAAAAAAAAiGQAAAAAAAQIVAAAAAAAC4hUAAAAAAANCGQAAAAAAAQIVAAAAAAABAhUAAAAAAAGiFQAAAAAAAkIVAAAAAAABYhkAAAAAAADCGQAAAAAAA4IVAAAAAAABAhUAAAAAAAFiGQAAAAAAAoIRAAAAAAAAIhkAAAAAAADCGQAAAAAAAiIhAAAAAAADghUAAAAAAAKCEQAAAAAAAkIVAAAAAAADQhkAAAAAAAOCFQAAAAAAA8IRAAAAAAACAhkAAAAAAAOCFQAAAAAAAoIRAAAAAAADghUAAAAAAAKCEQAAAAAAAoIRAAAAAAAAwhkAAAAAAAAiGQAAAAAAAGIVAAAAAAABYhkAAAAAAADCGQAAAAAAA+IZAAAAAAABAhUAAAAAAAECFQAAAAAAAgIZAAAAAAACQhUAAAAAAADCGQAAAAAAA4IVAAAAAAAAIhkAAAAAAAGiFQAAAAAAAkIVAAAAAAAAYhUAAAAAAAPCEQAAAAAAAIIdAAAAAAACghEAAAAAAAHiJQAAAAAAAuIVAAAAAAADIhEAAAAAAAEiHQAAAAAAAaIVAAAAAAABAhUAAAAAAAMiEQAAAAAAAyIRAAAAAAABohUAAAAAAAAiGQAAAAAAAMIZAAAAAAAD4hkAAAAAAAOCFQAAAAAAAqIZAAAAAAADQhkAAAAAAAFiGQAAAAAAAQIVAAAAAAADIhEAAAAAAAECFQAAAAAAA4IVAAAAAAAAIhkAAAAAAAGiFQAAAAAAAkIVAAAAAAACQhUAAAAAAAPCJQAAAAAAAGIVAAAAAAACQhUAAAAAAAAiGQAAAAAAAaIVAAAAAAAC4hUAAAAAAAICGQAAAAAAAuIVAAAAAAADwhEAAAAAAAGiFQAAAAAAACIZAAAAAAAAoiUAAAAAAAOCFQAAAAAAA4IVAAAAAAACQhUAAAAAAACCHQAAAAAAACIZAAAAAAADwhEAAAAAAAGiFQAAAAAAAQIVAAAAAAADIhEAAAAAAAGiFQAAAAAAAyIRAAAAAAABwh0AAAAAAABiFQAAAAAAAuIVAAAAAAAAIhkAAAAAAAKiGQAAAAAAASIdAAAAAAABAhUAAAAAAAFiGQAAAAAAAMIZAAAAAAACwiEAAAAAAAKCEQAAAAAAA0IZAAAAAAABIh0AAAAAAAECFQAAAAAAAWIZAAAAAAABohUAAAAAAAPCEQAAAAAAAaIVAAAAAAACghEAAAAAAAKCEQAAAAAAAyIRAAAAAAAA4iEAAAAAAAOCFQAAAAAAAuIVAAAAAAACghEAAAAAAALiFQAAAAAAAwIdAAAAAAABohUAAAAAAAMiEQAAAAAAAuIVAAAAAAADghUAAAAAAAPCEQAAAAAAAoIRAAAAAAAC4hUAAAAAAABCIQAAAAAAAoIRAAAAAAAAYhUAAAAAAAMiEQAAAAAAAQIVAAAAAAAAIhkAAAAAAABiFQAAAAAAAgIZAAAAAAADIhEAAAAAAACCHQAAAAAAACIZAAAAAAACQhUAAAAAAAHCHQAAAAAAA0IZAAAAAAADwhEAAAAAAADiIQAAAAAAAQIVAAAAAAABYhkAAAAAAAEiHQAAAAAAAgIZAAAAAAACQhUAAAAAAAECFQAAAAAAA4IVAAAAAAABAhUAAAAAAAFCJQAAAAAAA4IVAAAAAAAC4hUAAAAAAAMiEQAAAAAAAqIZAAAAAAAAYhUAAAAAAAEiHQAAAAAAAaIVAAAAAAADQhkAAAAAAAPiGQAAAAAAA8IRAAAAAAABYhkAAAAAAAGCIQAAAAAAAQIVAAAAAAABohUAAAAAAADCGQAAAAAAAoIRAAAAAAAAIhkAAAAAAAAiGQAAAAAAAIIdAAAAAAADghUAAAAAAAAiGQAAAAAAAuIVAAAAAAABAhUAAAAAAAJCFQAAAAAAA0IZAAAAAAACAhkAAAAAAAECFQAAAAAAA8IRAAAAAAABYhkAAAAAAAJiHQAAAAAAAoIRAAAAAAADghUAAAAAAAMiEQAAAAAAAmIdAAAAAAABohUAAAAAAAFiGQAAAAAAA4IVAAAAAAADIhEAAAAAAAECFQAAAAAAAQIVAAAAAAADghUAAAAAAAPCEQAAAAAAASIdAAAAAAAD4hkAAAAAAAHCHQAAAAAAA8IRAAAAAAAAYhUAAAAAAAMiEQAAAAAAAkIVAAAAAAABYhkAAAAAAABiFQAAAAAAA4IVAAAAAAACQhUAAAAAAAMiEQAAAAAAAWIZAAAAAAADQhkAAAAAAAECFQAAAAAAAGIVAAAAAAADwhEAAAAAAAKCEQAAAAAAAGIVAAAAAAADIhEAAAAAAAKCEQAAAAAAAYIhAAAAAAACghEAAAAAAAMiEQAAAAAAAGIVAAAAAAAAYhUAAAAAAAGiFQAAAAAAAMIZAAAAAAAAgh0AAAAAAAOCFQAAAAAAA+IZAAAAAAACghEAAAAAAAICGQAAAAAAAaIVAAAAAAACIiEAAAAAAAPiGQAAAAAAAuIVAAAAAAABIh0AAAAAAAECFQAAAAAAA4IVAAAAAAADwhEAAAAAAAAiGQAAAAAAAuIVAAAAAAACohkAAAAAAAECFQAAAAAAAuIVAAAAAAADghUAAAAAAAGiFQAAAAAAACIZAAAAAAADwhEAAAAAAAAiGQAAAAAAAgIZAAAAAAACQhUAAAAAAAMiEQAAAAAAA4IVAAAAAAAC4hUAAAAAAAPCEQAAAAAAAMIZAAAAAAADQhkAAAAAAAOiHQAAAAAAAuIVAAAAAAAAYhUAAAAAAAFiGQAAAAAAAyIRAAAAAAABohUAAAAAAAKCEQAAAAAAAQIVAAAAAAABYhkAAAAAAAICGQAAAAAAA0IZAAAAAAAAYhUAAAAAAAFiGQAAAAAAAoIRAAAAAAADghUAAAAAAAMiEQAAAAAAAaIVAAAAAAACQhUAAAAAAAECFQAAAAAAAkIVAAAAAAADIhEAAAAAAALiFQAAAAAAAkIVAAAAAAAAYhUAAAAAAAAiGQAAAAAAACIZAAAAAAABwh0AAAAAAANCGQAAAAAAAwIdAAAAAAABAhUAAAAAAAOCFQAAAAAAAQIVAAAAAAAAYhUAAAAAAAECFQAAAAAAAkIVAAAAAAAAIhkAAAAAAAOCFQAAAAAAAyIRAAAAAAABAhUAAAAAAAMiEQAAAAAAA8IRAAAAAAAC4hUAAAAAAAGiFQAAAAAAAkIVAAAAAAABYhkAAAAAAAICGQAAAAAAAQIVAAAAAAAAYhUAAAAAAAECFQAAAAAAAaIVAAAAAAACAhkAAAAAAAPCEQAAAAAAACIZAAAAAAACAhkAAAAAAABiFQAAAAAAAkIVAAAAAAAC4hUAAAAAAAFiGQAAAAAAAgIZAAAAAAADIhEAAAAAAABiKQAAAAAAAoIRAAAAAAADwhEAAAAAAAMiEQAAAAAAAkIVAAAAAAACghEAAAAAAAMiEQAAAAAAAmIdAAAAAAAAwhkAAAAAAAGiFQAAAAAAAyIRAAAAAAABIh0AAAAAAAMiEQAAAAAAA8IRAAAAAAACghEAAAAAAAIiIQAAAAAAAGIVAAAAAAACAhkAAAAAAAAiGQAAAAAAA8IRAAAAAAAAYhUAAAAAAAJCFQAAAAAAACIZAAAAAAAAYhUAAAAAAAICGQAAAAAAAQIVAAAAAAADghUAAAAAAAOCFQAAAAAAAuIVAAAAAAADQhkAAAAAAAFiGQAAAAAAAaIVAAAAAAABohUAAAAAAAPCEQAAAAAAAyIRAAAAAAADghUAAAAAAAICGQAAAAAAAIIdAAAAAAADwhEAAAAAAAFiGQAAAAAAAWIZAAAAAAAC4hUAAAAAAAMiEQAAAAAAAcIdAAAAAAADIhEAAAAAAAECFQAAAAAAACIZAAAAAAACghEAAAAAAAPiGQAAAAAAAAIlAAAAAAACghEAAAAAAAEiHQAAAAAAAoIRAAAAAAAD4hkAAAAAAAGiFQAAAAAAA0IZAAAAAAACQhUAAAAAAADCGQAAAAAAAoIlAAAAAAADghUAAAAAAALiFQAAAAAAAGIVAAAAAAAAYhUAAAAAAAJCFQAAAAAAAGIVAAAAAAABYhkAAAAAAAJCFQAAAAAAAQIVAAAAAAACIiEAAAAAAAMiEQAAAAAAAqIZAAAAAAAAYhUAAAAAAAECFQAAAAAAAgIZAAAAAAAAYhUAAAAAAAJCFQAAAAAAAoIRAAAAAAADAh0AAAAAAABCIQAAAAAAAuIVAAAAAAAAYhUAAAAAAACCHQAAAAAAAMIZAAAAAAADIhEAAAAAAAGiFQAAAAAAAkIVAAAAAAACIiEAAAAAAAAiGQAAAAAAACIZAAAAAAACwiEAAAAAAAECFQAAAAAAAyIRAAAAAAADIhEAAAAAAAJiHQAAAAAAAaIVAAAAAAADwhEAAAAAAAAiGQAAAAAAA8IRAAAAAAABwh0AAAAAAALiFQAAAAAAACIZAAAAAAABAhUAAAAAAALiFQAAAAAAAGIVAAAAAAADIhEAAAAAAAJCFQAAAAAAA6IdAAAAAAABYhkAAAAAAABiFQAAAAAAAuIVAAAAAAACAhkAAAAAAAMiEQAAAAAAAyIRAAAAAAADwhEAAAAAAAMiEQAAAAAAAkIVAAAAAAAC4hUAAAAAAAKCEQAAAAAAAkIVAAAAAAABYhkAAAAAAADCGQAAAAAAA8IRAAAAAAABohUAAAAAAAAiGQAAAAAAAgIZAAAAAAABAhUAAAAAAAECFQAAAAAAAiIhAAAAAAACghEAAAAAAAMiEQAAAAAAASIdAAAAAAAC4hUAAAAAAAGiFQAAAAAAAQIVAAAAAAAAwhkAAAAAAAGiFQAAAAAAAQIVAAAAAAACohkAAAAAAALiFQAAAAAAACIZAAAAAAAD4hkAAAAAAAOCFQAAAAAAAQIVAAAAAAAC4hUAAAAAAAOCFQAAAAAAAGIVAAAAAAAAgh0AAAAAAAJiHQAAAAAAAaIVAAAAAAAC4hUAAAAAAAOCFQAAAAAAAGIVAAAAAAACghEAAAAAAAECFQAAAAAAAQIVAAAAAAABohUAAAAAAAECFQAAAAAAAMIZAAAAAAABAhUAAAAAAAJCFQAAAAAAAQIVAAAAAAABohUAAAAAAAKCEQAAAAAAAQIVAAAAAAABohUAAAAAAAGiFQAAAAAAAIIdAAAAAAACohkAAAAAAAJCFQAAAAAAAoIRAAAAAAACohkAAAAAAAPCEQAAAAAAAMIZAAAAAAACohkAAAAAAAGiFQAAAAAAA8IRAAAAAAADghUAAAAAAAECFQAAAAAAAoIRAAAAAAACohkAAAAAAAECFQAAAAAAAaIVAAAAAAABohUAAAAAAAICGQAAAAAAA4IVAAAAAAADoh0AAAAAAABiFQAAAAAAAQIVAAAAAAAAIhkAAAAAAAJCFQAAAAAAAaIVAAAAAAAAwhkAAAAAAALiFQAAAAAAAqIZAAAAAAACQhUAAAAAAAOCFQAAAAAAA4IVAAAAAAABAhUAAAAAAAAiGQAAAAAAAaIVAAAAAAADwhEAAAAAAAAiGQAAAAAAAyIRAAAAAAAD4hkAAAAAAALiFQAAAAAAAaIVAAAAAAAAIhkAAAAAAAFiGQAAAAAAAGIVAAAAAAADwhEAAAAAAADCGQAAAAAAAMIZAAAAAAAD4hkAAAAAAAMCHQAAAAAAAEIhAAAAAAAAYhUAAAAAAABiFQAAAAAAAWIZAAAAAAABohUAAAAAAAJCFQAAAAAAA+IZAAAAAAABIh0AAAAAAAGiFQAAAAAAAmIdAAAAAAAAAiUAAAAAAAGiFQAAAAAAAgIZAAAAAAAC4hUAAAAAAALiFQAAAAAAAGIVAAAAAAAAYhUAAAAAAAAiGQAAAAAAAQIVAAAAAAAAIhkAAAAAAAKCEQAAAAAAAMIZAAAAAAAAgh0AAAAAAALiFQAAAAAAA8IRAAAAAAAAIhkAAAAAAAOiHQAAAAAAAuIVAAAAAAADQhkAAAAAAAAiGQAAAAAAAqIZAAAAAAAAYhUAAAAAAAJCFQAAAAAAAQIVAAAAAAAC4hUAAAAAAAJCFQAAAAAAAqIZAAAAAAAC4hUAAAAAAABiFQAAAAAAAGIVAAAAAAABAhUAAAAAAAGiFQAAAAAAAaIVAAAAAAAAgh0AAAAAAANCGQAAAAAAACIZAAAAAAABohUAAAAAAAPCEQAAAAAAAGIVAAAAAAADghUAAAAAAAMiEQAAAAAAA4IVAAAAAAADwhEAAAAAAAPCEQAAAAAAAYIhAAAAAAABohUAAAAAAAAiGQAAAAAAAyIRAAAAAAAAYhUAAAAAAAJCFQAAAAAAA0IZAAAAAAABohUAAAAAAACCHQAAAAAAAQIVAAAAAAABAhUAAAAAAAPCEQAAAAAAAoIRAAAAAAACghEAAAAAAALCIQAAAAAAAuIVAAAAAAAC4hUAAAAAAABiFQAAAAAAAWIZAAAAAAAAIhkAAAAAAAKCEQAAAAAAAMIZAAAAAAABYhkAAAAAAAOCFQAAAAAAAyIRAAAAAAABAhUAAAAAAANCGQAAAAAAACIZAAAAAAABAhUAAAAAAALiFQAAAAAAAGIVAAAAAAAAYhUAAAAAAAMiEQAAAAAAAgIZAAAAAAAAwhkAAAAAAAKCEQAAAAAAAQIVAAAAAAAAYhUAAAAAAADiIQAAAAAAAuIVAAAAAAABAhUAAAAAAAAiGQAAAAAAAkIVAAAAAAABAhUAAAAAAAFiGQAAAAAAAIIdAAAAAAACghEAAAAAAANCGQAAAAAAA4IVAAAAAAACQhUAAAAAAAMiEQAAAAAAA8IRAAAAAAADghUAAAAAAAMiEQAAAAAAAoIRAAAAAAABohUAAAAAAALiFQAAAAAAACIZAAAAAAADghUAAAAAAAICGQAAAAAAA8IRAAAAAAACghEAAAAAAAOCFQAAAAAAAaIVAAAAAAADghUAAAAAAAKCEQAAAAAAAkIVAAAAAAAAIhkAAAAAAAMiEQAAAAAAAGIVAAAAAAACQhUAAAAAAALiFQAAAAAAAkIVAAAAAAACohkAAAAAAAGiFQAAAAAAAGIVAAAAAAABohUAAAAAAAJCFQAAAAAAAuIVAAAAAAADwhEAAAAAAAPCEQAAAAAAACIZAAAAAAAC4hUAAAAAAAPCEQAAAAAAACIZAAAAAAABohUAAAAAAAAiGQAAAAAAAQIVAAAAAAABYhkAAAAAAABCIQAAAAAAAoIRAAAAAAAAwhkAAAAAAAFiGQAAAAAAAoIRAAAAAAACQhUAAAAAAAOCFQAAAAAAAkIVAAAAAAACohkAAAAAAAKiGQAAAAAAAGIVAAAAAAABYhkAAAAAAAGiFQAAAAAAASIdAAAAAAACQhUAAAAAAAMCHQAAAAAAAkIVAAAAAAADQhkAAAAAAAFiGQAAAAAAA+IZAAAAAAACghEAAAAAAAPCEQAAAAAAAoIRAAAAAAABohUAAAAAAAPCEQAAAAAAAMIZAAAAAAADghUAAAAAAAJCFQAAAAAAAIIdAAAAAAABohUAAAAAAAPCEQAAAAAAAsIhAAAAAAAC4hUAAAAAAADCGQAAAAAAAaIVAAAAAAAAwhkAAAAAAAMiEQAAAAAAAwIdAAAAAAACAhkAAAAAAAKCEQAAAAAAAyIRAAAAAAABohUAAAAAAAMiEQAAAAAAAkIVAAAAAAAAwhkAAAAAAAECFQAAAAAAA+IZAAAAAAAAAiUAAAAAAAJCFQAAAAAAAyIRAAAAAAACghEAAAAAAAKCEQAAAAAAA8IRAAAAAAADoh0AAAAAAADCGQAAAAAAAyIRAAAAAAACAhkAAAAAAAKCEQAAAAAAAyIRAAAAAAAAIhkAAAAAAAJCFQAAAAAAA8IRAAAAAAABYhkAAAAAAAMiEQAAAAAAAoIRAAAAAAACQhUAAAAAAAGiFQAAAAAAAoIRAAAAAAADwhEAAAAAAAPCEQAAAAAAAaIVAAAAAAABohUAAAAAAAECFQAAAAAAAuIVAAAAAAACghEAAAAAAAHCHQAAAAAAAyIRAAAAAAADghUAAAAAAAKiGQAAAAAAAGIVAAAAAAACQhUAAAAAAAICGQAAAAAAA8IRAAAAAAAAIhkAAAAAAAICGQAAAAAAAuIVAAAAAAAAgh0AAAAAAAMiEQAAAAAAAyIRAAAAAAABohUAAAAAAALiFQAAAAAAAOIhAAAAAAACAhkAAAAAAAICGQAAAAAAAkIVAAAAAAAAwhkAAAAAAADiIQAAAAAAAuIVAAAAAAADQhkAAAAAAACCHQAAAAAAA8IRAAAAAAADQhkAAAAAAAFiGQAAAAAAAOIhAAAAAAABAhUAAAAAAACCHQAAAAAAAQIVAAAAAAACghEAAAAAAAKCEQAAAAAAAaIVAAAAAAACQhUAAAAAAAECFQAAAAAAAoIRAAAAAAAC4hUAAAAAAALiFQAAAAAAAGIVAAAAAAADoh0AAAAAAAMiEQAAAAAAAMIZAAAAAAAAgh0AAAAAAADCGQAAAAAAAgIZAAAAAAAD4hkAAAAAAAMiEQAAAAAAAuIVAAAAAAABohUAAAAAAAFiGQAAAAAAAaIVAAAAAAABohUAAAAAAAKCEQAAAAAAA8IRAAAAAAADwhEAAAAAAAOCFQAAAAAAA0IZAAAAAAADghUAAAAAAABiFQAAAAAAA8IRAAAAAAADwhEAAAAAAADCGQAAAAAAAGIVAAAAAAACYh0AAAAAAAECFQAAAAAAAGIVAAAAAAABohUAAAAAAAECFQAAAAAAAMIZAAAAAAAAYhUAAAAAAAKCEQAAAAAAAaIVAAAAAAACghEAAAAAAAOCFQAAAAAAAyIRAAAAAAAAYhUAAAAAAAJCFQAAAAAAAoIRAAAAAAAAIhkAAAAAAADCGQAAAAAAAGIVAAAAAAABYhkAAAAAAAKCEQAAAAAAAgIZAAAAAAACwiEAAAAAAAICGQAAAAAAA8IRAAAAAAAAYhUAAAAAAAECFQAAAAAAAGIVAAAAAAABYhkAAAAAAAMiEQAAAAAAA4IVAAAAAAABohUAAAAAAAICGQAAAAAAA8IRAAAAAAAAYikAAAAAAAPCEQAAAAAAAyIRAAAAAAADwhEAAAAAAAOCFQAAAAAAAMIZAAAAAAADwhEAAAAAAABiFQAAAAAAAyIRAAAAAAACghEAAAAAAACCHQAAAAAAAQIVAAAAAAABohUAAAAAAAHCHQAAAAAAAGIVAAAAAAACghEAAAAAAAFiGQAAAAAAAkIVAAAAAAACghEAAAAAAAHCHQAAAAAAA4IVAAAAAAADwhEAAAAAAADiIQAAAAAAAkIVAAAAAAABohUAAAAAAAECFQAAAAAAAaIVAAAAAAACQhUAAAAAAABiFQAAAAAAAgIZAAAAAAABohUAAAAAAAJCFQAAAAAAASIdAAAAAAADIhEAAAAAAAPCEQAAAAAAAaIVAAAAAAACghEAAAAAAAECFQAAAAAAAiIhAAAAAAABAhUAAAAAAAMiEQAAAAAAAIIdAAAAAAAC4hUAAAAAAALiFQAAAAAAAaIVAAAAAAAC4hUAAAAAAAGiFQAAAAAAAoIRAAAAAAABYhkAAAAAAABiFQAAAAAAAWIZAAAAAAACQhUAAAAAAAGiFQAAAAAAAGIVAAAAAAADIhEAAAAAAAGiFQAAAAAAAGIVAAAAAAADwhEAAAAAAAFiGQAAAAAAAGIVAAAAAAADwhEAAAAAAAAiGQAAAAAAAgIZAAAAAAADIhEAAAAAAABiFQAAAAAAAQIVAAAAAAACAhkAAAAAAAJCFQAAAAAAACIZAAAAAAADghUAAAAAAABiFQAAAAAAAyIRAAAAAAAAYhUAAAAAAAICGQAAAAAAAkIVAAAAAAACghEAAAAAAABiFQAAAAAAAQIVAAAAAAAAYhUAAAAAAABiFQAAAAAAA6IdAAAAAAACohkAAAAAAAJCFQAAAAAAAqIZAAAAAAAAIhkAAAAAAABiFQAAAAAAAyIRAAAAAAABYhkAAAAAAAMiEQAAAAAAAMIZAAAAAAACAhkAAAAAAAGiFQAAAAAAAaIVAAAAAAABohUAAAAAAACCHQAAAAAAA8IRAAAAAAABohUAAAAAAADCGQAAAAAAA8IRAAAAAAACghEAAAAAAAECFQAAAAAAAyIRAAAAAAADQhkAAAAAAAJCFQAAAAAAA0IZAAAAAAAAwhkAAAAAAAPCEQAAAAAAAQIVAAAAAAAAYhUAAAAAAAOCFQAAAAAAAQIVAAAAAAACQhUAAAAAAAAiGQAAAAAAAEIhAAAAAAABAhUAAAAAAAPCEQAAAAAAAqIZAAAAAAACQhUAAAAAAAGiFQAAAAAAAaIVAAAAAAADIhEAAAAAAADCGQAAAAAAASIdAAAAAAADIhEAAAAAAAMiEQAAAAAAAQIVAAAAAAAAIhkAAAAAAAGiFQAAAAAAAkIVAAAAAAABAhUAAAAAAABiFQAAAAAAAoIlAAAAAAAAYhUAAAAAAAGiFQAAAAAAA4IVAAAAAAAAIhkAAAAAAAMiEQAAAAAAAGIVAAAAAAADIhEAAAAAAAJiHQAAAAAAAoIRAAAAAAACYh0AAAAAAAHCHQAAAAAAAGIVAAAAAAAAIhkAAAAAAAPCEQAAAAAAAuIVAAAAAAADwhEAAAAAAAEiHQAAAAAAAMIZAAAAAAACQhUAAAAAAAMiEQAAAAAAAWIZAAAAAAADIhEAAAAAAABiFQAAAAAAAoIRAAAAAAACAhkAAAAAAABiFQAAAAAAAgIZAAAAAAAAYhUAAAAAAADCGQAAAAAAA4IVAAAAAAAAwhkAAAAAAAMiEQAAAAAAAkIVAAAAAAAAYhUAAAAAAAICGQAAAAAAAaIVAAAAAAADghUAAAAAAADiIQAAAAAAAyIRAAAAAAABAhUAAAAAAAGiFQAAAAAAAMIZAAAAAAAAIhkAAAAAAANCGQAAAAAAAGIVAAAAAAABYhkAAAAAAAICGQAAAAAAAkIVAAAAAAADwhEAAAAAAAAiGQAAAAAAAkIVAAAAAAAD4hkAAAAAAAFiGQAAAAAAAQIVAAAAAAABYhkAAAAAAAPCEQAAAAAAACIZAAAAAAACohkAAAAAAAGiFQAAAAAAA8IRAAAAAAADIhEAAAAAAAECFQAAAAAAAQIVAAAAAAABohUAAAAAAAAiGQAAAAAAAMIZAAAAAAAAYhUAAAAAAAPCEQAAAAAAAuIVAAAAAAACghEAAAAAAAMiEQAAAAAAAyIRAAAAAAADghUAAAAAAABiFQAAAAAAACIZAAAAAAACQhUAAAAAAADCGQAAAAAAAuIVAAAAAAAAwhkAAAAAAAFiGQAAAAAAAQIVAAAAAAAAwhkAAAAAAANCGQAAAAAAAgIZAAAAAAADwhEAAAAAAABCIQAAAAAAAoIRAAAAAAACghEAAAAAAAPCEQAAAAAAAgIZAAAAAAADghUAAAAAAACiJQAAAAAAA8IRAAAAAAACAhkAAAAAAAECFQAAAAAAAaIVAAAAAAAAgh0AAAAAAAKCEQAAAAAAAgIZAAAAAAABohUAAAAAAAMiEQAAAAAAAeIlAAAAAAABAhUAAAAAAAECFQAAAAAAAQIVAAAAAAAD4hkAAAAAAAFiGQAAAAAAAmIdAAAAAAADwhEAAAAAAAGiFQAAAAAAAyIRAAAAAAADghUAAAAAAAKiGQAAAAAAAiIhAAAAAAABIh0AAAAAAAPiGQAAAAAAA6IdAAAAAAABAhUAAAAAAAEiHQAAAAAAACIZAAAAAAADghUAAAAAAAICGQAAAAAAA8IRAAAAAAADIhEAAAAAAAOiHQAAAAAAAgIZAAAAAAAC4hUAAAAAAAGiFQAAAAAAAqIZAAAAAAADIhEAAAAAAADCGQAAAAAAA8IRAAAAAAABYhkAAAAAAANiIQAAAAAAA2IhAAAAAAAC4hUAAAAAAAECFQAAAAAAA6IdAAAAAAACAhkAAAAAAAICGQAAAAAAA0IZAAAAAAADwhEAAAAAAADCGQAAAAAAA0IZAAAAAAAAYhUAAAAAAAFiGQAAAAAAAyIRAAAAAAACIiEAAAAAAAJCFQAAAAAAAcIdAAAAAAAAgh0AAAAAAAPCEQAAAAAAAQIVAAAAAAACghEAAAAAAALiFQAAAAAAAQIVAAAAAAAAgh0AAAAAAAECFQAAAAAAAcIdAAAAAAACQhUAAAAAAAGiFQAAAAAAAyIRAAAAAAAAwhkAAAAAAAPCEQAAAAAAACIZAAAAAAADwhEAAAAAAAECFQAAAAAAAMIZAAAAAAAAIhkAAAAAAAHCHQAAAAAAACIZAAAAAAAAYhUAAAAAAAKCEQAAAAAAAUIlAAAAAAADIhEAAAAAAAFiGQAAAAAAAcIdAAAAAAAAIhkAAAAAAACCHQAAAAAAAgIZAAAAAAABohUAAAAAAALiFQAAAAAAAGIVAAAAAAAAYhUAAAAAAAICGQAAAAAAAGIVAAAAAAAAwhkAAAAAAANCGQAAAAAAAaIVAAAAAAABAhUAAAAAAAMiEQAAAAAAA0IZAAAAAAACQhUAAAAAAAJCFQAAAAAAAQIVAAAAAAACghEAAAAAAAGiFQAAAAAAAoIRAAAAAAACAhkAAAAAAAPCEQAAAAAAAQIVAAAAAAACYh0AAAAAAALiFQAAAAAAAuIVAAAAAAAAwhkAAAAAAAECFQAAAAAAA4IVAAAAAAABYhkAAAAAAAPCEQAAAAAAAqIZAAAAAAABYhkAAAAAAAOiHQAAAAAAAyIRAAAAAAABAhUAAAAAAAOCFQAAAAAAAyIlAAAAAAAC4hUAAAAAAAAiGQAAAAAAAaIVAAAAAAACghEAAAAAAAPiGQAAAAAAAyIRAAAAAAADwhEAAAAAAAMiEQAAAAAAAWIZAAAAAAABIh0AAAAAAADiIQAAAAAAAuIVAAAAAAACAhkAAAAAAAOCFQAAAAAAAMIZAAAAAAADwhEAAAAAAAPiGQAAAAAAAQIVAAAAAAABYhkAAAAAAAOCFQAAAAAAAkIVAAAAAAAAIhkAAAAAAAGiFQAAAAAAAyIRAAAAAAAAgh0AAAAAAABiFQAAAAAAAoIRAAAAAAADIhEAAAAAAADiIQAAAAAAA0IZAAAAAAACQhUAAAAAAANCGQAAAAAAAIIdAAAAAAACghEAAAAAAAKCEQAAAAAAAyIRAAAAAAADAh0AAAAAAAMiEQAAAAAAA8IRAAAAAAACAhkAAAAAAAGiFQAAAAAAA8IRAAAAAAABohUAAAAAAADCGQAAAAAAA8IRAAAAAAADIhEAAAAAAAEiHQAAAAAAAQIVAAAAAAADwhEAAAAAAADCGQAAAAAAA8IRAAAAAAAC4hUAAAAAAAMiEQAAAAAAAyIRAAAAAAACAhkAAAAAAAECFQAAAAAAA8IRAAAAAAACghEAAAAAAAFiGQAAAAAAAGIVAAAAAAACghEAAAAAAAPCEQAAAAAAAuIVAAAAAAADQhkAAAAAAAECFQAAAAAAAyIRAAAAAAADIhEAAAAAAAJCFQAAAAAAA2IhAAAAAAADghUAAAAAAAAiGQAAAAAAAQIVAAAAAAADIhEAAAAAAAAiGQAAAAAAASIdAAAAAAACQhUAAAAAAAKCEQAAAAAAAWIZAAAAAAACQhUAAAAAAAGiFQAAAAAAAgIZAAAAAAACAhkAAAAAAAMiEQAAAAAAAQIVAAAAAAADAh0AAAAAAADiIQAAAAAAA6IdAAAAAAAB4iUAAAAAAAOCFQAAAAAAAUIlAAAAAAABohUAAAAAAAECFQAAAAAAA8IRAAAAAAACohkAAAAAAAOCFQAAAAAAAWIZAAAAAAABohUAAAAAAAPCEQAAAAAAACIZAAAAAAAAwhkAAAAAAAMiEQAAAAAAA4IVAAAAAAABYhkAAAAAAAICGQAAAAAAA+IZAAAAAAACghEAAAAAAAECFQAAAAAAAEIhAAAAAAACQhUAAAAAAAIiIQAAAAAAAuIVAAAAAAADQhkAAAAAAABiFQAAAAAAAQIVAAAAAAADghUAAAAAAAECFQAAAAAAAyIRAAAAAAABAhUAAAAAAALiFQAAAAAAAWIZAAAAAAAAwhkAAAAAAAAiGQAAAAAAAoIRAAAAAAABohUAAAAAAAECFQAAAAAAAwIdAAAAAAABAhUAAAAAAADCGQAAAAAAAyIRAAAAAAACQhUAAAAAAADCGQAAAAAAA0IZAAAAAAAAwhkAAAAAAAKCEQAAAAAAAyIRAAAAAAAD4hkAAAAAAALiFQAAAAAAAyIRAAAAAAABYhkAAAAAAAMiEQAAAAAAAwIdAAAAAAABQiUAAAAAAADCGQAAAAAAA4IVAAAAAAACQhUAAAAAAABiFQAAAAAAAqIZAAAAAAAAYhUAAAAAAAFiGQAAAAAAAuIVAAAAAAAAQiEAAAAAAAOCFQAAAAAAAIIdAAAAAAABAhUAAAAAAABiFQAAAAAAACIZAAAAAAAD4hkAAAAAAABiFQAAAAAAAGIVAAAAAAAAYhUAAAAAAAGiFQAAAAAAAIIdAAAAAAAD4hkAAAAAAAJCFQAAAAAAAoIRAAAAAAAAwhkAAAAAAADiIQAAAAAAAQIVAAAAAAABAhUAAAAAAAJCFQAAAAAAACIZAAAAAAACghEAAAAAAAKCJQAAAAAAAQIVAAAAAAACAhkAAAAAAALiFQAAAAAAAGIVAAAAAAADoh0AAAAAAAPCEQAAAAAAAuIVAAAAAAABohUAAAAAAALiFQAAAAAAAoIRAAAAAAABIh0AAAAAAAKCEQAAAAAAAyIRAAAAAAACQhUAAAAAAAICGQAAAAAAA4IVAAAAAAAAYhUAAAAAAAKCEQAAAAAAAuIVAAAAAAABohUAAAAAAAJCFQAAAAAAAMIZAAAAAAADghUAAAAAAAAiGQAAAAAAAQIVAAAAAAACghEAAAAAAAKiGQAAAAAAAqIZAAAAAAACghEAAAAAAAECFQAAAAAAAaIVAAAAAAAAIhkAAAAAAAPCEQAAAAAAAQIVAAAAAAABYhkAAAAAAAKiGQAAAAAAAaIVAAAAAAACwiEAAAAAAAPiGQAAAAAAAGIVAAAAAAADQhkAAAAAAALiFQAAAAAAAuIVAAAAAAADghUAAAAAAAKCEQAAAAAAAwIdAAAAAAACQhUAAAAAAANCGQAAAAAAAgIZAAAAAAABYhkAAAAAAAJCFQAAAAAAAkIVAAAAAAAC4hUAAAAAAAECFQAAAAAAAgIZAAAAAAAAIhkAAAAAAAMiEQAAAAAAAuIVAAAAAAAAIhkAAAAAAAJCFQAAAAAAAMIZAAAAAAACQhUAAAAAAADCGQAAAAAAAoIRAAAAAAACohkAAAAAAAMCHQAAAAAAAkIVAAAAAAADIhEAAAAAAALiFQAAAAAAA0IZAAAAAAACQhUAAAAAAAPCEQAAAAAAAoIRAAAAAAABYhkAAAAAAAMiEQAAAAAAAoIRAAAAAAADwhEAAAAAAAGiFQAAAAAAAMIZAAAAAAACohkAAAAAAAJCFQAAAAAAACIZAAAAAAABYhkAAAAAAALiFQAAAAAAA8IRAAAAAAAAwhkAAAAAAAJCFQAAAAAAAaIVAAAAAAADwhEAAAAAAABiFQAAAAAAACIZAAAAAAABohUAAAAAAACCHQAAAAAAAgIZAAAAAAACQhUAAAAAAAMCHQAAAAAAAaIVAAAAAAADghUAAAAAAAHiJQAAAAAAAGIVAAAAAAACQhUAAAAAAAKCEQAAAAAAAQIVAAAAAAADghUAAAAAAAFiGQAAAAAAAGIVAAAAAAACghEAAAAAAAICGQAAAAAAAyIRAAAAAAABohUAAAAAAAJCFQAAAAAAA4IVAAAAAAABYhkAAAAAAAGiFQAAAAAAA+IZAAAAAAADwhEAAAAAAAPCEQAAAAAAAkIVAAAAAAACYh0AAAAAAAGiFQAAAAAAAOIhAAAAAAAAYhUAAAAAAAEiHQAAAAAAAgIZAAAAAAAAwhkAAAAAAAJCFQAAAAAAAuIVAAAAAAAAYhUAAAAAAAECFQAAAAAAAIIdAAAAAAACghEAAAAAAAMiEQAAAAAAACIZAAAAAAAAYhUAAAAAAAECFQAAAAAAA4IVAAAAAAABAhUAAAAAAAKiGQAAAAAAAQIVAAAAAAACAhkAAAAAAAPiGQAAAAAAAGIVAAAAAAACghEAAAAAAALiFQAAAAAAAGIVAAAAAAABAhUAAAAAAAFiGQAAAAAAA4IVAAAAAAAAYhUAAAAAAAICGQAAAAAAACIZAAAAAAACQhUAAAAAAAKiGQAAAAAAAkIVAAAAAAABAhUAAAAAAAECFQAAAAAAAaIVAAAAAAADwhEAAAAAAAHCHQAAAAAAA4IVAAAAAAAC4hUAAAAAAAGiFQAAAAAAA8IRAAAAAAAAIhkAAAAAAAOCFQAAAAAAA4IVAAAAAAAC4hUAAAAAAAJCFQAAAAAAAyIRAAAAAAACohkAAAAAAALiFQAAAAAAA8IRAAAAAAACohkAAAAAAAPCEQAAAAAAAkIVAAAAAAADghUAAAAAAAPCEQAAAAAAAWIZAAAAAAAAYhUAAAAAAAGiFQAAAAAAAWIZAAAAAAAAQiEAAAAAAAGiFQAAAAAAAuIVAAAAAAABAhUAAAAAAALiFQAAAAAAAkIVAAAAAAABAhUAAAAAAAKCEQAAAAAAASIdAAAAAAACohkAAAAAAAKCEQAAAAAAAiIhAAAAAAACghEAAAAAAACiJQAAAAAAA8IRAAAAAAACAhkAAAAAAAKiGQAAAAAAAoIRAAAAAAAAwhkAAAAAAALiFQAAAAAAA6IdAAAAAAABYhkAAAAAAALiFQAAAAAAAyIRAAAAAAACQhUAAAAAAAICGQAAAAAAAGIVAAAAAAADAh0AAAAAAAJCFQAAAAAAA0IZAAAAAAABYhkAAAAAAAKCEQAAAAAAAyIRAAAAAAAAwhkAAAAAAAPCEQAAAAAAA+IZAAAAAAAAwhkAAAAAAAECFQAAAAAAAyIRAAAAAAAC4hUAAAAAAAPCEQAAAAAAAgIZAAAAAAABYhkAAAAAAAEiHQAAAAAAAQIVAAAAAAADwhEAAAAAAAKiGQAAAAAAAuIVAAAAAAABYhkAAAAAAAICGQAAAAAAAqIZAAAAAAAC4hUAAAAAAAOiHQAAAAAAAgIZAAAAAAABYhkAAAAAAAOCFQAAAAAAA4IVAAAAAAABAhUAAAAAAAKCEQAAAAAAAyIRAAAAAAAC4hUAAAAAAAMiEQAAAAAAAuIVAAAAAAABAhUAAAAAAAEiHQAAAAAAAEIhAAAAAAAAQiEAAAAAAAAiGQAAAAAAAIIdAAAAAAADwhEAAAAAAAMiEQAAAAAAAgIZAAAAAAACghEAAAAAAAGCIQAAAAAAA8IRAAAAAAACIiEAAAAAAAKiGQAAAAAAAQIVAAAAAAADQhkAAAAAAAJCFQAAAAAAA+IZAAAAAAAAIhkAAAAAAAICGQAAAAAAAyIRAAAAAAACQhUAAAAAAAECFQAAAAAAAyIRAAAAAAADwhEAAAAAAADCGQAAAAAAAcIdAAAAAAABYhkAAAAAAAOiHQAAAAAAASIdAAAAAAADwhEAAAAAAABiFQAAAAAAAaIVAAAAAAADIhEAAAAAAAKCEQAAAAAAA4IVAAAAAAACohkAAAAAAAAiGQAAAAAAAQIVAAAAAAAAIhkAAAAAAAMCHQAAAAAAAkIVAAAAAAACQhUAAAAAAAJCFQAAAAAAAoIRAAAAAAADoh0AAAAAAALiFQAAAAAAAIIdAAAAAAAAwhkAAAAAAAGiFQAAAAAAAkIVAAAAAAACQhUAAAAAAAOCFQAAAAAAAkIVAAAAAAABAhUAAAAAAAJiHQAAAAAAA4IVAAAAAAABIh0AAAAAAAPCEQAAAAAAACIZAAAAAAABYhkAAAAAAAMiEQAAAAAAA+IZAAAAAAAAIhkAAAAAAAKCEQAAAAAAAGIVAAAAAAACQhUAAAAAAAICGQAAAAAAAoIRAAAAAAADwhEAAAAAAAJCFQAAAAAAAQIVAAAAAAAAgh0AAAAAAABiFQAAAAAAAyIRAAAAAAABAhUAAAAAAALiFQAAAAAAACIZAAAAAAAC4hUAAAAAAAJCFQAAAAAAAGIVAAAAAAABAhUAAAAAAAPCEQAAAAAAA4IVAAAAAAADwhEAAAAAAAKCEQAAAAAAAWIZAAAAAAADghUAAAAAAAIiIQAAAAAAAkIVAAAAAAABwh0AAAAAAAKCEQAAAAAAA6IdAAAAAAADoh0AAAAAAAGiFQAAAAAAAQIVAAAAAAACgiUAAAAAAAOCFQAAAAAAAWIZAAAAAAADQhkAAAAAAAECFQAAAAAAAuIVAAAAAAACghEAAAAAAAFiGQAAAAAAAIIdAAAAAAABAhUAAAAAAABiFQAAAAAAAaIVAAAAAAACQhUAAAAAAAOCFQAAAAAAAOIhAAAAAAADghUAAAAAAAGiFQAAAAAAAaIVAAAAAAAA4iEAAAAAAABiFQAAAAAAAoIRAAAAAAADwhEAAAAAAAJCFQAAAAAAAoIRAAAAAAAC4hUAAAAAAADCGQAAAAAAAoIRAAAAAAABohUAAAAAAAECFQAAAAAAAGIVAAAAAAABohUAAAAAAAAiGQAAAAAAAGIVAAAAAAAAYhUAAAAAAAFiGQAAAAAAAaIVAAAAAAACghEAAAAAAAOCFQAAAAAAAwIdAAAAAAABYhkAAAAAAAGiFQAAAAAAA4IVAAAAAAACohkAAAAAAAAiGQAAAAAAAuIVAAAAAAACAhkAAAAAAAJCFQAAAAAAA4IVAAAAAAAAYhUAAAAAAADCGQAAAAAAA4IVAAAAAAAC4hUAAAAAAAJCFQAAAAAAAoIRAAAAAAADIhEAAAAAAAAiGQAAAAAAAQIVAAAAAAADghUAAAAAAAKCEQAAAAAAAGIVAAAAAAAAIhkAAAAAAABiFQAAAAAAAgIZAAAAAAAC4hUAAAAAAAJCFQAAAAAAAOIhAAAAAAACQhUAAAAAAAAiGQAAAAAAAsIhAAAAAAABAhUAAAAAAADCGQAAAAAAA8IRAAAAAAACwiEAAAAAAAMiEQAAAAAAAaIVAAAAAAADwhEAAAAAAABiFQAAAAAAAQIVAAAAAAAD4hkAAAAAAANCGQAAAAAAAkIVAAAAAAAAIhkAAAAAAACCHQAAAAAAAGIVAAAAAAAAwhkAAAAAAAPCEQAAAAAAA8IRAAAAAAABAhUAAAAAAAKCEQAAAAAAAOIhAAAAAAACQhUAAAAAAALiFQAAAAAAA6IdAAAAAAAAYhUAAAAAAAAiGQAAAAAAAwIdAAAAAAACghEAAAAAAAICGQAAAAAAA8IRAAAAAAACAhkAAAAAAAJCFQAAAAAAAGIVAAAAAAADQhkAAAAAAAMiEQAAAAAAAqIZAAAAAAACAhkAAAAAAAKCEQAAAAAAAWIZAAAAAAABIh0AAAAAAAKiGQAAAAAAAMIZAAAAAAADghUAAAAAAAHCHQAAAAAAAkIVAAAAAAAAwhkAAAAAAAPiGQAAAAAAAGIVAAAAAAACwiEAAAAAAALiFQAAAAAAACIZAAAAAAACQhUAAAAAAAECFQAAAAAAAuIVAAAAAAADIhEAAAAAAAOCFQAAAAAAAqIZAAAAAAADIhEAAAAAAAKCEQAAAAAAAQIVAAAAAAADwhEAAAAAAAJCFQAAAAAAAGIVAAAAAAAAYhUAAAAAAAPiGQAAAAAAAoIRAAAAAAABIh0AAAAAAAECFQAAAAAAA8IRAAAAAAAAIhkAAAAAAAECFQAAAAAAAyIRAAAAAAACghEAAAAAAAMiEQAAAAAAAaIVAAAAAAAC4hUAAAAAAABiFQAAAAAAAkIVAAAAAAAC4hUAAAAAAAMiEQAAAAAAAoIRAAAAAAADwhEAAAAAAADCGQAAAAAAAoIRAAAAAAADwhEAAAAAAAKCEQAAAAAAAuIVAAAAAAADghUAAAAAAAFiGQAAAAAAAWIZAAAAAAACQhUAAAAAAANiIQAAAAAAAGIVAAAAAAADIhEAAAAAAAOCFQAAAAAAASIdAAAAAAAC4hUAAAAAAAGiFQAAAAAAA4IVAAAAAAABYhkAAAAAAAMiEQAAAAAAACIZAAAAAAACghEAAAAAAAOiHQAAAAAAAuIVAAAAAAAAYhUAAAAAAAMiEQAAAAAAAIIdAAAAAAADIhEAAAAAAAKCEQAAAAAAA8IRAAAAAAAAYhUAAAAAAABiFQAAAAAAAyIRAAAAAAAAwhkAAAAAAACCHQAAAAAAAuIVAAAAAAABohUAAAAAAAECFQAAAAAAA4IVAAAAAAACQhUAAAAAAAKCEQAAAAAAA8IRAAAAAAABAhUAAAAAAAOCFQAAAAAAAyIRAAAAAAAAYhUAAAAAAAOCFQAAAAAAA8IRAAAAAAABAhUAAAAAAALiFQAAAAAAAyIRAAAAAAADQhkAAAAAAAPCEQAAAAAAAQIVAAAAAAADwhEAAAAAAAEiHQAAAAAAAGIVAAAAAAABwh0AAAAAAABCIQAAAAAAAgIZAAAAAAAAwhkAAAAAAAOiHQAAAAAAA4IVAAAAAAACghEAAAAAAAPiGQAAAAAAACIZAAAAAAADQhkAAAAAAADCGQAAAAAAAyIRAAAAAAADghUAAAAAAAGiFQAAAAAAAmIdAAAAAAADghUAAAAAAAOCFQAAAAAAA8IRAAAAAAABIh0AAAAAAACCHQAAAAAAACIZAAAAAAABohUAAAAAAADiIQAAAAAAA4IVAAAAAAAAYhUAAAAAAAKCEQAAAAAAAAIlAAAAAAABYhkAAAAAAAJCFQAAAAAAAoIRAAAAAAAAIhkAAAAAAACCHQAAAAAAAWIZAAAAAAADwhEAAAAAAABiFQAAAAAAAQIVAAAAAAAD4hkAAAAAAAJCFQAAAAAAACIZAAAAAAAAIhkAAAAAAAKiGQAAAAAAAgIZAAAAAAADIhEAAAAAAAECFQAAAAAAAyIRAAAAAAAAYhUAAAAAAAMiEQAAAAAAACIZAAAAAAAC4hUAAAAAAALiFQAAAAAAA8IRAAAAAAACQhUAAAAAAAGiFQAAAAAAAMIZAAAAAAADghUAAAAAAAMiEQAAAAAAAMIZAAAAAAAAIhkAAAAAAAAiGQAAAAAAAIIdAAAAAAACQhUAAAAAAABiFQAAAAAAAyIRAAAAAAAAIhkAAAAAAABiFQAAAAAAAQIVAAAAAAAAgh0AAAAAAAFiGQAAAAAAA8IRAAAAAAAAIhkAAAAAAAJCFQAAAAAAAQIVAAAAAAABAhUAAAAAAAMiEQAAAAAAAkIVAAAAAAAAwhkAAAAAAABiFQAAAAAAAWIZAAAAAAACIiEAAAAAAAKCEQAAAAAAAWIZAAAAAAAAYhUAAAAAAAFiGQAAAAAAA8IRAAAAAAABAhUAAAAAAAOCFQAAAAAAA0IZAAAAAAAAwhkAAAAAAAPCEQAAAAAAAoIRAAAAAAACQhUAAAAAAAECFQAAAAAAAoIRAAAAAAACAhkAAAAAAABiFQAAAAAAAoIRAAAAAAABYhkAAAAAAAKiGQAAAAAAAcIdAAAAAAADIhEAAAAAAAPCEQAAAAAAA4IVAAAAAAACQhUAAAAAAALiFQAAAAAAACIZAAAAAAABYhkAAAAAAAMiEQAAAAAAAGIVAAAAAAACQhUAAAAAAAOCFQAAAAAAAkIVAAAAAAACQhUAAAAAAAEiHQAAAAAAACIZAAAAAAABYhkAAAAAAAOiHQAAAAAAAwIdAAAAAAABAhUAAAAAAAJiHQAAAAAAAMIZAAAAAAACQhUAAAAAAAGiFQAAAAAAAqIZAAAAAAAD4hkAAAAAAAAiGQAAAAAAAQIVAAAAAAAAwhkAAAAAAAMiEQAAAAAAAaIVAAAAAAABohUAAAAAAAGiFQAAAAAAAGIVAAAAAAABohUAAAAAAAACJQAAAAAAAQIVAAAAAAAAwhkAAAAAAAIiIQAAAAAAAMIZAAAAAAADIhEAAAAAAACCHQAAAAAAAyIRAAAAAAAC4hUAAAAAAAAiGQAAAAAAA2IhAAAAAAAC4hUAAAAAAAMiEQAAAAAAAWIZAAAAAAACghEAAAAAAAAiGQAAAAAAA8IRAAAAAAADwhEAAAAAAAKiGQAAAAAAA4IVAAAAAAABohUAAAAAAABiFQAAAAAAAoIRAAAAAAAAAiUAAAAAAAJCFQAAAAAAAyIRAAAAAAADwhEAAAAAAAAiGQAAAAAAAQIVAAAAAAACYh0AAAAAAAGiFQAAAAAAAuIVAAAAAAAAwhkAAAAAAANCGQAAAAAAAyIRAAAAAAACghEAAAAAAABiFQAAAAAAAuIVAAAAAAACohkAAAAAAAJCFQAAAAAAAQIVAAAAAAADIhEAAAAAAABCIQAAAAAAAoIlAAAAAAADIhEAAAAAAAICGQAAAAAAAgIZAAAAAAADAh0AAAAAAAJCFQAAAAAAAMIZAAAAAAABIh0AAAAAAAGiFQAAAAAAA8IRAAAAAAADYiEAAAAAAAOCFQAAAAAAAaIVAAAAAAADghUAAAAAAALiFQAAAAAAAuIVAAAAAAACAhkAAAAAAABiFQAAAAAAAkIVAAAAAAADghUAAAAAAADCGQAAAAAAAaIVAAAAAAABYhkAAAAAAADCGQAAAAAAA8IRAAAAAAABohUAAAAAAABiFQAAAAAAACIZAAAAAAAD4hkAAAAAAAPCEQAAAAAAAkIVAAAAAAAAYhUAAAAAAAMiEQAAAAAAAkIVAAAAAAAAIhkAAAAAAABCIQAAAAAAA8IRAAAAAAADwhEAAAAAAAECFQAAAAAAAyIlAAAAAAAAYhUAAAAAAAPCEQAAAAAAAyIRAAAAAAADIhEAAAAAAADCGQAAAAAAAuIVAAAAAAACghEAAAAAAAKCEQAAAAAAAuIVAAAAAAACghEAAAAAAAKCEQAAAAAAAoIRAAAAAAABAhUAAAAAAAMiEQAAAAAAAmIdAAAAAAAAgh0AAAAAAAJCFQAAAAAAAkIVAAAAAAABIh0AAAAAAADCGQAAAAAAAkIVAAAAAAACAhkAAAAAAAJCFQAAAAAAAuIVAAAAAAAAwhkAAAAAAAGiFQAAAAAAAQIVAAAAAAAAYhUAAAAAAALiFQAAAAAAA0IZAAAAAAACghEAAAAAAAMiEQAAAAAAAoIRAAAAAAABYhkAAAAAAAPiGQAAAAAAAoIRAAAAAAACQhUAAAAAAALiFQAAAAAAAWIZAAAAAAADwhEAAAAAAANiIQAAAAAAA4IVAAAAAAADwhEAAAAAAABCIQAAAAAAAoIRAAAAAAACghEAAAAAAALiFQAAAAAAAQIVAAAAAAADghUAAAAAAAOiHQAAAAAAA+IZAAAAAAAAYhUAAAAAAAJiHQAAAAAAAWIZAAAAAAADoh0AAAAAAAMCHQAAAAAAAqIZAAAAAAABohUAAAAAAANCGQAAAAAAAGIVAAAAAAADIhEAAAAAAABiFQAAAAAAAMIZAAAAAAACAhkAAAAAAAAiGQAAAAAAAoIRAAAAAAABAhUAAAAAAAPCEQAAAAAAAuIVAAAAAAACghEAAAAAAAAiGQAAAAAAAoIRAAAAAAAAIhkAAAAAAAMiEQAAAAAAAaIVAAAAAAAAwhkAAAAAAAPCEQAAAAAAAoIRAAAAAAABohUAAAAAAAJCFQAAAAAAAQIVAAAAAAABAhUAAAAAAAJCFQAAAAAAACIZAAAAAAACYh0AAAAAAAGiFQAAAAAAAkIVAAAAAAADwhEAAAAAAAKiGQAAAAAAAmIdAAAAAAADIhEAAAAAAAKCEQAAAAAAAaIVAAAAAAACQhUAAAAAAAGiFQAAAAAAACIZAAAAAAADghUAAAAAAAEiHQAAAAAAAQIVAAAAAAAAYhUAAAAAAAAiGQAAAAAAAyIRAAAAAAACghEAAAAAAAECFQAAAAAAA4IVAAAAAAAAYhUAAAAAAAGiFQAAAAAAAuIVAAAAAAADQhkAAAAAAAOCFQAAAAAAAQIVAAAAAAAAwhkAAAAAAABiFQAAAAAAAGIVAAAAAAACghEAAAAAAAECFQAAAAAAAqIZAAAAAAADwhEAAAAAAAJCFQAAAAAAAkIVAAAAAAAD4hkAAAAAAAKiGQAAAAAAA4IVAAAAAAAAYhUAAAAAAAKCEQAAAAAAA8IRAAAAAAACQhUAAAAAAABiFQAAAAAAAaIVAAAAAAACQhUAAAAAAAPCEQAAAAAAAOIhAAAAAAADwhEAAAAAAAKCEQAAAAAAACIZAAAAAAAAIhkAAAAAAAICGQAAAAAAAoIRAAAAAAADAh0AAAAAAAPCEQAAAAAAAYIhAAAAAAABgiEAAAAAAAMiEQAAAAAAAaIVAAAAAAABohUAAAAAAAPCEQAAAAAAAMIZAAAAAAAAYhUAAAAAAANCGQAAAAAAAoIRAAAAAAACQhUAAAAAAALiFQAAAAAAA8IRAAAAAAADIhEAAAAAAAKiGQAAAAAAAMIZAAAAAAADwhEAAAAAAAOCFQAAAAAAAGIVAAAAAAADIhEAAAAAAALiFQAAAAAAAGIVAAAAAAAA4iEAAAAAAAEiHQAAAAAAAQIVAAAAAAACohkAAAAAAAPCEQAAAAAAAuIVAAAAAAACwiEAAAAAAAFiGQAAAAAAAqIZAAAAAAAAwhkAAAAAAAJCFQAAAAAAAGIVAAAAAAADghUAAAAAAAPiGQAAAAAAAoIRAAAAAAAA4iEAAAAAAAPCEQAAAAAAAaIVAAAAAAACohkAAAAAAAAiGQAAAAAAAGIVAAAAAAADghUAAAAAAALCIQAAAAAAAMIZAAAAAAACghEAAAAAAADCGQAAAAAAAqIZAAAAAAACQhUAAAAAAAEiHQAAAAAAA8IRAAAAAAAAIhkAAAAAAAFiGQAAAAAAAGIVAAAAAAADwhEAAAAAAAEiHQAAAAAAAoIRAAAAAAAAwhkAAAAAAAECFQAAAAAAAaIVAAAAAAAAgh0AAAAAAABiFQAAAAAAACIZAAAAAAADghUAAAAAAAIiIQAAAAAAAoIRAAAAAAADoh0AAAAAAAHCHQAAAAAAA4IVAAAAAAAAwhkAAAAAAALiFQAAAAAAA8IRAAAAAAAAIhkAAAAAAAPCEQAAAAAAAoIRAAAAAAAAIhkAAAAAAABiFQAAAAAAA0IZAAAAAAAAwhkAAAAAAAMiEQAAAAAAAWIZAAAAAAACghEAAAAAAAHCHQAAAAAAAQIVAAAAAAABAhUAAAAAAAMiEQAAAAAAACIZAAAAAAABAhUAAAAAAAPCEQAAAAAAA8IRAAAAAAACghEAAAAAAADCGQAAAAAAAoIRAAAAAAABAhUAAAAAAADCGQAAAAAAA4IVAAAAAAABYhkAAAAAAADCGQAAAAAAAGIVAAAAAAADwhEAAAAAAALiFQAAAAAAAyIRAAAAAAADIhEAAAAAAAOCFQAAAAAAAkIVAAAAAAACwiEAAAAAAAJCFQAAAAAAAkIVAAAAAAADIhEAAAAAAANiIQAAAAAAA4IVAAAAAAAAYhUAAAAAAAPCEQAAAAAAAgIZAAAAAAAAYhUAAAAAAAPCEQAAAAAAAIIdAAAAAAAD4hkAAAAAAALiFQAAAAAAAcIdAAAAAAABQiUAAAAAAABiFQAAAAAAAcIdAAAAAAACwiEAAAAAAAJCFQAAAAAAAoIRAAAAAAADIhEAAAAAAAFiGQAAAAAAAuIVAAAAAAACghEAAAAAAAOCFQAAAAAAAuIVAAAAAAAAIhkAAAAAAAMiEQAAAAAAAIIdAAAAAAADwhEAAAAAAABiFQAAAAAAA8IRAAAAAAABAhUAAAAAAAECFQAAAAAAA2IhAAAAAAAAwhkAAAAAAAGiFQAAAAAAAWIZAAAAAAABohUAAAAAAALiFQAAAAAAAaIVAAAAAAAAwhkAAAAAAAKCEQAAAAAAAGIVAAAAAAADIhEAAAAAAAFiGQAAAAAAA4IVAAAAAAADoh0AAAAAAAJCFQAAAAAAASIdAAAAAAABohUAAAAAAALCIQAAAAAAAyIRAAAAAAADQhkAAAAAAALiFQAAAAAAAyIRAAAAAAADghUAAAAAAAAiGQAAAAAAAoIRAAAAAAACghEAAAAAAALiFQAAAAAAAaIVAAAAAAAAIhkAAAAAAAGiFQAAAAAAAIIdAAAAAAADoh0AAAAAAAOCFQAAAAAAA8IRAAAAAAADIhEAAAAAAAOCFQAAAAAAAaIVAAAAAAABwh0AAAAAAAECFQAAAAAAAyIRAAAAAAACYh0AAAAAAAJCFQAAAAAAAaIVAAAAAAACgiUAAAAAAAMCHQAAAAAAACIZAAAAAAABohUAAAAAAAPCEQAAAAAAAqIZAAAAAAADghUAAAAAAAKCEQAAAAAAAuIVAAAAAAACQhUAAAAAAALiFQAAAAAAA8IRAAAAAAADAh0AAAAAAAKCEQAAAAAAAgIZAAAAAAADwhEAAAAAAAGiFQAAAAAAAGIVAAAAAAAAIhkAAAAAAAMiEQAAAAAAAqIZAAAAAAACghEAAAAAAANCGQAAAAAAAaIVAAAAAAADIhEAAAAAAAMCHQAAAAAAAQIVAAAAAAAAYhUAAAAAAAAiGQAAAAAAAaIVAAAAAAACAhkAAAAAAABiFQAAAAAAAGIVAAAAAAAAYhUAAAAAAAAiGQAAAAAAAMIZAAAAAAACghEAAAAAAAGiFQAAAAAAAqIZAAAAAAAAIhkAAAAAAAJCFQAAAAAAA2IhAAAAAAADwhEAAAAAAABiFQAAAAAAAuIVAAAAAAAAwhkAAAAAAAPCEQAAAAAAAMIZAAAAAAADQhkAAAAAAAECFQAAAAAAAqIZAAAAAAADwhEAAAAAAAPCEQAAAAAAAyIRAAAAAAADIhEAAAAAAAICGQAAAAAAAoIRAAAAAAABgiEAAAAAAAFiGQAAAAAAAGIVAAAAAAACQhUAAAAAAALiFQAAAAAAASIdAAAAAAADwhEAAAAAAADCGQAAAAAAAyIRAAAAAAACghEAAAAAAADCGQAAAAAAAyIRAAAAAAAD4hkAAAAAAADCGQAAAAAAAQIVAAAAAAABAhUAAAAAAAHCHQAAAAAAAoIRAAAAAAADghUAAAAAAAOCFQAAAAAAAaIVAAAAAAAAYhUAAAAAAABiFQAAAAAAAkIVAAAAAAACohkAAAAAAAKCEQAAAAAAACIZAAAAAAADwhEAAAAAAAMiEQAAAAAAAWIZAAAAAAAD4hkAAAAAAAGCIQAAAAAAAqIZAAAAAAACghEAAAAAAAMiEQAAAAAAAyIRAAAAAAABwh0AAAAAAAGiFQAAAAAAAEIhAAAAAAABAhUAAAAAAAGiFQAAAAAAA8IRAAAAAAACYh0AAAAAAAICGQAAAAAAAoIRAAAAAAADwhEAAAAAAAPiGQAAAAAAAQIVAAAAAAAA4iEAAAAAAAMiEQAAAAAAAaIVAAAAAAABohUAAAAAAAJCFQAAAAAAAaIVAAAAAAAAYhUAAAAAAAGiFQAAAAAAAuIVAAAAAAACohkAAAAAAALiFQAAAAAAAaIVAAAAAAACghEAAAAAAAFiGQAAAAAAAoIRAAAAAAACohkAAAAAAANCGQAAAAAAAuIVAAAAAAADQhkAAAAAAAECFQAAAAAAA2IhAAAAAAAAoiUAAAAAAAKCEQAAAAAAAoIRAAAAAAACghEAAAAAAALiFQAAAAAAAkIVAAAAAAADIhEAAAAAAANCGQAAAAAAA+IZAAAAAAAAYhUAAAAAAAKCEQAAAAAAACIZAAAAAAACQhUAAAAAAAMiEQAAAAAAA4IVAAAAAAABohUAAAAAAAJiHQAAAAAAA8IRAAAAAAADwhEAAAAAAAOCFQAAAAAAA4IVAAAAAAADwhEAAAAAAALiFQAAAAAAAgIZAAAAAAACghEAAAAAAAOCFQAAAAAAA4IVAAAAAAABohUAAAAAAABiFQAAAAAAAWIZAAAAAAABAhUAAAAAAAAiGQAAAAAAA4IVAAAAAAADIhEAAAAAAAFiGQAAAAAAACIZAAAAAAAD4hkAAAAAAAAiGQAAAAAAACIZAAAAAAACAhkAAAAAAAGiFQAAAAAAACIZAAAAAAADghUAAAAAAAFCJQAAAAAAAMIZAAAAAAABAhUAAAAAAADiIQAAAAAAACIZAAAAAAAAIhkAAAAAAAKCEQAAAAAAAQIVAAAAAAAC4hUAAAAAAAJCFQAAAAAAAaIVAAAAAAAAYhUAAAAAAAFiGQAAAAAAAmIdAAAAAAADYiEAAAAAAAKCEQAAAAAAAQIVAAAAAAADIhEAAAAAAAECFQAAAAAAAGIVAAAAAAACohkAAAAAAAPCEQAAAAAAA8IRAAAAAAABwh0AAAAAAAPCEQAAAAAAAyIRAAAAAAAAwhkAAAAAAALiFQAAAAAAAqIZAAAAAAAAgh0AAAAAAAMiEQAAAAAAACIZAAAAAAAAYhUAAAAAAAMiEQAAAAAAA4IVAAAAAAABohUAAAAAAAPCEQAAAAAAA8IRAAAAAAAAYhUAAAAAAAPCEQAAAAAAAkIVAAAAAAADYiEAAAAAAABiFQAAAAAAAyIRAAAAAAABohUAAAAAAAPCEQAAAAAAAWIZAAAAAAABAhUAAAAAAAGCIQAAAAAAA8IRAAAAAAABYhkAAAAAAAECFQAAAAAAAMIZAAAAAAACQhUAAAAAAAECFQAAAAAAAOIhAAAAAAABYhkAAAAAAAIiIQAAAAAAAoIRAAAAAAADwhEAAAAAAAAiGQAAAAAAAaIVAAAAAAADwhEAAAAAAAAiGQAAAAAAAyIRAAAAAAADQhkAAAAAAAKCEQAAAAAAAqIZAAAAAAAC4hUAAAAAAAOCFQAAAAAAACIZAAAAAAABohUAAAAAAAAiGQAAAAAAAkIVAAAAAAABIh0AAAAAAAECFQAAAAAAAGIVAAAAAAAC4hUAAAAAAAAiGQAAAAAAAyIRAAAAAAADghUAAAAAAAICGQAAAAAAASIdAAAAAAABohUAAAAAAAPiGQAAAAAAAgIZAAAAAAADwhEAAAAAAADCGQAAAAAAA0IZAAAAAAADwhEAAAAAAAICGQAAAAAAAuIVAAAAAAADIhEAAAAAAAKCJQAAAAAAACIZAAAAAAADIhEAAAAAAABiFQAAAAAAAoIRAAAAAAAAIhkAAAAAAALCIQAAAAAAA4IVAAAAAAADIhEAAAAAAAFiGQAAAAAAASIdAAAAAAADoh0AAAAAAALiFQAAAAAAACIZAAAAAAAC4hUAAAAAAAECFQAAAAAAA4IVAAAAAAABohUAAAAAAANCGQAAAAAAAgIZAAAAAAACAhkAAAAAAANCGQAAAAAAAyIRAAAAAAAAIhkAAAAAAANCGQAAAAAAA4IVAAAAAAADghUAAAAAAAKCEQAAAAAAA0IZAAAAAAACghEAAAAAAAOCFQAAAAAAAWIZAAAAAAAAYhUAAAAAAAFiGQAAAAAAAaIVAAAAAAACghEAAAAAAAMiEQAAAAAAAkIVAAAAAAABohUAAAAAAAECFQAAAAAAA8IRAAAAAAAC4hUAAAAAAAFiGQAAAAAAAGIVAAAAAAADghUAAAAAAAJCFQAAAAAAAkIVAAAAAAADwhEAAAAAAAKCEQAAAAAAAmIdAAAAAAADghUAAAAAAAECFQAAAAAAAuIVAAAAAAABohUAAAAAAABiFQAAAAAAAgIZAAAAAAADghUAAAAAAAMiEQAAAAAAAIIdAAAAAAADghUAAAAAAAKiGQAAAAAAAkIVAAAAAAAAwhkAAAAAAAJCFQAAAAAAAgIZAAAAAAADwhEAAAAAAABiFQAAAAAAASIdAAAAAAAAwhkAAAAAAAKiGQAAAAAAACIZAAAAAAAAIhkAAAAAAAJCFQAAAAAAAyIRAAAAAAAAIhkAAAAAAAGiFQAAAAAAAaIVAAAAAAAC4hUAAAAAAABiFQAAAAAAAoIRAAAAAAABAhUAAAAAAALiFQAAAAAAAkIVAAAAAAADIhEAAAAAAABiFQAAAAAAAQIVAAAAAAABAhUAAAAAAADiIQAAAAAAAwIdAAAAAAAAIhkAAAAAAAKCEQAAAAAAAQIVAAAAAAAC4hUAAAAAAABiFQAAAAAAAyIRAAAAAAAC4hUAAAAAAADCGQAAAAAAA4IVAAAAAAAAYhUAAAAAAAPiGQAAAAAAA+IZAAAAAAAAYhUAAAAAAAJCFQAAAAAAAaIVAAAAAAACohkAAAAAAAICGQAAAAAAAGIVAAAAAAADghUAAAAAAAOCFQAAAAAAA8IRAAAAAAADwhEAAAAAAAMiEQAAAAAAAaIVAAAAAAAAIhkAAAAAAAKiGQAAAAAAAMIZAAAAAAAC4hUAAAAAAAAiGQAAAAAAAoIRAAAAAAAAgh0AAAAAAAJCFQAAAAAAAQIVAAAAAAAAYhUAAAAAAAJiHQAAAAAAAQIVAAAAAAADIhEAAAAAAAFiGQAAAAAAAGIVAAAAAAADghUAAAAAAAMiEQAAAAAAAMIZAAAAAAAAYhUAAAAAAAEiHQAAAAAAAyIRAAAAAAACghEAAAAAAABCIQAAAAAAA8IRAAAAAAADghUAAAAAAANCGQAAAAAAAGIVAAAAAAAAwhkAAAAAAAMiEQAAAAAAAuIVAAAAAAABwh0AAAAAAAPCEQAAAAAAAoIRAAAAAAABohUAAAAAAALiFQAAAAAAAQIVAAAAAAAC4hUAAAAAAAGiFQAAAAAAAuIVAAAAAAACghEAAAAAAAJCFQAAAAAAAEIhAAAAAAADwhEAAAAAAAKCEQAAAAAAACIZAAAAAAAC4hUAAAAAAAPCEQAAAAAAAkIVAAAAAAACAhkAAAAAAAKCEQAAAAAAAuIVAAAAAAAAwhkAAAAAAAPCEQAAAAAAA4IVAAAAAAAC4hUAAAAAAAECFQAAAAAAA0IZAAAAAAADghUAAAAAAAAiGQAAAAAAA8IRAAAAAAAAIhkAAAAAAAOCFQAAAAAAAyIRAAAAAAACYh0AAAAAAADCGQAAAAAAA8IRAAAAAAADghUAAAAAAALiFQAAAAAAA8IRAAAAAAADghUAAAAAAADCGQAAAAAAAyIRAAAAAAABIh0AAAAAAABiFQAAAAAAA8IRAAAAAAAC4hUAAAAAAAAiGQAAAAAAAaIVAAAAAAABohUAAAAAAAOCFQAAAAAAA4IVAAAAAAAAIhkAAAAAAAJCFQAAAAAAAGIVAAAAAAAAwhkAAAAAAAAiGQAAAAAAAOIhAAAAAAAAwhkAAAAAAACiJQAAAAAAAWIZAAAAAAABohUAAAAAAAOCFQAAAAAAAQIVAAAAAAAD4hkAAAAAAAJCFQAAAAAAA4IVAAAAAAAAYhUAAAAAAAPCEQAAAAAAAaIVAAAAAAACghEAAAAAAAJCFQAAAAAAAoIRAAAAAAAC4hUAAAAAAAJCFQAAAAAAAoIRAAAAAAAAwhkAAAAAAAOiHQAAAAAAAgIZAAAAAAADghUAAAAAAAICGQAAAAAAAkIVAAAAAAABYhkAAAAAAAMiEQAAAAAAAuIVAAAAAAAAIhkAAAAAAADiIQAAAAAAAWIZAAAAAAAAIhkAAAAAAAOCFQAAAAAAAyIRAAAAAAAC4hUAAAAAAAKCEQAAAAAAAGIVAAAAAAACohkAAAAAAAGiFQAAAAAAAuIVAAAAAAABIh0AAAAAAABiFQAAAAAAAoIRAAAAAAAD4hkAAAAAAAPCEQAAAAAAACIZAAAAAAADwhEAAAAAAACCHQAAAAAAAkIVAAAAAAAD4hkAAAAAAAGiFQAAAAAAA4IVAAAAAAADwhEAAAAAAACiJQAAAAAAAuIVAAAAAAACYh0AAAAAAANCGQAAAAAAA4IVAAAAAAAB4iUAAAAAAAKCEQAAAAAAAyIRAAAAAAABAhUAAAAAAAJCFQAAAAAAAWIZAAAAAAACQhUAAAAAAAKCEQAAAAAAAuIVAAAAAAAAYhUAAAAAAACCHQAAAAAAAqIZAAAAAAADghUAAAAAAAKiGQAAAAAAAyIRAAAAAAABYhkAAAAAAALiFQAAAAAAAaIVAAAAAAAC4hUAAAAAAADCGQAAAAAAAyIRAAAAAAADoh0AAAAAAAJCFQAAAAAAAoIRAAAAAAABAhUAAAAAAABiFQAAAAAAAGIVAAAAAAADghUAAAAAAABiFQAAAAAAA0IZAAAAAAABAhUAAAAAAALiFQAAAAAAAGIVAAAAAAABohUAAAAAAAECFQAAAAAAAoIRAAAAAAABIh0AAAAAAAECFQAAAAAAAYIhAAAAAAAC4hUAAAAAAAKCEQAAAAAAAGIVAAAAAAADIhEAAAAAAAOCFQAAAAAAAQIVAAAAAAAAgh0AAAAAAAFiGQAAAAAAAQIVAAAAAAAD4hkAAAAAAAEiHQAAAAAAAoIRAAAAAAABYhkAAAAAAABCIQAAAAAAA0IZAAAAAAAAIhkAAAAAAAECFQAAAAAAAQIVAAAAAAADghUAAAAAAAMiEQAAAAAAAoIRAAAAAAABYhkAAAAAAAOCFQAAAAAAAMIZAAAAAAACQhUAAAAAAAKCEQAAAAAAAQIVAAAAAAADIhEAAAAAAAAiGQAAAAAAAoIRAAAAAAACghEAAAAAAAJCFQAAAAAAAgIZAAAAAAACQhUAAAAAAAEiHQAAAAAAAyIRAAAAAAACQhUAAAAAAAJCFQAAAAAAACIZAAAAAAABohUAAAAAAAAiGQAAAAAAAoIRAAAAAAABohUAAAAAAABCIQAAAAAAACIZAAAAAAAC4hUAAAAAAANCGQAAAAAAA4IVAAAAAAABAhUAAAAAAAMiEQAAAAAAAkIVAAAAAAABAhUAAAAAAAEiHQAAAAAAA6IdAAAAAAAAYhUAAAAAAABCIQAAAAAAAyIRAAAAAAACghEAAAAAAAKCEQAAAAAAAkIVAAAAAAADQhkAAAAAAAAiGQAAAAAAAsIhAAAAAAACghEAAAAAAAOCFQAAAAAAA8IRAAAAAAABohUAAAAAAAFiGQAAAAAAAaIVAAAAAAACQhUAAAAAAAGiFQAAAAAAAoIRAAAAAAAAYhUAAAAAAAFiGQAAAAAAAaIVAAAAAAADwhEAAAAAAAICGQAAAAAAAQIVAAAAAAADghUAAAAAAAECFQAAAAAAAKIlAAAAAAABohUAAAAAAAGiFQAAAAAAA4IVAAAAAAADIhEAAAAAAAOCFQAAAAAAAaIVAAAAAAACIiEAAAAAAAOCFQAAAAAAAoIRAAAAAAADwhEAAAAAAAPiGQAAAAAAAWIZAAAAAAADIhEAAAAAAAKCEQAAAAAAAaIVAAAAAAAAYhUAAAAAAAEiHQAAAAAAAoIRAAAAAAABAhUAAAAAAAGCIQAAAAAAAaIVAAAAAAADghUAAAAAAAGiFQAAAAAAA6IdAAAAAAABAikAAAAAAAKCEQAAAAAAAaIVAAAAAAABoikAAAAAAAPCEQAAAAAAAMIZAAAAAAADQhkAAAAAAAJCFQAAAAAAAoIRAAAAAAAAYhUAAAAAAAOCFQAAAAAAAMIZAAAAAAAAIhkAAAAAAAFiGQAAAAAAAGIVAAAAAAAAYhUAAAAAAAECFQAAAAAAA4IVAAAAAAAC4hUAAAAAAAAiGQAAAAAAA8IRAAAAAAACohkAAAAAAABiFQAAAAAAAyIRAAAAAAAC4hUAAAAAAABiFQAAAAAAAQIVAAAAAAACghEAAAAAAAKiGQAAAAAAA8IRAAAAAAABwh0AAAAAAABiFQAAAAAAAuIVAAAAAAACYh0AAAAAAAOCFQAAAAAAAoIRAAAAAAABohUAAAAAAAJiHQAAAAAAACIZAAAAAAAAIhkAAAAAAAOCFQAAAAAAA0IZAAAAAAABAhUAAAAAAALiFQAAAAAAACIZAAAAAAABohUAAAAAAADCGQAAAAAAAGIVAAAAAAADQhkAAAAAAAKiGQAAAAAAA4IVAAAAAAABAhUAAAAAAADiIQAAAAAAAGIVAAAAAAAAwhkAAAAAAAMiEQAAAAAAAyIRAAAAAAABohUAAAAAAAMiEQAAAAAAA8IRAAAAAAAC4hUAAAAAAAAiGQAAAAAAAyIRAAAAAAAAYhUAAAAAAABiFQAAAAAAAmIdAAAAAAADIhEAAAAAAAOCFQAAAAAAA8IRAAAAAAAAQiEAAAAAAAMiEQAAAAAAA4IVAAAAAAADghUAAAAAAAPiGQAAAAAAAoIRAAAAAAADghUAAAAAAAJCFQAAAAAAA8IRAAAAAAAC4hUAAAAAAAGiFQAAAAAAAaIVAAAAAAABAhUAAAAAAAMiEQAAAAAAAGIVAAAAAAAC4hUAAAAAAAAiGQAAAAAAAqIZAAAAAAABohUAAAAAAAOCFQAAAAAAAkIVAAAAAAABAhUAAAAAAAMiEQAAAAAAAiIhAAAAAAABAhUAAAAAAAICGQAAAAAAAuIVAAAAAAADoh0AAAAAAAGiFQAAAAAAA8IRAAAAAAABAhUAAAAAAAMiEQAAAAAAAaIVAAAAAAAAYhUAAAAAAAMiEQAAAAAAA4IVAAAAAAADQhkAAAAAAAKCEQAAAAAAAoIRAAAAAAADghUAAAAAAAAiGQAAAAAAA4IVAAAAAAACghEAAAAAAALiFQAAAAAAAgIZAAAAAAADghUAAAAAAAAiGQAAAAAAAoIRAAAAAAABohUAAAAAAAKCEQAAAAAAA8IRAAAAAAACAhkAAAAAAABiFQAAAAAAAuIVAAAAAAABohUAAAAAAAOCFQAAAAAAA4IVAAAAAAABwh0AAAAAAAGiFQAAAAAAAgIZAAAAAAACghEAAAAAAAHCHQAAAAAAAuIVAAAAAAAC4hUAAAAAAALiFQAAAAAAAQIVAAAAAAACghEAAAAAAAMiEQAAAAAAACIZAAAAAAABohUAAAAAAAMiEQAAAAAAAMIZAAAAAAAAIhkAAAAAAAOiHQAAAAAAAaIVAAAAAAAAYhUAAAAAAAGiFQAAAAAAAqIZAAAAAAABAhUAAAAAAAPCEQAAAAAAAYIhAAAAAAACQhUAAAAAAADiIQAAAAAAAaIVAAAAAAACAhkAAAAAAAKCEQAAAAAAAgIZAAAAAAAC4hUAAAAAAAEiHQAAAAAAAoIRAAAAAAABohUAAAAAAAGiFQAAAAAAAQIVAAAAAAACghEAAAAAAAPCEQAAAAAAAoIRAAAAAAADwhEAAAAAAAMiEQAAAAAAAGIVAAAAAAACohkAAAAAAAFiGQAAAAAAAcIdAAAAAAADghUAAAAAAAAiGQAAAAAAAWIZAAAAAAADwhEAAAAAAAECFQAAAAAAAoIRAAAAAAACohkAAAAAAAPiGQAAAAAAAMIZAAAAAAAAIhkAAAAAAALiFQAAAAAAAaIVAAAAAAAAgh0AAAAAAABiFQAAAAAAAaIVAAAAAAADwhEAAAAAAAOCFQAAAAAAAoIRAAAAAAAAwhkAAAAAAAAiGQAAAAAAAMIZAAAAAAAAwhkAAAAAAABiFQAAAAAAAgIZAAAAAAABAhUAAAAAAAICGQAAAAAAA8IRAAAAAAADwhEAAAAAAAKCEQAAAAAAAyIRAAAAAAACYh0AAAAAAAPCEQAAAAAAAkIVAAAAAAADIhEAAAAAAAJCFQAAAAAAA4IVAAAAAAABwh0AAAAAAAMiEQAAAAAAACIZAAAAAAABohUAAAAAAAACJQAAAAAAAqIZAAAAAAAAYhUAAAAAAAGiFQAAAAAAAWIZAAAAAAAAIhkAAAAAAAECFQAAAAAAA4IVAAAAAAACAhkAAAAAAAFiGQAAAAAAA2IhAAAAAAACQhUAAAAAAABiFQAAAAAAACIZAAAAAAABohUAAAAAAAGiFQAAAAAAAaIVAAAAAAABYhkAAAAAAAMiEQAAAAAAAQIVAAAAAAABAhUAAAAAAAJiHQAAAAAAAyIRAAAAAAABAhUAAAAAAAJCFQAAAAAAAwIdAAAAAAACQhUAAAAAAACCHQAAAAAAAyIRAAAAAAACQhUAAAAAAABiFQAAAAAAAgIZAAAAAAABohUAAAAAAAICGQAAAAAAAQIVAAAAAAAAIhkAAAAAAAPCEQAAAAAAAWIZAAAAAAABAhUAAAAAAABiFQAAAAAAAQIVAAAAAAADwhEAAAAAAABiFQAAAAAAAuIVAAAAAAADwhEAAAAAAAMCHQAAAAAAAGIVAAAAAAADwhEAAAAAAANCGQAAAAAAAkIVAAAAAAADghUAAAAAAAMiEQAAAAAAAoIRAAAAAAACAhkAAAAAAAECFQAAAAAAA8IRAAAAAAAAIhkAAAAAAAJCFQAAAAAAAuIVAAAAAAACghEAAAAAAAOCFQAAAAAAAgIZAAAAAAAAQiEAAAAAAAPCEQAAAAAAAyIRAAAAAAADwhEAAAAAAANCGQAAAAAAAQIVAAAAAAABYhkAAAAAAADCGQAAAAAAAGIVAAAAAAACQhUAAAAAAAGiFQAAAAAAAgIZAAAAAAACghEAAAAAAAMiEQAAAAAAA8IRAAAAAAACwiEAAAAAAAECFQAAAAAAACIZAAAAAAACghEAAAAAAADiIQAAAAAAAQIVAAAAAAADIhEAAAAAAAKCEQAAAAAAAWIZAAAAAAADghUAAAAAAAOiHQAAAAAAAaIVAAAAAAACQhUAAAAAAAMiEQAAAAAAA8IRAAAAAAADghUAAAAAAADCGQAAAAAAAmIdAAAAAAADIhEAAAAAAAGiFQAAAAAAAoIRAAAAAAAAYhUAAAAAAAKCEQAAAAAAAqIZAAAAAAAAYhUAAAAAAAJCFQAAAAAAAwIdAAAAAAADoh0AAAAAAABiFQAAAAAAA8IRAAAAAAAAIhkAAAAAAAGiFQAAAAAAAGIVAAAAAAADwhEAAAAAAAECFQAAAAAAA4IVAAAAAAACghEAAAAAAALiFQAAAAAAAEIhAAAAAAACQhUAAAAAAAKCEQAAAAAAA+IZAAAAAAACAhkAAAAAAANCGQAAAAAAAgIZAAAAAAADIhEAAAAAAAJCFQAAAAAAAiIhAAAAAAAA4iEAAAAAAAAiGQAAAAAAAkIVAAAAAAABYhkAAAAAAAGiFQAAAAAAAyIRAAAAAAADIhEAAAAAAALiFQAAAAAAA4IVAAAAAAABIh0AAAAAAADCGQAAAAAAAkIVAAAAAAADoh0AAAAAAAFiGQAAAAAAAyIRAAAAAAACohkAAAAAAAOCFQAAAAAAAyIRAAAAAAAAwhkAAAAAAAICGQAAAAAAACIZAAAAAAADghUAAAAAAAGiFQAAAAAAAAIlAAAAAAACohkAAAAAAADCGQAAAAAAAgIZAAAAAAABAhUAAAAAAAKiGQAAAAAAAaIVAAAAAAADIhEAAAAAAAJCFQAAAAAAAyIRAAAAAAADghUAAAAAAABiFQAAAAAAAyIRAAAAAAAAYhUAAAAAAAKCEQAAAAAAA8IRAAAAAAADIhEAAAAAAAPCEQAAAAAAAMIZAAAAAAAC4hUAAAAAAAOCFQAAAAAAAQIVAAAAAAADwhEAAAAAAANCGQAAAAAAASIdAAAAAAAAYhUAAAAAAAHCHQAAAAAAAgIZAAAAAAACQhUAAAAAAAECFQAAAAAAA4IVAAAAAAAAYhUAAAAAAAKCEQAAAAAAASIdAAAAAAADYiEAAAAAAABiFQAAAAAAAyIRAAAAAAACohkAAAAAAAMiEQAAAAAAAUIlAAAAAAADIhEAAAAAAACCHQAAAAAAAQIVAAAAAAAAwhkAAAAAAAKiGQAAAAAAA8IRAAAAAAADwhEAAAAAAALCIQAAAAAAAuIVAAAAAAAC4hUAAAAAAAPCEQAAAAAAA4IVAAAAAAACQhUAAAAAAAMCHQAAAAAAAuIVAAAAAAABAhUAAAAAAAOCFQAAAAAAAIIdAAAAAAAAYhUAAAAAAAICGQAAAAAAAgIZAAAAAAADIhEAAAAAAADCGQAAAAAAAuIVAAAAAAADwhEAAAAAAAHCHQAAAAAAAoIRAAAAAAABohUAAAAAAAOCFQAAAAAAAyIRAAAAAAACAhkAAAAAAAMiEQAAAAAAA8IRAAAAAAADQhkAAAAAAAPCEQAAAAAAACIZAAAAAAACghEAAAAAAAECFQAAAAAAAQIVAAAAAAADghUAAAAAAABCIQAAAAAAAyIRAAAAAAAC4hUAAAAAAALiFQAAAAAAAaIVAAAAAAADIhEAAAAAAAPCEQAAAAAAA6IdAAAAAAACwiEAAAAAAAKCEQAAAAAAAyIRAAAAAAADghUAAAAAAAAiGQAAAAAAA4IVAAAAAAABAhUAAAAAAABiFQAAAAAAAaIVAAAAAAACQhUAAAAAAALiFQAAAAAAA6IdAAAAAAADwhEAAAAAAAGiFQAAAAAAA4IVAAAAAAADwhEAAAAAAAECFQAAAAAAAGIVAAAAAAAAYhUAAAAAAAOCFQAAAAAAAoIRAAAAAAAC4hUAAAAAAAPCEQAAAAAAAGIVAAAAAAAAQiEAAAAAAAJiHQAAAAAAA2IhAAAAAAADIhEAAAAAAAJCFQAAAAAAAsIhAAAAAAAAIhkAAAAAAAKiGQAAAAAAA4IVAAAAAAADwhEAAAAAAAECFQAAAAAAAoIRAAAAAAABYhkAAAAAAAECFQAAAAAAAQIVAAAAAAABAhUAAAAAAAKCEQAAAAAAASIdAAAAAAAAgh0AAAAAAAECFQAAAAAAA4IVAAAAAAADwhEAAAAAAAECFQAAAAAAA6IdAAAAAAADghUAAAAAAAKCEQAAAAAAAIIdAAAAAAABYhkAAAAAAALiFQAAAAAAAWIZAAAAAAACQhUAAAAAAAPiGQAAAAAAAkIVAAAAAAADIhEAAAAAAAKiGQAAAAAAAkIVAAAAAAAAIhkAAAAAAADCGQAAAAAAA4IVAAAAAAADghUAAAAAAAEiHQAAAAAAAaIVAAAAAAADghUAAAAAAAKiGQAAAAAAAyIRAAAAAAABohUAAAAAAAJCFQAAAAAAAOIhAAAAAAADIhEAAAAAAAKCEQAAAAAAAoIRAAAAAAABYhkAAAAAAAACJQAAAAAAA4IVAAAAAAACghEAAAAAAAKCEQAAAAAAAyIRAAAAAAADIhEAAAAAAADCGQAAAAAAAGIVAAAAAAACghEAAAAAAAICGQAAAAAAAGIVAAAAAAAAwhkAAAAAAAHiJQAAAAAAAgIZAAAAAAADghUAAAAAAAMiEQAAAAAAAgIZAAAAAAADIhEAAAAAAAFiGQAAAAAAAuIVAAAAAAABAhUAAAAAAALiFQAAAAAAAGIVAAAAAAAAgh0AAAAAAAFiGQAAAAAAAwIdAAAAAAABohUAAAAAAAKiGQAAAAAAAGIVAAAAAAACAhkAAAAAAAOCFQAAAAAAACIZAAAAAAAC4hUAAAAAAAOCFQAAAAAAAuIVAAAAAAADAh0AAAAAAAMiEQAAAAAAACIZAAAAAAADwhEAAAAAAAPCEQAAAAAAAmIdAAAAAAAAAiUAAAAAAAFCJQAAAAAAA4IVAAAAAAAAYhUAAAAAAAFiGQAAAAAAAMIZAAAAAAACohkAAAAAAAGiFQAAAAAAAaIVAAAAAAAAIhkAAAAAAAKCEQAAAAAAAGIVAAAAAAACQhUAAAAAAAKCEQAAAAAAAuIVAAAAAAABwh0AAAAAAAGCIQAAAAAAAuIVAAAAAAABYhkAAAAAAAKCEQAAAAAAAgIZAAAAAAACghEAAAAAAALCIQAAAAAAAaIVAAAAAAAAYhUAAAAAAAKCEQAAAAAAAmIdAAAAAAABYhkAAAAAAAPCEQAAAAAAAWIZAAAAAAAAYhUAAAAAAAFiGQAAAAAAAoIRAAAAAAAA4iEAAAAAAAKCEQAAAAAAAGIVAAAAAAADIhEAAAAAAAMiEQAAAAAAA8IRAAAAAAACghEAAAAAAAKCEQAAAAAAAoIRAAAAAAADoh0AAAAAAAMiEQAAAAAAAcIdAAAAAAADwhEAAAAAAAMiEQAAAAAAAoIRAAAAAAAAwhkAAAAAAAKCEQAAAAAAAyIRAAAAAAADIhEAAAAAAAPCEQAAAAAAAaIVAAAAAAADghUAAAAAAAIiIQAAAAAAAyIRAAAAAAACghEAAAAAAALiFQAAAAAAAQIVAAAAAAADghUAAAAAAALiFQAAAAAAAGIVAAAAAAAAYhUAAAAAAAKCEQAAAAAAA2IhAAAAAAADYiEAAAAAAAKCEQAAAAAAAaIVAAAAAAADghUAAAAAAAPCEQAAAAAAAQIVAAAAAAACghEAAAAAAALiFQAAAAAAAyIRAAAAAAACIiEAAAAAAAOCFQAAAAAAAQIVAAAAAAACghEAAAAAAADCGQAAAAAAAEIhAAAAAAABQiUAAAAAAACCHQAAAAAAA6IdAAAAAAABAhUAAAAAAAKCEQAAAAAAAQIVAAAAAAABYhkAAAAAAAICGQAAAAAAAgIZAAAAAAADIhEAAAAAAAGiFQAAAAAAAyIRAAAAAAAC4hUAAAAAAABiFQAAAAAAAGIVAAAAAAACgiUAAAAAAAPCEQAAAAAAAaIVAAAAAAABAhUAAAAAAAJCFQAAAAAAAuIVAAAAAAAAYhUAAAAAAABiFQAAAAAAAWIZAAAAAAABohUAAAAAAAOCFQAAAAAAAkIVAAAAAAAAYhUAAAAAAAGiFQAAAAAAAuIVAAAAAAABAhUAAAAAAALiFQAAAAAAA+IZAAAAAAACQhUAAAAAAAKCEQAAAAAAAGIVAAAAAAACghEAAAAAAAECFQAAAAAAAGIVAAAAAAACIiEAAAAAAAMCHQAAAAAAAGIVAAAAAAABAhUAAAAAAALiFQAAAAAAA8IRAAAAAAABohUAAAAAAAOCFQAAAAAAAaIVAAAAAAABohUAAAAAAAMiEQAAAAAAAQIVAAAAAAAAIhkAAAAAAABiFQAAAAAAAmIdAAAAAAAAwhkAAAAAAABiFQAAAAAAAOIhAAAAAAABohUAAAAAAAPCEQAAAAAAAQIVAAAAAAAD4hkAAAAAAAIiIQAAAAAAAoIRAAAAAAADAh0AAAAAAAJCFQAAAAAAAQIVAAAAAAAA4iEAAAAAAAPiGQAAAAAAAuIVAAAAAAACAhkAAAAAAAMiEQAAAAAAAMIZAAAAAAADIhEAAAAAAAOCFQAAAAAAAGIVAAAAAAADghUAAAAAAABiFQAAAAAAA6IdAAAAAAADwhEAAAAAAAOCFQAAAAAAAkIVAAAAAAACohkAAAAAAADCGQAAAAAAAQIVAAAAAAAAYhUAAAAAAALCIQAAAAAAAGIVAAAAAAADwhEAAAAAAAKCEQAAAAAAA8IRAAAAAAACghEAAAAAAAKCJQAAAAAAACIZAAAAAAAAwhkAAAAAAAPCEQAAAAAAAWIZAAAAAAAAIhkAAAAAAAAiGQAAAAAAAoIRAAAAAAADIhEAAAAAAAKCEQAAAAAAAoIRAAAAAAAAIhkAAAAAAABiFQAAAAAAASIdAAAAAAABYhkAAAAAAAJiHQAAAAAAAaIVAAAAAAAAYhUAAAAAAABiFQAAAAAAAkIVAAAAAAADIhEAAAAAAAJiHQAAAAAAA8IRAAAAAAADghUAAAAAAAECFQAAAAAAAyIRAAAAAAADIhEAAAAAAAGiFQAAAAAAA0IZAAAAAAADwhEAAAAAAADCGQAAAAAAAuIVAAAAAAADQhkAAAAAAABiFQAAAAAAA8IRAAAAAAACghEAAAAAAAJCFQAAAAAAAaIVAAAAAAABYhkAAAAAAAMCHQAAAAAAAKIlAAAAAAADIhEAAAAAAAMiEQAAAAAAAGIVAAAAAAACghEAAAAAAAPCEQAAAAAAAkIVAAAAAAADwhEAAAAAAAEiHQAAAAAAACIZAAAAAAAAwhkAAAAAAAMiEQAAAAAAAyIRAAAAAAABohUAAAAAAACCHQAAAAAAAGIVAAAAAAAAIhkAAAAAAAECFQAAAAAAAMIZAAAAAAAC4hUAAAAAAAPCEQAAAAAAA2IhAAAAAAADIhEAAAAAAAPCEQAAAAAAA4IVAAAAAAAAgh0AAAAAAAGiFQAAAAAAAQIVAAAAAAABohUAAAAAAADCGQAAAAAAAuIVAAAAAAADghUAAAAAAANiIQAAAAAAA4IVAAAAAAADghUAAAAAAAJCFQAAAAAAAaIVAAAAAAADAh0AAAAAAALCIQAAAAAAAWIZAAAAAAAAYhUAAAAAAABiFQAAAAAAA4IVAAAAAAAAgh0AAAAAAAJCFQAAAAAAAoIRAAAAAAACAhkAAAAAAAPCEQAAAAAAAsIhAAAAAAABAhUAAAAAAADiIQAAAAAAAUIlAAAAAAABohUAAAAAAALiFQAAAAAAAkIVAAAAAAAAwhkAAAAAAAAiGQAAAAAAAIIdAAAAAAADIhEAAAAAAAFiGQAAAAAAAoIRAAAAAAADIhEAAAAAAAICGQAAAAAAAqIZAAAAAAABYhkAAAAAAALiFQAAAAAAAqIZAAAAAAAAIhkAAAAAAAGCIQAAAAAAA+IZAAAAAAABohUAAAAAAAOCFQAAAAAAAyIRAAAAAAACghEAAAAAAAGiFQAAAAAAAEIhAAAAAAAAIhkAAAAAAAECFQAAAAAAAMIZAAAAAAAAwhkAAAAAAAPCEQAAAAAAACIZAAAAAAACghEAAAAAAAMiEQAAAAAAA8IRAAAAAAAC4hUAAAAAAAICGQAAAAAAAuIVAAAAAAAC4hUAAAAAAACCHQAAAAAAA8IRAAAAAAABYhkAAAAAAAPCEQAAAAAAAGIpAAAAAAACohkAAAAAAAGiFQAAAAAAAQIVAAAAAAABAhUAAAAAAAAiGQAAAAAAA8IRAAAAAAAC4hUAAAAAAADCGQAAAAAAAkIVAAAAAAADwhEAAAAAAAGiFQAAAAAAAQIVAAAAAAADghUAAAAAAAFiGQAAAAAAAGIVAAAAAAADIhEAAAAAAAECFQAAAAAAAGIVAAAAAAABAhUAAAAAAAKCEQAAAAAAAkIVAAAAAAAAYhUAAAAAAABiFQAAAAAAAWIZAAAAAAADghUAAAAAAAAiGQAAAAAAAMIZAAAAAAACQhUAAAAAAAMiEQAAAAAAA8IRAAAAAAAAYhUAAAAAAAAiGQAAAAAAAyIRAAAAAAACghEAAAAAAAKCEQAAAAAAA8IRAAAAAAADIhEAAAAAAAKCEQAAAAAAA+IZAAAAAAADghUAAAAAAAPCEQAAAAAAAMIZAAAAAAAAIhkAAAAAAAKCEQAAAAAAAMIZAAAAAAADwhEAAAAAAADCGQAAAAAAAWIZAAAAAAADwhEAAAAAAAPiGQAAAAAAACIZAAAAAAAC4hUAAAAAAAKCEQAAAAAAAgIZAAAAAAAAwhkAAAAAAAECFQAAAAAAAWIZAAAAAAADwhEAAAAAAAKCEQAAAAAAAuIVAAAAAAABwh0AAAAAAAJCFQAAAAAAAyIRAAAAAAABAhUAAAAAAAPCEQAAAAAAA4IVAAAAAAAAYhUAAAAAAAFiGQAAAAAAAoIRAAAAAAABAhUAAAAAAAJCFQAAAAAAA+IZAAAAAAADIhEAAAAAAABiFQAAAAAAA4IVAAAAAAADIhEAAAAAAAJCFQAAAAAAAkIVAAAAAAADwhEAAAAAAAJCFQAAAAAAAMIZAAAAAAAD4hkAAAAAAAHCHQAAAAAAAkIVAAAAAAADwhEAAAAAAAPiGQAAAAAAA4IVAAAAAAADwhEAAAAAAAPiGQAAAAAAAQIVAAAAAAACQhUAAAAAAAPiGQAAAAAAAcIdAAAAAAAAYhUAAAAAAABiFQAAAAAAAyIRAAAAAAAAYhUAAAAAAABiFQAAAAAAACIZAAAAAAAAYhUAAAAAAAMiEQAAAAAAAoIRAAAAAAADghUAAAAAAAOCFQAAAAAAA8IRAAAAAAAC4hUAAAAAAAGiFQAAAAAAAQIVAAAAAAADwhEAAAAAAAJiHQAAAAAAA4IVAAAAAAADwhEAAAAAAABiFQAAAAAAAkIVAAAAAAABwh0AAAAAAAECFQAAAAAAAWIZAAAAAAAAIhkAAAAAAAHCHQAAAAAAAQIVAAAAAAAD4hkAAAAAAAPCEQAAAAAAAyIRAAAAAAADghUAAAAAAAMiEQAAAAAAAGIVAAAAAAABIh0AAAAAAAMiEQAAAAAAA6IdAAAAAAAA4iEAAAAAAAOCFQAAAAAAAGIVAAAAAAAC4hUAAAAAAADCGQAAAAAAAkIVAAAAAAAD4hkAAAAAAAKCEQAAAAAAA4IVAAAAAAAAIhkAAAAAAAHCHQAAAAAAAkIVAAAAAAABohUAAAAAAABiFQAAAAAAAkIVAAAAAAABYhkAAAAAAAKCEQAAAAAAA4IVAAAAAAADIhEAAAAAAABiFQAAAAAAAkIVAAAAAAADghUAAAAAAAKCEQAAAAAAAgIZAAAAAAADwhEAAAAAAAKCEQAAAAAAAQIVAAAAAAABAhUAAAAAAAFiGQAAAAAAA4IVAAAAAAABAhUAAAAAAAJCFQAAAAAAAyIRAAAAAAADIhEAAAAAAAICGQAAAAAAAoIRAAAAAAAC4hUAAAAAAADCGQAAAAAAAMIZAAAAAAACohkAAAAAAAMiEQAAAAAAAQIVAAAAAAADghUAAAAAAAMCHQAAAAAAAgIZAAAAAAADwhEAAAAAAAJCFQAAAAAAAaIVAAAAAAABgiEAAAAAAAAiGQAAAAAAAaIVAAAAAAACghEAAAAAAAJCFQAAAAAAA8IRAAAAAAABwh0AAAAAAAMiEQAAAAAAAQIVAAAAAAADIhEAAAAAAAMiEQAAAAAAAuIVAAAAAAAC4hUAAAAAAALiFQAAAAAAAoIRAAAAAAABAhUAAAAAAAPiGQAAAAAAAoIRAAAAAAABAhUAAAAAAACiJQAAAAAAACIZAAAAAAABwh0AAAAAAAICGQAAAAAAACIZAAAAAAABohUAAAAAAAGCIQAAAAAAAkIVAAAAAAABAhUAAAAAAALiFQAAAAAAA8IRAAAAAAABAhUAAAAAAAGiFQAAAAAAAgIZAAAAAAABYhkAAAAAAAEiHQAAAAAAAkIVAAAAAAAAoiUAAAAAAABiFQAAAAAAAqIZAAAAAAAAYhUAAAAAAADCGQAAAAAAA8IRAAAAAAACghEAAAAAAAPCEQAAAAAAAmIdAAAAAAAAIhkAAAAAAANiIQAAAAAAASIdAAAAAAADQhkAAAAAAAMiEQAAAAAAAuIVAAAAAAAAIhkAAAAAAAGiFQAAAAAAAaIVAAAAAAAC4hUAAAAAAABiFQAAAAAAA8IRAAAAAAADwhEAAAAAAADCGQAAAAAAAgIZAAAAAAABohUAAAAAAAMiEQAAAAAAA8IRAAAAAAACohkAAAAAAACCHQAAAAAAAGIVAAAAAAADIhEAAAAAAANCGQAAAAAAAaIVAAAAAAADghUAAAAAAAMiEQAAAAAAAeIlAAAAAAADIhEAAAAAAACCHQAAAAAAAoIRAAAAAAAAIhkAAAAAAAPCEQAAAAAAA0IZAAAAAAAAIhkAAAAAAAKCEQAAAAAAAMIZAAAAAAAAwhkAAAAAAACCHQAAAAAAAoIRAAAAAAAD4hkAAAAAAAOCFQAAAAAAAWIZAAAAAAADIhEAAAAAAALiFQAAAAAAAaIVAAAAAAAAIhkAAAAAAAJiHQAAAAAAAgIZAAAAAAACAhkAAAAAAAJCFQAAAAAAA8IRAAAAAAADIhEAAAAAAAECFQAAAAAAAWIZAAAAAAADghUAAAAAAACCHQAAAAAAAoIRAAAAAAAAIhkAAAAAAADiIQAAAAAAAQIVAAAAAAAA4iEAAAAAAAGiFQAAAAAAAyIRAAAAAAACohkAAAAAAAKiGQAAAAAAAoIRAAAAAAACghEAAAAAAAOCFQAAAAAAAqIZAAAAAAABohUAAAAAAAPiGQAAAAAAAyIRAAAAAAAC4hUAAAAAAAECFQAAAAAAAWIZAAAAAAADoh0AAAAAAAECFQAAAAAAACIZAAAAAAADIhEAAAAAAAGiFQAAAAAAAaIVAAAAAAAA4iEAAAAAAAMiEQAAAAAAA0IZAAAAAAAAQiEAAAAAAAJCFQAAAAAAAQIVAAAAAAADwhEAAAAAAABiFQAAAAAAAoIRAAAAAAAAwhkAAAAAAALiFQAAAAAAAyIRAAAAAAAC4hUAAAAAAABiFQAAAAAAAaIVAAAAAAAC4hUAAAAAAAKiGQAAAAAAAaIVAAAAAAABAhUAAAAAAALiFQAAAAAAAyIRAAAAAAADwhEAAAAAAAECFQAAAAAAA+IZAAAAAAAAIhkAAAAAAAOCFQAAAAAAAIIdAAAAAAAAIhkAAAAAAAGiFQAAAAAAAgIZAAAAAAABwh0AAAAAAALiFQAAAAAAAuIVAAAAAAADwhEAAAAAAAMiEQAAAAAAAGIVAAAAAAACohkAAAAAAAOCFQAAAAAAAyIRAAAAAAADwhEAAAAAAABiFQAAAAAAAkIVAAAAAAACAhkAAAAAAAAiGQAAAAAAA8IRAAAAAAACghEAAAAAAAOiHQAAAAAAAyIRAAAAAAAAwhkAAAAAAABCIQAAAAAAAQIVAAAAAAABIh0AAAAAAABiFQAAAAAAAkIVAAAAAAAC4hUAAAAAAAGiFQAAAAAAAkIVAAAAAAAAwhkAAAAAAAGiFQAAAAAAA8IRAAAAAAAAIhkAAAAAAAEiHQAAAAAAAoIRAAAAAAABAhUAAAAAAAKiGQAAAAAAAkIVAAAAAAADghUAAAAAAABiFQAAAAAAAoIRAAAAAAADwhEAAAAAAABiFQAAAAAAAkIVAAAAAAABohUAAAAAAAPCEQAAAAAAAQIVAAAAAAACohkAAAAAAAECFQAAAAAAACIZAAAAAAADIhEAAAAAAACCHQAAAAAAA2IhAAAAAAAD4hkAAAAAAANiIQAAAAAAAoIRAAAAAAAAwhkAAAAAAAPCEQAAAAAAA8IRAAAAAAABohUAAAAAAAJiHQAAAAAAAyIRAAAAAAABwh0AAAAAAAKCEQAAAAAAACIZAAAAAAABwh0AAAAAAAAiGQAAAAAAAIIdAAAAAAADwhEAAAAAAAFiGQAAAAAAA8IRAAAAAAADQhkAAAAAAAECFQAAAAAAAaIVAAAAAAAAYhUAAAAAAAECFQAAAAAAA8IRAAAAAAADoh0AAAAAAAOiHQAAAAAAA0IZAAAAAAADIhEAAAAAAAOCFQAAAAAAAQIVAAAAAAAAIhkAAAAAAAJCFQAAAAAAA+IZAAAAAAACYh0AAAAAAAJiHQAAAAAAAyIRAAAAAAAAwhkAAAAAAAJCFQAAAAAAAQIVAAAAAAAAYhUAAAAAAAKCEQAAAAAAAqIZAAAAAAACIiEAAAAAAAJiHQAAAAAAAGIVAAAAAAABAhUAAAAAAAPiGQAAAAAAAoIRAAAAAAABohUAAAAAAABiFQAAAAAAA8IRAAAAAAABohUAAAAAAAMiEQAAAAAAAYIhAAAAAAAC4hUAAAAAAAECFQAAAAAAAaIVAAAAAAABohUAAAAAAAKCEQAAAAAAAGIVAAAAAAADIhEAAAAAAADiIQAAAAAAAIIdAAAAAAADQhkAAAAAAADCGQAAAAAAAyIRAAAAAAABAhUAAAAAAAOCFQAAAAAAAGIVAAAAAAABohUAAAAAAAKiGQAAAAAAAyIRAAAAAAADwhEAAAAAAAMiEQAAAAAAAMIZAAAAAAABgiEAAAAAAAECFQAAAAAAA0IZAAAAAAADghUAAAAAAAKCEQAAAAAAA8IRAAAAAAACQhUAAAAAAAKCEQAAAAAAAyIRAAAAAAABIh0AAAAAAAGiFQAAAAAAAsIhAAAAAAADIhEAAAAAAAPCEQAAAAAAAkIVAAAAAAADIhEAAAAAAAKiGQAAAAAAAYIhAAAAAAACQhUAAAAAAAPCEQAAAAAAAyIRAAAAAAAAYhUAAAAAAAJCFQAAAAAAAkIVAAAAAAAAwhkAAAAAAAPiGQAAAAAAACIZAAAAAAAAYhUAAAAAAAKiGQAAAAAAA8IRAAAAAAACghEAAAAAAAGiFQAAAAAAACIZAAAAAAADoh0AAAAAAAECFQAAAAAAACIZAAAAAAAC4hUAAAAAAABiFQAAAAAAAkIVAAAAAAADwhEAAAAAAABCIQAAAAAAAoIRAAAAAAACghEAAAAAAAGiFQAAAAAAACIZAAAAAAADghUAAAAAAACCHQAAAAAAA4IVAAAAAAAAYhUAAAAAAAKCEQAAAAAAA4IVAAAAAAAAYhUAAAAAAALiFQAAAAAAAyIRAAAAAAAC4hUAAAAAAALiFQAAAAAAAMIZAAAAAAAAYhUAAAAAAAMiEQAAAAAAAuIVAAAAAAAAgh0AAAAAAACCHQAAAAAAAkIVAAAAAAADIhEAAAAAAABiFQAAAAAAAyIRAAAAAAAAIhkAAAAAAAJCFQAAAAAAACIZAAAAAAADAh0AAAAAAABiFQAAAAAAAWIZAAAAAAADAh0AAAAAAAEiHQAAAAAAAQIVAAAAAAAC4hUAAAAAAAMCHQAAAAAAAQIVAAAAAAADQhkAAAAAAADCGQAAAAAAAMIZAAAAAAABohUAAAAAAAGiFQAAAAAAAkIVAAAAAAABgiEAAAAAAAJCFQAAAAAAA6IdAAAAAAACQhUAAAAAAAOCFQAAAAAAAyIRAAAAAAACghEAAAAAAAOCFQAAAAAAAaIVAAAAAAACAhkAAAAAAAJCFQAAAAAAAaIVAAAAAAADwhEAAAAAAADCGQAAAAAAAoIRAAAAAAADwhEAAAAAAAPCEQAAAAAAACIZAAAAAAACQhUAAAAAAAPCEQAAAAAAAEIhAAAAAAACohkAAAAAAAAiGQAAAAAAAWIZAAAAAAADghUAAAAAAAJCFQAAAAAAA8IRAAAAAAACghEAAAAAAAAiGQAAAAAAACIZAAAAAAADQhkAAAAAAACiJQAAAAAAAQIVAAAAAAADghUAAAAAAACCHQAAAAAAAoIRAAAAAAABYhkAAAAAAACCHQAAAAAAA0IZAAAAAAADoh0AAAAAAAMiEQAAAAAAAgIZAAAAAAACQhUAAAAAAAOiHQAAAAAAA4IVAAAAAAAAIhkAAAAAAAMiEQAAAAAAAGIVAAAAAAACQhUAAAAAAABiFQAAAAAAA8IRAAAAAAADYiEAAAAAAALiFQAAAAAAA0IZAAAAAAADIhEAAAAAAAECFQAAAAAAAOIhAAAAAAADQhkAAAAAAAAiGQAAAAAAAkIVAAAAAAAAwhkAAAAAAAAiGQAAAAAAAGIVAAAAAAADwhEAAAAAAABiFQAAAAAAAgIZAAAAAAACghEAAAAAAAGiFQAAAAAAAGIVAAAAAAAD4hkAAAAAAAMiEQAAAAAAAyIRAAAAAAAAwhkAAAAAAAKCEQAAAAAAAuIVAAAAAAABIh0AAAAAAAECFQAAAAAAAyIRAAAAAAADwhEAAAAAAADCGQAAAAAAAyIRAAAAAAABYhkAAAAAAAPCEQAAAAAAACIZAAAAAAABAhUAAAAAAAOCFQAAAAAAAkIVAAAAAAABAhUAAAAAAAKCEQAAAAAAAmIdAAAAAAAC4hUAAAAAAAPCEQAAAAAAAQIVAAAAAAABAhUAAAAAAAGiFQAAAAAAAaIVAAAAAAABYhkAAAAAAAACJQAAAAAAAQIVAAAAAAABAhUAAAAAAAGCIQAAAAAAAIIdAAAAAAACghEAAAAAAAJCFQAAAAAAAoIRAAAAAAADwhEAAAAAAAJCFQAAAAAAAWIZAAAAAAADghUAAAAAAAEiHQAAAAAAA8IRAAAAAAACAhkAAAAAAADCGQAAAAAAAmIdAAAAAAACghEAAAAAAAJCFQAAAAAAACIZAAAAAAAAYhUAAAAAAAECFQAAAAAAAqIZAAAAAAABohUAAAAAAAOCFQAAAAAAAIIdAAAAAAAAYhUAAAAAAAOiHQAAAAAAA8IRAAAAAAABohUAAAAAAAJCFQAAAAAAAuIVAAAAAAADwhEAAAAAAAKCEQAAAAAAAuIVAAAAAAACghEAAAAAAALiFQAAAAAAA4IVAAAAAAADghUAAAAAAABCIQAAAAAAACIZAAAAAAABohUAAAAAAAJCFQAAAAAAAoIRAAAAAAACAhkAAAAAAAAiGQAAAAAAAQIVAAAAAAABAhUAAAAAAAAiGQAAAAAAA6IdAAAAAAADAh0AAAAAAABiFQAAAAAAAyIRAAAAAAABAhUAAAAAAAICGQAAAAAAA8IRAAAAAAADghUAAAAAAABiFQAAAAAAAoIRAAAAAAADghUAAAAAAAJCFQAAAAAAACIZAAAAAAAAIhkAAAAAAADCGQAAAAAAA8IRAAAAAAAC4hUAAAAAAAECFQAAAAAAAkIVAAAAAAAAQiEAAAAAAAAiGQAAAAAAAMIZAAAAAAABohUAAAAAAAICGQAAAAAAA8IRAAAAAAADghUAAAAAAALiFQAAAAAAA8IRAAAAAAADghUAAAAAAAPCEQAAAAAAA8IRAAAAAAADoh0AAAAAAAJCFQAAAAAAAKIlAAAAAAAAIhkAAAAAAAKCEQAAAAAAAWIZAAAAAAADIhEAAAAAAAAiGQAAAAAAAoIRAAAAAAADwhEAAAAAAAMCHQAAAAAAAyIRAAAAAAAAIhkAAAAAAAOiHQAAAAAAAyIRAAAAAAABAhUAAAAAAABiFQAAAAAAAyIRAAAAAAACohkAAAAAAABiFQAAAAAAAgIZAAAAAAABohUAAAAAAAAiGQAAAAAAAmIdAAAAAAAAIhkAAAAAAAKCEQAAAAAAAGIVAAAAAAACwiEAAAAAAAICGQAAAAAAACIZAAAAAAABIh0AAAAAAAPCEQAAAAAAAqIZAAAAAAADwhEAAAAAAADiIQAAAAAAA4IVAAAAAAABAhUAAAAAAAICGQAAAAAAAGIVAAAAAAAC4hUAAAAAAAKiGQAAAAAAAEIhAAAAAAACghEAAAAAAAFiGQAAAAAAASIdAAAAAAAC4hUAAAAAAAMiEQAAAAAAAaIVAAAAAAACQhUAAAAAAAPCEQAAAAAAAaIVAAAAAAADIhEAAAAAAAKCEQAAAAAAAkIVAAAAAAACQhUAAAAAAALiFQAAAAAAAaIVAAAAAAAC4hUAAAAAAAAiGQAAAAAAAyIRAAAAAAACghEAAAAAAAECFQAAAAAAAoIRAAAAAAAAYhUAAAAAAAAiGQAAAAAAAaIVAAAAAAABohUAAAAAAAPCEQAAAAAAA8IRAAAAAAAAIhkAAAAAAABiFQAAAAAAA8IRAAAAAAAAIhkAAAAAAACiJQAAAAAAAMIZAAAAAAADIhEAAAAAAALiFQAAAAAAAGIVAAAAAAAC4hUAAAAAAAPiGQAAAAAAAuIVAAAAAAADwhEAAAAAAALCIQAAAAAAACIZAAAAAAABgiEAAAAAAAMiEQAAAAAAAoIRAAAAAAABohUAAAAAAAGiFQAAAAAAAGIVAAAAAAAC4hUAAAAAAALiFQAAAAAAAkIVAAAAAAADghUAAAAAAAGiKQAAAAAAAaIVAAAAAAADIhEAAAAAAAJCFQAAAAAAAWIZAAAAAAADghUAAAAAAAICGQAAAAAAAaIVAAAAAAADAh0AAAAAAABiFQAAAAAAAQIVAAAAAAADQhkAAAAAAAPCEQAAAAAAASIdAAAAAAABAhUAAAAAAABiFQAAAAAAAcIdAAAAAAADIhEAAAAAAABiFQAAAAAAAMIZAAAAAAADwhEAAAAAAAMiEQAAAAAAAEIhAAAAAAAAYhUAAAAAAAGiFQAAAAAAAyIRAAAAAAADwhEAAAAAAAPCEQAAAAAAACIZAAAAAAADwhEAAAAAAALiFQAAAAAAAgIZAAAAAAAC4hUAAAAAAAJCFQAAAAAAA4IVAAAAAAABAhUAAAAAAAEiHQAAAAAAASIdAAAAAAADghUAAAAAAANCGQAAAAAAAMIZAAAAAAABohUAAAAAAADiIQAAAAAAAkIVAAAAAAAAYhUAAAAAAAPCEQAAAAAAAQIVAAAAAAABAhUAAAAAAAKiGQAAAAAAASIdAAAAAAAC4hUAAAAAAAOCFQAAAAAAA0IZAAAAAAACghEAAAAAAAEiHQAAAAAAAMIZAAAAAAAC4hUAAAAAAAMiEQAAAAAAAQIVAAAAAAABohUAAAAAAAKCEQAAAAAAAkIVAAAAAAABIh0AAAAAAAMCHQAAAAAAAuIVAAAAAAADQhkAAAAAAAAiGQAAAAAAAyIRAAAAAAABohUAAAAAAABiFQAAAAAAAoIRAAAAAAADwhEAAAAAAAICGQAAAAAAAoIRAAAAAAAC4hUAAAAAAAKCEQAAAAAAAkIVAAAAAAAC4hUAAAAAAADCGQAAAAAAAQIVAAAAAAADghUAAAAAAALiFQAAAAAAAoIRAAAAAAADIhEAAAAAAAPCEQAAAAAAAWIZAAAAAAACQhUAAAAAAAKiGQAAAAAAA4IVAAAAAAAC4hUAAAAAAAPiGQAAAAAAAyIRAAAAAAACohkAAAAAAAJCFQAAAAAAAaIVAAAAAAAAYhUAAAAAAAKCEQAAAAAAAWIZAAAAAAABgiEAAAAAAAJCFQAAAAAAACIZAAAAAAABYhkAAAAAAAGiFQAAAAAAAoIRAAAAAAACQhUAAAAAAADCGQAAAAAAACIZAAAAAAAC4hUAAAAAAACCHQAAAAAAA4IVAAAAAAADwhEAAAAAAABiFQAAAAAAACIZAAAAAAACghEAAAAAAANCGQAAAAAAAqIZAAAAAAABAhUAAAAAAAAiGQAAAAAAAoIRAAAAAAACghEAAAAAAAICGQAAAAAAACIZAAAAAAABwh0AAAAAAAFiGQAAAAAAA8IRAAAAAAAAwhkAAAAAAAOiHQAAAAAAAGIVAAAAAAADwhEAAAAAAANCGQAAAAAAAaIVAAAAAAACghEAAAAAAAPCEQAAAAAAAIIdAAAAAAAC4hUAAAAAAABiFQAAAAAAAMIZAAAAAAADQhkAAAAAAAGiFQAAAAAAAMIZAAAAAAAAIhkAAAAAAAECFQAAAAAAAoIRAAAAAAAA4iEAAAAAAADCGQAAAAAAAOIhAAAAAAAC4hUAAAAAAADCGQAAAAAAAQIVAAAAAAADwhEAAAAAAABiFQAAAAAAAGIVAAAAAAAD4hkAAAAAAABiFQAAAAAAAoIRAAAAAAABYhkAAAAAAAEiHQAAAAAAAGIVAAAAAAADIhEAAAAAAAMiEQAAAAAAA+IZAAAAAAABohUAAAAAAABiFQAAAAAAAGIVAAAAAAACAhkAAAAAAACCHQAAAAAAAkIVAAAAAAAAwhkAAAAAAAEiHQAAAAAAAwIdAAAAAAADIhEAAAAAAAPCEQAAAAAAAgIZAAAAAAAAYikAAAAAAAKCEQAAAAAAAkIVAAAAAAADIhEAAAAAAABiFQAAAAAAAqIZAAAAAAADwhEAAAAAAAKiGQAAAAAAACIZAAAAAAACghEAAAAAAAPCEQAAAAAAA0IZAAAAAAABgiEAAAAAAAHCHQAAAAAAASIdAAAAAAACQhUAAAAAAABiFQAAAAAAA4IVAAAAAAAC4hUAAAAAAAMiEQAAAAAAA6IdAAAAAAABohUAAAAAAAKCEQAAAAAAAGIVAAAAAAAAYhUAAAAAAAJCFQAAAAAAA8IRAAAAAAADIhEAAAAAAAMiEQAAAAAAAGIVAAAAAAADghUAAAAAAAOCFQAAAAAAAIIdAAAAAAADIhEAAAAAAAKCEQAAAAAAAaIVAAAAAAADIhEAAAAAAAPCEQAAAAAAAyIRAAAAAAACghEAAAAAAAKiGQAAAAAAAGIVAAAAAAABohUAAAAAAABiFQAAAAAAACIZAAAAAAACQhUAAAAAAAOiHQAAAAAAAGIVAAAAAAABAhUAAAAAAAKiGQAAAAAAA6IdAAAAAAAC4hUAAAAAAAMiEQAAAAAAAaIVAAAAAAADwhEAAAAAAALiFQAAAAAAA+IZAAAAAAADIhEAAAAAAABCIQAAAAAAA4IVAAAAAAADIhEAAAAAAAMiEQAAAAAAAEIhAAAAAAADIhEAAAAAAABiFQAAAAAAAIIdAAAAAAABAhUAAAAAAAJiHQAAAAAAA8IRAAAAAAADAh0AAAAAAAMiEQAAAAAAAqIZAAAAAAAAIhkAAAAAAAKCEQAAAAAAAkIVAAAAAAAAwhkAAAAAAAECFQAAAAAAA8IRAAAAAAADwhEAAAAAAAAiGQAAAAAAAgIZAAAAAAADIhEAAAAAAANCGQAAAAAAAqIZAAAAAAABohUAAAAAAAMiEQAAAAAAAyIRAAAAAAAAgh0AAAAAAAPiGQAAAAAAAoIRAAAAAAACghEAAAAAAAKCEQAAAAAAAaIVAAAAAAAC4hUAAAAAAAPCEQAAAAAAAaIVAAAAAAACghEAAAAAAAMiEQAAAAAAA8IRAAAAAAACghEAAAAAAAAiGQAAAAAAAaIVAAAAAAADQhkAAAAAAAECFQAAAAAAAGIVAAAAAAACIiEAAAAAAAECFQAAAAAAAyIRAAAAAAAAwhkAAAAAAAJCFQAAAAAAA0IZAAAAAAACghEAAAAAAAECFQAAAAAAA4IVAAAAAAABohUAAAAAAAMiEQAAAAAAA8IRAAAAAAAAgh0AAAAAAAGCIQAAAAAAA0IZAAAAAAADghUAAAAAAACCHQAAAAAAA8IRAAAAAAACAhkAAAAAAAAiGQAAAAAAAqIZAAAAAAAAgh0AAAAAAAAiGQAAAAAAA4IVAAAAAAACQhUAAAAAAAKiGQAAAAAAA8IRAAAAAAADwhEAAAAAAAOCFQAAAAAAAaIVAAAAAAAAwhkAAAAAAAECFQAAAAAAAyIRAAAAAAAD4hkAAAAAAAPCEQAAAAAAA0IZAAAAAAABwh0AAAAAAABiFQAAAAAAAkIVAAAAAAAAwhkAAAAAAAPCEQAAAAAAACIZAAAAAAADQhkAAAAAAALiFQAAAAAAAqIZAAAAAAAAIhkAAAAAAAGCIQAAAAAAAGIVAAAAAAABAhUAAAAAAAICGQAAAAAAA8IRAAAAAAADwhEAAAAAAACCHQAAAAAAA0IZAAAAAAABAhUAAAAAAAMCHQAAAAAAAQIVAAAAAAADghUAAAAAAAPiGQAAAAAAAaIVAAAAAAAAYhUAAAAAAAACJQAAAAAAAyIRAAAAAAADIhEAAAAAAAJCFQAAAAAAAcIdAAAAAAAAYhUAAAAAAAOCFQAAAAAAACIZAAAAAAADwhEAAAAAAADCGQAAAAAAAqIZAAAAAAADwhEAAAAAAAJiHQAAAAAAAuIVAAAAAAABYhkAAAAAAAAiGQAAAAAAAkIVAAAAAAABAhUAAAAAAANiIQAAAAAAAoIRAAAAAAADwhEAAAAAAAJCFQAAAAAAA8IRAAAAAAAAYhUAAAAAAAGiFQAAAAAAAoIRAAAAAAACghEAAAAAAABiFQAAAAAAAEIhAAAAAAADwhEAAAAAAADiIQAAAAAAAgIZAAAAAAAAQiEAAAAAAAFiGQAAAAAAAaIVAAAAAAABYhkAAAAAAALiFQAAAAAAAMIZAAAAAAABQiUAAAAAAAMiEQAAAAAAAoIRAAAAAAADIhEAAAAAAAKiGQAAAAAAAaIVAAAAAAAAYhUAAAAAAADCGQAAAAAAAQIVAAAAAAADwhEAAAAAAAAiGQAAAAAAAaIVAAAAAAACghEAAAAAAAECFQAAAAAAAyIRAAAAAAABAhUAAAAAAAAiGQAAAAAAAwIdAAAAAAACQhUAAAAAAALiFQAAAAAAAQIVAAAAAAADQhkAAAAAAAPCEQAAAAAAA8IRAAAAAAADwhEAAAAAAAKCEQAAAAAAAoIRAAAAAAADghUAAAAAAAPCEQAAAAAAAYIhAAAAAAACohkAAAAAAANCGQAAAAAAAkIVAAAAAAADIhEAAAAAAAJCFQAAAAAAA4IVAAAAAAACAhkAAAAAAADCGQAAAAAAAqIZAAAAAAADghUAAAAAAAGiFQAAAAAAAkIVAAAAAAACghEAAAAAAAPCEQAAAAAAAgIZAAAAAAAD4hkAAAAAAAOCFQAAAAAAAkIVAAAAAAADghUAAAAAAANCGQAAAAAAA0IZAAAAAAADwhEAAAAAAAJCFQAAAAAAAWIZAAAAAAAAwhkAAAAAAAOCFQAAAAAAACIZAAAAAAAAgh0AAAAAAAOCFQAAAAAAAQIVAAAAAAABIh0AAAAAAAKCEQAAAAAAA6IdAAAAAAADwhEAAAAAAAAiGQAAAAAAA+IZAAAAAAACohkAAAAAAAKCEQAAAAAAAaIVAAAAAAABohUAAAAAAAOCFQAAAAAAAuIVAAAAAAAAYhUAAAAAAAJCFQAAAAAAAIIdAAAAAAAC4hUAAAAAAAACJQAAAAAAAMIZAAAAAAADIhEAAAAAAAICGQAAAAAAAyIRAAAAAAAAwhkAAAAAAANCGQAAAAAAAyIRAAAAAAAAIhkAAAAAAAECFQAAAAAAAGIVAAAAAAADIhEAAAAAAAMiEQAAAAAAA4IVAAAAAAACohkAAAAAAAGiFQAAAAAAAyIRAAAAAAAC4hUAAAAAAACCHQAAAAAAAgIZAAAAAAABYhkAAAAAAAECFQAAAAAAAQIVAAAAAAAAYhUAAAAAAAAiGQAAAAAAAcIdAAAAAAAAwhkAAAAAAAAiGQAAAAAAACIZAAAAAAACAhkAAAAAAAPCEQAAAAAAACIZAAAAAAACghEAAAAAAANCGQAAAAAAAyIRAAAAAAACQhUAAAAAAADCGQAAAAAAACIZAAAAAAABYhkAAAAAAAGiFQAAAAAAAuIVAAAAAAABAhUAAAAAAAKCEQAAAAAAAuIVAAAAAAACYh0AAAAAAAPCEQAAAAAAA8IRAAAAAAADwhEAAAAAAAAiGQAAAAAAAoIRAAAAAAADIhEAAAAAAACCHQAAAAAAACIZAAAAAAACQhUAAAAAAAJCFQAAAAAAACIZAAAAAAABYhkAAAAAAAMiEQAAAAAAA2IhAAAAAAADghUAAAAAAAKCEQAAAAAAACIZAAAAAAADQhkAAAAAAAKCEQAAAAAAA8IRAAAAAAADQhkAAAAAAAFiGQAAAAAAAoIRAAAAAAABAhUAAAAAAABiFQAAAAAAA8IRAAAAAAADwhEAAAAAAABiFQAAAAAAAyIRAAAAAAACYh0AAAAAAABCIQAAAAAAAQIVAAAAAAAAYhUAAAAAAAECFQAAAAAAAGIVAAAAAAABAhUAAAAAAAKiGQAAAAAAAyIRAAAAAAABAhUAAAAAAAECFQAAAAAAAuIVAAAAAAACohkAAAAAAAAiGQAAAAAAA0IZAAAAAAAAYhUAAAAAAAJiHQAAAAAAACIZAAAAAAADIhEAAAAAAAMiEQAAAAAAA4IVAAAAAAACYh0AAAAAAAPCEQAAAAAAAaIVAAAAAAACQhUAAAAAAAGiFQAAAAAAA6IdAAAAAAAAYhUAAAAAAAICGQAAAAAAAuIVAAAAAAAAYhUAAAAAAAKCEQAAAAAAAaIVA",
          "dtype": "f8"
         },
         "xaxis": "x",
         "y": {
          "bdata": "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",
          "dtype": "f8"
         },
         "yaxis": "y"
        }
       ],
       "layout": {
        "legend": {
         "tracegroupgap": 0
        },
        "template": {
         "data": {
          "bar": [
           {
            "error_x": {
             "color": "rgb(36,36,36)"
            },
            "error_y": {
             "color": "rgb(36,36,36)"
            },
            "marker": {
             "line": {
              "color": "white",
              "width": 0.5
             },
             "pattern": {
              "fillmode": "overlay",
              "size": 10,
              "solidity": 0.2
             }
            },
            "type": "bar"
           }
          ],
          "barpolar": [
           {
            "marker": {
             "line": {
              "color": "white",
              "width": 0.5
             },
             "pattern": {
              "fillmode": "overlay",
              "size": 10,
              "solidity": 0.2
             }
            },
            "type": "barpolar"
           }
          ],
          "carpet": [
           {
            "aaxis": {
             "endlinecolor": "rgb(36,36,36)",
             "gridcolor": "white",
             "linecolor": "white",
             "minorgridcolor": "white",
             "startlinecolor": "rgb(36,36,36)"
            },
            "baxis": {
             "endlinecolor": "rgb(36,36,36)",
             "gridcolor": "white",
             "linecolor": "white",
             "minorgridcolor": "white",
             "startlinecolor": "rgb(36,36,36)"
            },
            "type": "carpet"
           }
          ],
          "choropleth": [
           {
            "colorbar": {
             "outlinewidth": 1,
             "tickcolor": "rgb(36,36,36)",
             "ticks": "outside"
            },
            "type": "choropleth"
           }
          ],
          "contour": [
           {
            "colorbar": {
             "outlinewidth": 1,
             "tickcolor": "rgb(36,36,36)",
             "ticks": "outside"
            },
            "colorscale": [
             [
              0,
              "#440154"
             ],
             [
              0.1111111111111111,
              "#482878"
             ],
             [
              0.2222222222222222,
              "#3e4989"
             ],
             [
              0.3333333333333333,
              "#31688e"
             ],
             [
              0.4444444444444444,
              "#26828e"
             ],
             [
              0.5555555555555556,
              "#1f9e89"
             ],
             [
              0.6666666666666666,
              "#35b779"
             ],
             [
              0.7777777777777778,
              "#6ece58"
             ],
             [
              0.8888888888888888,
              "#b5de2b"
             ],
             [
              1,
              "#fde725"
             ]
            ],
            "type": "contour"
           }
          ],
          "contourcarpet": [
           {
            "colorbar": {
             "outlinewidth": 1,
             "tickcolor": "rgb(36,36,36)",
             "ticks": "outside"
            },
            "type": "contourcarpet"
           }
          ],
          "heatmap": [
           {
            "colorbar": {
             "outlinewidth": 1,
             "tickcolor": "rgb(36,36,36)",
             "ticks": "outside"
            },
            "colorscale": [
             [
              0,
              "#440154"
             ],
             [
              0.1111111111111111,
              "#482878"
             ],
             [
              0.2222222222222222,
              "#3e4989"
             ],
             [
              0.3333333333333333,
              "#31688e"
             ],
             [
              0.4444444444444444,
              "#26828e"
             ],
             [
              0.5555555555555556,
              "#1f9e89"
             ],
             [
              0.6666666666666666,
              "#35b779"
             ],
             [
              0.7777777777777778,
              "#6ece58"
             ],
             [
              0.8888888888888888,
              "#b5de2b"
             ],
             [
              1,
              "#fde725"
             ]
            ],
            "type": "heatmap"
           }
          ],
          "histogram": [
           {
            "marker": {
             "line": {
              "color": "white",
              "width": 0.6
             }
            },
            "type": "histogram"
           }
          ],
          "histogram2d": [
           {
            "colorbar": {
             "outlinewidth": 1,
             "tickcolor": "rgb(36,36,36)",
             "ticks": "outside"
            },
            "colorscale": [
             [
              0,
              "#440154"
             ],
             [
              0.1111111111111111,
              "#482878"
             ],
             [
              0.2222222222222222,
              "#3e4989"
             ],
             [
              0.3333333333333333,
              "#31688e"
             ],
             [
              0.4444444444444444,
              "#26828e"
             ],
             [
              0.5555555555555556,
              "#1f9e89"
             ],
             [
              0.6666666666666666,
              "#35b779"
             ],
             [
              0.7777777777777778,
              "#6ece58"
             ],
             [
              0.8888888888888888,
              "#b5de2b"
             ],
             [
              1,
              "#fde725"
             ]
            ],
            "type": "histogram2d"
           }
          ],
          "histogram2dcontour": [
           {
            "colorbar": {
             "outlinewidth": 1,
             "tickcolor": "rgb(36,36,36)",
             "ticks": "outside"
            },
            "colorscale": [
             [
              0,
              "#440154"
             ],
             [
              0.1111111111111111,
              "#482878"
             ],
             [
              0.2222222222222222,
              "#3e4989"
             ],
             [
              0.3333333333333333,
              "#31688e"
             ],
             [
              0.4444444444444444,
              "#26828e"
             ],
             [
              0.5555555555555556,
              "#1f9e89"
             ],
             [
              0.6666666666666666,
              "#35b779"
             ],
             [
              0.7777777777777778,
              "#6ece58"
             ],
             [
              0.8888888888888888,
              "#b5de2b"
             ],
             [
              1,
              "#fde725"
             ]
            ],
            "type": "histogram2dcontour"
           }
          ],
          "mesh3d": [
           {
            "colorbar": {
             "outlinewidth": 1,
             "tickcolor": "rgb(36,36,36)",
             "ticks": "outside"
            },
            "type": "mesh3d"
           }
          ],
          "parcoords": [
           {
            "line": {
             "colorbar": {
              "outlinewidth": 1,
              "tickcolor": "rgb(36,36,36)",
              "ticks": "outside"
             }
            },
            "type": "parcoords"
           }
          ],
          "pie": [
           {
            "automargin": true,
            "type": "pie"
           }
          ],
          "scatter": [
           {
            "fillpattern": {
             "fillmode": "overlay",
             "size": 10,
             "solidity": 0.2
            },
            "type": "scatter"
           }
          ],
          "scatter3d": [
           {
            "line": {
             "colorbar": {
              "outlinewidth": 1,
              "tickcolor": "rgb(36,36,36)",
              "ticks": "outside"
             }
            },
            "marker": {
             "colorbar": {
              "outlinewidth": 1,
              "tickcolor": "rgb(36,36,36)",
              "ticks": "outside"
             }
            },
            "type": "scatter3d"
           }
          ],
          "scattercarpet": [
           {
            "marker": {
             "colorbar": {
              "outlinewidth": 1,
              "tickcolor": "rgb(36,36,36)",
              "ticks": "outside"
             }
            },
            "type": "scattercarpet"
           }
          ],
          "scattergeo": [
           {
            "marker": {
             "colorbar": {
              "outlinewidth": 1,
              "tickcolor": "rgb(36,36,36)",
              "ticks": "outside"
             }
            },
            "type": "scattergeo"
           }
          ],
          "scattergl": [
           {
            "marker": {
             "colorbar": {
              "outlinewidth": 1,
              "tickcolor": "rgb(36,36,36)",
              "ticks": "outside"
             }
            },
            "type": "scattergl"
           }
          ],
          "scattermap": [
           {
            "marker": {
             "colorbar": {
              "outlinewidth": 1,
              "tickcolor": "rgb(36,36,36)",
              "ticks": "outside"
             }
            },
            "type": "scattermap"
           }
          ],
          "scattermapbox": [
           {
            "marker": {
             "colorbar": {
              "outlinewidth": 1,
              "tickcolor": "rgb(36,36,36)",
              "ticks": "outside"
             }
            },
            "type": "scattermapbox"
           }
          ],
          "scatterpolar": [
           {
            "marker": {
             "colorbar": {
              "outlinewidth": 1,
              "tickcolor": "rgb(36,36,36)",
              "ticks": "outside"
             }
            },
            "type": "scatterpolar"
           }
          ],
          "scatterpolargl": [
           {
            "marker": {
             "colorbar": {
              "outlinewidth": 1,
              "tickcolor": "rgb(36,36,36)",
              "ticks": "outside"
             }
            },
            "type": "scatterpolargl"
           }
          ],
          "scatterternary": [
           {
            "marker": {
             "colorbar": {
              "outlinewidth": 1,
              "tickcolor": "rgb(36,36,36)",
              "ticks": "outside"
             }
            },
            "type": "scatterternary"
           }
          ],
          "surface": [
           {
            "colorbar": {
             "outlinewidth": 1,
             "tickcolor": "rgb(36,36,36)",
             "ticks": "outside"
            },
            "colorscale": [
             [
              0,
              "#440154"
             ],
             [
              0.1111111111111111,
              "#482878"
             ],
             [
              0.2222222222222222,
              "#3e4989"
             ],
             [
              0.3333333333333333,
              "#31688e"
             ],
             [
              0.4444444444444444,
              "#26828e"
             ],
             [
              0.5555555555555556,
              "#1f9e89"
             ],
             [
              0.6666666666666666,
              "#35b779"
             ],
             [
              0.7777777777777778,
              "#6ece58"
             ],
             [
              0.8888888888888888,
              "#b5de2b"
             ],
             [
              1,
              "#fde725"
             ]
            ],
            "type": "surface"
           }
          ],
          "table": [
           {
            "cells": {
             "fill": {
              "color": "rgb(237,237,237)"
             },
             "line": {
              "color": "white"
             }
            },
            "header": {
             "fill": {
              "color": "rgb(217,217,217)"
             },
             "line": {
              "color": "white"
             }
            },
            "type": "table"
           }
          ]
         },
         "layout": {
          "annotationdefaults": {
           "arrowhead": 0,
           "arrowwidth": 1
          },
          "autosize": true,
          "autotypenumbers": "strict",
          "coloraxis": {
           "colorbar": {
            "outlinewidth": 1,
            "tickcolor": "rgb(36,36,36)",
            "ticks": "outside"
           }
          },
          "colorscale": {
           "diverging": [
            [
             0,
             "rgb(103,0,31)"
            ],
            [
             0.1,
             "rgb(178,24,43)"
            ],
            [
             0.2,
             "rgb(214,96,77)"
            ],
            [
             0.3,
             "rgb(244,165,130)"
            ],
            [
             0.4,
             "rgb(253,219,199)"
            ],
            [
             0.5,
             "rgb(247,247,247)"
            ],
            [
             0.6,
             "rgb(209,229,240)"
            ],
            [
             0.7,
             "rgb(146,197,222)"
            ],
            [
             0.8,
             "rgb(67,147,195)"
            ],
            [
             0.9,
             "rgb(33,102,172)"
            ],
            [
             1,
             "rgb(5,48,97)"
            ]
           ],
           "sequential": [
            [
             0,
             "#440154"
            ],
            [
             0.1111111111111111,
             "#482878"
            ],
            [
             0.2222222222222222,
             "#3e4989"
            ],
            [
             0.3333333333333333,
             "#31688e"
            ],
            [
             0.4444444444444444,
             "#26828e"
            ],
            [
             0.5555555555555556,
             "#1f9e89"
            ],
            [
             0.6666666666666666,
             "#35b779"
            ],
            [
             0.7777777777777778,
             "#6ece58"
            ],
            [
             0.8888888888888888,
             "#b5de2b"
            ],
            [
             1,
             "#fde725"
            ]
           ],
           "sequentialminus": [
            [
             0,
             "#440154"
            ],
            [
             0.1111111111111111,
             "#482878"
            ],
            [
             0.2222222222222222,
             "#3e4989"
            ],
            [
             0.3333333333333333,
             "#31688e"
            ],
            [
             0.4444444444444444,
             "#26828e"
            ],
            [
             0.5555555555555556,
             "#1f9e89"
            ],
            [
             0.6666666666666666,
             "#35b779"
            ],
            [
             0.7777777777777778,
             "#6ece58"
            ],
            [
             0.8888888888888888,
             "#b5de2b"
            ],
            [
             1,
             "#fde725"
            ]
           ]
          },
          "colorway": [
           "#1F77B4",
           "#FF7F0E",
           "#2CA02C",
           "#D62728",
           "#9467BD",
           "#8C564B",
           "#E377C2",
           "#7F7F7F",
           "#BCBD22",
           "#17BECF"
          ],
          "font": {
           "color": "rgb(36,36,36)"
          },
          "geo": {
           "bgcolor": "white",
           "lakecolor": "white",
           "landcolor": "white",
           "showlakes": true,
           "showland": true,
           "subunitcolor": "white"
          },
          "height": 400,
          "hoverlabel": {
           "align": "left"
          },
          "hovermode": "closest",
          "mapbox": {
           "style": "light"
          },
          "margin": {
           "b": 30,
           "l": 30,
           "r": 30,
           "t": 30
          },
          "paper_bgcolor": "white",
          "plot_bgcolor": "white",
          "polar": {
           "angularaxis": {
            "gridcolor": "rgb(232,232,232)",
            "linecolor": "rgb(36,36,36)",
            "showgrid": false,
            "showline": true,
            "ticks": "outside"
           },
           "bgcolor": "white",
           "radialaxis": {
            "gridcolor": "rgb(232,232,232)",
            "linecolor": "rgb(36,36,36)",
            "showgrid": false,
            "showline": true,
            "ticks": "outside"
           }
          },
          "scene": {
           "xaxis": {
            "backgroundcolor": "white",
            "gridcolor": "rgb(232,232,232)",
            "gridwidth": 2,
            "linecolor": "rgb(36,36,36)",
            "showbackground": true,
            "showgrid": false,
            "showline": true,
            "ticks": "outside",
            "zeroline": false,
            "zerolinecolor": "rgb(36,36,36)"
           },
           "yaxis": {
            "backgroundcolor": "white",
            "gridcolor": "rgb(232,232,232)",
            "gridwidth": 2,
            "linecolor": "rgb(36,36,36)",
            "showbackground": true,
            "showgrid": false,
            "showline": true,
            "ticks": "outside",
            "zeroline": false,
            "zerolinecolor": "rgb(36,36,36)"
           },
           "zaxis": {
            "backgroundcolor": "white",
            "gridcolor": "rgb(232,232,232)",
            "gridwidth": 2,
            "linecolor": "rgb(36,36,36)",
            "showbackground": true,
            "showgrid": false,
            "showline": true,
            "ticks": "outside",
            "zeroline": false,
            "zerolinecolor": "rgb(36,36,36)"
           }
          },
          "shapedefaults": {
           "fillcolor": "black",
           "line": {
            "width": 0
           },
           "opacity": 0.3
          },
          "ternary": {
           "aaxis": {
            "gridcolor": "rgb(232,232,232)",
            "linecolor": "rgb(36,36,36)",
            "showgrid": false,
            "showline": true,
            "ticks": "outside"
           },
           "baxis": {
            "gridcolor": "rgb(232,232,232)",
            "linecolor": "rgb(36,36,36)",
            "showgrid": false,
            "showline": true,
            "ticks": "outside"
           },
           "bgcolor": "white",
           "caxis": {
            "gridcolor": "rgb(232,232,232)",
            "linecolor": "rgb(36,36,36)",
            "showgrid": false,
            "showline": true,
            "ticks": "outside"
           }
          },
          "title": {
           "x": 0.5,
           "xanchor": "center"
          },
          "width": 600,
          "xaxis": {
           "automargin": true,
           "gridcolor": "rgb(232,232,232)",
           "linecolor": "rgb(36,36,36)",
           "showgrid": true,
           "showline": true,
           "ticks": "outside",
           "title": {
            "standoff": 15
           },
           "zeroline": false,
           "zerolinecolor": "rgb(36,36,36)"
          },
          "yaxis": {
           "automargin": true,
           "gridcolor": "rgb(232,232,232)",
           "linecolor": "rgb(36,36,36)",
           "showgrid": true,
           "showline": true,
           "ticks": "outside",
           "title": {
            "standoff": 15
           },
           "zeroline": false,
           "zerolinecolor": "rgb(36,36,36)"
          }
         }
        },
        "title": {
         "text": "Interest Rate vs. Credit Score"
        },
        "xaxis": {
         "anchor": "y",
         "domain": [
          0,
          1
         ],
         "title": {
          "text": "Credit Score"
         }
        },
        "yaxis": {
         "anchor": "x",
         "domain": [
          0,
          1
         ],
         "title": {
          "text": "Interest Rate (%)"
         }
        }
       }
      }
     },
     "metadata": {},
     "output_type": "display_data"
    }
   ],
   "source": [
    "px.scatter(loans, x='fico_range_low', y='int_rate',\n",
    "           labels={'fico_range_low': 'Credit Score', 'int_rate': 'Interest Rate (%)'},\n",
    "           title='Interest Rate vs. Credit Score')"
   ]
  },
  {
   "cell_type": "markdown",
   "id": "838f49e0",
   "metadata": {},
   "source": [
    "One idea is to place credit scores into categories by **binning** them. According to [Experian](https://www.experian.com/blogs/ask-experian/credit-education/score-basics/what-is-a-good-credit-score/#s1), one of the three major credit bureaus in the US, FICO credit scores are described qualitatively as follows:\n",
    "\n",
    "| Score | Category |\n",
    "|---|---|\n",
    "| 580 - 669 | Fair |\n",
    "| 670 - 739 | Good |\n",
    "| 740 - 799 | Very Good |\n",
    "| 800 - 850 | Excellent |\n",
    "\n",
    "There is actually also a bin below fair, named \"poor\" with a range of 300-579, but since `loans` doesn't have any poor credit scores, we'll exclude them from our exploration here. Note that while the `dtype` of `'fico_range_low'` is `float`, credit scores are actually integers.\n",
    "\n",
    "Once we place credit scores into bins, we can visualize the distribution of interest rates separately for each credit score bin. Here, that would allow us to draw four separate distributions of interest rates – one for the fair group, one for the good group, one for the very good group, and one for the excellent group. Each one of those four distributions are **numerical distributions**, which we have several tools for visualizing; the most common tool you've seen is the histogram, but others exist, like the boxplot and violin plot. Let's explore this idea further!"
   ]
  },
  {
   "cell_type": "code",
   "execution_count": 44,
   "id": "60ee8c22",
   "metadata": {
    "tags": []
   },
   "outputs": [],
   "source": [
    "import pandas as pd\n",
    "import plotly.express as px\n",
    "\n",
    "def create_boxplot(loans):\n",
    "\n",
    "    bins = [580, 670, 740, 800, 850]\n",
    "    labels = ['[580, 670)', '[670, 740)', '[740, 800)', '[800, 850)']\n",
    "\n",
    "    \n",
    "    loans['credit_score_bin'] = pd.cut(loans['fico_range_low'], bins=bins, right=False, labels=labels)\n",
    "\n",
    "\n",
    "    loans['term'] = loans['term'].astype(str)\n",
    "\n",
    "\n",
    "    fig = px.box(loans,\n",
    "                 x='credit_score_bin',\n",
    "                 y='int_rate',\n",
    "                 color='term',\n",
    "                 color_discrete_map={'36': 'purple', '60': 'gold'},\n",
    "                 category_orders={'credit_score_bin': labels},\n",
    "                 labels={\n",
    "                     'int_rate': 'Interest Rate (%)',\n",
    "                     'term': 'Loan Length (Months)'\n",
    "                 },\n",
    "                 title='Interest Rate vs. Credit Score')\n",
    "\n",
    "    fig.update_layout(\n",
    "        xaxis_title='Credit Score Range',\n",
    "        yaxis_title='Interest Rate (%)',\n",
    "        legend_title='Loan Length (Months)'\n",
    "    )\n",
    "    \n",
    "    return fig\n"
   ]
  },
  {
   "cell_type": "markdown",
   "id": "e698ca21",
   "metadata": {},
   "source": [
    "Run the cell below to draw your boxplot. If you did everything correctly, it should look like the example above. Make sure to run this cell before moving forward, otherwise the tests won't work correctly."
   ]
  },
  {
   "cell_type": "code",
   "execution_count": 45,
   "id": "7b3509af",
   "metadata": {},
   "outputs": [
    {
     "data": {
      "application/vnd.plotly.v1+json": {
       "config": {
        "plotlyServerURL": "https://plot.ly"
       },
       "data": [
        {
         "alignmentgroup": "True",
         "hovertemplate": "Loan Length (Months)=60<br>credit_score_bin=%{x}<br>Interest Rate (%)=%{y}<extra></extra>",
         "legendgroup": "60",
         "marker": {
          "color": "gold"
         },
         "name": "60",
         "notched": false,
         "offsetgroup": "60",
         "orientation": "v",
         "showlegend": true,
         "type": "box",
         "x": [
          "[670, 740)",
          "[670, 740)",
          "[670, 740)",
          "[670, 740)",
          "[740, 800)",
          "[580, 670)",
          "[670, 740)",
          "[670, 740)",
          "[670, 740)",
          "[670, 740)",
          "[670, 740)",
          "[580, 670)",
          "[580, 670)",
          "[580, 670)",
          "[580, 670)",
          "[580, 670)",
          "[670, 740)",
          "[670, 740)",
          "[670, 740)",
          "[670, 740)",
          "[670, 740)",
          "[740, 800)",
          "[670, 740)",
          "[670, 740)",
          "[670, 740)",
          "[580, 670)",
          "[670, 740)",
          "[670, 740)",
          "[580, 670)",
          "[670, 740)",
          "[670, 740)",
          "[670, 740)",
          "[580, 670)",
          "[670, 740)",
          "[670, 740)",
          "[670, 740)",
          "[670, 740)",
          "[580, 670)",
          "[670, 740)",
          "[740, 800)",
          "[580, 670)",
          "[670, 740)",
          "[670, 740)",
          "[580, 670)",
          "[800, 850)",
          "[670, 740)",
          "[740, 800)",
          "[580, 670)",
          "[670, 740)",
          "[580, 670)",
          "[670, 740)",
          "[670, 740)",
          "[670, 740)",
          "[670, 740)",
          "[740, 800)",
          "[580, 670)",
          "[670, 740)",
          "[670, 740)",
          "[670, 740)",
          "[670, 740)",
          "[670, 740)",
          "[670, 740)",
          "[670, 740)",
          "[670, 740)",
          "[800, 850)",
          "[670, 740)",
          "[740, 800)",
          "[670, 740)",
          "[580, 670)",
          "[670, 740)",
          "[670, 740)",
          "[670, 740)",
          "[580, 670)",
          "[740, 800)",
          "[670, 740)",
          "[670, 740)",
          "[670, 740)",
          "[670, 740)",
          "[670, 740)",
          "[670, 740)",
          "[670, 740)",
          "[670, 740)",
          "[670, 740)",
          "[670, 740)",
          "[670, 740)",
          "[670, 740)",
          "[670, 740)",
          "[670, 740)",
          "[670, 740)",
          "[670, 740)",
          "[670, 740)",
          "[670, 740)",
          "[670, 740)",
          "[670, 740)",
          "[670, 740)",
          "[580, 670)",
          "[670, 740)",
          "[670, 740)",
          "[670, 740)",
          "[580, 670)",
          "[670, 740)",
          "[740, 800)",
          "[670, 740)",
          "[670, 740)",
          "[580, 670)",
          "[580, 670)",
          "[740, 800)",
          "[670, 740)",
          "[670, 740)",
          "[670, 740)",
          "[670, 740)",
          "[670, 740)",
          "[740, 800)",
          "[740, 800)",
          "[740, 800)",
          "[670, 740)",
          "[580, 670)",
          "[670, 740)",
          "[670, 740)",
          "[670, 740)",
          "[580, 670)",
          "[670, 740)",
          "[580, 670)",
          "[670, 740)",
          "[670, 740)",
          "[580, 670)",
          "[670, 740)",
          "[670, 740)",
          "[670, 740)",
          "[740, 800)",
          "[580, 670)",
          "[670, 740)",
          "[670, 740)",
          "[580, 670)",
          "[670, 740)",
          "[670, 740)",
          "[740, 800)",
          "[670, 740)",
          "[740, 800)",
          "[580, 670)",
          "[670, 740)",
          "[580, 670)",
          "[740, 800)",
          "[670, 740)",
          "[580, 670)",
          "[670, 740)",
          "[670, 740)",
          "[740, 800)",
          "[670, 740)",
          "[670, 740)",
          "[670, 740)",
          "[670, 740)",
          "[670, 740)",
          "[670, 740)",
          "[670, 740)",
          "[670, 740)",
          "[670, 740)",
          "[670, 740)",
          "[670, 740)",
          "[580, 670)",
          "[670, 740)",
          "[670, 740)",
          "[670, 740)",
          "[670, 740)",
          "[740, 800)",
          "[740, 800)",
          "[670, 740)",
          "[670, 740)",
          "[670, 740)",
          "[670, 740)",
          "[670, 740)",
          "[670, 740)",
          "[580, 670)",
          "[670, 740)",
          "[670, 740)",
          "[670, 740)",
          "[670, 740)",
          "[670, 740)",
          "[670, 740)",
          "[800, 850)",
          "[670, 740)",
          "[670, 740)",
          "[670, 740)",
          "[670, 740)",
          "[580, 670)",
          "[670, 740)",
          "[670, 740)",
          "[670, 740)",
          "[670, 740)",
          "[670, 740)",
          "[670, 740)",
          "[670, 740)",
          "[740, 800)",
          "[670, 740)",
          "[670, 740)",
          "[670, 740)",
          "[670, 740)",
          "[670, 740)",
          "[670, 740)",
          "[740, 800)",
          "[670, 740)",
          "[670, 740)",
          "[670, 740)",
          "[670, 740)",
          "[740, 800)",
          "[670, 740)",
          "[670, 740)",
          "[580, 670)",
          "[740, 800)",
          "[670, 740)",
          "[670, 740)",
          "[580, 670)",
          "[670, 740)",
          "[670, 740)",
          "[670, 740)",
          "[580, 670)",
          "[670, 740)",
          "[670, 740)",
          "[670, 740)",
          "[740, 800)",
          "[580, 670)",
          "[670, 740)",
          "[580, 670)",
          "[670, 740)",
          "[670, 740)",
          "[670, 740)",
          "[670, 740)",
          "[670, 740)",
          "[670, 740)",
          "[580, 670)",
          "[740, 800)",
          "[670, 740)",
          "[670, 740)",
          "[670, 740)",
          "[740, 800)",
          "[670, 740)",
          "[580, 670)",
          "[580, 670)",
          "[580, 670)",
          "[670, 740)",
          "[670, 740)",
          "[670, 740)",
          "[580, 670)",
          "[580, 670)",
          "[580, 670)",
          "[740, 800)",
          "[670, 740)",
          "[670, 740)",
          "[740, 800)",
          "[670, 740)",
          "[670, 740)",
          "[740, 800)",
          "[670, 740)",
          "[670, 740)",
          "[670, 740)",
          "[670, 740)",
          "[670, 740)",
          "[580, 670)",
          "[740, 800)",
          "[670, 740)",
          "[670, 740)",
          "[670, 740)",
          "[670, 740)",
          "[580, 670)",
          "[670, 740)",
          "[670, 740)",
          "[580, 670)",
          "[670, 740)",
          "[670, 740)",
          "[670, 740)",
          "[670, 740)",
          "[670, 740)",
          "[670, 740)",
          "[580, 670)",
          "[670, 740)",
          "[670, 740)",
          "[670, 740)",
          "[670, 740)",
          "[670, 740)",
          "[740, 800)",
          "[670, 740)",
          "[670, 740)",
          "[670, 740)",
          "[670, 740)",
          "[670, 740)",
          "[670, 740)",
          "[670, 740)",
          "[670, 740)",
          "[580, 670)",
          "[670, 740)",
          "[580, 670)",
          "[670, 740)",
          "[580, 670)",
          "[580, 670)",
          "[670, 740)",
          "[670, 740)",
          "[740, 800)",
          "[670, 740)",
          "[670, 740)",
          "[670, 740)",
          "[670, 740)",
          "[670, 740)",
          "[670, 740)",
          "[670, 740)",
          "[580, 670)",
          "[670, 740)",
          "[670, 740)",
          "[580, 670)",
          "[670, 740)",
          "[580, 670)",
          "[670, 740)",
          "[670, 740)",
          "[670, 740)",
          "[670, 740)",
          "[740, 800)",
          "[670, 740)",
          "[670, 740)",
          "[670, 740)",
          "[670, 740)",
          "[670, 740)",
          "[670, 740)",
          "[670, 740)",
          "[740, 800)",
          "[670, 740)",
          "[670, 740)",
          "[670, 740)",
          "[580, 670)",
          "[670, 740)",
          "[670, 740)",
          "[670, 740)",
          "[670, 740)",
          "[670, 740)",
          "[670, 740)",
          "[670, 740)",
          "[670, 740)",
          "[580, 670)",
          "[670, 740)",
          "[580, 670)",
          "[670, 740)",
          "[670, 740)",
          "[670, 740)",
          "[670, 740)",
          "[670, 740)",
          "[670, 740)",
          "[670, 740)",
          "[670, 740)",
          "[670, 740)",
          "[670, 740)",
          "[740, 800)",
          "[670, 740)",
          "[670, 740)",
          "[670, 740)",
          "[670, 740)",
          "[580, 670)",
          "[740, 800)",
          "[580, 670)",
          "[670, 740)",
          "[670, 740)",
          "[740, 800)",
          "[670, 740)",
          "[580, 670)",
          "[740, 800)",
          "[740, 800)",
          "[670, 740)",
          "[670, 740)",
          "[740, 800)",
          "[670, 740)",
          "[800, 850)",
          "[670, 740)",
          "[670, 740)",
          "[670, 740)",
          "[670, 740)",
          "[670, 740)",
          "[670, 740)",
          "[670, 740)",
          "[740, 800)",
          "[670, 740)",
          "[670, 740)",
          "[670, 740)",
          "[670, 740)",
          "[670, 740)",
          "[740, 800)",
          "[740, 800)",
          "[670, 740)",
          "[670, 740)",
          "[670, 740)",
          "[670, 740)",
          "[580, 670)",
          "[670, 740)",
          "[670, 740)",
          "[580, 670)",
          "[670, 740)",
          "[580, 670)",
          "[670, 740)",
          "[670, 740)",
          "[670, 740)",
          "[740, 800)",
          "[670, 740)",
          "[670, 740)",
          "[670, 740)",
          "[670, 740)",
          "[670, 740)",
          "[670, 740)",
          "[670, 740)",
          "[670, 740)",
          "[670, 740)",
          "[670, 740)",
          "[580, 670)",
          "[670, 740)",
          "[580, 670)",
          "[670, 740)",
          "[670, 740)",
          "[670, 740)",
          "[670, 740)",
          "[580, 670)",
          "[580, 670)",
          "[670, 740)",
          "[670, 740)",
          "[670, 740)",
          "[670, 740)",
          "[670, 740)",
          "[670, 740)",
          "[800, 850)",
          "[580, 670)",
          "[740, 800)",
          "[670, 740)",
          "[670, 740)",
          "[670, 740)",
          "[670, 740)",
          "[670, 740)",
          "[670, 740)",
          "[670, 740)",
          "[670, 740)",
          "[670, 740)",
          "[670, 740)",
          "[670, 740)",
          "[580, 670)",
          "[800, 850)",
          "[740, 800)",
          "[670, 740)",
          "[670, 740)",
          "[670, 740)",
          "[670, 740)",
          "[670, 740)",
          "[670, 740)",
          "[670, 740)",
          "[670, 740)",
          "[670, 740)",
          "[740, 800)",
          "[670, 740)",
          "[740, 800)",
          "[670, 740)",
          "[670, 740)",
          "[670, 740)",
          "[580, 670)",
          "[670, 740)",
          "[670, 740)",
          "[670, 740)",
          "[670, 740)",
          "[670, 740)",
          "[670, 740)",
          "[670, 740)",
          "[670, 740)",
          "[670, 740)",
          "[670, 740)",
          "[670, 740)",
          "[670, 740)",
          "[670, 740)",
          "[670, 740)",
          "[670, 740)",
          "[670, 740)",
          "[670, 740)",
          "[580, 670)",
          "[670, 740)",
          "[670, 740)",
          "[670, 740)",
          "[670, 740)",
          "[580, 670)",
          "[670, 740)",
          "[670, 740)",
          "[670, 740)",
          "[670, 740)",
          "[670, 740)",
          "[670, 740)",
          "[670, 740)",
          "[670, 740)",
          "[670, 740)",
          "[670, 740)",
          "[670, 740)",
          "[740, 800)",
          "[670, 740)",
          "[740, 800)",
          "[670, 740)",
          "[670, 740)",
          "[670, 740)",
          "[670, 740)",
          "[670, 740)",
          "[670, 740)",
          "[670, 740)",
          "[670, 740)",
          "[740, 800)",
          "[670, 740)",
          "[670, 740)",
          "[670, 740)",
          "[580, 670)",
          "[670, 740)",
          "[670, 740)",
          "[670, 740)",
          "[670, 740)",
          "[670, 740)",
          "[580, 670)",
          "[670, 740)",
          "[670, 740)",
          "[670, 740)",
          "[670, 740)",
          "[670, 740)",
          "[670, 740)",
          "[670, 740)",
          "[580, 670)",
          "[670, 740)",
          "[670, 740)",
          "[670, 740)",
          "[670, 740)",
          "[670, 740)",
          "[580, 670)",
          "[670, 740)",
          "[670, 740)",
          "[670, 740)",
          "[670, 740)",
          "[670, 740)",
          "[670, 740)",
          "[670, 740)",
          "[670, 740)",
          "[580, 670)",
          "[580, 670)",
          "[670, 740)",
          "[670, 740)",
          "[670, 740)",
          "[670, 740)",
          "[670, 740)",
          "[670, 740)",
          "[670, 740)",
          "[580, 670)",
          "[580, 670)",
          "[670, 740)",
          "[580, 670)",
          "[580, 670)",
          "[670, 740)",
          "[670, 740)",
          "[670, 740)",
          "[670, 740)",
          "[670, 740)",
          "[670, 740)",
          "[580, 670)",
          "[670, 740)",
          "[670, 740)",
          "[670, 740)",
          "[740, 800)",
          "[580, 670)",
          "[670, 740)",
          "[670, 740)",
          "[670, 740)",
          "[740, 800)",
          "[670, 740)",
          "[670, 740)",
          "[740, 800)",
          "[670, 740)",
          "[670, 740)",
          "[740, 800)",
          "[740, 800)",
          "[670, 740)",
          "[580, 670)",
          "[580, 670)",
          "[670, 740)",
          "[670, 740)",
          "[580, 670)",
          "[670, 740)",
          "[670, 740)",
          "[740, 800)",
          "[670, 740)",
          "[670, 740)",
          "[670, 740)",
          "[670, 740)",
          "[580, 670)",
          "[670, 740)",
          "[670, 740)",
          "[670, 740)",
          "[670, 740)",
          "[670, 740)",
          "[670, 740)",
          "[670, 740)",
          "[670, 740)",
          "[670, 740)",
          "[670, 740)",
          "[580, 670)",
          "[580, 670)",
          "[670, 740)",
          "[670, 740)",
          "[580, 670)",
          "[670, 740)",
          "[670, 740)",
          "[670, 740)",
          "[800, 850)",
          "[670, 740)",
          "[670, 740)",
          "[670, 740)",
          "[670, 740)",
          "[740, 800)",
          "[580, 670)",
          "[670, 740)",
          "[670, 740)",
          "[740, 800)",
          "[670, 740)",
          "[670, 740)",
          "[740, 800)",
          "[670, 740)",
          "[670, 740)",
          "[740, 800)",
          "[670, 740)",
          "[670, 740)",
          "[670, 740)",
          "[670, 740)",
          "[670, 740)",
          "[670, 740)",
          "[670, 740)",
          "[670, 740)",
          "[670, 740)",
          "[580, 670)",
          "[670, 740)",
          "[670, 740)",
          "[670, 740)",
          "[670, 740)",
          "[670, 740)",
          "[670, 740)",
          "[670, 740)",
          "[740, 800)",
          "[670, 740)",
          "[670, 740)",
          "[670, 740)",
          "[670, 740)",
          "[580, 670)",
          "[670, 740)",
          "[670, 740)",
          "[670, 740)",
          "[670, 740)",
          "[670, 740)",
          "[670, 740)",
          "[740, 800)",
          "[670, 740)",
          "[670, 740)",
          "[670, 740)",
          "[670, 740)",
          "[670, 740)",
          "[670, 740)",
          "[670, 740)",
          "[670, 740)",
          "[670, 740)",
          "[670, 740)",
          "[670, 740)",
          "[580, 670)",
          "[670, 740)",
          "[670, 740)",
          "[670, 740)",
          "[800, 850)",
          "[670, 740)",
          "[670, 740)",
          "[740, 800)",
          "[670, 740)",
          "[670, 740)",
          "[670, 740)",
          "[670, 740)",
          "[670, 740)",
          "[670, 740)",
          "[740, 800)",
          "[670, 740)",
          "[670, 740)",
          "[740, 800)",
          "[670, 740)",
          "[580, 670)",
          "[670, 740)",
          "[670, 740)",
          "[670, 740)",
          "[670, 740)",
          "[670, 740)",
          "[670, 740)",
          "[670, 740)",
          "[670, 740)",
          "[670, 740)",
          "[670, 740)",
          "[670, 740)",
          "[670, 740)",
          "[580, 670)",
          "[670, 740)",
          "[670, 740)",
          "[670, 740)",
          "[670, 740)",
          "[580, 670)",
          "[740, 800)",
          "[740, 800)",
          "[670, 740)",
          "[670, 740)",
          "[670, 740)",
          "[670, 740)",
          "[670, 740)",
          "[670, 740)",
          "[670, 740)",
          "[670, 740)",
          "[670, 740)",
          "[670, 740)",
          "[670, 740)",
          "[670, 740)",
          "[670, 740)",
          "[670, 740)",
          "[670, 740)",
          "[670, 740)",
          "[670, 740)",
          "[670, 740)",
          "[580, 670)",
          "[670, 740)",
          "[670, 740)",
          "[670, 740)",
          "[580, 670)",
          "[670, 740)",
          "[580, 670)",
          "[670, 740)",
          "[670, 740)",
          "[580, 670)",
          "[580, 670)",
          "[670, 740)",
          "[740, 800)",
          "[580, 670)",
          "[670, 740)",
          "[670, 740)",
          "[670, 740)",
          "[670, 740)",
          "[670, 740)",
          "[670, 740)",
          "[670, 740)",
          "[670, 740)",
          "[670, 740)",
          "[670, 740)",
          "[670, 740)",
          "[740, 800)",
          "[670, 740)",
          "[670, 740)",
          "[670, 740)",
          "[670, 740)",
          "[670, 740)",
          "[670, 740)",
          "[740, 800)",
          "[740, 800)",
          "[670, 740)",
          "[670, 740)",
          "[670, 740)",
          "[670, 740)",
          "[670, 740)",
          "[740, 800)",
          "[580, 670)",
          "[670, 740)",
          "[670, 740)",
          "[670, 740)",
          "[670, 740)",
          "[670, 740)",
          "[670, 740)",
          "[670, 740)",
          "[670, 740)",
          "[670, 740)",
          "[670, 740)",
          "[580, 670)",
          "[670, 740)",
          "[670, 740)",
          "[670, 740)",
          "[670, 740)",
          "[670, 740)",
          "[670, 740)",
          "[670, 740)",
          "[670, 740)",
          "[670, 740)",
          "[740, 800)",
          "[670, 740)",
          "[670, 740)",
          "[670, 740)",
          "[670, 740)",
          "[670, 740)",
          "[670, 740)",
          "[670, 740)",
          "[670, 740)",
          "[670, 740)",
          "[670, 740)",
          "[670, 740)",
          "[670, 740)",
          "[670, 740)",
          "[670, 740)",
          "[670, 740)",
          "[670, 740)",
          "[670, 740)",
          "[740, 800)",
          "[670, 740)",
          "[670, 740)",
          "[670, 740)",
          "[670, 740)",
          "[670, 740)",
          "[670, 740)",
          "[670, 740)",
          "[670, 740)",
          "[740, 800)",
          "[740, 800)",
          "[670, 740)",
          "[670, 740)",
          "[740, 800)",
          "[670, 740)",
          "[670, 740)",
          "[670, 740)",
          "[580, 670)",
          "[670, 740)",
          "[670, 740)",
          "[670, 740)",
          "[670, 740)",
          "[670, 740)",
          "[670, 740)",
          "[670, 740)",
          "[580, 670)",
          "[670, 740)",
          "[670, 740)",
          "[670, 740)",
          "[670, 740)",
          "[580, 670)",
          "[580, 670)",
          "[670, 740)",
          "[670, 740)",
          "[670, 740)",
          "[670, 740)",
          "[670, 740)",
          "[670, 740)",
          "[670, 740)",
          "[740, 800)",
          "[670, 740)",
          "[670, 740)",
          "[580, 670)",
          "[670, 740)",
          "[670, 740)",
          "[740, 800)",
          "[670, 740)",
          "[740, 800)",
          "[670, 740)",
          "[580, 670)",
          "[670, 740)",
          "[670, 740)",
          "[670, 740)",
          "[580, 670)",
          "[670, 740)",
          "[740, 800)",
          "[670, 740)",
          "[670, 740)",
          "[670, 740)",
          "[670, 740)",
          "[670, 740)",
          "[740, 800)",
          "[670, 740)",
          "[580, 670)",
          "[670, 740)",
          "[670, 740)",
          "[580, 670)",
          "[670, 740)",
          "[670, 740)",
          "[670, 740)",
          "[670, 740)",
          "[670, 740)",
          "[670, 740)",
          "[670, 740)",
          "[670, 740)",
          "[670, 740)",
          "[740, 800)",
          "[670, 740)",
          "[740, 800)",
          "[670, 740)",
          "[670, 740)",
          "[580, 670)",
          "[670, 740)",
          "[670, 740)",
          "[670, 740)",
          "[670, 740)",
          "[740, 800)",
          "[670, 740)",
          "[670, 740)",
          "[670, 740)",
          "[670, 740)",
          "[580, 670)",
          "[670, 740)",
          "[670, 740)",
          "[670, 740)",
          "[740, 800)",
          "[670, 740)",
          "[670, 740)",
          "[670, 740)",
          "[670, 740)",
          "[670, 740)",
          "[670, 740)",
          "[670, 740)",
          "[580, 670)",
          "[740, 800)",
          "[670, 740)",
          "[670, 740)",
          "[670, 740)",
          "[670, 740)",
          "[740, 800)",
          "[670, 740)",
          "[670, 740)",
          "[670, 740)",
          "[670, 740)",
          "[670, 740)",
          "[580, 670)",
          "[580, 670)",
          "[580, 670)",
          "[670, 740)",
          "[670, 740)",
          "[670, 740)",
          "[580, 670)",
          "[670, 740)",
          "[670, 740)",
          "[670, 740)",
          "[670, 740)",
          "[580, 670)",
          "[740, 800)",
          "[580, 670)",
          "[580, 670)",
          "[670, 740)",
          "[670, 740)",
          "[670, 740)",
          "[670, 740)",
          "[670, 740)",
          "[740, 800)",
          "[670, 740)",
          "[670, 740)",
          "[740, 800)",
          "[670, 740)",
          "[740, 800)",
          "[670, 740)",
          "[580, 670)",
          "[670, 740)",
          "[670, 740)",
          "[740, 800)",
          "[670, 740)",
          "[670, 740)",
          "[670, 740)",
          "[670, 740)",
          "[670, 740)",
          "[670, 740)",
          "[670, 740)",
          "[670, 740)",
          "[740, 800)",
          "[670, 740)",
          "[670, 740)",
          "[670, 740)",
          "[670, 740)",
          "[670, 740)",
          "[670, 740)",
          "[670, 740)",
          "[580, 670)",
          "[670, 740)",
          "[580, 670)",
          "[670, 740)",
          "[670, 740)",
          "[740, 800)",
          "[580, 670)",
          "[670, 740)",
          "[670, 740)",
          "[670, 740)",
          "[740, 800)",
          "[670, 740)",
          "[670, 740)",
          "[670, 740)",
          "[580, 670)",
          "[670, 740)",
          "[670, 740)",
          "[670, 740)",
          "[800, 850)",
          "[580, 670)",
          "[670, 740)",
          "[580, 670)",
          "[670, 740)",
          "[670, 740)",
          "[670, 740)",
          "[580, 670)",
          "[670, 740)",
          "[670, 740)",
          "[670, 740)",
          "[580, 670)",
          "[670, 740)",
          "[670, 740)",
          "[800, 850)",
          "[670, 740)",
          "[670, 740)",
          "[740, 800)",
          "[670, 740)",
          "[670, 740)",
          "[670, 740)",
          "[670, 740)",
          "[670, 740)",
          "[670, 740)",
          "[670, 740)",
          "[670, 740)",
          "[670, 740)",
          "[670, 740)",
          "[670, 740)",
          "[670, 740)",
          "[580, 670)",
          "[670, 740)",
          "[670, 740)",
          "[740, 800)",
          "[740, 800)",
          "[670, 740)",
          "[670, 740)",
          "[670, 740)",
          "[670, 740)",
          "[670, 740)",
          "[580, 670)",
          "[580, 670)",
          "[580, 670)",
          "[580, 670)",
          "[670, 740)",
          "[670, 740)",
          "[670, 740)",
          "[670, 740)",
          "[670, 740)",
          "[670, 740)",
          "[580, 670)",
          "[670, 740)",
          "[670, 740)",
          "[670, 740)",
          "[670, 740)",
          "[580, 670)",
          "[670, 740)",
          "[580, 670)",
          "[670, 740)",
          "[670, 740)",
          "[670, 740)",
          "[580, 670)",
          "[670, 740)",
          "[670, 740)",
          "[670, 740)",
          "[670, 740)",
          "[670, 740)",
          "[670, 740)",
          "[670, 740)",
          "[670, 740)",
          "[670, 740)",
          "[670, 740)",
          "[670, 740)",
          "[740, 800)",
          "[580, 670)",
          "[670, 740)",
          "[670, 740)",
          "[580, 670)",
          "[580, 670)",
          "[670, 740)",
          "[670, 740)",
          "[670, 740)",
          "[670, 740)",
          "[670, 740)",
          "[670, 740)",
          "[740, 800)",
          "[670, 740)",
          "[670, 740)",
          "[670, 740)",
          "[670, 740)",
          "[740, 800)",
          "[740, 800)",
          "[670, 740)",
          "[670, 740)",
          "[740, 800)",
          "[580, 670)",
          "[740, 800)",
          "[670, 740)",
          "[670, 740)",
          "[740, 800)",
          "[670, 740)",
          "[670, 740)",
          "[670, 740)",
          "[670, 740)",
          "[670, 740)",
          "[580, 670)",
          "[670, 740)",
          "[670, 740)",
          "[670, 740)",
          "[670, 740)",
          "[670, 740)",
          "[670, 740)",
          "[670, 740)",
          "[670, 740)",
          "[580, 670)",
          "[670, 740)",
          "[670, 740)",
          "[670, 740)",
          "[670, 740)",
          "[740, 800)",
          "[740, 800)",
          "[580, 670)",
          "[670, 740)",
          "[670, 740)",
          "[670, 740)",
          "[670, 740)",
          "[670, 740)",
          "[580, 670)",
          "[580, 670)",
          "[670, 740)",
          "[670, 740)",
          "[670, 740)",
          "[740, 800)",
          "[740, 800)",
          "[580, 670)",
          "[670, 740)",
          "[740, 800)",
          "[670, 740)",
          "[670, 740)",
          "[670, 740)",
          "[670, 740)",
          "[670, 740)",
          "[580, 670)",
          "[670, 740)",
          "[670, 740)",
          "[670, 740)",
          "[670, 740)",
          "[670, 740)",
          "[580, 670)",
          "[670, 740)",
          "[740, 800)",
          "[670, 740)",
          "[670, 740)",
          "[670, 740)",
          "[580, 670)",
          "[670, 740)",
          "[740, 800)",
          "[670, 740)",
          "[670, 740)",
          "[670, 740)",
          "[580, 670)",
          "[580, 670)",
          "[670, 740)",
          "[670, 740)",
          "[670, 740)",
          "[670, 740)",
          "[670, 740)",
          "[580, 670)",
          "[670, 740)",
          "[670, 740)",
          "[740, 800)",
          "[670, 740)",
          "[670, 740)",
          "[670, 740)",
          "[670, 740)",
          "[670, 740)",
          "[670, 740)",
          "[670, 740)",
          "[670, 740)",
          "[670, 740)",
          "[670, 740)",
          "[740, 800)",
          "[580, 670)",
          "[670, 740)",
          "[670, 740)",
          "[670, 740)",
          "[670, 740)",
          "[580, 670)",
          "[670, 740)",
          "[740, 800)",
          "[670, 740)",
          "[670, 740)",
          "[580, 670)",
          "[670, 740)",
          "[670, 740)",
          "[670, 740)",
          "[670, 740)",
          "[670, 740)",
          "[670, 740)",
          "[670, 740)",
          "[670, 740)",
          "[670, 740)",
          "[580, 670)",
          "[670, 740)",
          "[670, 740)",
          "[670, 740)",
          "[580, 670)",
          "[580, 670)",
          "[670, 740)",
          "[670, 740)",
          "[670, 740)",
          "[670, 740)",
          "[580, 670)",
          "[670, 740)",
          "[670, 740)",
          "[670, 740)",
          "[670, 740)",
          "[670, 740)",
          "[670, 740)",
          "[670, 740)",
          "[580, 670)",
          "[670, 740)",
          "[670, 740)",
          "[670, 740)",
          "[670, 740)",
          "[670, 740)",
          "[670, 740)",
          "[670, 740)",
          "[670, 740)",
          "[670, 740)",
          "[670, 740)",
          "[670, 740)",
          "[670, 740)",
          "[670, 740)",
          "[580, 670)",
          "[670, 740)",
          "[580, 670)",
          "[670, 740)",
          "[670, 740)",
          "[740, 800)",
          "[670, 740)",
          "[670, 740)",
          "[670, 740)",
          "[670, 740)",
          "[670, 740)",
          "[580, 670)",
          "[670, 740)",
          "[670, 740)",
          "[670, 740)",
          "[670, 740)",
          "[740, 800)",
          "[670, 740)",
          "[670, 740)",
          "[580, 670)",
          "[670, 740)",
          "[670, 740)",
          "[670, 740)",
          "[670, 740)",
          "[580, 670)",
          "[670, 740)",
          "[670, 740)",
          "[580, 670)",
          "[580, 670)",
          "[670, 740)",
          "[670, 740)",
          "[670, 740)",
          "[670, 740)",
          "[670, 740)",
          "[670, 740)",
          "[670, 740)",
          "[670, 740)",
          "[670, 740)",
          "[670, 740)",
          "[670, 740)",
          "[670, 740)",
          "[580, 670)",
          "[670, 740)",
          "[580, 670)",
          "[670, 740)",
          "[580, 670)",
          "[670, 740)",
          "[670, 740)",
          "[580, 670)",
          "[670, 740)",
          "[740, 800)",
          "[670, 740)",
          "[670, 740)",
          "[670, 740)",
          "[670, 740)",
          "[670, 740)",
          "[670, 740)",
          "[670, 740)",
          "[670, 740)",
          "[670, 740)",
          "[670, 740)",
          "[670, 740)",
          "[580, 670)",
          "[670, 740)",
          "[670, 740)",
          "[670, 740)",
          "[670, 740)",
          "[670, 740)",
          "[800, 850)",
          "[670, 740)",
          "[670, 740)",
          "[670, 740)",
          "[740, 800)",
          "[580, 670)",
          "[670, 740)",
          "[670, 740)",
          "[740, 800)",
          "[670, 740)",
          "[670, 740)",
          "[670, 740)",
          "[670, 740)",
          "[740, 800)",
          "[740, 800)",
          "[670, 740)",
          "[800, 850)",
          "[740, 800)",
          "[670, 740)",
          "[800, 850)",
          "[580, 670)",
          "[670, 740)",
          "[670, 740)",
          "[580, 670)",
          "[670, 740)",
          "[580, 670)",
          "[740, 800)",
          "[670, 740)",
          "[580, 670)",
          "[670, 740)",
          "[670, 740)",
          "[670, 740)",
          "[670, 740)",
          "[670, 740)",
          "[670, 740)",
          "[740, 800)",
          "[740, 800)",
          "[670, 740)",
          "[580, 670)",
          "[670, 740)",
          "[580, 670)",
          "[670, 740)",
          "[670, 740)",
          "[670, 740)",
          "[670, 740)",
          "[670, 740)",
          "[670, 740)",
          "[670, 740)",
          "[670, 740)",
          "[580, 670)",
          "[740, 800)",
          "[740, 800)",
          "[580, 670)",
          "[580, 670)",
          "[670, 740)",
          "[740, 800)",
          "[670, 740)",
          "[580, 670)",
          "[670, 740)",
          "[670, 740)",
          "[670, 740)",
          "[670, 740)",
          "[580, 670)",
          "[740, 800)",
          "[580, 670)",
          "[670, 740)",
          "[580, 670)",
          "[670, 740)",
          "[670, 740)",
          "[740, 800)",
          "[580, 670)",
          "[670, 740)",
          "[740, 800)",
          "[800, 850)",
          "[580, 670)",
          "[580, 670)",
          "[670, 740)",
          "[670, 740)",
          "[670, 740)",
          "[670, 740)",
          "[580, 670)",
          "[670, 740)",
          "[580, 670)",
          "[670, 740)",
          "[740, 800)",
          "[670, 740)",
          "[670, 740)",
          "[670, 740)",
          "[670, 740)",
          "[670, 740)",
          "[670, 740)",
          "[670, 740)",
          "[670, 740)",
          "[670, 740)",
          "[670, 740)",
          "[740, 800)",
          "[580, 670)",
          "[670, 740)",
          "[670, 740)",
          "[670, 740)",
          "[670, 740)",
          "[670, 740)",
          "[670, 740)",
          "[670, 740)",
          "[670, 740)",
          "[670, 740)",
          "[670, 740)",
          "[670, 740)",
          "[670, 740)",
          "[670, 740)",
          "[740, 800)",
          "[740, 800)",
          "[670, 740)",
          "[670, 740)",
          "[670, 740)",
          "[580, 670)",
          "[670, 740)",
          "[580, 670)",
          "[670, 740)",
          "[740, 800)",
          "[670, 740)",
          "[580, 670)",
          "[670, 740)",
          "[670, 740)",
          "[580, 670)",
          "[580, 670)",
          "[670, 740)",
          "[670, 740)",
          "[580, 670)",
          "[670, 740)",
          "[740, 800)",
          "[740, 800)",
          "[670, 740)",
          "[580, 670)",
          "[670, 740)",
          "[670, 740)",
          "[670, 740)",
          "[670, 740)",
          "[740, 800)",
          "[670, 740)",
          "[580, 670)",
          "[670, 740)",
          "[670, 740)",
          "[580, 670)",
          "[580, 670)",
          "[580, 670)",
          "[800, 850)",
          "[670, 740)",
          "[670, 740)",
          "[670, 740)",
          "[670, 740)",
          "[670, 740)",
          "[670, 740)",
          "[740, 800)",
          "[740, 800)",
          "[670, 740)",
          "[670, 740)",
          "[670, 740)",
          "[670, 740)",
          "[670, 740)",
          "[670, 740)",
          "[670, 740)",
          "[670, 740)",
          "[670, 740)",
          "[670, 740)",
          "[670, 740)",
          "[670, 740)",
          "[670, 740)",
          "[670, 740)",
          "[670, 740)",
          "[670, 740)",
          "[670, 740)",
          "[670, 740)",
          "[670, 740)",
          "[580, 670)",
          "[670, 740)",
          "[580, 670)",
          "[670, 740)",
          "[580, 670)",
          "[670, 740)",
          "[670, 740)",
          "[670, 740)",
          "[740, 800)",
          "[670, 740)",
          "[670, 740)",
          "[670, 740)",
          "[670, 740)",
          "[740, 800)",
          "[670, 740)",
          "[670, 740)",
          "[670, 740)",
          "[670, 740)",
          "[670, 740)",
          "[670, 740)",
          "[670, 740)",
          "[580, 670)",
          "[580, 670)",
          "[580, 670)",
          "[670, 740)",
          "[670, 740)",
          "[670, 740)",
          "[670, 740)",
          "[670, 740)",
          "[670, 740)",
          "[670, 740)",
          "[800, 850)",
          "[580, 670)",
          "[670, 740)",
          "[670, 740)",
          "[670, 740)",
          "[670, 740)",
          "[670, 740)",
          "[670, 740)",
          "[670, 740)",
          "[670, 740)",
          "[580, 670)",
          "[740, 800)",
          "[580, 670)",
          "[670, 740)",
          "[740, 800)",
          "[670, 740)",
          "[670, 740)",
          "[670, 740)",
          "[670, 740)",
          "[670, 740)",
          "[670, 740)",
          "[670, 740)",
          "[670, 740)",
          "[670, 740)",
          "[670, 740)",
          "[580, 670)",
          "[740, 800)",
          "[670, 740)",
          "[740, 800)",
          "[670, 740)",
          "[740, 800)",
          "[670, 740)",
          "[670, 740)",
          "[670, 740)",
          "[670, 740)",
          "[580, 670)",
          "[670, 740)",
          "[580, 670)",
          "[670, 740)",
          "[670, 740)",
          "[800, 850)",
          "[670, 740)",
          "[670, 740)",
          "[670, 740)",
          "[670, 740)",
          "[670, 740)",
          "[670, 740)",
          "[670, 740)",
          "[670, 740)",
          "[670, 740)",
          "[670, 740)",
          "[670, 740)",
          "[670, 740)",
          "[670, 740)",
          "[740, 800)",
          "[670, 740)",
          "[580, 670)",
          "[740, 800)",
          "[670, 740)",
          "[580, 670)",
          "[740, 800)",
          "[670, 740)",
          "[580, 670)",
          "[580, 670)",
          "[580, 670)",
          "[670, 740)",
          "[580, 670)",
          "[580, 670)",
          "[580, 670)",
          "[740, 800)",
          "[670, 740)",
          "[670, 740)",
          "[580, 670)",
          "[580, 670)",
          "[670, 740)",
          "[800, 850)",
          "[670, 740)",
          "[580, 670)",
          "[670, 740)",
          "[670, 740)",
          "[670, 740)",
          "[670, 740)",
          "[670, 740)",
          "[670, 740)",
          "[670, 740)",
          "[670, 740)",
          "[670, 740)",
          "[580, 670)",
          "[670, 740)",
          "[740, 800)",
          "[670, 740)",
          "[670, 740)",
          "[740, 800)",
          "[670, 740)",
          "[670, 740)",
          "[740, 800)",
          "[740, 800)",
          "[740, 800)",
          "[670, 740)",
          "[670, 740)",
          "[670, 740)",
          "[670, 740)",
          "[670, 740)",
          "[740, 800)",
          "[670, 740)",
          "[670, 740)",
          "[740, 800)",
          "[580, 670)",
          "[670, 740)",
          "[670, 740)",
          "[670, 740)",
          "[670, 740)",
          "[580, 670)",
          "[580, 670)",
          "[670, 740)",
          "[740, 800)",
          "[670, 740)",
          "[670, 740)",
          "[670, 740)",
          "[670, 740)",
          "[580, 670)",
          "[670, 740)",
          "[670, 740)",
          "[670, 740)",
          "[670, 740)",
          "[670, 740)",
          "[580, 670)",
          "[670, 740)",
          "[670, 740)",
          "[740, 800)",
          "[580, 670)",
          "[670, 740)",
          "[670, 740)",
          "[670, 740)",
          "[580, 670)",
          "[670, 740)",
          "[670, 740)",
          "[670, 740)",
          "[740, 800)",
          "[670, 740)",
          "[670, 740)",
          "[670, 740)",
          "[740, 800)",
          "[740, 800)",
          "[670, 740)",
          "[670, 740)",
          "[670, 740)",
          "[670, 740)",
          "[670, 740)",
          "[670, 740)",
          "[580, 670)",
          "[670, 740)",
          "[670, 740)",
          "[670, 740)",
          "[670, 740)",
          "[670, 740)",
          "[670, 740)",
          "[670, 740)",
          "[670, 740)",
          "[580, 670)",
          "[670, 740)",
          "[670, 740)",
          "[670, 740)",
          "[670, 740)",
          "[670, 740)",
          "[670, 740)",
          "[670, 740)",
          "[670, 740)",
          "[670, 740)",
          "[580, 670)",
          "[670, 740)",
          "[670, 740)",
          "[670, 740)",
          "[670, 740)",
          "[670, 740)",
          "[740, 800)",
          "[670, 740)",
          "[670, 740)",
          "[670, 740)",
          "[670, 740)",
          "[670, 740)",
          "[670, 740)",
          "[670, 740)",
          "[670, 740)",
          "[670, 740)",
          "[670, 740)",
          "[740, 800)",
          "[670, 740)",
          "[740, 800)",
          "[740, 800)",
          "[670, 740)",
          "[670, 740)",
          "[670, 740)",
          "[670, 740)",
          "[740, 800)",
          "[670, 740)",
          "[670, 740)",
          "[670, 740)",
          "[580, 670)",
          "[580, 670)",
          "[670, 740)",
          "[670, 740)",
          "[580, 670)",
          "[670, 740)",
          "[580, 670)",
          "[670, 740)",
          "[670, 740)",
          "[670, 740)",
          "[740, 800)",
          "[670, 740)",
          "[670, 740)",
          "[740, 800)",
          "[580, 670)",
          "[670, 740)",
          "[670, 740)",
          "[670, 740)",
          "[670, 740)",
          "[670, 740)",
          "[670, 740)",
          "[670, 740)",
          "[670, 740)",
          "[670, 740)",
          "[740, 800)",
          "[670, 740)",
          "[670, 740)",
          "[740, 800)",
          "[670, 740)",
          "[670, 740)",
          "[670, 740)",
          "[670, 740)",
          "[800, 850)",
          "[580, 670)",
          "[740, 800)",
          "[580, 670)",
          "[670, 740)",
          "[670, 740)",
          "[740, 800)",
          "[670, 740)",
          "[580, 670)",
          "[670, 740)",
          "[670, 740)",
          "[740, 800)",
          "[580, 670)",
          "[670, 740)",
          "[670, 740)",
          "[670, 740)",
          "[670, 740)",
          "[670, 740)",
          "[670, 740)",
          "[670, 740)",
          "[670, 740)",
          "[670, 740)",
          "[670, 740)",
          "[670, 740)",
          "[670, 740)",
          "[740, 800)",
          "[670, 740)",
          "[670, 740)",
          "[670, 740)",
          "[670, 740)",
          "[670, 740)",
          "[670, 740)",
          "[670, 740)",
          "[670, 740)",
          "[670, 740)",
          "[670, 740)",
          "[670, 740)",
          "[580, 670)",
          "[670, 740)",
          "[670, 740)",
          "[670, 740)",
          "[670, 740)",
          "[580, 670)",
          "[740, 800)",
          "[670, 740)",
          "[670, 740)",
          "[670, 740)",
          "[670, 740)",
          "[670, 740)",
          "[740, 800)",
          "[740, 800)",
          "[670, 740)",
          "[670, 740)",
          "[670, 740)",
          "[670, 740)",
          "[670, 740)",
          "[670, 740)",
          "[670, 740)",
          "[670, 740)",
          "[670, 740)",
          "[580, 670)",
          "[670, 740)",
          "[670, 740)",
          "[580, 670)",
          "[740, 800)",
          "[670, 740)",
          "[670, 740)",
          "[670, 740)",
          "[670, 740)",
          "[670, 740)",
          "[740, 800)",
          "[740, 800)",
          "[670, 740)",
          "[670, 740)",
          "[670, 740)",
          "[670, 740)",
          "[670, 740)",
          "[580, 670)",
          "[670, 740)",
          "[670, 740)",
          "[670, 740)",
          "[740, 800)",
          "[740, 800)",
          "[670, 740)",
          "[670, 740)",
          "[670, 740)",
          "[670, 740)",
          "[580, 670)",
          "[580, 670)",
          "[670, 740)",
          "[670, 740)",
          "[670, 740)",
          "[740, 800)",
          "[670, 740)",
          "[670, 740)",
          "[670, 740)",
          "[670, 740)",
          "[670, 740)",
          "[740, 800)",
          "[670, 740)",
          "[670, 740)",
          "[670, 740)",
          "[670, 740)",
          "[670, 740)",
          "[580, 670)",
          "[670, 740)",
          "[670, 740)",
          "[740, 800)",
          "[740, 800)",
          "[670, 740)",
          "[670, 740)",
          "[670, 740)",
          "[670, 740)",
          "[670, 740)",
          "[670, 740)",
          "[670, 740)",
          "[670, 740)",
          "[580, 670)",
          "[580, 670)",
          "[580, 670)",
          "[670, 740)",
          "[670, 740)",
          "[670, 740)",
          "[670, 740)",
          "[670, 740)",
          "[740, 800)",
          "[670, 740)",
          "[800, 850)",
          "[580, 670)",
          "[670, 740)",
          "[670, 740)",
          "[670, 740)",
          "[670, 740)",
          "[670, 740)",
          "[670, 740)",
          "[580, 670)",
          "[670, 740)",
          "[670, 740)",
          "[740, 800)",
          "[580, 670)",
          "[670, 740)",
          "[670, 740)",
          "[670, 740)",
          "[670, 740)",
          "[670, 740)",
          "[670, 740)",
          "[740, 800)",
          "[670, 740)",
          "[670, 740)",
          "[670, 740)",
          "[670, 740)",
          "[670, 740)",
          "[670, 740)",
          "[670, 740)",
          "[580, 670)",
          "[670, 740)",
          "[670, 740)",
          "[670, 740)",
          "[670, 740)",
          "[670, 740)",
          "[670, 740)",
          "[580, 670)",
          "[670, 740)",
          "[670, 740)",
          "[670, 740)",
          "[670, 740)",
          "[670, 740)",
          "[670, 740)",
          "[670, 740)",
          "[580, 670)",
          "[670, 740)",
          "[670, 740)",
          "[670, 740)",
          "[740, 800)",
          "[670, 740)",
          "[670, 740)",
          "[580, 670)",
          "[740, 800)",
          "[670, 740)",
          "[670, 740)",
          "[580, 670)",
          "[740, 800)",
          "[670, 740)",
          "[670, 740)",
          "[670, 740)",
          "[670, 740)",
          "[670, 740)",
          "[670, 740)",
          "[740, 800)",
          "[670, 740)",
          "[670, 740)",
          "[740, 800)",
          "[670, 740)",
          "[580, 670)",
          "[670, 740)",
          "[670, 740)",
          "[580, 670)",
          "[670, 740)",
          "[670, 740)",
          "[670, 740)",
          "[670, 740)",
          "[580, 670)",
          "[670, 740)",
          "[670, 740)",
          "[670, 740)",
          "[670, 740)",
          "[670, 740)",
          "[740, 800)",
          "[670, 740)",
          "[670, 740)",
          "[670, 740)",
          "[670, 740)",
          "[740, 800)",
          "[670, 740)",
          "[670, 740)",
          "[670, 740)",
          "[670, 740)",
          "[740, 800)",
          "[670, 740)",
          "[670, 740)",
          "[670, 740)",
          "[670, 740)",
          "[670, 740)",
          "[670, 740)",
          "[670, 740)",
          "[670, 740)",
          "[670, 740)",
          "[670, 740)",
          "[670, 740)",
          "[670, 740)",
          "[740, 800)",
          "[670, 740)",
          "[670, 740)",
          "[670, 740)",
          "[580, 670)",
          "[670, 740)",
          "[670, 740)",
          "[580, 670)",
          "[670, 740)",
          "[740, 800)",
          "[670, 740)",
          "[670, 740)",
          "[670, 740)",
          "[670, 740)",
          "[670, 740)",
          "[580, 670)",
          "[670, 740)",
          "[670, 740)",
          "[670, 740)",
          "[670, 740)",
          "[670, 740)",
          "[670, 740)",
          "[670, 740)",
          "[670, 740)",
          "[580, 670)",
          "[670, 740)",
          "[580, 670)",
          "[670, 740)",
          "[670, 740)",
          "[670, 740)",
          "[670, 740)",
          "[670, 740)",
          "[740, 800)",
          "[670, 740)",
          "[670, 740)",
          "[670, 740)",
          "[670, 740)",
          "[670, 740)",
          "[670, 740)",
          "[670, 740)",
          "[670, 740)",
          "[670, 740)",
          "[670, 740)",
          "[740, 800)",
          "[670, 740)",
          "[580, 670)",
          "[670, 740)",
          "[670, 740)",
          "[670, 740)",
          "[670, 740)",
          "[740, 800)",
          "[670, 740)",
          "[670, 740)",
          "[580, 670)",
          "[580, 670)",
          "[740, 800)",
          "[670, 740)",
          "[580, 670)",
          "[670, 740)",
          "[670, 740)",
          "[670, 740)",
          "[670, 740)",
          "[740, 800)",
          "[670, 740)",
          "[580, 670)",
          "[580, 670)",
          "[670, 740)",
          "[670, 740)",
          "[670, 740)",
          "[670, 740)",
          "[670, 740)",
          "[670, 740)",
          "[670, 740)",
          "[580, 670)",
          "[670, 740)",
          "[670, 740)",
          "[670, 740)",
          "[670, 740)",
          "[670, 740)",
          "[670, 740)",
          "[670, 740)",
          "[670, 740)",
          "[670, 740)",
          "[670, 740)",
          "[670, 740)",
          "[580, 670)",
          "[670, 740)",
          "[670, 740)",
          "[670, 740)",
          "[670, 740)",
          "[580, 670)",
          "[670, 740)",
          "[670, 740)",
          "[670, 740)",
          "[670, 740)",
          "[670, 740)",
          "[670, 740)",
          "[740, 800)",
          "[670, 740)",
          "[670, 740)",
          "[670, 740)",
          "[670, 740)",
          "[670, 740)",
          "[670, 740)",
          "[670, 740)",
          "[740, 800)",
          "[670, 740)",
          "[580, 670)",
          "[670, 740)",
          "[670, 740)",
          "[670, 740)",
          "[670, 740)",
          "[670, 740)",
          "[670, 740)",
          "[670, 740)",
          "[580, 670)",
          "[670, 740)",
          "[670, 740)",
          "[670, 740)",
          "[670, 740)",
          "[740, 800)",
          "[670, 740)",
          "[580, 670)",
          "[670, 740)"
         ],
         "x0": " ",
         "xaxis": "x",
         "y": {
          "bdata": "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",
          "dtype": "f8"
         },
         "y0": " ",
         "yaxis": "y"
        },
        {
         "alignmentgroup": "True",
         "hovertemplate": "Loan Length (Months)=36<br>credit_score_bin=%{x}<br>Interest Rate (%)=%{y}<extra></extra>",
         "legendgroup": "36",
         "marker": {
          "color": "purple"
         },
         "name": "36",
         "notched": false,
         "offsetgroup": "36",
         "orientation": "v",
         "showlegend": true,
         "type": "box",
         "x": [
          "[670, 740)",
          "[670, 740)",
          "[670, 740)",
          "[670, 740)",
          "[740, 800)",
          "[580, 670)",
          "[670, 740)",
          "[670, 740)",
          "[670, 740)",
          "[580, 670)",
          "[670, 740)",
          "[670, 740)",
          "[670, 740)",
          "[670, 740)",
          "[670, 740)",
          "[580, 670)",
          "[740, 800)",
          "[740, 800)",
          "[670, 740)",
          "[740, 800)",
          "[670, 740)",
          "[670, 740)",
          "[580, 670)",
          "[670, 740)",
          "[670, 740)",
          "[670, 740)",
          "[670, 740)",
          "[670, 740)",
          "[580, 670)",
          "[740, 800)",
          "[670, 740)",
          "[740, 800)",
          "[670, 740)",
          "[670, 740)",
          "[670, 740)",
          "[580, 670)",
          "[670, 740)",
          "[670, 740)",
          "[740, 800)",
          "[670, 740)",
          "[670, 740)",
          "[670, 740)",
          "[740, 800)",
          "[670, 740)",
          "[670, 740)",
          "[670, 740)",
          "[740, 800)",
          "[580, 670)",
          "[670, 740)",
          "[670, 740)",
          "[670, 740)",
          "[670, 740)",
          "[670, 740)",
          "[670, 740)",
          "[740, 800)",
          "[670, 740)",
          "[670, 740)",
          "[670, 740)",
          "[670, 740)",
          "[670, 740)",
          "[670, 740)",
          "[670, 740)",
          "[740, 800)",
          "[670, 740)",
          "[670, 740)",
          "[670, 740)",
          "[670, 740)",
          "[580, 670)",
          "[670, 740)",
          "[670, 740)",
          "[740, 800)",
          "[670, 740)",
          "[670, 740)",
          "[580, 670)",
          "[580, 670)",
          "[580, 670)",
          "[670, 740)",
          "[580, 670)",
          "[580, 670)",
          "[580, 670)",
          "[670, 740)",
          "[670, 740)",
          "[740, 800)",
          "[670, 740)",
          "[670, 740)",
          "[740, 800)",
          "[670, 740)",
          "[740, 800)",
          "[670, 740)",
          "[670, 740)",
          "[670, 740)",
          "[670, 740)",
          "[740, 800)",
          "[670, 740)",
          "[580, 670)",
          "[580, 670)",
          "[740, 800)",
          "[580, 670)",
          "[670, 740)",
          "[670, 740)",
          "[670, 740)",
          "[670, 740)",
          "[670, 740)",
          "[670, 740)",
          "[670, 740)",
          "[740, 800)",
          "[670, 740)",
          "[670, 740)",
          "[670, 740)",
          "[670, 740)",
          "[670, 740)",
          "[670, 740)",
          "[670, 740)",
          "[580, 670)",
          "[670, 740)",
          "[670, 740)",
          "[670, 740)",
          "[670, 740)",
          "[800, 850)",
          "[670, 740)",
          "[670, 740)",
          "[740, 800)",
          "[670, 740)",
          "[670, 740)",
          "[670, 740)",
          "[670, 740)",
          "[670, 740)",
          "[670, 740)",
          "[740, 800)",
          "[670, 740)",
          "[670, 740)",
          "[670, 740)",
          "[670, 740)",
          "[740, 800)",
          "[670, 740)",
          "[580, 670)",
          "[740, 800)",
          "[800, 850)",
          "[670, 740)",
          "[670, 740)",
          "[670, 740)",
          "[670, 740)",
          "[580, 670)",
          "[670, 740)",
          "[670, 740)",
          "[670, 740)",
          "[670, 740)",
          "[580, 670)",
          "[740, 800)",
          "[580, 670)",
          "[580, 670)",
          "[670, 740)",
          "[580, 670)",
          "[740, 800)",
          "[670, 740)",
          "[670, 740)",
          "[670, 740)",
          "[670, 740)",
          "[670, 740)",
          "[670, 740)",
          "[580, 670)",
          "[580, 670)",
          "[740, 800)",
          "[670, 740)",
          "[740, 800)",
          "[670, 740)",
          "[670, 740)",
          "[670, 740)",
          "[580, 670)",
          "[670, 740)",
          "[580, 670)",
          "[670, 740)",
          "[670, 740)",
          "[670, 740)",
          "[580, 670)",
          "[670, 740)",
          "[670, 740)",
          "[670, 740)",
          "[670, 740)",
          "[670, 740)",
          "[670, 740)",
          "[670, 740)",
          "[580, 670)",
          "[580, 670)",
          "[580, 670)",
          "[670, 740)",
          "[670, 740)",
          "[670, 740)",
          "[740, 800)",
          "[670, 740)",
          "[740, 800)",
          "[670, 740)",
          "[740, 800)",
          "[670, 740)",
          "[580, 670)",
          "[670, 740)",
          "[670, 740)",
          "[580, 670)",
          "[580, 670)",
          "[670, 740)",
          "[670, 740)",
          "[580, 670)",
          "[580, 670)",
          "[670, 740)",
          "[670, 740)",
          "[670, 740)",
          "[670, 740)",
          "[670, 740)",
          "[740, 800)",
          "[740, 800)",
          "[670, 740)",
          "[670, 740)",
          "[670, 740)",
          "[670, 740)",
          "[670, 740)",
          "[670, 740)",
          "[740, 800)",
          "[670, 740)",
          "[580, 670)",
          "[670, 740)",
          "[670, 740)",
          "[670, 740)",
          "[670, 740)",
          "[670, 740)",
          "[580, 670)",
          "[740, 800)",
          "[740, 800)",
          "[670, 740)",
          "[670, 740)",
          "[670, 740)",
          "[740, 800)",
          "[580, 670)",
          "[670, 740)",
          "[670, 740)",
          "[670, 740)",
          "[670, 740)",
          "[670, 740)",
          "[670, 740)",
          "[670, 740)",
          "[740, 800)",
          "[670, 740)",
          "[670, 740)",
          "[670, 740)",
          "[670, 740)",
          "[670, 740)",
          "[670, 740)",
          "[740, 800)",
          "[670, 740)",
          "[670, 740)",
          "[670, 740)",
          "[670, 740)",
          "[670, 740)",
          "[670, 740)",
          "[580, 670)",
          "[670, 740)",
          "[670, 740)",
          "[740, 800)",
          "[740, 800)",
          "[580, 670)",
          "[670, 740)",
          "[670, 740)",
          "[740, 800)",
          "[670, 740)",
          "[580, 670)",
          "[670, 740)",
          "[580, 670)",
          "[580, 670)",
          "[670, 740)",
          "[670, 740)",
          "[670, 740)",
          "[740, 800)",
          "[670, 740)",
          "[670, 740)",
          "[670, 740)",
          "[670, 740)",
          "[670, 740)",
          "[740, 800)",
          "[670, 740)",
          "[670, 740)",
          "[670, 740)",
          "[740, 800)",
          "[740, 800)",
          "[670, 740)",
          "[740, 800)",
          "[670, 740)",
          "[670, 740)",
          "[670, 740)",
          "[670, 740)",
          "[580, 670)",
          "[670, 740)",
          "[670, 740)",
          "[580, 670)",
          "[670, 740)",
          "[670, 740)",
          "[670, 740)",
          "[670, 740)",
          "[670, 740)",
          "[670, 740)",
          "[580, 670)",
          "[670, 740)",
          "[670, 740)",
          "[670, 740)",
          "[670, 740)",
          "[670, 740)",
          "[580, 670)",
          "[580, 670)",
          "[670, 740)",
          "[670, 740)",
          "[670, 740)",
          "[670, 740)",
          "[670, 740)",
          "[670, 740)",
          "[670, 740)",
          "[670, 740)",
          "[670, 740)",
          "[670, 740)",
          "[670, 740)",
          "[670, 740)",
          "[670, 740)",
          "[580, 670)",
          "[670, 740)",
          "[580, 670)",
          "[670, 740)",
          "[670, 740)",
          "[670, 740)",
          "[670, 740)",
          "[670, 740)",
          "[580, 670)",
          "[670, 740)",
          "[670, 740)",
          "[580, 670)",
          "[670, 740)",
          "[670, 740)",
          "[670, 740)",
          "[670, 740)",
          "[670, 740)",
          "[670, 740)",
          "[670, 740)",
          "[670, 740)",
          "[670, 740)",
          "[670, 740)",
          "[670, 740)",
          "[740, 800)",
          "[670, 740)",
          "[670, 740)",
          "[670, 740)",
          "[580, 670)",
          "[670, 740)",
          "[670, 740)",
          "[670, 740)",
          "[670, 740)",
          "[670, 740)",
          "[740, 800)",
          "[670, 740)",
          "[670, 740)",
          "[670, 740)",
          "[670, 740)",
          "[580, 670)",
          "[740, 800)",
          "[670, 740)",
          "[580, 670)",
          "[670, 740)",
          "[670, 740)",
          "[740, 800)",
          "[670, 740)",
          "[670, 740)",
          "[740, 800)",
          "[670, 740)",
          "[740, 800)",
          "[580, 670)",
          "[670, 740)",
          "[670, 740)",
          "[670, 740)",
          "[670, 740)",
          "[670, 740)",
          "[670, 740)",
          "[580, 670)",
          "[670, 740)",
          "[670, 740)",
          "[670, 740)",
          "[580, 670)",
          "[580, 670)",
          "[670, 740)",
          "[670, 740)",
          "[740, 800)",
          "[580, 670)",
          "[670, 740)",
          "[670, 740)",
          "[580, 670)",
          "[670, 740)",
          "[580, 670)",
          "[670, 740)",
          "[670, 740)",
          "[670, 740)",
          "[580, 670)",
          "[670, 740)",
          "[670, 740)",
          "[670, 740)",
          "[670, 740)",
          "[670, 740)",
          "[670, 740)",
          "[670, 740)",
          "[670, 740)",
          "[670, 740)",
          "[580, 670)",
          "[670, 740)",
          "[670, 740)",
          "[580, 670)",
          "[670, 740)",
          "[670, 740)",
          "[670, 740)",
          "[670, 740)",
          "[670, 740)",
          "[740, 800)",
          "[580, 670)",
          "[580, 670)",
          "[670, 740)",
          "[670, 740)",
          "[580, 670)",
          "[670, 740)",
          "[670, 740)",
          "[670, 740)",
          "[670, 740)",
          "[670, 740)",
          "[670, 740)",
          "[670, 740)",
          "[670, 740)",
          "[670, 740)",
          "[670, 740)",
          "[670, 740)",
          "[740, 800)",
          "[670, 740)",
          "[670, 740)",
          "[580, 670)",
          "[670, 740)",
          "[670, 740)",
          "[580, 670)",
          "[670, 740)",
          "[670, 740)",
          "[580, 670)",
          "[580, 670)",
          "[670, 740)",
          "[670, 740)",
          "[670, 740)",
          "[670, 740)",
          "[670, 740)",
          "[580, 670)",
          "[670, 740)",
          "[670, 740)",
          "[670, 740)",
          "[670, 740)",
          "[580, 670)",
          "[670, 740)",
          "[740, 800)",
          "[670, 740)",
          "[670, 740)",
          "[670, 740)",
          "[670, 740)",
          "[740, 800)",
          "[670, 740)",
          "[670, 740)",
          "[740, 800)",
          "[670, 740)",
          "[740, 800)",
          "[670, 740)",
          "[670, 740)",
          "[670, 740)",
          "[670, 740)",
          "[800, 850)",
          "[670, 740)",
          "[580, 670)",
          "[580, 670)",
          "[670, 740)",
          "[580, 670)",
          "[580, 670)",
          "[670, 740)",
          "[670, 740)",
          "[670, 740)",
          "[670, 740)",
          "[670, 740)",
          "[670, 740)",
          "[670, 740)",
          "[670, 740)",
          "[670, 740)",
          "[670, 740)",
          "[670, 740)",
          "[580, 670)",
          "[670, 740)",
          "[670, 740)",
          "[670, 740)",
          "[670, 740)",
          "[670, 740)",
          "[580, 670)",
          "[580, 670)",
          "[670, 740)",
          "[740, 800)",
          "[670, 740)",
          "[670, 740)",
          "[670, 740)",
          "[670, 740)",
          "[670, 740)",
          "[670, 740)",
          "[670, 740)",
          "[670, 740)",
          "[670, 740)",
          "[740, 800)",
          "[740, 800)",
          "[580, 670)",
          "[670, 740)",
          "[670, 740)",
          "[670, 740)",
          "[670, 740)",
          "[740, 800)",
          "[740, 800)",
          "[670, 740)",
          "[580, 670)",
          "[670, 740)",
          "[670, 740)",
          "[670, 740)",
          "[580, 670)",
          "[670, 740)",
          "[740, 800)",
          "[670, 740)",
          "[670, 740)",
          "[670, 740)",
          "[670, 740)",
          "[670, 740)",
          "[670, 740)",
          "[670, 740)",
          "[670, 740)",
          "[670, 740)",
          "[670, 740)",
          "[670, 740)",
          "[670, 740)",
          "[800, 850)",
          "[670, 740)",
          "[580, 670)",
          "[670, 740)",
          "[670, 740)",
          "[580, 670)",
          "[670, 740)",
          "[670, 740)",
          "[580, 670)",
          "[670, 740)",
          "[670, 740)",
          "[670, 740)",
          "[740, 800)",
          "[670, 740)",
          "[580, 670)",
          "[580, 670)",
          "[670, 740)",
          "[670, 740)",
          "[670, 740)",
          "[670, 740)",
          "[670, 740)",
          "[670, 740)",
          "[670, 740)",
          "[670, 740)",
          "[670, 740)",
          "[670, 740)",
          "[580, 670)",
          "[670, 740)",
          "[670, 740)",
          "[580, 670)",
          "[670, 740)",
          "[580, 670)",
          "[670, 740)",
          "[670, 740)",
          "[670, 740)",
          "[670, 740)",
          "[580, 670)",
          "[670, 740)",
          "[670, 740)",
          "[740, 800)",
          "[670, 740)",
          "[740, 800)",
          "[580, 670)",
          "[580, 670)",
          "[670, 740)",
          "[580, 670)",
          "[740, 800)",
          "[670, 740)",
          "[670, 740)",
          "[670, 740)",
          "[580, 670)",
          "[670, 740)",
          "[670, 740)",
          "[580, 670)",
          "[670, 740)",
          "[670, 740)",
          "[580, 670)",
          "[670, 740)",
          "[670, 740)",
          "[580, 670)",
          "[740, 800)",
          "[740, 800)",
          "[580, 670)",
          "[670, 740)",
          "[740, 800)",
          "[740, 800)",
          "[670, 740)",
          "[670, 740)",
          "[670, 740)",
          "[670, 740)",
          "[670, 740)",
          "[670, 740)",
          "[670, 740)",
          "[670, 740)",
          "[670, 740)",
          "[670, 740)",
          "[580, 670)",
          "[670, 740)",
          "[670, 740)",
          "[740, 800)",
          "[670, 740)",
          "[670, 740)",
          "[580, 670)",
          "[580, 670)",
          "[740, 800)",
          "[740, 800)",
          "[580, 670)",
          "[670, 740)",
          "[670, 740)",
          "[670, 740)",
          "[670, 740)",
          "[670, 740)",
          "[670, 740)",
          "[670, 740)",
          "[670, 740)",
          "[670, 740)",
          "[670, 740)",
          "[670, 740)",
          "[580, 670)",
          "[670, 740)",
          "[580, 670)",
          "[670, 740)",
          "[670, 740)",
          "[670, 740)",
          "[670, 740)",
          "[670, 740)",
          "[580, 670)",
          "[580, 670)",
          "[670, 740)",
          "[670, 740)",
          "[670, 740)",
          "[670, 740)",
          "[670, 740)",
          "[670, 740)",
          "[670, 740)",
          "[670, 740)",
          "[670, 740)",
          "[740, 800)",
          "[580, 670)",
          "[800, 850)",
          "[670, 740)",
          "[740, 800)",
          "[670, 740)",
          "[580, 670)",
          "[670, 740)",
          "[670, 740)",
          "[670, 740)",
          "[670, 740)",
          "[670, 740)",
          "[580, 670)",
          "[670, 740)",
          "[670, 740)",
          "[670, 740)",
          "[670, 740)",
          "[670, 740)",
          "[800, 850)",
          "[670, 740)",
          "[670, 740)",
          "[670, 740)",
          "[670, 740)",
          "[670, 740)",
          "[670, 740)",
          "[670, 740)",
          "[800, 850)",
          "[670, 740)",
          "[670, 740)",
          "[670, 740)",
          "[580, 670)",
          "[580, 670)",
          "[740, 800)",
          "[670, 740)",
          "[670, 740)",
          "[670, 740)",
          "[740, 800)",
          "[670, 740)",
          "[670, 740)",
          "[670, 740)",
          "[740, 800)",
          "[580, 670)",
          "[670, 740)",
          "[740, 800)",
          "[670, 740)",
          "[670, 740)",
          "[670, 740)",
          "[670, 740)",
          "[670, 740)",
          "[580, 670)",
          "[580, 670)",
          "[740, 800)",
          "[670, 740)",
          "[670, 740)",
          "[580, 670)",
          "[670, 740)",
          "[670, 740)",
          "[670, 740)",
          "[580, 670)",
          "[670, 740)",
          "[580, 670)",
          "[580, 670)",
          "[670, 740)",
          "[670, 740)",
          "[670, 740)",
          "[670, 740)",
          "[670, 740)",
          "[670, 740)",
          "[740, 800)",
          "[670, 740)",
          "[670, 740)",
          "[670, 740)",
          "[670, 740)",
          "[670, 740)",
          "[670, 740)",
          "[580, 670)",
          "[740, 800)",
          "[670, 740)",
          "[670, 740)",
          "[670, 740)",
          "[580, 670)",
          "[670, 740)",
          "[670, 740)",
          "[740, 800)",
          "[670, 740)",
          "[670, 740)",
          "[670, 740)",
          "[670, 740)",
          "[670, 740)",
          "[670, 740)",
          "[670, 740)",
          "[670, 740)",
          "[740, 800)",
          "[580, 670)",
          "[670, 740)",
          "[580, 670)",
          "[740, 800)",
          "[670, 740)",
          "[670, 740)",
          "[670, 740)",
          "[580, 670)",
          "[670, 740)",
          "[670, 740)",
          "[670, 740)",
          "[670, 740)",
          "[580, 670)",
          "[670, 740)",
          "[670, 740)",
          "[670, 740)",
          "[670, 740)",
          "[670, 740)",
          "[670, 740)",
          "[580, 670)",
          "[740, 800)",
          "[580, 670)",
          "[580, 670)",
          "[670, 740)",
          "[670, 740)",
          "[740, 800)",
          "[670, 740)",
          "[580, 670)",
          "[670, 740)",
          "[670, 740)",
          "[670, 740)",
          "[670, 740)",
          "[740, 800)",
          "[670, 740)",
          "[670, 740)",
          "[670, 740)",
          "[670, 740)",
          "[670, 740)",
          "[670, 740)",
          "[670, 740)",
          "[670, 740)",
          "[580, 670)",
          "[670, 740)",
          "[670, 740)",
          "[670, 740)",
          "[670, 740)",
          "[740, 800)",
          "[670, 740)",
          "[670, 740)",
          "[580, 670)",
          "[670, 740)",
          "[670, 740)",
          "[670, 740)",
          "[670, 740)",
          "[670, 740)",
          "[670, 740)",
          "[580, 670)",
          "[670, 740)",
          "[580, 670)",
          "[670, 740)",
          "[670, 740)",
          "[670, 740)",
          "[670, 740)",
          "[670, 740)",
          "[670, 740)",
          "[740, 800)",
          "[670, 740)",
          "[740, 800)",
          "[670, 740)",
          "[670, 740)",
          "[670, 740)",
          "[670, 740)",
          "[670, 740)",
          "[670, 740)",
          "[670, 740)",
          "[670, 740)",
          "[670, 740)",
          "[670, 740)",
          "[670, 740)",
          "[670, 740)",
          "[670, 740)",
          "[670, 740)",
          "[670, 740)",
          "[670, 740)",
          "[670, 740)",
          "[670, 740)",
          "[670, 740)",
          "[670, 740)",
          "[580, 670)",
          "[580, 670)",
          "[670, 740)",
          "[580, 670)",
          "[670, 740)",
          "[580, 670)",
          "[740, 800)",
          "[670, 740)",
          "[670, 740)",
          "[580, 670)",
          "[580, 670)",
          "[670, 740)",
          "[580, 670)",
          "[740, 800)",
          "[670, 740)",
          "[670, 740)",
          "[670, 740)",
          "[670, 740)",
          "[670, 740)",
          "[670, 740)",
          "[670, 740)",
          "[670, 740)",
          "[580, 670)",
          "[670, 740)",
          "[740, 800)",
          "[670, 740)",
          "[670, 740)",
          "[670, 740)",
          "[670, 740)",
          "[580, 670)",
          "[740, 800)",
          "[580, 670)",
          "[670, 740)",
          "[670, 740)",
          "[670, 740)",
          "[580, 670)",
          "[580, 670)",
          "[670, 740)",
          "[670, 740)",
          "[670, 740)",
          "[800, 850)",
          "[670, 740)",
          "[670, 740)",
          "[670, 740)",
          "[670, 740)",
          "[670, 740)",
          "[670, 740)",
          "[670, 740)",
          "[740, 800)",
          "[580, 670)",
          "[670, 740)",
          "[670, 740)",
          "[670, 740)",
          "[670, 740)",
          "[580, 670)",
          "[740, 800)",
          "[740, 800)",
          "[740, 800)",
          "[670, 740)",
          "[580, 670)",
          "[670, 740)",
          "[740, 800)",
          "[670, 740)",
          "[670, 740)",
          "[740, 800)",
          "[670, 740)",
          "[580, 670)",
          "[580, 670)",
          "[670, 740)",
          "[670, 740)",
          "[670, 740)",
          "[670, 740)",
          "[670, 740)",
          "[670, 740)",
          "[740, 800)",
          "[670, 740)",
          "[670, 740)",
          "[670, 740)",
          "[580, 670)",
          "[580, 670)",
          "[580, 670)",
          "[670, 740)",
          "[670, 740)",
          "[580, 670)",
          "[670, 740)",
          "[670, 740)",
          "[670, 740)",
          "[670, 740)",
          "[740, 800)",
          "[580, 670)",
          "[580, 670)",
          "[740, 800)",
          "[670, 740)",
          "[670, 740)",
          "[670, 740)",
          "[670, 740)",
          "[670, 740)",
          "[670, 740)",
          "[670, 740)",
          "[670, 740)",
          "[740, 800)",
          "[740, 800)",
          "[670, 740)",
          "[670, 740)",
          "[670, 740)",
          "[670, 740)",
          "[580, 670)",
          "[670, 740)",
          "[670, 740)",
          "[670, 740)",
          "[670, 740)",
          "[670, 740)",
          "[670, 740)",
          "[670, 740)",
          "[670, 740)",
          "[580, 670)",
          "[670, 740)",
          "[740, 800)",
          "[670, 740)",
          "[670, 740)",
          "[670, 740)",
          "[670, 740)",
          "[670, 740)",
          "[670, 740)",
          "[670, 740)",
          "[670, 740)",
          "[670, 740)",
          "[670, 740)",
          "[740, 800)",
          "[670, 740)",
          "[670, 740)",
          "[670, 740)",
          "[670, 740)",
          "[670, 740)",
          "[670, 740)",
          "[670, 740)",
          "[670, 740)",
          "[670, 740)",
          "[670, 740)",
          "[670, 740)",
          "[580, 670)",
          "[670, 740)",
          "[670, 740)",
          "[670, 740)",
          "[670, 740)",
          "[670, 740)",
          "[670, 740)",
          "[740, 800)",
          "[670, 740)",
          "[670, 740)",
          "[670, 740)",
          "[670, 740)",
          "[670, 740)",
          "[740, 800)",
          "[670, 740)",
          "[800, 850)",
          "[670, 740)",
          "[670, 740)",
          "[670, 740)",
          "[670, 740)",
          "[670, 740)",
          "[580, 670)",
          "[740, 800)",
          "[670, 740)",
          "[670, 740)",
          "[670, 740)",
          "[670, 740)",
          "[670, 740)",
          "[670, 740)",
          "[670, 740)",
          "[670, 740)",
          "[670, 740)",
          "[670, 740)",
          "[670, 740)",
          "[670, 740)",
          "[670, 740)",
          "[670, 740)",
          "[740, 800)",
          "[670, 740)",
          "[670, 740)",
          "[670, 740)",
          "[670, 740)",
          "[670, 740)",
          "[670, 740)",
          "[670, 740)",
          "[670, 740)",
          "[740, 800)",
          "[670, 740)",
          "[580, 670)",
          "[670, 740)",
          "[670, 740)",
          "[740, 800)",
          "[670, 740)",
          "[670, 740)",
          "[670, 740)",
          "[580, 670)",
          "[580, 670)",
          "[740, 800)",
          "[670, 740)",
          "[670, 740)",
          "[670, 740)",
          "[580, 670)",
          "[670, 740)",
          "[670, 740)",
          "[670, 740)",
          "[670, 740)",
          "[670, 740)",
          "[670, 740)",
          "[670, 740)",
          "[670, 740)",
          "[580, 670)",
          "[670, 740)",
          "[580, 670)",
          "[670, 740)",
          "[740, 800)",
          "[670, 740)",
          "[670, 740)",
          "[670, 740)",
          "[740, 800)",
          "[670, 740)",
          "[580, 670)",
          "[670, 740)",
          "[670, 740)",
          "[580, 670)",
          "[580, 670)",
          "[670, 740)",
          "[670, 740)",
          "[670, 740)",
          "[670, 740)",
          "[670, 740)",
          "[580, 670)",
          "[670, 740)",
          "[670, 740)",
          "[580, 670)",
          "[670, 740)",
          "[670, 740)",
          "[670, 740)",
          "[670, 740)",
          "[670, 740)",
          "[670, 740)",
          "[670, 740)",
          "[670, 740)",
          "[670, 740)",
          "[670, 740)",
          "[670, 740)",
          "[670, 740)",
          "[670, 740)",
          "[740, 800)",
          "[670, 740)",
          "[670, 740)",
          "[670, 740)",
          "[670, 740)",
          "[670, 740)",
          "[670, 740)",
          "[670, 740)",
          "[670, 740)",
          "[740, 800)",
          "[670, 740)",
          "[740, 800)",
          "[670, 740)",
          "[670, 740)",
          "[580, 670)",
          "[670, 740)",
          "[580, 670)",
          "[670, 740)",
          "[670, 740)",
          "[670, 740)",
          "[670, 740)",
          "[740, 800)",
          "[670, 740)",
          "[670, 740)",
          "[740, 800)",
          "[670, 740)",
          "[670, 740)",
          "[670, 740)",
          "[580, 670)",
          "[740, 800)",
          "[580, 670)",
          "[670, 740)",
          "[670, 740)",
          "[670, 740)",
          "[670, 740)",
          "[800, 850)",
          "[670, 740)",
          "[580, 670)",
          "[670, 740)",
          "[740, 800)",
          "[580, 670)",
          "[580, 670)",
          "[580, 670)",
          "[670, 740)",
          "[670, 740)",
          "[580, 670)",
          "[580, 670)",
          "[670, 740)",
          "[580, 670)",
          "[670, 740)",
          "[670, 740)",
          "[670, 740)",
          "[670, 740)",
          "[670, 740)",
          "[580, 670)",
          "[740, 800)",
          "[670, 740)",
          "[670, 740)",
          "[670, 740)",
          "[670, 740)",
          "[670, 740)",
          "[670, 740)",
          "[580, 670)",
          "[670, 740)",
          "[740, 800)",
          "[670, 740)",
          "[670, 740)",
          "[670, 740)",
          "[670, 740)",
          "[670, 740)",
          "[670, 740)",
          "[580, 670)",
          "[670, 740)",
          "[740, 800)",
          "[670, 740)",
          "[580, 670)",
          "[670, 740)",
          "[670, 740)",
          "[670, 740)",
          "[670, 740)",
          "[670, 740)",
          "[670, 740)",
          "[740, 800)",
          "[670, 740)",
          "[670, 740)",
          "[670, 740)",
          "[670, 740)",
          "[580, 670)",
          "[670, 740)",
          "[670, 740)",
          "[670, 740)",
          "[580, 670)",
          "[670, 740)",
          "[670, 740)",
          "[670, 740)",
          "[740, 800)",
          "[670, 740)",
          "[670, 740)",
          "[670, 740)",
          "[670, 740)",
          "[580, 670)",
          "[670, 740)",
          "[670, 740)",
          "[670, 740)",
          "[580, 670)",
          "[670, 740)",
          "[670, 740)",
          "[670, 740)",
          "[580, 670)",
          "[580, 670)",
          "[740, 800)",
          "[670, 740)",
          "[670, 740)",
          "[580, 670)",
          "[670, 740)",
          "[670, 740)",
          "[670, 740)",
          "[670, 740)",
          "[670, 740)",
          "[670, 740)",
          "[670, 740)",
          "[740, 800)",
          "[580, 670)",
          "[670, 740)",
          "[670, 740)",
          "[580, 670)",
          "[670, 740)",
          "[740, 800)",
          "[670, 740)",
          "[580, 670)",
          "[670, 740)",
          "[670, 740)",
          "[670, 740)",
          "[580, 670)",
          "[670, 740)",
          "[670, 740)",
          "[670, 740)",
          "[670, 740)",
          "[670, 740)",
          "[580, 670)",
          "[670, 740)",
          "[670, 740)",
          "[670, 740)",
          "[670, 740)",
          "[670, 740)",
          "[670, 740)",
          "[580, 670)",
          "[670, 740)",
          "[670, 740)",
          "[670, 740)",
          "[670, 740)",
          "[670, 740)",
          "[670, 740)",
          "[580, 670)",
          "[670, 740)",
          "[580, 670)",
          "[670, 740)",
          "[670, 740)",
          "[670, 740)",
          "[670, 740)",
          "[740, 800)",
          "[670, 740)",
          "[670, 740)",
          "[670, 740)",
          "[670, 740)",
          "[670, 740)",
          "[580, 670)",
          "[670, 740)",
          "[670, 740)",
          "[670, 740)",
          "[740, 800)",
          "[670, 740)",
          "[670, 740)",
          "[580, 670)",
          "[580, 670)",
          "[670, 740)",
          "[670, 740)",
          "[670, 740)",
          "[670, 740)",
          "[670, 740)",
          "[670, 740)",
          "[670, 740)",
          "[670, 740)",
          "[670, 740)",
          "[670, 740)",
          "[670, 740)",
          "[670, 740)",
          "[580, 670)",
          "[670, 740)",
          "[740, 800)",
          "[580, 670)",
          "[580, 670)",
          "[670, 740)",
          "[670, 740)",
          "[670, 740)",
          "[670, 740)",
          "[670, 740)",
          "[670, 740)",
          "[800, 850)",
          "[670, 740)",
          "[670, 740)",
          "[670, 740)",
          "[580, 670)",
          "[670, 740)",
          "[740, 800)",
          "[580, 670)",
          "[740, 800)",
          "[740, 800)",
          "[670, 740)",
          "[670, 740)",
          "[670, 740)",
          "[670, 740)",
          "[740, 800)",
          "[670, 740)",
          "[670, 740)",
          "[580, 670)",
          "[580, 670)",
          "[580, 670)",
          "[670, 740)",
          "[670, 740)",
          "[670, 740)",
          "[670, 740)",
          "[670, 740)",
          "[670, 740)",
          "[670, 740)",
          "[580, 670)",
          "[670, 740)",
          "[670, 740)",
          "[580, 670)",
          "[670, 740)",
          "[670, 740)",
          "[670, 740)",
          "[670, 740)",
          "[670, 740)",
          "[670, 740)",
          "[670, 740)",
          "[670, 740)",
          "[670, 740)",
          "[670, 740)",
          "[670, 740)",
          "[670, 740)",
          "[670, 740)",
          "[670, 740)",
          "[580, 670)",
          "[670, 740)",
          "[670, 740)",
          "[670, 740)",
          "[670, 740)",
          "[580, 670)",
          "[580, 670)",
          "[670, 740)",
          "[670, 740)",
          "[670, 740)",
          "[670, 740)",
          "[670, 740)",
          "[670, 740)",
          "[670, 740)",
          "[670, 740)",
          "[670, 740)",
          "[670, 740)",
          "[740, 800)",
          "[580, 670)",
          "[580, 670)",
          "[670, 740)",
          "[670, 740)",
          "[670, 740)",
          "[670, 740)",
          "[670, 740)",
          "[580, 670)",
          "[670, 740)",
          "[670, 740)",
          "[580, 670)",
          "[800, 850)",
          "[670, 740)",
          "[670, 740)",
          "[740, 800)",
          "[580, 670)",
          "[670, 740)",
          "[670, 740)",
          "[740, 800)",
          "[740, 800)",
          "[670, 740)",
          "[740, 800)",
          "[670, 740)",
          "[670, 740)",
          "[580, 670)",
          "[670, 740)",
          "[670, 740)",
          "[670, 740)",
          "[670, 740)",
          "[670, 740)",
          "[740, 800)",
          "[740, 800)",
          "[670, 740)",
          "[740, 800)",
          "[670, 740)",
          "[670, 740)",
          "[580, 670)",
          "[740, 800)",
          "[670, 740)",
          "[740, 800)",
          "[740, 800)",
          "[670, 740)",
          "[670, 740)",
          "[580, 670)",
          "[740, 800)",
          "[670, 740)",
          "[740, 800)",
          "[670, 740)",
          "[670, 740)",
          "[670, 740)",
          "[670, 740)",
          "[740, 800)",
          "[670, 740)",
          "[580, 670)",
          "[800, 850)",
          "[670, 740)",
          "[670, 740)",
          "[670, 740)",
          "[670, 740)",
          "[670, 740)",
          "[670, 740)",
          "[670, 740)",
          "[580, 670)",
          "[670, 740)",
          "[580, 670)",
          "[670, 740)",
          "[580, 670)",
          "[670, 740)",
          "[670, 740)",
          "[740, 800)",
          "[670, 740)",
          "[670, 740)",
          "[670, 740)",
          "[670, 740)",
          "[670, 740)",
          "[740, 800)",
          "[580, 670)",
          "[670, 740)",
          "[670, 740)",
          "[800, 850)",
          "[670, 740)",
          "[670, 740)",
          "[580, 670)",
          "[670, 740)",
          "[580, 670)",
          "[670, 740)",
          "[580, 670)",
          "[670, 740)",
          "[740, 800)",
          "[740, 800)",
          "[670, 740)",
          "[670, 740)",
          "[670, 740)",
          "[670, 740)",
          "[670, 740)",
          "[670, 740)",
          "[670, 740)",
          "[670, 740)",
          "[670, 740)",
          "[740, 800)",
          "[670, 740)",
          "[580, 670)",
          "[580, 670)",
          "[740, 800)",
          "[670, 740)",
          "[670, 740)",
          "[740, 800)",
          "[580, 670)",
          "[580, 670)",
          "[580, 670)",
          "[740, 800)",
          "[580, 670)",
          "[670, 740)",
          "[670, 740)",
          "[670, 740)",
          "[670, 740)",
          "[670, 740)",
          "[740, 800)",
          "[670, 740)",
          "[670, 740)",
          "[670, 740)",
          "[670, 740)",
          "[580, 670)",
          "[670, 740)",
          "[580, 670)",
          "[670, 740)",
          "[670, 740)",
          "[580, 670)",
          "[670, 740)",
          "[670, 740)",
          "[670, 740)",
          "[670, 740)",
          "[670, 740)",
          "[670, 740)",
          "[670, 740)",
          "[580, 670)",
          "[670, 740)",
          "[740, 800)",
          "[670, 740)",
          "[670, 740)",
          "[670, 740)",
          "[580, 670)",
          "[670, 740)",
          "[740, 800)",
          "[740, 800)",
          "[740, 800)",
          "[800, 850)",
          "[800, 850)",
          "[670, 740)",
          "[670, 740)",
          "[670, 740)",
          "[670, 740)",
          "[670, 740)",
          "[670, 740)",
          "[580, 670)",
          "[670, 740)",
          "[580, 670)",
          "[670, 740)",
          "[670, 740)",
          "[740, 800)",
          "[670, 740)",
          "[670, 740)",
          "[670, 740)",
          "[580, 670)",
          "[670, 740)",
          "[670, 740)",
          "[670, 740)",
          "[580, 670)",
          "[670, 740)",
          "[670, 740)",
          "[740, 800)",
          "[670, 740)",
          "[670, 740)",
          "[580, 670)",
          "[670, 740)",
          "[670, 740)",
          "[670, 740)",
          "[670, 740)",
          "[580, 670)",
          "[580, 670)",
          "[670, 740)",
          "[580, 670)",
          "[670, 740)",
          "[580, 670)",
          "[740, 800)",
          "[800, 850)",
          "[670, 740)",
          "[670, 740)",
          "[670, 740)",
          "[670, 740)",
          "[670, 740)",
          "[670, 740)",
          "[670, 740)",
          "[670, 740)",
          "[670, 740)",
          "[670, 740)",
          "[670, 740)",
          "[670, 740)",
          "[670, 740)",
          "[670, 740)",
          "[740, 800)",
          "[670, 740)",
          "[580, 670)",
          "[800, 850)",
          "[670, 740)",
          "[740, 800)",
          "[670, 740)",
          "[670, 740)",
          "[580, 670)",
          "[740, 800)",
          "[580, 670)",
          "[580, 670)",
          "[670, 740)",
          "[670, 740)",
          "[670, 740)",
          "[670, 740)",
          "[670, 740)",
          "[670, 740)",
          "[580, 670)",
          "[670, 740)",
          "[580, 670)",
          "[670, 740)",
          "[670, 740)",
          "[670, 740)",
          "[670, 740)",
          "[670, 740)",
          "[670, 740)",
          "[740, 800)",
          "[670, 740)",
          "[670, 740)",
          "[670, 740)",
          "[670, 740)",
          "[580, 670)",
          "[670, 740)",
          "[670, 740)",
          "[670, 740)",
          "[670, 740)",
          "[670, 740)",
          "[670, 740)",
          "[670, 740)",
          "[580, 670)",
          "[670, 740)",
          "[670, 740)",
          "[670, 740)",
          "[580, 670)",
          "[670, 740)",
          "[740, 800)",
          "[670, 740)",
          "[580, 670)",
          "[580, 670)",
          "[670, 740)",
          "[580, 670)",
          "[580, 670)",
          "[670, 740)",
          "[670, 740)",
          "[670, 740)",
          "[670, 740)",
          "[670, 740)",
          "[670, 740)",
          "[670, 740)",
          "[670, 740)",
          "[670, 740)",
          "[740, 800)",
          "[670, 740)",
          "[670, 740)",
          "[670, 740)",
          "[670, 740)",
          "[800, 850)",
          "[670, 740)",
          "[580, 670)",
          "[670, 740)",
          "[670, 740)",
          "[580, 670)",
          "[670, 740)",
          "[580, 670)",
          "[670, 740)",
          "[670, 740)",
          "[670, 740)",
          "[670, 740)",
          "[670, 740)",
          "[740, 800)",
          "[670, 740)",
          "[670, 740)",
          "[670, 740)",
          "[670, 740)",
          "[670, 740)",
          "[580, 670)",
          "[580, 670)",
          "[670, 740)",
          "[670, 740)",
          "[670, 740)",
          "[670, 740)",
          "[670, 740)",
          "[670, 740)",
          "[670, 740)",
          "[670, 740)",
          "[670, 740)",
          "[670, 740)",
          "[670, 740)",
          "[670, 740)",
          "[670, 740)",
          "[670, 740)",
          "[670, 740)",
          "[670, 740)",
          "[670, 740)",
          "[670, 740)",
          "[670, 740)",
          "[670, 740)",
          "[740, 800)",
          "[670, 740)",
          "[670, 740)",
          "[670, 740)",
          "[670, 740)",
          "[670, 740)",
          "[670, 740)",
          "[670, 740)",
          "[670, 740)",
          "[670, 740)",
          "[670, 740)",
          "[670, 740)",
          "[670, 740)",
          "[670, 740)",
          "[740, 800)",
          "[670, 740)",
          "[670, 740)",
          "[670, 740)",
          "[670, 740)",
          "[670, 740)",
          "[740, 800)",
          "[670, 740)",
          "[580, 670)",
          "[740, 800)",
          "[800, 850)",
          "[670, 740)",
          "[670, 740)",
          "[580, 670)",
          "[670, 740)",
          "[670, 740)",
          "[740, 800)",
          "[670, 740)",
          "[670, 740)",
          "[580, 670)",
          "[670, 740)",
          "[670, 740)",
          "[670, 740)",
          "[740, 800)",
          "[670, 740)",
          "[670, 740)",
          "[580, 670)",
          "[580, 670)",
          "[670, 740)",
          "[670, 740)",
          "[580, 670)",
          "[670, 740)",
          "[670, 740)",
          "[670, 740)",
          "[670, 740)",
          "[670, 740)",
          "[670, 740)",
          "[670, 740)",
          "[670, 740)",
          "[670, 740)",
          "[740, 800)",
          "[670, 740)",
          "[670, 740)",
          "[670, 740)",
          "[670, 740)",
          "[580, 670)",
          "[670, 740)",
          "[580, 670)",
          "[740, 800)",
          "[740, 800)",
          "[670, 740)",
          "[580, 670)",
          "[740, 800)",
          "[740, 800)",
          "[670, 740)",
          "[670, 740)",
          "[670, 740)",
          "[670, 740)",
          "[670, 740)",
          "[670, 740)",
          "[580, 670)",
          "[670, 740)",
          "[670, 740)",
          "[740, 800)",
          "[670, 740)",
          "[740, 800)",
          "[670, 740)",
          "[670, 740)",
          "[580, 670)",
          "[580, 670)",
          "[670, 740)",
          "[670, 740)",
          "[740, 800)",
          "[670, 740)",
          "[670, 740)",
          "[580, 670)",
          "[740, 800)",
          "[670, 740)",
          "[670, 740)",
          "[670, 740)",
          "[670, 740)",
          "[670, 740)",
          "[670, 740)",
          "[670, 740)",
          "[670, 740)",
          "[740, 800)",
          "[670, 740)",
          "[740, 800)",
          "[670, 740)",
          "[670, 740)",
          "[670, 740)",
          "[580, 670)",
          "[670, 740)",
          "[670, 740)",
          "[580, 670)",
          "[670, 740)",
          "[670, 740)",
          "[670, 740)",
          "[740, 800)",
          "[670, 740)",
          "[670, 740)",
          "[670, 740)",
          "[670, 740)",
          "[670, 740)",
          "[670, 740)",
          "[670, 740)",
          "[670, 740)",
          "[670, 740)",
          "[670, 740)",
          "[580, 670)",
          "[670, 740)",
          "[740, 800)",
          "[670, 740)",
          "[740, 800)",
          "[580, 670)",
          "[740, 800)",
          "[740, 800)",
          "[670, 740)",
          "[800, 850)",
          "[670, 740)",
          "[580, 670)",
          "[670, 740)",
          "[740, 800)",
          "[670, 740)",
          "[670, 740)",
          "[670, 740)",
          "[670, 740)",
          "[670, 740)",
          "[580, 670)",
          "[670, 740)",
          "[670, 740)",
          "[580, 670)",
          "[670, 740)",
          "[670, 740)",
          "[670, 740)",
          "[670, 740)",
          "[670, 740)",
          "[670, 740)",
          "[670, 740)",
          "[580, 670)",
          "[670, 740)",
          "[670, 740)",
          "[670, 740)",
          "[670, 740)",
          "[670, 740)",
          "[670, 740)",
          "[670, 740)",
          "[670, 740)",
          "[670, 740)",
          "[670, 740)",
          "[580, 670)",
          "[670, 740)",
          "[670, 740)",
          "[670, 740)",
          "[580, 670)",
          "[670, 740)",
          "[670, 740)",
          "[670, 740)",
          "[670, 740)",
          "[740, 800)",
          "[670, 740)",
          "[670, 740)",
          "[670, 740)",
          "[670, 740)",
          "[740, 800)",
          "[580, 670)",
          "[670, 740)",
          "[670, 740)",
          "[670, 740)",
          "[670, 740)",
          "[740, 800)",
          "[670, 740)",
          "[670, 740)",
          "[740, 800)",
          "[670, 740)",
          "[670, 740)",
          "[670, 740)",
          "[740, 800)",
          "[580, 670)",
          "[670, 740)",
          "[670, 740)",
          "[670, 740)",
          "[670, 740)",
          "[580, 670)",
          "[670, 740)",
          "[580, 670)",
          "[670, 740)",
          "[670, 740)",
          "[740, 800)",
          "[670, 740)",
          "[670, 740)",
          "[670, 740)",
          "[740, 800)",
          "[670, 740)",
          "[670, 740)",
          "[670, 740)",
          "[670, 740)",
          "[670, 740)",
          "[670, 740)",
          "[670, 740)",
          "[670, 740)",
          "[670, 740)",
          "[580, 670)",
          "[740, 800)",
          "[670, 740)",
          "[670, 740)",
          "[670, 740)",
          "[580, 670)",
          "[580, 670)",
          "[670, 740)",
          "[670, 740)",
          "[670, 740)",
          "[670, 740)",
          "[580, 670)",
          "[580, 670)",
          "[670, 740)",
          "[580, 670)",
          "[670, 740)",
          "[580, 670)",
          "[670, 740)",
          "[670, 740)",
          "[670, 740)",
          "[740, 800)",
          "[670, 740)",
          "[670, 740)",
          "[670, 740)",
          "[670, 740)",
          "[670, 740)",
          "[670, 740)",
          "[580, 670)",
          "[670, 740)",
          "[740, 800)",
          "[670, 740)",
          "[670, 740)",
          "[580, 670)",
          "[740, 800)",
          "[580, 670)",
          "[670, 740)",
          "[670, 740)",
          "[670, 740)",
          "[580, 670)",
          "[670, 740)",
          "[740, 800)",
          "[670, 740)",
          "[670, 740)",
          "[670, 740)",
          "[580, 670)",
          "[670, 740)",
          "[670, 740)",
          "[670, 740)",
          "[580, 670)",
          "[670, 740)",
          "[670, 740)",
          "[670, 740)",
          "[580, 670)",
          "[670, 740)",
          "[670, 740)",
          "[670, 740)",
          "[740, 800)",
          "[670, 740)",
          "[740, 800)",
          "[740, 800)",
          "[670, 740)",
          "[670, 740)",
          "[580, 670)",
          "[670, 740)",
          "[670, 740)",
          "[670, 740)",
          "[670, 740)",
          "[580, 670)",
          "[670, 740)",
          "[670, 740)",
          "[670, 740)",
          "[740, 800)",
          "[670, 740)",
          "[740, 800)",
          "[670, 740)",
          "[670, 740)",
          "[800, 850)",
          "[670, 740)",
          "[580, 670)",
          "[670, 740)",
          "[670, 740)",
          "[670, 740)",
          "[670, 740)",
          "[670, 740)",
          "[670, 740)",
          "[670, 740)",
          "[670, 740)",
          "[670, 740)",
          "[580, 670)",
          "[580, 670)",
          "[670, 740)",
          "[580, 670)",
          "[670, 740)",
          "[670, 740)",
          "[670, 740)",
          "[670, 740)",
          "[580, 670)",
          "[670, 740)",
          "[670, 740)",
          "[740, 800)",
          "[670, 740)",
          "[670, 740)",
          "[580, 670)",
          "[670, 740)",
          "[670, 740)",
          "[670, 740)",
          "[670, 740)",
          "[580, 670)",
          "[670, 740)",
          "[740, 800)",
          "[670, 740)",
          "[670, 740)",
          "[670, 740)",
          "[670, 740)",
          "[670, 740)",
          "[670, 740)",
          "[670, 740)",
          "[670, 740)",
          "[670, 740)",
          "[670, 740)",
          "[580, 670)",
          "[670, 740)",
          "[580, 670)",
          "[670, 740)",
          "[670, 740)",
          "[670, 740)",
          "[670, 740)",
          "[670, 740)",
          "[670, 740)",
          "[580, 670)",
          "[670, 740)",
          "[670, 740)",
          "[670, 740)",
          "[670, 740)",
          "[740, 800)",
          "[740, 800)",
          "[670, 740)",
          "[740, 800)",
          "[670, 740)",
          "[670, 740)",
          "[670, 740)",
          "[670, 740)",
          "[670, 740)",
          "[670, 740)",
          "[670, 740)",
          "[670, 740)",
          "[670, 740)",
          "[670, 740)",
          "[740, 800)",
          "[670, 740)",
          "[740, 800)",
          "[580, 670)",
          "[670, 740)",
          "[740, 800)",
          "[670, 740)",
          "[580, 670)",
          "[670, 740)",
          "[670, 740)",
          "[670, 740)",
          "[670, 740)",
          "[670, 740)",
          "[800, 850)",
          "[670, 740)",
          "[580, 670)",
          "[670, 740)",
          "[740, 800)",
          "[670, 740)",
          "[670, 740)",
          "[670, 740)",
          "[580, 670)",
          "[670, 740)",
          "[670, 740)",
          "[670, 740)",
          "[580, 670)",
          "[740, 800)",
          "[580, 670)",
          "[670, 740)",
          "[670, 740)",
          "[740, 800)",
          "[670, 740)",
          "[740, 800)",
          "[670, 740)",
          "[670, 740)",
          "[670, 740)",
          "[670, 740)",
          "[670, 740)",
          "[670, 740)",
          "[670, 740)",
          "[670, 740)",
          "[670, 740)",
          "[670, 740)",
          "[670, 740)",
          "[670, 740)",
          "[580, 670)",
          "[670, 740)",
          "[670, 740)",
          "[740, 800)",
          "[670, 740)",
          "[670, 740)",
          "[800, 850)",
          "[670, 740)",
          "[580, 670)",
          "[670, 740)",
          "[580, 670)",
          "[580, 670)",
          "[580, 670)",
          "[580, 670)",
          "[580, 670)",
          "[670, 740)",
          "[580, 670)",
          "[670, 740)",
          "[670, 740)",
          "[740, 800)",
          "[670, 740)",
          "[670, 740)",
          "[670, 740)",
          "[670, 740)",
          "[670, 740)",
          "[670, 740)",
          "[670, 740)",
          "[670, 740)",
          "[670, 740)",
          "[670, 740)",
          "[670, 740)",
          "[740, 800)",
          "[670, 740)",
          "[740, 800)",
          "[580, 670)",
          "[580, 670)",
          "[670, 740)",
          "[740, 800)",
          "[670, 740)",
          "[740, 800)",
          "[670, 740)",
          "[740, 800)",
          "[740, 800)",
          "[670, 740)",
          "[670, 740)",
          "[670, 740)",
          "[670, 740)",
          "[670, 740)",
          "[580, 670)",
          "[670, 740)",
          "[580, 670)",
          "[670, 740)",
          "[670, 740)",
          "[580, 670)",
          "[670, 740)",
          "[670, 740)",
          "[670, 740)",
          "[670, 740)",
          "[670, 740)",
          "[670, 740)",
          "[670, 740)",
          "[670, 740)",
          "[740, 800)",
          "[670, 740)",
          "[740, 800)",
          "[580, 670)",
          "[670, 740)",
          "[670, 740)",
          "[670, 740)",
          "[740, 800)",
          "[670, 740)",
          "[670, 740)",
          "[670, 740)",
          "[580, 670)",
          "[580, 670)",
          "[670, 740)",
          "[670, 740)",
          "[670, 740)",
          "[670, 740)",
          "[670, 740)",
          "[670, 740)",
          "[670, 740)",
          "[580, 670)",
          "[670, 740)",
          "[670, 740)",
          "[670, 740)",
          "[670, 740)",
          "[670, 740)",
          "[580, 670)",
          "[670, 740)",
          "[670, 740)",
          "[670, 740)",
          "[670, 740)",
          "[670, 740)",
          "[670, 740)",
          "[670, 740)",
          "[670, 740)",
          "[670, 740)",
          "[580, 670)",
          "[740, 800)",
          "[670, 740)",
          "[740, 800)",
          "[740, 800)",
          "[580, 670)",
          "[670, 740)",
          "[670, 740)",
          "[670, 740)",
          "[670, 740)",
          "[670, 740)",
          "[580, 670)",
          "[670, 740)",
          "[670, 740)",
          "[670, 740)",
          "[670, 740)",
          "[670, 740)",
          "[670, 740)",
          "[670, 740)",
          "[670, 740)",
          "[670, 740)",
          "[740, 800)",
          "[740, 800)",
          "[670, 740)",
          "[670, 740)",
          "[740, 800)",
          "[670, 740)",
          "[670, 740)",
          "[670, 740)",
          "[670, 740)",
          "[580, 670)",
          "[740, 800)",
          "[670, 740)",
          "[670, 740)",
          "[670, 740)",
          "[670, 740)",
          "[670, 740)",
          "[580, 670)",
          "[670, 740)",
          "[670, 740)",
          "[670, 740)",
          "[740, 800)",
          "[670, 740)",
          "[670, 740)",
          "[580, 670)",
          "[670, 740)",
          "[670, 740)",
          "[670, 740)",
          "[670, 740)",
          "[740, 800)",
          "[670, 740)",
          "[670, 740)",
          "[670, 740)",
          "[670, 740)",
          "[670, 740)",
          "[670, 740)",
          "[580, 670)",
          "[670, 740)",
          "[670, 740)",
          "[580, 670)",
          "[670, 740)",
          "[580, 670)",
          "[580, 670)",
          "[670, 740)",
          "[580, 670)",
          "[670, 740)",
          "[670, 740)",
          "[670, 740)",
          "[580, 670)",
          "[580, 670)",
          "[670, 740)",
          "[740, 800)",
          "[670, 740)",
          "[740, 800)",
          "[670, 740)",
          "[670, 740)",
          "[670, 740)",
          "[740, 800)",
          "[670, 740)",
          "[740, 800)",
          "[800, 850)",
          "[670, 740)",
          "[670, 740)",
          "[580, 670)",
          "[670, 740)",
          "[580, 670)",
          "[670, 740)",
          "[580, 670)",
          "[740, 800)",
          "[670, 740)",
          "[670, 740)",
          "[670, 740)",
          "[670, 740)",
          "[670, 740)",
          "[740, 800)",
          "[670, 740)",
          "[670, 740)",
          "[670, 740)",
          "[670, 740)",
          "[670, 740)",
          "[580, 670)",
          "[670, 740)",
          "[670, 740)",
          "[670, 740)",
          "[740, 800)",
          "[670, 740)",
          "[740, 800)",
          "[670, 740)",
          "[740, 800)",
          "[580, 670)",
          "[670, 740)",
          "[670, 740)",
          "[580, 670)",
          "[670, 740)",
          "[670, 740)",
          "[580, 670)",
          "[670, 740)",
          "[740, 800)",
          "[670, 740)",
          "[670, 740)",
          "[580, 670)",
          "[670, 740)",
          "[670, 740)",
          "[670, 740)",
          "[740, 800)",
          "[670, 740)",
          "[800, 850)",
          "[670, 740)",
          "[670, 740)",
          "[670, 740)",
          "[580, 670)",
          "[670, 740)",
          "[670, 740)",
          "[670, 740)",
          "[740, 800)",
          "[580, 670)",
          "[670, 740)",
          "[670, 740)",
          "[670, 740)",
          "[580, 670)",
          "[670, 740)",
          "[580, 670)",
          "[740, 800)",
          "[670, 740)",
          "[670, 740)",
          "[670, 740)",
          "[670, 740)",
          "[670, 740)",
          "[670, 740)",
          "[670, 740)",
          "[670, 740)",
          "[670, 740)",
          "[670, 740)",
          "[670, 740)",
          "[670, 740)",
          "[670, 740)",
          "[670, 740)",
          "[670, 740)",
          "[670, 740)",
          "[670, 740)",
          "[670, 740)",
          "[580, 670)",
          "[580, 670)",
          "[670, 740)",
          "[740, 800)",
          "[670, 740)",
          "[670, 740)",
          "[580, 670)",
          "[670, 740)",
          "[670, 740)",
          "[670, 740)",
          "[670, 740)",
          "[740, 800)",
          "[580, 670)",
          "[670, 740)",
          "[670, 740)",
          "[670, 740)",
          "[670, 740)",
          "[580, 670)",
          "[670, 740)",
          "[670, 740)",
          "[740, 800)",
          "[580, 670)",
          "[580, 670)",
          "[580, 670)",
          "[740, 800)",
          "[670, 740)",
          "[670, 740)",
          "[740, 800)",
          "[580, 670)",
          "[670, 740)",
          "[740, 800)",
          "[580, 670)",
          "[670, 740)",
          "[670, 740)",
          "[670, 740)",
          "[670, 740)",
          "[670, 740)",
          "[670, 740)",
          "[580, 670)",
          "[670, 740)",
          "[580, 670)",
          "[670, 740)",
          "[670, 740)",
          "[670, 740)",
          "[670, 740)",
          "[800, 850)",
          "[580, 670)",
          "[580, 670)",
          "[670, 740)",
          "[580, 670)",
          "[670, 740)",
          "[670, 740)",
          "[580, 670)",
          "[670, 740)",
          "[670, 740)",
          "[670, 740)",
          "[670, 740)",
          "[670, 740)",
          "[670, 740)",
          "[670, 740)",
          "[670, 740)",
          "[670, 740)",
          "[670, 740)",
          "[580, 670)",
          "[670, 740)",
          "[670, 740)",
          "[670, 740)",
          "[670, 740)",
          "[670, 740)",
          "[800, 850)",
          "[670, 740)",
          "[670, 740)",
          "[740, 800)",
          "[670, 740)",
          "[670, 740)",
          "[670, 740)",
          "[670, 740)",
          "[740, 800)",
          "[740, 800)",
          "[670, 740)",
          "[670, 740)",
          "[740, 800)",
          "[670, 740)",
          "[670, 740)",
          "[670, 740)",
          "[740, 800)",
          "[580, 670)",
          "[670, 740)",
          "[580, 670)",
          "[670, 740)",
          "[670, 740)",
          "[670, 740)",
          "[740, 800)",
          "[670, 740)",
          "[670, 740)",
          "[670, 740)",
          "[670, 740)",
          "[740, 800)",
          "[670, 740)",
          "[670, 740)",
          "[670, 740)",
          "[670, 740)",
          "[670, 740)",
          "[740, 800)",
          "[670, 740)",
          "[740, 800)",
          "[580, 670)",
          "[670, 740)",
          "[580, 670)",
          "[670, 740)",
          "[580, 670)",
          "[670, 740)",
          "[670, 740)",
          "[670, 740)",
          "[670, 740)",
          "[670, 740)",
          "[740, 800)",
          "[670, 740)",
          "[670, 740)",
          "[670, 740)",
          "[580, 670)",
          "[670, 740)",
          "[740, 800)",
          "[670, 740)",
          "[670, 740)",
          "[670, 740)",
          "[670, 740)",
          "[670, 740)",
          "[800, 850)",
          "[580, 670)",
          "[670, 740)",
          "[740, 800)",
          "[580, 670)",
          "[670, 740)",
          "[740, 800)",
          "[670, 740)",
          "[670, 740)",
          "[670, 740)",
          "[670, 740)",
          "[670, 740)",
          "[670, 740)",
          "[580, 670)",
          "[670, 740)",
          "[670, 740)",
          "[670, 740)",
          "[670, 740)",
          "[580, 670)",
          "[670, 740)",
          "[580, 670)",
          "[670, 740)",
          "[670, 740)",
          "[670, 740)",
          "[670, 740)",
          "[580, 670)",
          "[670, 740)",
          "[670, 740)",
          "[670, 740)",
          "[670, 740)",
          "[670, 740)",
          "[670, 740)",
          "[670, 740)",
          "[580, 670)",
          "[670, 740)",
          "[670, 740)",
          "[670, 740)",
          "[670, 740)",
          "[670, 740)",
          "[740, 800)",
          "[670, 740)",
          "[670, 740)",
          "[670, 740)",
          "[670, 740)",
          "[670, 740)",
          "[740, 800)",
          "[670, 740)",
          "[670, 740)",
          "[670, 740)",
          "[670, 740)",
          "[670, 740)",
          "[670, 740)",
          "[670, 740)",
          "[670, 740)",
          "[670, 740)",
          "[670, 740)",
          "[580, 670)",
          "[670, 740)",
          "[670, 740)",
          "[670, 740)",
          "[740, 800)",
          "[740, 800)",
          "[670, 740)",
          "[580, 670)",
          "[670, 740)",
          "[670, 740)",
          "[670, 740)",
          "[670, 740)",
          "[670, 740)",
          "[670, 740)",
          "[670, 740)",
          "[670, 740)",
          "[670, 740)",
          "[670, 740)",
          "[580, 670)",
          "[670, 740)",
          "[670, 740)",
          "[670, 740)",
          "[670, 740)",
          "[670, 740)",
          "[580, 670)",
          "[740, 800)",
          "[670, 740)",
          "[670, 740)",
          "[740, 800)",
          "[670, 740)",
          "[670, 740)",
          "[580, 670)",
          "[670, 740)",
          "[670, 740)",
          "[740, 800)",
          "[580, 670)",
          "[740, 800)",
          "[670, 740)",
          "[670, 740)",
          "[670, 740)",
          "[670, 740)",
          "[670, 740)",
          "[740, 800)",
          "[670, 740)",
          "[580, 670)",
          "[670, 740)",
          "[670, 740)",
          "[670, 740)",
          "[670, 740)",
          "[670, 740)",
          "[580, 670)",
          "[670, 740)",
          "[670, 740)",
          "[670, 740)",
          "[580, 670)",
          "[670, 740)",
          "[670, 740)",
          "[670, 740)",
          "[670, 740)",
          "[670, 740)",
          "[670, 740)",
          "[670, 740)",
          "[580, 670)",
          "[740, 800)",
          "[670, 740)",
          "[670, 740)",
          "[670, 740)",
          "[740, 800)",
          "[670, 740)",
          "[670, 740)",
          "[670, 740)",
          "[670, 740)",
          "[670, 740)",
          "[670, 740)",
          "[670, 740)",
          "[670, 740)",
          "[740, 800)",
          "[670, 740)",
          "[670, 740)",
          "[670, 740)",
          "[670, 740)",
          "[670, 740)",
          "[670, 740)",
          "[670, 740)",
          "[670, 740)",
          "[670, 740)",
          "[580, 670)",
          "[580, 670)",
          "[670, 740)",
          "[670, 740)",
          "[580, 670)",
          "[670, 740)",
          "[670, 740)",
          "[670, 740)",
          "[670, 740)",
          "[670, 740)",
          "[670, 740)",
          "[670, 740)",
          "[670, 740)",
          "[670, 740)",
          "[580, 670)",
          "[580, 670)",
          "[670, 740)",
          "[670, 740)",
          "[580, 670)",
          "[670, 740)",
          "[670, 740)",
          "[670, 740)",
          "[670, 740)",
          "[670, 740)",
          "[670, 740)",
          "[670, 740)",
          "[670, 740)",
          "[670, 740)",
          "[670, 740)",
          "[580, 670)",
          "[670, 740)",
          "[670, 740)",
          "[670, 740)",
          "[670, 740)",
          "[740, 800)",
          "[670, 740)",
          "[670, 740)",
          "[670, 740)",
          "[580, 670)",
          "[670, 740)",
          "[670, 740)",
          "[670, 740)",
          "[670, 740)",
          "[670, 740)",
          "[670, 740)",
          "[670, 740)",
          "[670, 740)",
          "[670, 740)",
          "[670, 740)",
          "[580, 670)",
          "[740, 800)",
          "[670, 740)",
          "[740, 800)",
          "[670, 740)",
          "[580, 670)",
          "[670, 740)",
          "[580, 670)",
          "[670, 740)",
          "[670, 740)",
          "[670, 740)",
          "[670, 740)",
          "[580, 670)",
          "[670, 740)",
          "[740, 800)",
          "[670, 740)",
          "[670, 740)",
          "[670, 740)",
          "[670, 740)",
          "[580, 670)",
          "[670, 740)",
          "[670, 740)",
          "[670, 740)",
          "[580, 670)",
          "[670, 740)",
          "[580, 670)",
          "[580, 670)",
          "[670, 740)",
          "[740, 800)",
          "[580, 670)",
          "[670, 740)",
          "[670, 740)",
          "[670, 740)",
          "[580, 670)",
          "[740, 800)",
          "[670, 740)",
          "[670, 740)",
          "[670, 740)",
          "[670, 740)",
          "[670, 740)",
          "[740, 800)",
          "[670, 740)",
          "[580, 670)",
          "[670, 740)",
          "[670, 740)",
          "[580, 670)",
          "[670, 740)",
          "[670, 740)",
          "[670, 740)",
          "[670, 740)",
          "[670, 740)",
          "[670, 740)",
          "[670, 740)",
          "[670, 740)",
          "[670, 740)",
          "[670, 740)",
          "[670, 740)",
          "[800, 850)",
          "[670, 740)",
          "[670, 740)",
          "[670, 740)",
          "[670, 740)",
          "[670, 740)",
          "[670, 740)",
          "[670, 740)",
          "[580, 670)",
          "[740, 800)",
          "[670, 740)",
          "[670, 740)",
          "[670, 740)",
          "[670, 740)",
          "[800, 850)",
          "[670, 740)",
          "[670, 740)",
          "[670, 740)",
          "[670, 740)",
          "[670, 740)",
          "[670, 740)",
          "[670, 740)",
          "[670, 740)",
          "[670, 740)",
          "[670, 740)",
          "[670, 740)",
          "[670, 740)",
          "[670, 740)",
          "[670, 740)",
          "[670, 740)",
          "[670, 740)",
          "[670, 740)",
          "[670, 740)",
          "[740, 800)",
          "[670, 740)",
          "[740, 800)",
          "[670, 740)",
          "[580, 670)",
          "[670, 740)",
          "[670, 740)",
          "[670, 740)",
          "[670, 740)",
          "[670, 740)",
          "[670, 740)",
          "[670, 740)",
          "[580, 670)",
          "[670, 740)",
          "[580, 670)",
          "[670, 740)",
          "[580, 670)",
          "[670, 740)",
          "[740, 800)",
          "[580, 670)",
          "[740, 800)",
          "[580, 670)",
          "[670, 740)",
          "[670, 740)",
          "[580, 670)",
          "[670, 740)",
          "[670, 740)",
          "[670, 740)",
          "[670, 740)",
          "[670, 740)",
          "[580, 670)",
          "[670, 740)",
          "[670, 740)",
          "[670, 740)",
          "[580, 670)",
          "[670, 740)",
          "[670, 740)",
          "[670, 740)",
          "[670, 740)",
          "[670, 740)",
          "[580, 670)",
          "[670, 740)",
          "[580, 670)",
          "[670, 740)",
          "[580, 670)",
          "[670, 740)",
          "[670, 740)",
          "[580, 670)",
          "[670, 740)",
          "[670, 740)",
          "[670, 740)",
          "[670, 740)",
          "[580, 670)",
          "[670, 740)",
          "[670, 740)",
          "[670, 740)",
          "[670, 740)",
          "[670, 740)",
          "[670, 740)",
          "[670, 740)",
          "[670, 740)",
          "[740, 800)",
          "[670, 740)",
          "[670, 740)",
          "[670, 740)",
          "[740, 800)",
          "[670, 740)",
          "[670, 740)",
          "[670, 740)",
          "[670, 740)",
          "[670, 740)",
          "[670, 740)",
          "[670, 740)",
          "[670, 740)",
          "[580, 670)",
          "[670, 740)",
          "[670, 740)",
          "[740, 800)",
          "[580, 670)",
          "[670, 740)",
          "[670, 740)",
          "[670, 740)",
          "[580, 670)",
          "[670, 740)",
          "[670, 740)",
          "[580, 670)",
          "[670, 740)",
          "[670, 740)",
          "[670, 740)",
          "[740, 800)",
          "[670, 740)",
          "[670, 740)",
          "[670, 740)",
          "[670, 740)",
          "[580, 670)",
          "[670, 740)",
          "[670, 740)",
          "[670, 740)",
          "[670, 740)",
          "[670, 740)",
          "[670, 740)",
          "[670, 740)",
          "[670, 740)",
          "[670, 740)",
          "[670, 740)",
          "[670, 740)",
          "[670, 740)",
          "[670, 740)",
          "[670, 740)",
          "[580, 670)",
          "[740, 800)",
          "[670, 740)",
          "[670, 740)",
          "[670, 740)",
          "[670, 740)",
          "[740, 800)",
          "[670, 740)",
          "[670, 740)",
          "[670, 740)",
          "[670, 740)",
          "[670, 740)",
          "[670, 740)",
          "[670, 740)",
          "[670, 740)",
          "[670, 740)",
          "[740, 800)",
          "[670, 740)",
          "[670, 740)",
          "[670, 740)",
          "[670, 740)",
          "[670, 740)",
          "[580, 670)",
          "[670, 740)",
          "[740, 800)",
          "[580, 670)",
          "[670, 740)",
          "[670, 740)",
          "[580, 670)",
          "[670, 740)",
          "[670, 740)",
          "[670, 740)",
          "[670, 740)",
          "[670, 740)",
          "[670, 740)",
          "[670, 740)",
          "[670, 740)",
          "[670, 740)",
          "[670, 740)",
          "[740, 800)",
          "[670, 740)",
          "[670, 740)",
          "[580, 670)",
          "[580, 670)",
          "[670, 740)",
          "[670, 740)",
          "[670, 740)",
          "[670, 740)",
          "[580, 670)",
          "[670, 740)",
          "[670, 740)",
          "[740, 800)",
          "[580, 670)",
          "[670, 740)",
          "[670, 740)",
          "[670, 740)",
          "[670, 740)",
          "[670, 740)",
          "[580, 670)",
          "[580, 670)",
          "[740, 800)",
          "[580, 670)",
          "[740, 800)",
          "[670, 740)",
          "[580, 670)",
          "[670, 740)",
          "[740, 800)",
          "[670, 740)",
          "[670, 740)",
          "[670, 740)",
          "[670, 740)",
          "[740, 800)",
          "[580, 670)",
          "[670, 740)",
          "[580, 670)",
          "[670, 740)",
          "[740, 800)",
          "[670, 740)",
          "[670, 740)",
          "[670, 740)",
          "[670, 740)",
          "[670, 740)",
          "[670, 740)",
          "[580, 670)",
          "[670, 740)",
          "[740, 800)",
          "[580, 670)",
          "[670, 740)",
          "[670, 740)",
          "[670, 740)",
          "[580, 670)",
          "[670, 740)",
          "[740, 800)",
          "[670, 740)",
          "[670, 740)",
          "[580, 670)",
          "[580, 670)",
          "[670, 740)",
          "[740, 800)",
          "[670, 740)",
          "[670, 740)",
          "[740, 800)",
          "[670, 740)",
          "[580, 670)",
          "[670, 740)",
          "[580, 670)",
          "[670, 740)",
          "[670, 740)",
          "[670, 740)",
          "[670, 740)",
          "[800, 850)",
          "[670, 740)",
          "[670, 740)",
          "[670, 740)",
          "[670, 740)",
          "[670, 740)",
          "[670, 740)",
          "[670, 740)",
          "[580, 670)",
          "[670, 740)",
          "[580, 670)",
          "[670, 740)",
          "[670, 740)",
          "[670, 740)",
          "[740, 800)",
          "[670, 740)",
          "[740, 800)",
          "[670, 740)",
          "[670, 740)",
          "[670, 740)",
          "[580, 670)",
          "[740, 800)",
          "[740, 800)",
          "[670, 740)",
          "[580, 670)",
          "[670, 740)",
          "[580, 670)",
          "[740, 800)",
          "[670, 740)",
          "[670, 740)",
          "[740, 800)",
          "[670, 740)",
          "[670, 740)",
          "[670, 740)",
          "[740, 800)",
          "[670, 740)",
          "[670, 740)",
          "[740, 800)",
          "[670, 740)",
          "[670, 740)",
          "[670, 740)",
          "[670, 740)",
          "[580, 670)",
          "[670, 740)",
          "[670, 740)",
          "[580, 670)",
          "[670, 740)",
          "[580, 670)",
          "[670, 740)",
          "[670, 740)",
          "[670, 740)",
          "[670, 740)",
          "[670, 740)",
          "[670, 740)",
          "[740, 800)",
          "[580, 670)",
          "[670, 740)",
          "[670, 740)",
          "[670, 740)",
          "[580, 670)",
          "[670, 740)",
          "[740, 800)",
          "[580, 670)",
          "[580, 670)",
          "[670, 740)",
          "[670, 740)",
          "[670, 740)",
          "[740, 800)",
          "[670, 740)",
          "[670, 740)",
          "[670, 740)",
          "[670, 740)",
          "[670, 740)",
          "[670, 740)",
          "[740, 800)",
          "[740, 800)",
          "[580, 670)",
          "[670, 740)",
          "[740, 800)",
          "[670, 740)",
          "[670, 740)",
          "[670, 740)",
          "[670, 740)",
          "[580, 670)",
          "[670, 740)",
          "[670, 740)",
          "[670, 740)",
          "[670, 740)",
          "[580, 670)",
          "[740, 800)",
          "[670, 740)",
          "[670, 740)",
          "[670, 740)",
          "[670, 740)",
          "[580, 670)",
          "[740, 800)",
          "[670, 740)",
          "[670, 740)",
          "[670, 740)",
          "[670, 740)",
          "[670, 740)",
          "[580, 670)",
          "[670, 740)",
          "[670, 740)",
          "[670, 740)",
          "[670, 740)",
          "[740, 800)",
          "[670, 740)",
          "[670, 740)",
          "[580, 670)",
          "[670, 740)",
          "[670, 740)",
          "[740, 800)",
          "[580, 670)",
          "[580, 670)",
          "[580, 670)",
          "[670, 740)",
          "[800, 850)",
          "[670, 740)",
          "[580, 670)",
          "[580, 670)",
          "[580, 670)",
          "[670, 740)",
          "[670, 740)",
          "[670, 740)",
          "[580, 670)",
          "[670, 740)",
          "[580, 670)",
          "[670, 740)",
          "[670, 740)",
          "[740, 800)",
          "[740, 800)",
          "[670, 740)",
          "[670, 740)",
          "[670, 740)",
          "[670, 740)",
          "[740, 800)",
          "[580, 670)",
          "[670, 740)",
          "[670, 740)",
          "[670, 740)",
          "[740, 800)",
          "[800, 850)",
          "[800, 850)",
          "[670, 740)",
          "[670, 740)",
          "[670, 740)",
          "[670, 740)",
          "[670, 740)",
          "[670, 740)",
          "[670, 740)",
          "[580, 670)",
          "[670, 740)",
          "[580, 670)",
          "[740, 800)",
          "[670, 740)",
          "[670, 740)",
          "[580, 670)",
          "[670, 740)",
          "[670, 740)",
          "[580, 670)",
          "[740, 800)",
          "[670, 740)",
          "[670, 740)",
          "[670, 740)",
          "[670, 740)",
          "[580, 670)",
          "[580, 670)",
          "[670, 740)",
          "[580, 670)",
          "[580, 670)",
          "[580, 670)",
          "[740, 800)",
          "[740, 800)",
          "[670, 740)",
          "[580, 670)",
          "[580, 670)",
          "[580, 670)",
          "[670, 740)",
          "[670, 740)",
          "[670, 740)",
          "[740, 800)",
          "[670, 740)",
          "[670, 740)",
          "[670, 740)",
          "[670, 740)",
          "[670, 740)",
          "[670, 740)",
          "[580, 670)",
          "[740, 800)",
          "[580, 670)",
          "[670, 740)",
          "[670, 740)",
          "[670, 740)",
          "[580, 670)",
          "[740, 800)",
          "[670, 740)",
          "[670, 740)",
          "[740, 800)",
          "[740, 800)",
          "[740, 800)",
          "[670, 740)",
          "[670, 740)",
          "[670, 740)",
          "[580, 670)",
          "[670, 740)",
          "[580, 670)",
          "[670, 740)",
          "[670, 740)",
          "[800, 850)",
          "[670, 740)",
          "[670, 740)",
          "[670, 740)",
          "[670, 740)",
          "[670, 740)",
          "[670, 740)",
          "[670, 740)",
          "[670, 740)",
          "[670, 740)",
          "[670, 740)",
          "[670, 740)",
          "[670, 740)",
          "[580, 670)",
          "[670, 740)",
          "[740, 800)",
          "[670, 740)",
          "[670, 740)",
          "[670, 740)",
          "[670, 740)",
          "[670, 740)",
          "[670, 740)",
          "[670, 740)",
          "[580, 670)",
          "[670, 740)",
          "[670, 740)",
          "[670, 740)",
          "[670, 740)",
          "[670, 740)",
          "[670, 740)",
          "[580, 670)",
          "[740, 800)",
          "[580, 670)",
          "[670, 740)",
          "[580, 670)",
          "[670, 740)",
          "[670, 740)",
          "[670, 740)",
          "[670, 740)",
          "[670, 740)",
          "[670, 740)",
          "[670, 740)",
          "[670, 740)",
          "[670, 740)",
          "[670, 740)",
          "[670, 740)",
          "[670, 740)",
          "[580, 670)",
          "[800, 850)",
          "[670, 740)",
          "[670, 740)",
          "[580, 670)",
          "[580, 670)",
          "[670, 740)",
          "[670, 740)",
          "[740, 800)",
          "[670, 740)",
          "[670, 740)",
          "[670, 740)",
          "[580, 670)",
          "[740, 800)",
          "[580, 670)",
          "[670, 740)",
          "[670, 740)",
          "[670, 740)",
          "[670, 740)",
          "[800, 850)",
          "[580, 670)",
          "[580, 670)",
          "[670, 740)",
          "[670, 740)",
          "[670, 740)",
          "[740, 800)",
          "[580, 670)",
          "[670, 740)",
          "[740, 800)",
          "[670, 740)",
          "[670, 740)",
          "[670, 740)",
          "[740, 800)",
          "[580, 670)",
          "[670, 740)",
          "[670, 740)",
          "[670, 740)",
          "[670, 740)",
          "[670, 740)",
          "[670, 740)",
          "[670, 740)",
          "[670, 740)",
          "[670, 740)",
          "[740, 800)",
          "[740, 800)",
          "[670, 740)",
          "[670, 740)",
          "[670, 740)",
          "[670, 740)",
          "[740, 800)",
          "[670, 740)",
          "[580, 670)",
          "[670, 740)",
          "[670, 740)",
          "[740, 800)",
          "[800, 850)",
          "[670, 740)",
          "[670, 740)",
          "[670, 740)",
          "[740, 800)",
          "[580, 670)",
          "[670, 740)",
          "[580, 670)",
          "[580, 670)",
          "[670, 740)",
          "[670, 740)",
          "[670, 740)",
          "[670, 740)",
          "[670, 740)",
          "[740, 800)",
          "[670, 740)",
          "[580, 670)",
          "[740, 800)",
          "[670, 740)",
          "[670, 740)",
          "[670, 740)",
          "[670, 740)",
          "[670, 740)",
          "[670, 740)",
          "[580, 670)",
          "[580, 670)",
          "[670, 740)",
          "[670, 740)",
          "[670, 740)",
          "[670, 740)",
          "[670, 740)",
          "[740, 800)",
          "[670, 740)",
          "[670, 740)",
          "[800, 850)",
          "[670, 740)",
          "[670, 740)",
          "[670, 740)",
          "[670, 740)",
          "[670, 740)",
          "[670, 740)",
          "[670, 740)",
          "[670, 740)",
          "[670, 740)",
          "[670, 740)",
          "[670, 740)",
          "[670, 740)",
          "[580, 670)",
          "[670, 740)",
          "[670, 740)",
          "[580, 670)",
          "[670, 740)",
          "[670, 740)",
          "[670, 740)",
          "[670, 740)",
          "[670, 740)",
          "[670, 740)",
          "[580, 670)",
          "[670, 740)",
          "[670, 740)",
          "[670, 740)",
          "[580, 670)",
          "[580, 670)",
          "[580, 670)",
          "[670, 740)",
          "[580, 670)",
          "[670, 740)",
          "[670, 740)",
          "[670, 740)",
          "[580, 670)",
          "[670, 740)",
          "[670, 740)",
          "[670, 740)",
          "[580, 670)",
          "[670, 740)",
          "[670, 740)",
          "[670, 740)",
          "[670, 740)",
          "[580, 670)",
          "[670, 740)",
          "[740, 800)",
          "[670, 740)",
          "[580, 670)",
          "[670, 740)",
          "[670, 740)",
          "[670, 740)",
          "[670, 740)",
          "[670, 740)",
          "[580, 670)",
          "[670, 740)",
          "[670, 740)",
          "[670, 740)",
          "[670, 740)",
          "[580, 670)",
          "[670, 740)",
          "[670, 740)",
          "[670, 740)",
          "[670, 740)",
          "[740, 800)",
          "[670, 740)",
          "[670, 740)",
          "[670, 740)",
          "[670, 740)",
          "[670, 740)",
          "[670, 740)",
          "[670, 740)",
          "[580, 670)",
          "[670, 740)",
          "[670, 740)",
          "[670, 740)",
          "[670, 740)",
          "[580, 670)",
          "[580, 670)",
          "[670, 740)",
          "[670, 740)",
          "[670, 740)",
          "[740, 800)",
          "[670, 740)",
          "[740, 800)",
          "[670, 740)",
          "[670, 740)",
          "[670, 740)",
          "[670, 740)",
          "[580, 670)",
          "[580, 670)",
          "[670, 740)",
          "[740, 800)",
          "[580, 670)",
          "[670, 740)",
          "[670, 740)",
          "[670, 740)",
          "[580, 670)",
          "[670, 740)",
          "[670, 740)",
          "[670, 740)",
          "[670, 740)",
          "[670, 740)",
          "[670, 740)",
          "[580, 670)",
          "[670, 740)",
          "[670, 740)",
          "[670, 740)",
          "[670, 740)",
          "[670, 740)",
          "[670, 740)",
          "[580, 670)",
          "[580, 670)",
          "[670, 740)",
          "[670, 740)",
          "[670, 740)",
          "[670, 740)",
          "[580, 670)",
          "[670, 740)",
          "[670, 740)",
          "[740, 800)",
          "[670, 740)",
          "[670, 740)",
          "[670, 740)",
          "[580, 670)",
          "[670, 740)",
          "[670, 740)",
          "[580, 670)",
          "[580, 670)",
          "[670, 740)",
          "[580, 670)",
          "[670, 740)",
          "[670, 740)",
          "[580, 670)",
          "[670, 740)",
          "[800, 850)",
          "[670, 740)",
          "[740, 800)",
          "[740, 800)",
          "[670, 740)",
          "[670, 740)",
          "[670, 740)",
          "[670, 740)",
          "[670, 740)",
          "[800, 850)",
          "[670, 740)",
          "[670, 740)",
          "[670, 740)",
          "[580, 670)",
          "[670, 740)",
          "[740, 800)",
          "[740, 800)",
          "[670, 740)",
          "[580, 670)",
          "[670, 740)",
          "[670, 740)",
          "[670, 740)",
          "[670, 740)",
          "[670, 740)",
          "[670, 740)",
          "[670, 740)",
          "[670, 740)",
          "[580, 670)",
          "[670, 740)",
          "[670, 740)",
          "[740, 800)",
          "[670, 740)",
          "[580, 670)",
          "[670, 740)",
          "[670, 740)",
          "[670, 740)",
          "[580, 670)",
          "[580, 670)",
          "[670, 740)",
          "[670, 740)",
          "[670, 740)",
          "[670, 740)",
          "[580, 670)",
          "[670, 740)",
          "[670, 740)",
          "[670, 740)",
          "[580, 670)",
          "[670, 740)",
          "[670, 740)",
          "[740, 800)",
          "[670, 740)",
          "[670, 740)",
          "[670, 740)",
          "[670, 740)",
          "[670, 740)",
          "[740, 800)",
          "[670, 740)",
          "[740, 800)",
          "[670, 740)",
          "[580, 670)",
          "[670, 740)",
          "[670, 740)",
          "[580, 670)",
          "[580, 670)",
          "[670, 740)",
          "[670, 740)",
          "[670, 740)",
          "[580, 670)",
          "[670, 740)",
          "[670, 740)",
          "[740, 800)",
          "[670, 740)",
          "[580, 670)",
          "[670, 740)",
          "[670, 740)",
          "[740, 800)",
          "[580, 670)",
          "[670, 740)",
          "[740, 800)",
          "[670, 740)",
          "[670, 740)",
          "[580, 670)",
          "[670, 740)",
          "[670, 740)",
          "[580, 670)",
          "[670, 740)",
          "[670, 740)",
          "[670, 740)",
          "[580, 670)",
          "[670, 740)",
          "[670, 740)",
          "[670, 740)",
          "[670, 740)",
          "[670, 740)",
          "[670, 740)",
          "[670, 740)",
          "[740, 800)",
          "[670, 740)",
          "[670, 740)",
          "[580, 670)",
          "[670, 740)",
          "[670, 740)",
          "[580, 670)",
          "[670, 740)",
          "[670, 740)",
          "[670, 740)",
          "[670, 740)",
          "[670, 740)",
          "[580, 670)",
          "[740, 800)",
          "[580, 670)",
          "[740, 800)",
          "[670, 740)",
          "[740, 800)",
          "[670, 740)",
          "[670, 740)",
          "[670, 740)",
          "[670, 740)",
          "[740, 800)",
          "[580, 670)",
          "[670, 740)",
          "[670, 740)",
          "[670, 740)",
          "[670, 740)",
          "[670, 740)",
          "[670, 740)",
          "[670, 740)",
          "[670, 740)",
          "[670, 740)",
          "[670, 740)",
          "[670, 740)",
          "[670, 740)",
          "[580, 670)",
          "[740, 800)",
          "[740, 800)",
          "[740, 800)",
          "[580, 670)",
          "[670, 740)",
          "[740, 800)",
          "[580, 670)",
          "[740, 800)",
          "[670, 740)",
          "[740, 800)",
          "[670, 740)",
          "[670, 740)",
          "[670, 740)",
          "[670, 740)",
          "[670, 740)",
          "[670, 740)",
          "[580, 670)",
          "[670, 740)",
          "[740, 800)",
          "[740, 800)",
          "[580, 670)",
          "[670, 740)",
          "[670, 740)",
          "[670, 740)",
          "[580, 670)",
          "[740, 800)",
          "[740, 800)",
          "[670, 740)",
          "[670, 740)",
          "[670, 740)",
          "[580, 670)",
          "[670, 740)",
          "[740, 800)",
          "[670, 740)",
          "[670, 740)",
          "[670, 740)",
          "[580, 670)",
          "[740, 800)",
          "[580, 670)",
          "[670, 740)",
          "[670, 740)",
          "[670, 740)",
          "[580, 670)",
          "[670, 740)",
          "[580, 670)",
          "[670, 740)",
          "[740, 800)",
          "[670, 740)",
          "[670, 740)",
          "[670, 740)",
          "[580, 670)",
          "[670, 740)",
          "[580, 670)",
          "[580, 670)",
          "[670, 740)",
          "[580, 670)",
          "[670, 740)",
          "[580, 670)",
          "[670, 740)",
          "[740, 800)",
          "[670, 740)",
          "[670, 740)",
          "[580, 670)",
          "[670, 740)",
          "[670, 740)",
          "[670, 740)",
          "[670, 740)",
          "[670, 740)",
          "[670, 740)",
          "[670, 740)",
          "[740, 800)",
          "[670, 740)",
          "[670, 740)",
          "[670, 740)",
          "[580, 670)",
          "[580, 670)",
          "[670, 740)",
          "[670, 740)",
          "[670, 740)",
          "[670, 740)",
          "[580, 670)",
          "[670, 740)",
          "[670, 740)",
          "[670, 740)",
          "[580, 670)",
          "[670, 740)",
          "[670, 740)",
          "[740, 800)",
          "[740, 800)",
          "[670, 740)",
          "[580, 670)",
          "[670, 740)",
          "[670, 740)",
          "[670, 740)",
          "[740, 800)",
          "[740, 800)",
          "[740, 800)",
          "[670, 740)",
          "[670, 740)",
          "[670, 740)",
          "[670, 740)",
          "[740, 800)",
          "[670, 740)",
          "[670, 740)",
          "[580, 670)",
          "[580, 670)",
          "[670, 740)",
          "[670, 740)",
          "[670, 740)",
          "[670, 740)",
          "[670, 740)",
          "[580, 670)",
          "[670, 740)",
          "[670, 740)",
          "[670, 740)",
          "[670, 740)",
          "[740, 800)",
          "[670, 740)",
          "[670, 740)",
          "[670, 740)",
          "[670, 740)",
          "[670, 740)",
          "[670, 740)",
          "[670, 740)",
          "[800, 850)",
          "[670, 740)",
          "[580, 670)",
          "[670, 740)",
          "[740, 800)",
          "[670, 740)",
          "[740, 800)",
          "[580, 670)",
          "[670, 740)",
          "[670, 740)",
          "[670, 740)",
          "[580, 670)",
          "[670, 740)",
          "[670, 740)",
          "[670, 740)",
          "[740, 800)",
          "[670, 740)",
          "[580, 670)",
          "[740, 800)",
          "[670, 740)",
          "[670, 740)",
          "[670, 740)",
          "[670, 740)",
          "[670, 740)",
          "[670, 740)",
          "[580, 670)",
          "[670, 740)",
          "[670, 740)",
          "[670, 740)",
          "[580, 670)",
          "[670, 740)",
          "[740, 800)",
          "[670, 740)",
          "[670, 740)",
          "[580, 670)",
          "[670, 740)",
          "[670, 740)",
          "[670, 740)",
          "[580, 670)",
          "[670, 740)",
          "[670, 740)",
          "[670, 740)",
          "[670, 740)",
          "[670, 740)",
          "[670, 740)",
          "[670, 740)",
          "[670, 740)",
          "[740, 800)",
          "[740, 800)",
          "[580, 670)",
          "[670, 740)",
          "[670, 740)",
          "[670, 740)",
          "[740, 800)",
          "[670, 740)",
          "[670, 740)",
          "[670, 740)",
          "[740, 800)",
          "[580, 670)",
          "[670, 740)",
          "[670, 740)",
          "[670, 740)",
          "[670, 740)",
          "[670, 740)",
          "[670, 740)",
          "[740, 800)",
          "[670, 740)",
          "[740, 800)",
          "[670, 740)",
          "[670, 740)",
          "[580, 670)",
          "[670, 740)",
          "[670, 740)",
          "[670, 740)",
          "[740, 800)",
          "[670, 740)",
          "[670, 740)",
          "[670, 740)",
          "[580, 670)",
          "[670, 740)",
          "[670, 740)",
          "[670, 740)",
          "[670, 740)",
          "[740, 800)",
          "[670, 740)",
          "[670, 740)",
          "[670, 740)",
          "[580, 670)",
          "[670, 740)",
          "[670, 740)",
          "[670, 740)",
          "[670, 740)",
          "[670, 740)",
          "[670, 740)",
          "[670, 740)",
          "[670, 740)",
          "[670, 740)",
          "[670, 740)",
          "[670, 740)",
          "[670, 740)",
          "[740, 800)",
          "[800, 850)",
          "[670, 740)",
          "[580, 670)",
          "[670, 740)",
          "[580, 670)",
          "[740, 800)",
          "[580, 670)",
          "[670, 740)",
          "[740, 800)",
          "[580, 670)",
          "[670, 740)",
          "[580, 670)",
          "[670, 740)",
          "[670, 740)",
          "[670, 740)",
          "[670, 740)",
          "[670, 740)",
          "[740, 800)",
          "[670, 740)",
          "[580, 670)",
          "[670, 740)",
          "[740, 800)",
          "[670, 740)",
          "[670, 740)",
          "[740, 800)",
          "[670, 740)",
          "[670, 740)",
          "[670, 740)",
          "[740, 800)",
          "[670, 740)",
          "[670, 740)",
          "[740, 800)",
          "[580, 670)",
          "[670, 740)",
          "[740, 800)",
          "[670, 740)",
          "[670, 740)",
          "[670, 740)",
          "[580, 670)",
          "[580, 670)",
          "[670, 740)",
          "[580, 670)",
          "[580, 670)",
          "[670, 740)",
          "[670, 740)",
          "[670, 740)",
          "[670, 740)",
          "[670, 740)",
          "[670, 740)",
          "[670, 740)",
          "[670, 740)",
          "[800, 850)",
          "[670, 740)",
          "[580, 670)",
          "[670, 740)",
          "[670, 740)",
          "[670, 740)",
          "[670, 740)",
          "[670, 740)",
          "[670, 740)",
          "[670, 740)",
          "[740, 800)",
          "[580, 670)",
          "[580, 670)",
          "[670, 740)",
          "[670, 740)",
          "[670, 740)",
          "[670, 740)",
          "[670, 740)",
          "[800, 850)",
          "[670, 740)",
          "[670, 740)",
          "[670, 740)",
          "[670, 740)",
          "[670, 740)",
          "[670, 740)",
          "[670, 740)",
          "[670, 740)",
          "[670, 740)",
          "[670, 740)",
          "[740, 800)",
          "[670, 740)",
          "[740, 800)",
          "[580, 670)",
          "[670, 740)",
          "[670, 740)",
          "[670, 740)",
          "[580, 670)",
          "[670, 740)",
          "[670, 740)",
          "[670, 740)",
          "[670, 740)",
          "[670, 740)",
          "[670, 740)",
          "[740, 800)",
          "[740, 800)",
          "[670, 740)",
          "[670, 740)",
          "[670, 740)",
          "[670, 740)",
          "[670, 740)",
          "[670, 740)",
          "[670, 740)",
          "[670, 740)",
          "[670, 740)",
          "[740, 800)",
          "[670, 740)",
          "[580, 670)",
          "[670, 740)",
          "[670, 740)",
          "[580, 670)",
          "[670, 740)",
          "[740, 800)",
          "[740, 800)",
          "[670, 740)",
          "[670, 740)",
          "[580, 670)",
          "[670, 740)",
          "[670, 740)",
          "[670, 740)",
          "[580, 670)",
          "[580, 670)",
          "[670, 740)",
          "[670, 740)",
          "[670, 740)",
          "[670, 740)",
          "[580, 670)",
          "[670, 740)",
          "[670, 740)",
          "[670, 740)",
          "[580, 670)",
          "[670, 740)",
          "[670, 740)",
          "[670, 740)",
          "[580, 670)",
          "[670, 740)",
          "[670, 740)",
          "[670, 740)",
          "[580, 670)",
          "[670, 740)",
          "[670, 740)",
          "[670, 740)",
          "[670, 740)",
          "[670, 740)",
          "[580, 670)",
          "[670, 740)",
          "[670, 740)",
          "[580, 670)",
          "[580, 670)",
          "[670, 740)",
          "[670, 740)",
          "[740, 800)",
          "[670, 740)",
          "[670, 740)",
          "[670, 740)",
          "[670, 740)",
          "[580, 670)",
          "[740, 800)",
          "[670, 740)",
          "[670, 740)",
          "[670, 740)",
          "[670, 740)",
          "[670, 740)",
          "[670, 740)",
          "[580, 670)",
          "[740, 800)",
          "[740, 800)",
          "[670, 740)",
          "[670, 740)",
          "[670, 740)",
          "[670, 740)",
          "[670, 740)",
          "[670, 740)",
          "[670, 740)",
          "[670, 740)",
          "[580, 670)",
          "[740, 800)",
          "[670, 740)",
          "[580, 670)",
          "[580, 670)",
          "[670, 740)",
          "[670, 740)",
          "[740, 800)",
          "[740, 800)",
          "[580, 670)",
          "[800, 850)",
          "[580, 670)",
          "[580, 670)",
          "[670, 740)",
          "[670, 740)",
          "[670, 740)",
          "[670, 740)",
          "[670, 740)",
          "[670, 740)",
          "[670, 740)",
          "[740, 800)",
          "[740, 800)",
          "[740, 800)",
          "[670, 740)",
          "[670, 740)",
          "[670, 740)",
          "[670, 740)",
          "[580, 670)",
          "[740, 800)",
          "[670, 740)",
          "[580, 670)",
          "[670, 740)",
          "[670, 740)",
          "[580, 670)",
          "[670, 740)",
          "[670, 740)",
          "[580, 670)",
          "[580, 670)",
          "[670, 740)",
          "[580, 670)",
          "[670, 740)",
          "[580, 670)",
          "[580, 670)",
          "[670, 740)",
          "[670, 740)",
          "[670, 740)",
          "[670, 740)",
          "[740, 800)",
          "[670, 740)",
          "[670, 740)",
          "[740, 800)",
          "[670, 740)",
          "[580, 670)",
          "[670, 740)",
          "[670, 740)",
          "[580, 670)",
          "[740, 800)",
          "[670, 740)",
          "[580, 670)",
          "[740, 800)",
          "[580, 670)",
          "[670, 740)",
          "[740, 800)",
          "[670, 740)",
          "[740, 800)",
          "[740, 800)",
          "[580, 670)",
          "[670, 740)",
          "[580, 670)",
          "[670, 740)",
          "[670, 740)",
          "[580, 670)",
          "[670, 740)",
          "[670, 740)",
          "[580, 670)",
          "[580, 670)",
          "[740, 800)",
          "[670, 740)",
          "[580, 670)",
          "[580, 670)",
          "[670, 740)",
          "[670, 740)",
          "[670, 740)",
          "[670, 740)",
          "[580, 670)",
          "[580, 670)",
          "[670, 740)",
          "[670, 740)",
          "[670, 740)",
          "[740, 800)",
          "[580, 670)",
          "[670, 740)",
          "[580, 670)",
          "[670, 740)",
          "[670, 740)",
          "[670, 740)",
          "[580, 670)",
          "[670, 740)",
          "[740, 800)",
          "[670, 740)",
          "[740, 800)",
          "[670, 740)",
          "[670, 740)",
          "[670, 740)",
          "[670, 740)",
          "[740, 800)",
          "[670, 740)",
          "[670, 740)",
          "[670, 740)",
          "[670, 740)",
          "[670, 740)",
          "[670, 740)",
          "[670, 740)",
          "[580, 670)",
          "[670, 740)",
          "[670, 740)",
          "[670, 740)",
          "[740, 800)",
          "[670, 740)",
          "[670, 740)",
          "[670, 740)",
          "[670, 740)",
          "[670, 740)",
          "[670, 740)",
          "[670, 740)",
          "[740, 800)",
          "[670, 740)",
          "[670, 740)",
          "[740, 800)",
          "[670, 740)",
          "[670, 740)",
          "[670, 740)",
          "[670, 740)",
          "[670, 740)",
          "[800, 850)",
          "[580, 670)",
          "[740, 800)",
          "[670, 740)",
          "[670, 740)",
          "[670, 740)",
          "[670, 740)",
          "[670, 740)",
          "[670, 740)",
          "[740, 800)",
          "[670, 740)",
          "[670, 740)",
          "[670, 740)",
          "[580, 670)",
          "[670, 740)",
          "[670, 740)",
          "[670, 740)",
          "[670, 740)",
          "[670, 740)",
          "[740, 800)",
          "[740, 800)",
          "[670, 740)",
          "[670, 740)",
          "[670, 740)",
          "[670, 740)",
          "[670, 740)",
          "[800, 850)",
          "[580, 670)",
          "[580, 670)",
          "[670, 740)",
          "[670, 740)",
          "[670, 740)",
          "[670, 740)",
          "[670, 740)",
          "[580, 670)",
          "[670, 740)",
          "[580, 670)",
          "[670, 740)",
          "[670, 740)",
          "[670, 740)",
          "[670, 740)",
          "[670, 740)",
          "[670, 740)",
          "[670, 740)",
          "[670, 740)",
          "[740, 800)",
          "[670, 740)",
          "[670, 740)",
          "[580, 670)",
          "[670, 740)",
          "[670, 740)",
          "[670, 740)",
          "[670, 740)",
          "[670, 740)",
          "[670, 740)",
          "[670, 740)",
          "[670, 740)",
          "[670, 740)",
          "[740, 800)",
          "[670, 740)",
          "[670, 740)",
          "[740, 800)",
          "[580, 670)",
          "[740, 800)",
          "[670, 740)",
          "[670, 740)",
          "[670, 740)",
          "[670, 740)",
          "[670, 740)",
          "[740, 800)",
          "[670, 740)",
          "[800, 850)",
          "[670, 740)",
          "[580, 670)",
          "[670, 740)",
          "[580, 670)",
          "[670, 740)",
          "[670, 740)",
          "[580, 670)",
          "[580, 670)",
          "[580, 670)",
          "[670, 740)",
          "[740, 800)",
          "[670, 740)",
          "[670, 740)",
          "[670, 740)",
          "[670, 740)",
          "[670, 740)",
          "[670, 740)",
          "[670, 740)",
          "[580, 670)",
          "[670, 740)",
          "[580, 670)",
          "[670, 740)",
          "[670, 740)",
          "[670, 740)",
          "[580, 670)",
          "[670, 740)",
          "[670, 740)",
          "[670, 740)",
          "[670, 740)",
          "[580, 670)",
          "[740, 800)",
          "[670, 740)",
          "[670, 740)",
          "[580, 670)",
          "[740, 800)",
          "[670, 740)",
          "[580, 670)",
          "[670, 740)",
          "[580, 670)",
          "[670, 740)",
          "[670, 740)",
          "[670, 740)",
          "[580, 670)",
          "[670, 740)",
          "[670, 740)",
          "[670, 740)",
          "[670, 740)",
          "[580, 670)",
          "[740, 800)",
          "[740, 800)",
          "[670, 740)",
          "[670, 740)",
          "[670, 740)",
          "[670, 740)",
          "[670, 740)",
          "[670, 740)",
          "[670, 740)",
          "[670, 740)",
          "[670, 740)",
          "[670, 740)",
          "[740, 800)",
          "[670, 740)",
          "[580, 670)",
          "[580, 670)",
          "[740, 800)",
          "[670, 740)",
          "[670, 740)",
          "[670, 740)",
          "[670, 740)",
          "[670, 740)"
         ],
         "x0": " ",
         "xaxis": "x",
         "y": {
          "bdata": "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",
          "dtype": "f8"
         },
         "y0": " ",
         "yaxis": "y"
        }
       ],
       "layout": {
        "boxmode": "group",
        "legend": {
         "title": {
          "text": "Loan Length (Months)"
         },
         "tracegroupgap": 0
        },
        "template": {
         "data": {
          "bar": [
           {
            "error_x": {
             "color": "rgb(36,36,36)"
            },
            "error_y": {
             "color": "rgb(36,36,36)"
            },
            "marker": {
             "line": {
              "color": "white",
              "width": 0.5
             },
             "pattern": {
              "fillmode": "overlay",
              "size": 10,
              "solidity": 0.2
             }
            },
            "type": "bar"
           }
          ],
          "barpolar": [
           {
            "marker": {
             "line": {
              "color": "white",
              "width": 0.5
             },
             "pattern": {
              "fillmode": "overlay",
              "size": 10,
              "solidity": 0.2
             }
            },
            "type": "barpolar"
           }
          ],
          "carpet": [
           {
            "aaxis": {
             "endlinecolor": "rgb(36,36,36)",
             "gridcolor": "white",
             "linecolor": "white",
             "minorgridcolor": "white",
             "startlinecolor": "rgb(36,36,36)"
            },
            "baxis": {
             "endlinecolor": "rgb(36,36,36)",
             "gridcolor": "white",
             "linecolor": "white",
             "minorgridcolor": "white",
             "startlinecolor": "rgb(36,36,36)"
            },
            "type": "carpet"
           }
          ],
          "choropleth": [
           {
            "colorbar": {
             "outlinewidth": 1,
             "tickcolor": "rgb(36,36,36)",
             "ticks": "outside"
            },
            "type": "choropleth"
           }
          ],
          "contour": [
           {
            "colorbar": {
             "outlinewidth": 1,
             "tickcolor": "rgb(36,36,36)",
             "ticks": "outside"
            },
            "colorscale": [
             [
              0,
              "#440154"
             ],
             [
              0.1111111111111111,
              "#482878"
             ],
             [
              0.2222222222222222,
              "#3e4989"
             ],
             [
              0.3333333333333333,
              "#31688e"
             ],
             [
              0.4444444444444444,
              "#26828e"
             ],
             [
              0.5555555555555556,
              "#1f9e89"
             ],
             [
              0.6666666666666666,
              "#35b779"
             ],
             [
              0.7777777777777778,
              "#6ece58"
             ],
             [
              0.8888888888888888,
              "#b5de2b"
             ],
             [
              1,
              "#fde725"
             ]
            ],
            "type": "contour"
           }
          ],
          "contourcarpet": [
           {
            "colorbar": {
             "outlinewidth": 1,
             "tickcolor": "rgb(36,36,36)",
             "ticks": "outside"
            },
            "type": "contourcarpet"
           }
          ],
          "heatmap": [
           {
            "colorbar": {
             "outlinewidth": 1,
             "tickcolor": "rgb(36,36,36)",
             "ticks": "outside"
            },
            "colorscale": [
             [
              0,
              "#440154"
             ],
             [
              0.1111111111111111,
              "#482878"
             ],
             [
              0.2222222222222222,
              "#3e4989"
             ],
             [
              0.3333333333333333,
              "#31688e"
             ],
             [
              0.4444444444444444,
              "#26828e"
             ],
             [
              0.5555555555555556,
              "#1f9e89"
             ],
             [
              0.6666666666666666,
              "#35b779"
             ],
             [
              0.7777777777777778,
              "#6ece58"
             ],
             [
              0.8888888888888888,
              "#b5de2b"
             ],
             [
              1,
              "#fde725"
             ]
            ],
            "type": "heatmap"
           }
          ],
          "histogram": [
           {
            "marker": {
             "line": {
              "color": "white",
              "width": 0.6
             }
            },
            "type": "histogram"
           }
          ],
          "histogram2d": [
           {
            "colorbar": {
             "outlinewidth": 1,
             "tickcolor": "rgb(36,36,36)",
             "ticks": "outside"
            },
            "colorscale": [
             [
              0,
              "#440154"
             ],
             [
              0.1111111111111111,
              "#482878"
             ],
             [
              0.2222222222222222,
              "#3e4989"
             ],
             [
              0.3333333333333333,
              "#31688e"
             ],
             [
              0.4444444444444444,
              "#26828e"
             ],
             [
              0.5555555555555556,
              "#1f9e89"
             ],
             [
              0.6666666666666666,
              "#35b779"
             ],
             [
              0.7777777777777778,
              "#6ece58"
             ],
             [
              0.8888888888888888,
              "#b5de2b"
             ],
             [
              1,
              "#fde725"
             ]
            ],
            "type": "histogram2d"
           }
          ],
          "histogram2dcontour": [
           {
            "colorbar": {
             "outlinewidth": 1,
             "tickcolor": "rgb(36,36,36)",
             "ticks": "outside"
            },
            "colorscale": [
             [
              0,
              "#440154"
             ],
             [
              0.1111111111111111,
              "#482878"
             ],
             [
              0.2222222222222222,
              "#3e4989"
             ],
             [
              0.3333333333333333,
              "#31688e"
             ],
             [
              0.4444444444444444,
              "#26828e"
             ],
             [
              0.5555555555555556,
              "#1f9e89"
             ],
             [
              0.6666666666666666,
              "#35b779"
             ],
             [
              0.7777777777777778,
              "#6ece58"
             ],
             [
              0.8888888888888888,
              "#b5de2b"
             ],
             [
              1,
              "#fde725"
             ]
            ],
            "type": "histogram2dcontour"
           }
          ],
          "mesh3d": [
           {
            "colorbar": {
             "outlinewidth": 1,
             "tickcolor": "rgb(36,36,36)",
             "ticks": "outside"
            },
            "type": "mesh3d"
           }
          ],
          "parcoords": [
           {
            "line": {
             "colorbar": {
              "outlinewidth": 1,
              "tickcolor": "rgb(36,36,36)",
              "ticks": "outside"
             }
            },
            "type": "parcoords"
           }
          ],
          "pie": [
           {
            "automargin": true,
            "type": "pie"
           }
          ],
          "scatter": [
           {
            "fillpattern": {
             "fillmode": "overlay",
             "size": 10,
             "solidity": 0.2
            },
            "type": "scatter"
           }
          ],
          "scatter3d": [
           {
            "line": {
             "colorbar": {
              "outlinewidth": 1,
              "tickcolor": "rgb(36,36,36)",
              "ticks": "outside"
             }
            },
            "marker": {
             "colorbar": {
              "outlinewidth": 1,
              "tickcolor": "rgb(36,36,36)",
              "ticks": "outside"
             }
            },
            "type": "scatter3d"
           }
          ],
          "scattercarpet": [
           {
            "marker": {
             "colorbar": {
              "outlinewidth": 1,
              "tickcolor": "rgb(36,36,36)",
              "ticks": "outside"
             }
            },
            "type": "scattercarpet"
           }
          ],
          "scattergeo": [
           {
            "marker": {
             "colorbar": {
              "outlinewidth": 1,
              "tickcolor": "rgb(36,36,36)",
              "ticks": "outside"
             }
            },
            "type": "scattergeo"
           }
          ],
          "scattergl": [
           {
            "marker": {
             "colorbar": {
              "outlinewidth": 1,
              "tickcolor": "rgb(36,36,36)",
              "ticks": "outside"
             }
            },
            "type": "scattergl"
           }
          ],
          "scattermap": [
           {
            "marker": {
             "colorbar": {
              "outlinewidth": 1,
              "tickcolor": "rgb(36,36,36)",
              "ticks": "outside"
             }
            },
            "type": "scattermap"
           }
          ],
          "scattermapbox": [
           {
            "marker": {
             "colorbar": {
              "outlinewidth": 1,
              "tickcolor": "rgb(36,36,36)",
              "ticks": "outside"
             }
            },
            "type": "scattermapbox"
           }
          ],
          "scatterpolar": [
           {
            "marker": {
             "colorbar": {
              "outlinewidth": 1,
              "tickcolor": "rgb(36,36,36)",
              "ticks": "outside"
             }
            },
            "type": "scatterpolar"
           }
          ],
          "scatterpolargl": [
           {
            "marker": {
             "colorbar": {
              "outlinewidth": 1,
              "tickcolor": "rgb(36,36,36)",
              "ticks": "outside"
             }
            },
            "type": "scatterpolargl"
           }
          ],
          "scatterternary": [
           {
            "marker": {
             "colorbar": {
              "outlinewidth": 1,
              "tickcolor": "rgb(36,36,36)",
              "ticks": "outside"
             }
            },
            "type": "scatterternary"
           }
          ],
          "surface": [
           {
            "colorbar": {
             "outlinewidth": 1,
             "tickcolor": "rgb(36,36,36)",
             "ticks": "outside"
            },
            "colorscale": [
             [
              0,
              "#440154"
             ],
             [
              0.1111111111111111,
              "#482878"
             ],
             [
              0.2222222222222222,
              "#3e4989"
             ],
             [
              0.3333333333333333,
              "#31688e"
             ],
             [
              0.4444444444444444,
              "#26828e"
             ],
             [
              0.5555555555555556,
              "#1f9e89"
             ],
             [
              0.6666666666666666,
              "#35b779"
             ],
             [
              0.7777777777777778,
              "#6ece58"
             ],
             [
              0.8888888888888888,
              "#b5de2b"
             ],
             [
              1,
              "#fde725"
             ]
            ],
            "type": "surface"
           }
          ],
          "table": [
           {
            "cells": {
             "fill": {
              "color": "rgb(237,237,237)"
             },
             "line": {
              "color": "white"
             }
            },
            "header": {
             "fill": {
              "color": "rgb(217,217,217)"
             },
             "line": {
              "color": "white"
             }
            },
            "type": "table"
           }
          ]
         },
         "layout": {
          "annotationdefaults": {
           "arrowhead": 0,
           "arrowwidth": 1
          },
          "autosize": true,
          "autotypenumbers": "strict",
          "coloraxis": {
           "colorbar": {
            "outlinewidth": 1,
            "tickcolor": "rgb(36,36,36)",
            "ticks": "outside"
           }
          },
          "colorscale": {
           "diverging": [
            [
             0,
             "rgb(103,0,31)"
            ],
            [
             0.1,
             "rgb(178,24,43)"
            ],
            [
             0.2,
             "rgb(214,96,77)"
            ],
            [
             0.3,
             "rgb(244,165,130)"
            ],
            [
             0.4,
             "rgb(253,219,199)"
            ],
            [
             0.5,
             "rgb(247,247,247)"
            ],
            [
             0.6,
             "rgb(209,229,240)"
            ],
            [
             0.7,
             "rgb(146,197,222)"
            ],
            [
             0.8,
             "rgb(67,147,195)"
            ],
            [
             0.9,
             "rgb(33,102,172)"
            ],
            [
             1,
             "rgb(5,48,97)"
            ]
           ],
           "sequential": [
            [
             0,
             "#440154"
            ],
            [
             0.1111111111111111,
             "#482878"
            ],
            [
             0.2222222222222222,
             "#3e4989"
            ],
            [
             0.3333333333333333,
             "#31688e"
            ],
            [
             0.4444444444444444,
             "#26828e"
            ],
            [
             0.5555555555555556,
             "#1f9e89"
            ],
            [
             0.6666666666666666,
             "#35b779"
            ],
            [
             0.7777777777777778,
             "#6ece58"
            ],
            [
             0.8888888888888888,
             "#b5de2b"
            ],
            [
             1,
             "#fde725"
            ]
           ],
           "sequentialminus": [
            [
             0,
             "#440154"
            ],
            [
             0.1111111111111111,
             "#482878"
            ],
            [
             0.2222222222222222,
             "#3e4989"
            ],
            [
             0.3333333333333333,
             "#31688e"
            ],
            [
             0.4444444444444444,
             "#26828e"
            ],
            [
             0.5555555555555556,
             "#1f9e89"
            ],
            [
             0.6666666666666666,
             "#35b779"
            ],
            [
             0.7777777777777778,
             "#6ece58"
            ],
            [
             0.8888888888888888,
             "#b5de2b"
            ],
            [
             1,
             "#fde725"
            ]
           ]
          },
          "colorway": [
           "#1F77B4",
           "#FF7F0E",
           "#2CA02C",
           "#D62728",
           "#9467BD",
           "#8C564B",
           "#E377C2",
           "#7F7F7F",
           "#BCBD22",
           "#17BECF"
          ],
          "font": {
           "color": "rgb(36,36,36)"
          },
          "geo": {
           "bgcolor": "white",
           "lakecolor": "white",
           "landcolor": "white",
           "showlakes": true,
           "showland": true,
           "subunitcolor": "white"
          },
          "height": 400,
          "hoverlabel": {
           "align": "left"
          },
          "hovermode": "closest",
          "mapbox": {
           "style": "light"
          },
          "margin": {
           "b": 30,
           "l": 30,
           "r": 30,
           "t": 30
          },
          "paper_bgcolor": "white",
          "plot_bgcolor": "white",
          "polar": {
           "angularaxis": {
            "gridcolor": "rgb(232,232,232)",
            "linecolor": "rgb(36,36,36)",
            "showgrid": false,
            "showline": true,
            "ticks": "outside"
           },
           "bgcolor": "white",
           "radialaxis": {
            "gridcolor": "rgb(232,232,232)",
            "linecolor": "rgb(36,36,36)",
            "showgrid": false,
            "showline": true,
            "ticks": "outside"
           }
          },
          "scene": {
           "xaxis": {
            "backgroundcolor": "white",
            "gridcolor": "rgb(232,232,232)",
            "gridwidth": 2,
            "linecolor": "rgb(36,36,36)",
            "showbackground": true,
            "showgrid": false,
            "showline": true,
            "ticks": "outside",
            "zeroline": false,
            "zerolinecolor": "rgb(36,36,36)"
           },
           "yaxis": {
            "backgroundcolor": "white",
            "gridcolor": "rgb(232,232,232)",
            "gridwidth": 2,
            "linecolor": "rgb(36,36,36)",
            "showbackground": true,
            "showgrid": false,
            "showline": true,
            "ticks": "outside",
            "zeroline": false,
            "zerolinecolor": "rgb(36,36,36)"
           },
           "zaxis": {
            "backgroundcolor": "white",
            "gridcolor": "rgb(232,232,232)",
            "gridwidth": 2,
            "linecolor": "rgb(36,36,36)",
            "showbackground": true,
            "showgrid": false,
            "showline": true,
            "ticks": "outside",
            "zeroline": false,
            "zerolinecolor": "rgb(36,36,36)"
           }
          },
          "shapedefaults": {
           "fillcolor": "black",
           "line": {
            "width": 0
           },
           "opacity": 0.3
          },
          "ternary": {
           "aaxis": {
            "gridcolor": "rgb(232,232,232)",
            "linecolor": "rgb(36,36,36)",
            "showgrid": false,
            "showline": true,
            "ticks": "outside"
           },
           "baxis": {
            "gridcolor": "rgb(232,232,232)",
            "linecolor": "rgb(36,36,36)",
            "showgrid": false,
            "showline": true,
            "ticks": "outside"
           },
           "bgcolor": "white",
           "caxis": {
            "gridcolor": "rgb(232,232,232)",
            "linecolor": "rgb(36,36,36)",
            "showgrid": false,
            "showline": true,
            "ticks": "outside"
           }
          },
          "title": {
           "x": 0.5,
           "xanchor": "center"
          },
          "width": 600,
          "xaxis": {
           "automargin": true,
           "gridcolor": "rgb(232,232,232)",
           "linecolor": "rgb(36,36,36)",
           "showgrid": true,
           "showline": true,
           "ticks": "outside",
           "title": {
            "standoff": 15
           },
           "zeroline": false,
           "zerolinecolor": "rgb(36,36,36)"
          },
          "yaxis": {
           "automargin": true,
           "gridcolor": "rgb(232,232,232)",
           "linecolor": "rgb(36,36,36)",
           "showgrid": true,
           "showline": true,
           "ticks": "outside",
           "title": {
            "standoff": 15
           },
           "zeroline": false,
           "zerolinecolor": "rgb(36,36,36)"
          }
         }
        },
        "title": {
         "text": "Interest Rate vs. Credit Score"
        },
        "xaxis": {
         "anchor": "y",
         "categoryarray": [
          "[580, 670)",
          "[670, 740)",
          "[740, 800)",
          "[800, 850)"
         ],
         "categoryorder": "array",
         "domain": [
          0,
          1
         ],
         "title": {
          "text": "Credit Score Range"
         }
        },
        "yaxis": {
         "anchor": "x",
         "domain": [
          0,
          1
         ],
         "title": {
          "text": "Interest Rate (%)"
         }
        }
       }
      }
     },
     "metadata": {},
     "output_type": "display_data"
    }
   ],
   "source": [
    "q3_fig = create_boxplot(loans)\n",
    "q3_fig"
   ]
  },
  {
   "cell_type": "markdown",
   "id": "6dff8308",
   "metadata": {},
   "source": [
    "\n",
    "- As borrowers' credit scores increase, both the median and variance in interest rates tend to decrease.\n",
    "- Across the spectrum of credit scores, 60 month loans tend to have higher interest rates than 36 month loans.\n",
    "\n",
    "You might wonder why longer loans have higher interest rates. From [The Motley Fool](https://www.fool.com/the-ascent/personal-loans/longer-repayment-terms-personal-loans-pros-cons/#:~:text=A%20longer%20term%20is%20riskier,charge%20a%20higher%20interest%20rate.):\n",
    "\n",
    "> A longer term is riskier for the lender because there's more of a chance interest rates will change dramatically during that time. There's also more of a chance something will go wrong and you won't pay the loan back. Because it's a riskier loan to make, lenders charge a higher interest rate.\n",
    "\n",
    "Good to know!"
   ]
  },
  {
   "cell_type": "markdown",
   "id": "cd01f67e",
   "metadata": {},
   "source": [
    "Now that we've investigated the role of some of the quantitative factors behind interest rates, let's look at some of the more subjective factors. Take a look at the following personal statement, for example:\n",
    "\n",
    "> i recently proposed to my girlfriend of almost 8 yrs now and everything was going well untill our pug (ody) the middle of my three dogs started limping around and stumbling all the time. well come to find out he has a tumor on his spine. not very good news for us as our dogs are pretty much our children. so the reason for my loan request is the money i spent on the engagement ring was most of my savings and then i had to take out paydayloans loans for the mylogram bill, wich is similar to an MRI. $2,700 along with meds, visits etc.\n",
    "\n",
    "You suspect that, perhaps, loans that included personal statements in their applications were given higher interest rates than loans that didn't include personal statements in their applications. This is true in `loans`:"
   ]
  },
  {
   "cell_type": "code",
   "execution_count": 46,
   "id": "2a454035",
   "metadata": {},
   "outputs": [
    {
     "data": {
      "text/html": [
       "<div>\n",
       "<style scoped>\n",
       "    .dataframe tbody tr th:only-of-type {\n",
       "        vertical-align: middle;\n",
       "    }\n",
       "\n",
       "    .dataframe tbody tr th {\n",
       "        vertical-align: top;\n",
       "    }\n",
       "\n",
       "    .dataframe thead th {\n",
       "        text-align: right;\n",
       "    }\n",
       "</style>\n",
       "<table border=\"1\" class=\"dataframe\">\n",
       "  <thead>\n",
       "    <tr style=\"text-align: right;\">\n",
       "      <th></th>\n",
       "      <th>count</th>\n",
       "      <th>mean</th>\n",
       "      <th>std</th>\n",
       "      <th>min</th>\n",
       "      <th>25%</th>\n",
       "      <th>50%</th>\n",
       "      <th>75%</th>\n",
       "      <th>max</th>\n",
       "    </tr>\n",
       "    <tr>\n",
       "      <th>has_ps</th>\n",
       "      <th></th>\n",
       "      <th></th>\n",
       "      <th></th>\n",
       "      <th></th>\n",
       "      <th></th>\n",
       "      <th></th>\n",
       "      <th></th>\n",
       "      <th></th>\n",
       "    </tr>\n",
       "  </thead>\n",
       "  <tbody>\n",
       "    <tr>\n",
       "      <th>False</th>\n",
       "      <td>5976.0</td>\n",
       "      <td>13.093203</td>\n",
       "      <td>4.908906</td>\n",
       "      <td>5.31</td>\n",
       "      <td>9.4400</td>\n",
       "      <td>12.62</td>\n",
       "      <td>15.99</td>\n",
       "      <td>30.99</td>\n",
       "    </tr>\n",
       "    <tr>\n",
       "      <th>True</th>\n",
       "      <td>324.0</td>\n",
       "      <td>13.676389</td>\n",
       "      <td>4.027071</td>\n",
       "      <td>5.79</td>\n",
       "      <td>11.1325</td>\n",
       "      <td>13.68</td>\n",
       "      <td>16.29</td>\n",
       "      <td>24.89</td>\n",
       "    </tr>\n",
       "  </tbody>\n",
       "</table>\n",
       "</div>"
      ],
      "text/plain": [
       "         count       mean       std   min      25%    50%    75%    max\n",
       "has_ps                                                                 \n",
       "False   5976.0  13.093203  4.908906  5.31   9.4400  12.62  15.99  30.99\n",
       "True     324.0  13.676389  4.027071  5.79  11.1325  13.68  16.29  24.89"
      ]
     },
     "metadata": {},
     "output_type": "display_data"
    },
    {
     "data": {
      "application/vnd.plotly.v1+json": {
       "config": {
        "plotlyServerURL": "https://plot.ly"
       },
       "data": [
        {
         "legendgroup": "True",
         "marker": {
          "color": "rgb(31, 119, 180)"
         },
         "mode": "lines",
         "name": "True",
         "showlegend": true,
         "type": "scatter",
         "x": [
          5.79,
          5.8282,
          5.8664,
          5.9046,
          5.9428,
          5.981,
          6.0192,
          6.0574,
          6.0956,
          6.1338,
          6.172,
          6.2102,
          6.2484,
          6.2866,
          6.3248,
          6.3629999999999995,
          6.4012,
          6.4394,
          6.4776,
          6.5158000000000005,
          6.554,
          6.5922,
          6.6304,
          6.6686,
          6.7068,
          6.745,
          6.7832,
          6.821400000000001,
          6.8596,
          6.8978,
          6.936,
          6.9742,
          7.0124,
          7.0506,
          7.0888,
          7.127,
          7.1652000000000005,
          7.2034,
          7.2416,
          7.2798,
          7.318,
          7.3562,
          7.3944,
          7.4326,
          7.4708000000000006,
          7.509,
          7.5472,
          7.5854,
          7.6236,
          7.6618,
          7.7,
          7.7382,
          7.776400000000001,
          7.8146,
          7.8528,
          7.891,
          7.9292,
          7.9674,
          8.005600000000001,
          8.043800000000001,
          8.082,
          8.1202,
          8.1584,
          8.1966,
          8.2348,
          8.273,
          8.3112,
          8.3494,
          8.3876,
          8.4258,
          8.464,
          8.5022,
          8.5404,
          8.5786,
          8.6168,
          8.655000000000001,
          8.693200000000001,
          8.7314,
          8.7696,
          8.8078,
          8.846,
          8.8842,
          8.9224,
          8.9606,
          8.9988,
          9.037,
          9.0752,
          9.1134,
          9.1516,
          9.1898,
          9.228000000000002,
          9.266200000000001,
          9.304400000000001,
          9.342600000000001,
          9.3808,
          9.419,
          9.4572,
          9.4954,
          9.5336,
          9.5718,
          9.61,
          9.6482,
          9.6864,
          9.7246,
          9.7628,
          9.801,
          9.8392,
          9.8774,
          9.915600000000001,
          9.953800000000001,
          9.992,
          10.0302,
          10.0684,
          10.1066,
          10.1448,
          10.183,
          10.2212,
          10.2594,
          10.2976,
          10.335799999999999,
          10.373999999999999,
          10.4122,
          10.450400000000002,
          10.488600000000002,
          10.526800000000001,
          10.565000000000001,
          10.603200000000001,
          10.6414,
          10.6796,
          10.7178,
          10.756,
          10.7942,
          10.8324,
          10.8706,
          10.9088,
          10.947,
          10.9852,
          11.0234,
          11.0616,
          11.0998,
          11.138,
          11.176200000000001,
          11.214400000000001,
          11.252600000000001,
          11.2908,
          11.329,
          11.3672,
          11.4054,
          11.4436,
          11.4818,
          11.52,
          11.558200000000001,
          11.596400000000001,
          11.6346,
          11.6728,
          11.711,
          11.749200000000002,
          11.787400000000002,
          11.825600000000001,
          11.863800000000001,
          11.902000000000001,
          11.9402,
          11.9784,
          12.0166,
          12.0548,
          12.093,
          12.1312,
          12.1694,
          12.2076,
          12.2458,
          12.284,
          12.3222,
          12.3604,
          12.3986,
          12.4368,
          12.475000000000001,
          12.513200000000001,
          12.551400000000001,
          12.5896,
          12.6278,
          12.666,
          12.7042,
          12.7424,
          12.7806,
          12.8188,
          12.857000000000001,
          12.8952,
          12.9334,
          12.9716,
          13.0098,
          13.048000000000002,
          13.086200000000002,
          13.124400000000001,
          13.162600000000001,
          13.200800000000001,
          13.239,
          13.2772,
          13.3154,
          13.3536,
          13.3918,
          13.43,
          13.4682,
          13.5064,
          13.544599999999999,
          13.5828,
          13.621000000000002,
          13.659200000000002,
          13.697400000000002,
          13.735600000000002,
          13.773800000000001,
          13.812000000000001,
          13.850200000000001,
          13.8884,
          13.9266,
          13.9648,
          14.003,
          14.0412,
          14.079400000000003,
          14.1176,
          14.155800000000003,
          14.193999999999999,
          14.232200000000002,
          14.270400000000002,
          14.308600000000002,
          14.346800000000002,
          14.385000000000002,
          14.423200000000001,
          14.461400000000001,
          14.499600000000001,
          14.5378,
          14.576,
          14.6142,
          14.6524,
          14.6906,
          14.7288,
          14.767,
          14.8052,
          14.843400000000003,
          14.881599999999999,
          14.919800000000002,
          14.957999999999998,
          14.996200000000002,
          15.034400000000002,
          15.072600000000001,
          15.110800000000001,
          15.149000000000001,
          15.1872,
          15.2254,
          15.2636,
          15.3018,
          15.34,
          15.3782,
          15.416400000000003,
          15.4546,
          15.492800000000003,
          15.530999999999999,
          15.569200000000002,
          15.607400000000002,
          15.645600000000002,
          15.683800000000002,
          15.722000000000001,
          15.760200000000001,
          15.7984,
          15.8366,
          15.8748,
          15.913,
          15.9512,
          15.9894,
          16.0276,
          16.0658,
          16.104,
          16.1422,
          16.180400000000002,
          16.218600000000002,
          16.256800000000002,
          16.295,
          16.3332,
          16.3714,
          16.4096,
          16.4478,
          16.486,
          16.5242,
          16.5624,
          16.6006,
          16.6388,
          16.677,
          16.7152,
          16.753400000000003,
          16.7916,
          16.829800000000002,
          16.868,
          16.906200000000002,
          16.9444,
          16.9826,
          17.0208,
          17.059,
          17.0972,
          17.1354,
          17.1736,
          17.2118,
          17.25,
          17.2882,
          17.326400000000003,
          17.3646,
          17.402800000000003,
          17.441,
          17.479200000000002,
          17.517400000000002,
          17.555600000000002,
          17.5938,
          17.632,
          17.6702,
          17.7084,
          17.7466,
          17.7848,
          17.823,
          17.8612,
          17.8994,
          17.9376,
          17.9758,
          18.014,
          18.0522,
          18.090400000000002,
          18.1286,
          18.166800000000002,
          18.205000000000002,
          18.2432,
          18.2814,
          18.3196,
          18.3578,
          18.396,
          18.4342,
          18.4724,
          18.5106,
          18.5488,
          18.587000000000003,
          18.6252,
          18.663400000000003,
          18.7016,
          18.739800000000002,
          18.778000000000002,
          18.816200000000002,
          18.854400000000002,
          18.8926,
          18.9308,
          18.969,
          19.0072,
          19.0454,
          19.0836,
          19.1218,
          19.16,
          19.1982,
          19.2364,
          19.2746,
          19.312800000000003,
          19.351000000000003,
          19.389200000000002,
          19.427400000000002,
          19.465600000000002,
          19.503800000000002,
          19.542,
          19.5802,
          19.6184,
          19.6566,
          19.6948,
          19.733,
          19.7712,
          19.8094,
          19.8476,
          19.8858,
          19.924000000000003,
          19.9622,
          20.000400000000003,
          20.0386,
          20.076800000000002,
          20.115000000000002,
          20.153200000000002,
          20.1914,
          20.2296,
          20.2678,
          20.306,
          20.3442,
          20.3824,
          20.4206,
          20.4588,
          20.497000000000003,
          20.5352,
          20.573400000000003,
          20.6116,
          20.649800000000003,
          20.688000000000002,
          20.726200000000002,
          20.764400000000002,
          20.8026,
          20.8408,
          20.879,
          20.9172,
          20.9554,
          20.9936,
          21.0318,
          21.07,
          21.1082,
          21.1464,
          21.1846,
          21.2228,
          21.261000000000003,
          21.2992,
          21.337400000000002,
          21.375600000000002,
          21.413800000000002,
          21.452,
          21.4902,
          21.5284,
          21.5666,
          21.6048,
          21.643,
          21.6812,
          21.7194,
          21.7576,
          21.7958,
          21.834,
          21.8722,
          21.9104,
          21.9486,
          21.9868,
          22.025000000000002,
          22.0632,
          22.1014,
          22.139599999999998,
          22.1778,
          22.215999999999998,
          22.2542,
          22.2924,
          22.3306,
          22.368800000000004,
          22.407,
          22.4452,
          22.4834,
          22.521600000000003,
          22.559800000000003,
          22.598,
          22.6362,
          22.674400000000002,
          22.712600000000002,
          22.7508,
          22.788999999999998,
          22.8272,
          22.8654,
          22.9036,
          22.9418,
          22.98,
          23.0182,
          23.0564,
          23.0946,
          23.132800000000003,
          23.171,
          23.2092,
          23.2474,
          23.285600000000002,
          23.323800000000002,
          23.362,
          23.400199999999998,
          23.4384,
          23.4766,
          23.5148,
          23.553,
          23.5912,
          23.6294,
          23.6676,
          23.705800000000004,
          23.744,
          23.7822,
          23.8204,
          23.858600000000003,
          23.896800000000002,
          23.935,
          23.9732,
          24.011400000000002,
          24.0496,
          24.0878,
          24.125999999999998,
          24.1642,
          24.2024,
          24.2406,
          24.2788,
          24.317,
          24.3552,
          24.3934,
          24.431600000000003,
          24.469800000000003,
          24.508,
          24.5462,
          24.584400000000002,
          24.622600000000002,
          24.660800000000002,
          24.698999999999998,
          24.7372,
          24.7754,
          24.8136,
          24.8518
         ],
         "xaxis": "x",
         "y": {
          "bdata": "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",
          "dtype": "f8"
         },
         "yaxis": "y"
        },
        {
         "legendgroup": "False",
         "marker": {
          "color": "rgb(255, 127, 14)"
         },
         "mode": "lines",
         "name": "False",
         "showlegend": true,
         "type": "scatter",
         "x": [
          5.31,
          5.3613599999999995,
          5.412719999999999,
          5.464079999999999,
          5.51544,
          5.5668,
          5.61816,
          5.6695199999999994,
          5.720879999999999,
          5.77224,
          5.8236,
          5.87496,
          5.92632,
          5.977679999999999,
          6.029039999999999,
          6.080399999999999,
          6.13176,
          6.18312,
          6.23448,
          6.285839999999999,
          6.337199999999999,
          6.38856,
          6.43992,
          6.49128,
          6.54264,
          6.593999999999999,
          6.645359999999999,
          6.696719999999999,
          6.74808,
          6.79944,
          6.8508,
          6.902159999999999,
          6.953519999999999,
          7.00488,
          7.05624,
          7.1076,
          7.1589599999999995,
          7.210319999999999,
          7.26168,
          7.313039999999999,
          7.3644,
          7.415759999999999,
          7.4671199999999995,
          7.51848,
          7.569839999999999,
          7.6212,
          7.672559999999999,
          7.72392,
          7.7752799999999995,
          7.826639999999999,
          7.878,
          7.929359999999999,
          7.98072,
          8.03208,
          8.08344,
          8.1348,
          8.18616,
          8.23752,
          8.288879999999999,
          8.34024,
          8.3916,
          8.44296,
          8.49432,
          8.545679999999999,
          8.59704,
          8.648399999999999,
          8.69976,
          8.75112,
          8.80248,
          8.85384,
          8.905199999999999,
          8.95656,
          9.007919999999999,
          9.05928,
          9.11064,
          9.161999999999999,
          9.21336,
          9.26472,
          9.31608,
          9.367439999999998,
          9.418800000000001,
          9.47016,
          9.521519999999999,
          9.57288,
          9.62424,
          9.6756,
          9.72696,
          9.778319999999999,
          9.82968,
          9.881039999999999,
          9.9324,
          9.98376,
          10.03512,
          10.086479999999998,
          10.13784,
          10.1892,
          10.240559999999999,
          10.29192,
          10.34328,
          10.394639999999999,
          10.446,
          10.49736,
          10.54872,
          10.600079999999998,
          10.65144,
          10.7028,
          10.754159999999999,
          10.80552,
          10.85688,
          10.90824,
          10.9596,
          11.01096,
          11.06232,
          11.113679999999999,
          11.16504,
          11.2164,
          11.267759999999999,
          11.31912,
          11.370479999999999,
          11.42184,
          11.473199999999999,
          11.52456,
          11.57592,
          11.627279999999999,
          11.67864,
          11.73,
          11.78136,
          11.83272,
          11.88408,
          11.93544,
          11.986799999999999,
          12.03816,
          12.08952,
          12.14088,
          12.192239999999998,
          12.2436,
          12.29496,
          12.346319999999999,
          12.397680000000001,
          12.44904,
          12.500399999999999,
          12.55176,
          12.60312,
          12.65448,
          12.705839999999998,
          12.7572,
          12.80856,
          12.859919999999999,
          12.91128,
          12.96264,
          13.014,
          13.065359999999998,
          13.11672,
          13.16808,
          13.219439999999999,
          13.2708,
          13.32216,
          13.37352,
          13.424879999999998,
          13.47624,
          13.5276,
          13.578959999999999,
          13.630319999999998,
          13.68168,
          13.733039999999999,
          13.784399999999998,
          13.83576,
          13.88712,
          13.938479999999998,
          13.989840000000001,
          14.0412,
          14.092559999999999,
          14.143920000000001,
          14.19528,
          14.24664,
          14.297999999999998,
          14.34936,
          14.40072,
          14.452079999999999,
          14.503440000000001,
          14.5548,
          14.60616,
          14.657520000000002,
          14.708879999999997,
          14.76024,
          14.811599999999999,
          14.862959999999998,
          14.91432,
          14.965679999999999,
          15.017039999999998,
          15.0684,
          15.11976,
          15.171119999999998,
          15.222480000000001,
          15.27384,
          15.325199999999999,
          15.376559999999998,
          15.42792,
          15.47928,
          15.530639999999998,
          15.582,
          15.63336,
          15.684719999999999,
          15.736080000000001,
          15.78744,
          15.838799999999999,
          15.890159999999998,
          15.94152,
          15.99288,
          16.04424,
          16.0956,
          16.14696,
          16.19832,
          16.24968,
          16.30104,
          16.3524,
          16.40376,
          16.455119999999997,
          16.50648,
          16.55784,
          16.6092,
          16.66056,
          16.71192,
          16.76328,
          16.81464,
          16.866,
          16.91736,
          16.968719999999998,
          17.02008,
          17.07144,
          17.122799999999998,
          17.17416,
          17.22552,
          17.27688,
          17.32824,
          17.3796,
          17.43096,
          17.482319999999998,
          17.53368,
          17.58504,
          17.6364,
          17.68776,
          17.73912,
          17.79048,
          17.84184,
          17.8932,
          17.94456,
          17.995919999999998,
          18.04728,
          18.09864,
          18.15,
          18.20136,
          18.25272,
          18.30408,
          18.35544,
          18.4068,
          18.45816,
          18.50952,
          18.560879999999997,
          18.61224,
          18.6636,
          18.714959999999998,
          18.76632,
          18.81768,
          18.86904,
          18.9204,
          18.97176,
          19.02312,
          19.074479999999998,
          19.12584,
          19.1772,
          19.228559999999998,
          19.27992,
          19.33128,
          19.38264,
          19.434,
          19.48536,
          19.53672,
          19.588079999999998,
          19.63944,
          19.6908,
          19.74216,
          19.79352,
          19.84488,
          19.89624,
          19.9476,
          19.99896,
          20.05032,
          20.101679999999998,
          20.153039999999997,
          20.2044,
          20.25576,
          20.307119999999998,
          20.35848,
          20.40984,
          20.4612,
          20.51256,
          20.56392,
          20.61528,
          20.666639999999997,
          20.718,
          20.76936,
          20.820719999999998,
          20.87208,
          20.92344,
          20.9748,
          21.02616,
          21.07752,
          21.12888,
          21.180239999999998,
          21.2316,
          21.28296,
          21.334319999999998,
          21.38568,
          21.437039999999996,
          21.4884,
          21.539759999999998,
          21.591119999999997,
          21.64248,
          21.693839999999998,
          21.7452,
          21.79656,
          21.84792,
          21.899279999999997,
          21.950639999999996,
          22.002,
          22.053359999999998,
          22.10472,
          22.156079999999996,
          22.20744,
          22.258799999999997,
          22.31016,
          22.36152,
          22.41288,
          22.46424,
          22.515599999999996,
          22.566959999999998,
          22.618319999999997,
          22.66968,
          22.72104,
          22.7724,
          22.823759999999996,
          22.87512,
          22.926479999999998,
          22.97784,
          23.0292,
          23.08056,
          23.131919999999997,
          23.183279999999996,
          23.23464,
          23.285999999999998,
          23.33736,
          23.38872,
          23.44008,
          23.491439999999997,
          23.5428,
          23.59416,
          23.645519999999998,
          23.69688,
          23.74824,
          23.799599999999998,
          23.850959999999997,
          23.90232,
          23.95368,
          24.00504,
          24.0564,
          24.107759999999995,
          24.159119999999998,
          24.210479999999997,
          24.26184,
          24.3132,
          24.36456,
          24.415919999999996,
          24.46728,
          24.518639999999998,
          24.57,
          24.62136,
          24.672719999999998,
          24.724079999999997,
          24.775439999999996,
          24.8268,
          24.878159999999998,
          24.92952,
          24.98088,
          25.032239999999998,
          25.083599999999997,
          25.13496,
          25.18632,
          25.237679999999997,
          25.28904,
          25.3404,
          25.391759999999998,
          25.443119999999997,
          25.49448,
          25.54584,
          25.5972,
          25.64856,
          25.699919999999995,
          25.751279999999998,
          25.802639999999997,
          25.854,
          25.905359999999998,
          25.95672,
          26.008079999999996,
          26.05944,
          26.110799999999998,
          26.16216,
          26.21352,
          26.264879999999998,
          26.316239999999997,
          26.367599999999996,
          26.41896,
          26.470319999999997,
          26.52168,
          26.57304,
          26.6244,
          26.675759999999997,
          26.72712,
          26.77848,
          26.829839999999997,
          26.8812,
          26.93256,
          26.983919999999998,
          27.035279999999997,
          27.08664,
          27.137999999999998,
          27.18936,
          27.24072,
          27.29208,
          27.343439999999998,
          27.394799999999996,
          27.44616,
          27.497519999999998,
          27.54888,
          27.600239999999996,
          27.6516,
          27.702959999999997,
          27.75432,
          27.80568,
          27.85704,
          27.9084,
          27.959759999999996,
          28.01112,
          28.062479999999997,
          28.11384,
          28.1652,
          28.21656,
          28.267919999999997,
          28.31928,
          28.370639999999998,
          28.421999999999997,
          28.47336,
          28.52472,
          28.576079999999997,
          28.627439999999996,
          28.6788,
          28.730159999999998,
          28.78152,
          28.83288,
          28.88424,
          28.935599999999997,
          28.986959999999996,
          29.03832,
          29.089679999999998,
          29.14104,
          29.1924,
          29.243759999999998,
          29.295119999999997,
          29.34648,
          29.39784,
          29.4492,
          29.50056,
          29.551919999999996,
          29.603279999999998,
          29.654639999999997,
          29.706,
          29.75736,
          29.80872,
          29.860079999999996,
          29.91144,
          29.962799999999998,
          30.014159999999997,
          30.06552,
          30.11688,
          30.168239999999997,
          30.219599999999996,
          30.27096,
          30.322319999999998,
          30.37368,
          30.42504,
          30.4764,
          30.527759999999997,
          30.579119999999996,
          30.63048,
          30.681839999999998,
          30.7332,
          30.78456,
          30.835919999999998,
          30.887279999999997,
          30.93864
         ],
         "xaxis": "x",
         "y": {
          "bdata": "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",
          "dtype": "f8"
         },
         "yaxis": "y"
        }
       ],
       "layout": {
        "barmode": "overlay",
        "hovermode": "closest",
        "legend": {
         "traceorder": "reversed"
        },
        "template": {
         "data": {
          "bar": [
           {
            "error_x": {
             "color": "rgb(36,36,36)"
            },
            "error_y": {
             "color": "rgb(36,36,36)"
            },
            "marker": {
             "line": {
              "color": "white",
              "width": 0.5
             },
             "pattern": {
              "fillmode": "overlay",
              "size": 10,
              "solidity": 0.2
             }
            },
            "type": "bar"
           }
          ],
          "barpolar": [
           {
            "marker": {
             "line": {
              "color": "white",
              "width": 0.5
             },
             "pattern": {
              "fillmode": "overlay",
              "size": 10,
              "solidity": 0.2
             }
            },
            "type": "barpolar"
           }
          ],
          "carpet": [
           {
            "aaxis": {
             "endlinecolor": "rgb(36,36,36)",
             "gridcolor": "white",
             "linecolor": "white",
             "minorgridcolor": "white",
             "startlinecolor": "rgb(36,36,36)"
            },
            "baxis": {
             "endlinecolor": "rgb(36,36,36)",
             "gridcolor": "white",
             "linecolor": "white",
             "minorgridcolor": "white",
             "startlinecolor": "rgb(36,36,36)"
            },
            "type": "carpet"
           }
          ],
          "choropleth": [
           {
            "colorbar": {
             "outlinewidth": 1,
             "tickcolor": "rgb(36,36,36)",
             "ticks": "outside"
            },
            "type": "choropleth"
           }
          ],
          "contour": [
           {
            "colorbar": {
             "outlinewidth": 1,
             "tickcolor": "rgb(36,36,36)",
             "ticks": "outside"
            },
            "colorscale": [
             [
              0,
              "#440154"
             ],
             [
              0.1111111111111111,
              "#482878"
             ],
             [
              0.2222222222222222,
              "#3e4989"
             ],
             [
              0.3333333333333333,
              "#31688e"
             ],
             [
              0.4444444444444444,
              "#26828e"
             ],
             [
              0.5555555555555556,
              "#1f9e89"
             ],
             [
              0.6666666666666666,
              "#35b779"
             ],
             [
              0.7777777777777778,
              "#6ece58"
             ],
             [
              0.8888888888888888,
              "#b5de2b"
             ],
             [
              1,
              "#fde725"
             ]
            ],
            "type": "contour"
           }
          ],
          "contourcarpet": [
           {
            "colorbar": {
             "outlinewidth": 1,
             "tickcolor": "rgb(36,36,36)",
             "ticks": "outside"
            },
            "type": "contourcarpet"
           }
          ],
          "heatmap": [
           {
            "colorbar": {
             "outlinewidth": 1,
             "tickcolor": "rgb(36,36,36)",
             "ticks": "outside"
            },
            "colorscale": [
             [
              0,
              "#440154"
             ],
             [
              0.1111111111111111,
              "#482878"
             ],
             [
              0.2222222222222222,
              "#3e4989"
             ],
             [
              0.3333333333333333,
              "#31688e"
             ],
             [
              0.4444444444444444,
              "#26828e"
             ],
             [
              0.5555555555555556,
              "#1f9e89"
             ],
             [
              0.6666666666666666,
              "#35b779"
             ],
             [
              0.7777777777777778,
              "#6ece58"
             ],
             [
              0.8888888888888888,
              "#b5de2b"
             ],
             [
              1,
              "#fde725"
             ]
            ],
            "type": "heatmap"
           }
          ],
          "histogram": [
           {
            "marker": {
             "line": {
              "color": "white",
              "width": 0.6
             }
            },
            "type": "histogram"
           }
          ],
          "histogram2d": [
           {
            "colorbar": {
             "outlinewidth": 1,
             "tickcolor": "rgb(36,36,36)",
             "ticks": "outside"
            },
            "colorscale": [
             [
              0,
              "#440154"
             ],
             [
              0.1111111111111111,
              "#482878"
             ],
             [
              0.2222222222222222,
              "#3e4989"
             ],
             [
              0.3333333333333333,
              "#31688e"
             ],
             [
              0.4444444444444444,
              "#26828e"
             ],
             [
              0.5555555555555556,
              "#1f9e89"
             ],
             [
              0.6666666666666666,
              "#35b779"
             ],
             [
              0.7777777777777778,
              "#6ece58"
             ],
             [
              0.8888888888888888,
              "#b5de2b"
             ],
             [
              1,
              "#fde725"
             ]
            ],
            "type": "histogram2d"
           }
          ],
          "histogram2dcontour": [
           {
            "colorbar": {
             "outlinewidth": 1,
             "tickcolor": "rgb(36,36,36)",
             "ticks": "outside"
            },
            "colorscale": [
             [
              0,
              "#440154"
             ],
             [
              0.1111111111111111,
              "#482878"
             ],
             [
              0.2222222222222222,
              "#3e4989"
             ],
             [
              0.3333333333333333,
              "#31688e"
             ],
             [
              0.4444444444444444,
              "#26828e"
             ],
             [
              0.5555555555555556,
              "#1f9e89"
             ],
             [
              0.6666666666666666,
              "#35b779"
             ],
             [
              0.7777777777777778,
              "#6ece58"
             ],
             [
              0.8888888888888888,
              "#b5de2b"
             ],
             [
              1,
              "#fde725"
             ]
            ],
            "type": "histogram2dcontour"
           }
          ],
          "mesh3d": [
           {
            "colorbar": {
             "outlinewidth": 1,
             "tickcolor": "rgb(36,36,36)",
             "ticks": "outside"
            },
            "type": "mesh3d"
           }
          ],
          "parcoords": [
           {
            "line": {
             "colorbar": {
              "outlinewidth": 1,
              "tickcolor": "rgb(36,36,36)",
              "ticks": "outside"
             }
            },
            "type": "parcoords"
           }
          ],
          "pie": [
           {
            "automargin": true,
            "type": "pie"
           }
          ],
          "scatter": [
           {
            "fillpattern": {
             "fillmode": "overlay",
             "size": 10,
             "solidity": 0.2
            },
            "type": "scatter"
           }
          ],
          "scatter3d": [
           {
            "line": {
             "colorbar": {
              "outlinewidth": 1,
              "tickcolor": "rgb(36,36,36)",
              "ticks": "outside"
             }
            },
            "marker": {
             "colorbar": {
              "outlinewidth": 1,
              "tickcolor": "rgb(36,36,36)",
              "ticks": "outside"
             }
            },
            "type": "scatter3d"
           }
          ],
          "scattercarpet": [
           {
            "marker": {
             "colorbar": {
              "outlinewidth": 1,
              "tickcolor": "rgb(36,36,36)",
              "ticks": "outside"
             }
            },
            "type": "scattercarpet"
           }
          ],
          "scattergeo": [
           {
            "marker": {
             "colorbar": {
              "outlinewidth": 1,
              "tickcolor": "rgb(36,36,36)",
              "ticks": "outside"
             }
            },
            "type": "scattergeo"
           }
          ],
          "scattergl": [
           {
            "marker": {
             "colorbar": {
              "outlinewidth": 1,
              "tickcolor": "rgb(36,36,36)",
              "ticks": "outside"
             }
            },
            "type": "scattergl"
           }
          ],
          "scattermap": [
           {
            "marker": {
             "colorbar": {
              "outlinewidth": 1,
              "tickcolor": "rgb(36,36,36)",
              "ticks": "outside"
             }
            },
            "type": "scattermap"
           }
          ],
          "scattermapbox": [
           {
            "marker": {
             "colorbar": {
              "outlinewidth": 1,
              "tickcolor": "rgb(36,36,36)",
              "ticks": "outside"
             }
            },
            "type": "scattermapbox"
           }
          ],
          "scatterpolar": [
           {
            "marker": {
             "colorbar": {
              "outlinewidth": 1,
              "tickcolor": "rgb(36,36,36)",
              "ticks": "outside"
             }
            },
            "type": "scatterpolar"
           }
          ],
          "scatterpolargl": [
           {
            "marker": {
             "colorbar": {
              "outlinewidth": 1,
              "tickcolor": "rgb(36,36,36)",
              "ticks": "outside"
             }
            },
            "type": "scatterpolargl"
           }
          ],
          "scatterternary": [
           {
            "marker": {
             "colorbar": {
              "outlinewidth": 1,
              "tickcolor": "rgb(36,36,36)",
              "ticks": "outside"
             }
            },
            "type": "scatterternary"
           }
          ],
          "surface": [
           {
            "colorbar": {
             "outlinewidth": 1,
             "tickcolor": "rgb(36,36,36)",
             "ticks": "outside"
            },
            "colorscale": [
             [
              0,
              "#440154"
             ],
             [
              0.1111111111111111,
              "#482878"
             ],
             [
              0.2222222222222222,
              "#3e4989"
             ],
             [
              0.3333333333333333,
              "#31688e"
             ],
             [
              0.4444444444444444,
              "#26828e"
             ],
             [
              0.5555555555555556,
              "#1f9e89"
             ],
             [
              0.6666666666666666,
              "#35b779"
             ],
             [
              0.7777777777777778,
              "#6ece58"
             ],
             [
              0.8888888888888888,
              "#b5de2b"
             ],
             [
              1,
              "#fde725"
             ]
            ],
            "type": "surface"
           }
          ],
          "table": [
           {
            "cells": {
             "fill": {
              "color": "rgb(237,237,237)"
             },
             "line": {
              "color": "white"
             }
            },
            "header": {
             "fill": {
              "color": "rgb(217,217,217)"
             },
             "line": {
              "color": "white"
             }
            },
            "type": "table"
           }
          ]
         },
         "layout": {
          "annotationdefaults": {
           "arrowhead": 0,
           "arrowwidth": 1
          },
          "autosize": true,
          "autotypenumbers": "strict",
          "coloraxis": {
           "colorbar": {
            "outlinewidth": 1,
            "tickcolor": "rgb(36,36,36)",
            "ticks": "outside"
           }
          },
          "colorscale": {
           "diverging": [
            [
             0,
             "rgb(103,0,31)"
            ],
            [
             0.1,
             "rgb(178,24,43)"
            ],
            [
             0.2,
             "rgb(214,96,77)"
            ],
            [
             0.3,
             "rgb(244,165,130)"
            ],
            [
             0.4,
             "rgb(253,219,199)"
            ],
            [
             0.5,
             "rgb(247,247,247)"
            ],
            [
             0.6,
             "rgb(209,229,240)"
            ],
            [
             0.7,
             "rgb(146,197,222)"
            ],
            [
             0.8,
             "rgb(67,147,195)"
            ],
            [
             0.9,
             "rgb(33,102,172)"
            ],
            [
             1,
             "rgb(5,48,97)"
            ]
           ],
           "sequential": [
            [
             0,
             "#440154"
            ],
            [
             0.1111111111111111,
             "#482878"
            ],
            [
             0.2222222222222222,
             "#3e4989"
            ],
            [
             0.3333333333333333,
             "#31688e"
            ],
            [
             0.4444444444444444,
             "#26828e"
            ],
            [
             0.5555555555555556,
             "#1f9e89"
            ],
            [
             0.6666666666666666,
             "#35b779"
            ],
            [
             0.7777777777777778,
             "#6ece58"
            ],
            [
             0.8888888888888888,
             "#b5de2b"
            ],
            [
             1,
             "#fde725"
            ]
           ],
           "sequentialminus": [
            [
             0,
             "#440154"
            ],
            [
             0.1111111111111111,
             "#482878"
            ],
            [
             0.2222222222222222,
             "#3e4989"
            ],
            [
             0.3333333333333333,
             "#31688e"
            ],
            [
             0.4444444444444444,
             "#26828e"
            ],
            [
             0.5555555555555556,
             "#1f9e89"
            ],
            [
             0.6666666666666666,
             "#35b779"
            ],
            [
             0.7777777777777778,
             "#6ece58"
            ],
            [
             0.8888888888888888,
             "#b5de2b"
            ],
            [
             1,
             "#fde725"
            ]
           ]
          },
          "colorway": [
           "#1F77B4",
           "#FF7F0E",
           "#2CA02C",
           "#D62728",
           "#9467BD",
           "#8C564B",
           "#E377C2",
           "#7F7F7F",
           "#BCBD22",
           "#17BECF"
          ],
          "font": {
           "color": "rgb(36,36,36)"
          },
          "geo": {
           "bgcolor": "white",
           "lakecolor": "white",
           "landcolor": "white",
           "showlakes": true,
           "showland": true,
           "subunitcolor": "white"
          },
          "height": 400,
          "hoverlabel": {
           "align": "left"
          },
          "hovermode": "closest",
          "mapbox": {
           "style": "light"
          },
          "margin": {
           "b": 30,
           "l": 30,
           "r": 30,
           "t": 30
          },
          "paper_bgcolor": "white",
          "plot_bgcolor": "white",
          "polar": {
           "angularaxis": {
            "gridcolor": "rgb(232,232,232)",
            "linecolor": "rgb(36,36,36)",
            "showgrid": false,
            "showline": true,
            "ticks": "outside"
           },
           "bgcolor": "white",
           "radialaxis": {
            "gridcolor": "rgb(232,232,232)",
            "linecolor": "rgb(36,36,36)",
            "showgrid": false,
            "showline": true,
            "ticks": "outside"
           }
          },
          "scene": {
           "xaxis": {
            "backgroundcolor": "white",
            "gridcolor": "rgb(232,232,232)",
            "gridwidth": 2,
            "linecolor": "rgb(36,36,36)",
            "showbackground": true,
            "showgrid": false,
            "showline": true,
            "ticks": "outside",
            "zeroline": false,
            "zerolinecolor": "rgb(36,36,36)"
           },
           "yaxis": {
            "backgroundcolor": "white",
            "gridcolor": "rgb(232,232,232)",
            "gridwidth": 2,
            "linecolor": "rgb(36,36,36)",
            "showbackground": true,
            "showgrid": false,
            "showline": true,
            "ticks": "outside",
            "zeroline": false,
            "zerolinecolor": "rgb(36,36,36)"
           },
           "zaxis": {
            "backgroundcolor": "white",
            "gridcolor": "rgb(232,232,232)",
            "gridwidth": 2,
            "linecolor": "rgb(36,36,36)",
            "showbackground": true,
            "showgrid": false,
            "showline": true,
            "ticks": "outside",
            "zeroline": false,
            "zerolinecolor": "rgb(36,36,36)"
           }
          },
          "shapedefaults": {
           "fillcolor": "black",
           "line": {
            "width": 0
           },
           "opacity": 0.3
          },
          "ternary": {
           "aaxis": {
            "gridcolor": "rgb(232,232,232)",
            "linecolor": "rgb(36,36,36)",
            "showgrid": false,
            "showline": true,
            "ticks": "outside"
           },
           "baxis": {
            "gridcolor": "rgb(232,232,232)",
            "linecolor": "rgb(36,36,36)",
            "showgrid": false,
            "showline": true,
            "ticks": "outside"
           },
           "bgcolor": "white",
           "caxis": {
            "gridcolor": "rgb(232,232,232)",
            "linecolor": "rgb(36,36,36)",
            "showgrid": false,
            "showline": true,
            "ticks": "outside"
           }
          },
          "title": {
           "x": 0.5,
           "xanchor": "center"
          },
          "width": 600,
          "xaxis": {
           "automargin": true,
           "gridcolor": "rgb(232,232,232)",
           "linecolor": "rgb(36,36,36)",
           "showgrid": true,
           "showline": true,
           "ticks": "outside",
           "title": {
            "standoff": 15
           },
           "zeroline": false,
           "zerolinecolor": "rgb(36,36,36)"
          },
          "yaxis": {
           "automargin": true,
           "gridcolor": "rgb(232,232,232)",
           "linecolor": "rgb(36,36,36)",
           "showgrid": true,
           "showline": true,
           "ticks": "outside",
           "title": {
            "standoff": 15
           },
           "zeroline": false,
           "zerolinecolor": "rgb(36,36,36)"
          }
         }
        },
        "title": {
         "text": "Distributions of Interest Rates<br>Based on Inclusion of Personal Statement"
        },
        "xaxis": {
         "anchor": "y2",
         "domain": [
          0,
          1
         ],
         "zeroline": false
        },
        "yaxis": {
         "anchor": "free",
         "domain": [
          0,
          1
         ],
         "position": 0
        }
       }
      }
     },
     "metadata": {},
     "output_type": "display_data"
    }
   ],
   "source": [
    "display(loans.assign(has_ps=loans['desc'].notna()).groupby('has_ps')['int_rate'].describe())\n",
    "create_kde_plotly(\n",
    "    loans.assign(has_ps=loans['desc'].notna()),\n",
    "    'has_ps',\n",
    "    True,\n",
    "    False,\n",
    "    'int_rate',\n",
    "    title='Distributions of Interest Rates<br>Based on Inclusion of Personal Statement'\n",
    ")"
   ]
  },
  {
   "cell_type": "markdown",
   "id": "bf8729bc",
   "metadata": {},
   "source": [
    "But remember, `loans` is just a sample from a much larger population of loan applications. Is this observed difference statistically significant? Let's perform a permutation test."
   ]
  },
  {
   "cell_type": "code",
   "execution_count": 47,
   "id": "c61cf4fc",
   "metadata": {
    "tags": []
   },
   "outputs": [
    {
     "data": {
      "text/plain": [
       "0.0228"
      ]
     },
     "execution_count": 47,
     "metadata": {},
     "output_type": "execute_result"
    }
   ],
   "source": [
    "loan['has_ps'] = loan['desc'].notna()\n",
    "mean_with_ps = loan[loan['has_ps']]['int_rate'].mean()\n",
    "mean_without_ps = loan[loan['has_ps'] == False]['int_rate'].mean()\n",
    "\n",
    "#difference in group means\n",
    "test_stat = mean_with_ps - mean_without_ps\n",
    "n=5000\n",
    "permutation_diffs = []\n",
    "shuffled_loans = loan.copy()\n",
    "\n",
    "for i in range(n):\n",
    "    shuffled_loans['has_ps'] = np.random.permutation(shuffled_loans['has_ps'])\n",
    "    perm_ps_mean = shuffled_loans[shuffled_loans['has_ps']]['int_rate'].mean()\n",
    "    perm_no_ps_mean = shuffled_loans[shuffled_loans['has_ps']==False]['int_rate'].mean()\n",
    "    permutation_diff = perm_ps_mean - perm_no_ps_mean\n",
    "    permutation_diffs.append(permutation_diff)\n",
    "\n",
    "p_value = (permutation_diffs >= test_stat).mean()\n",
    "p_value"
   ]
  },
  {
   "cell_type": "markdown",
   "id": "7626b1c7",
   "metadata": {},
   "source": [
    "<a id='part2'></a>\n",
    "\n",
    "## Part 2: Calculating Disposable Incomes 💰\n",
    "\n",
    "([return to the outline](#outline))\n",
    "\n",
    "In Part 1, we focused on understanding how the interest rates LendingClub chose to give to borrowers depended on different aspects of a borrower's application. In Part 2, we'll focus on understanding borrowers' **disposable incomes**, or net incomes:\n",
    "\n",
    "$$\n",
    "\\text{Disposable Income} = \\text{Gross Income} - \\text{Federal Income Tax} - \\text{State Income Tax} \n",
    "$$\n",
    "\n",
    "This is a minor simplification, because [some cities](https://www.stlouis-mo.gov/government/departments/comptroller/initiatives/us-cities-that-levy-earnings-taxes.cfm) also collect city-specific income taxes, but we'll ignore those here. Note that the `'annual_inc'` column in `loans` contains each borrower's gross income – that is, their income before taxes are removed.\n",
    "\n",
    "Understanding a borrower's disposable income enables lenders to evaluate a borrower's ability to meet loan obligations, ensuring that the risk of failing to pay back the loan (or **defaulting**) is minimized. In other words, knowing a borrower's disposable income allows lenders to structure loan payments in a way that aligns with the borrower's cash flow, reducing the likelihood of missed payments.\n",
    "\n",
    "The United States, like many countries, uses a progressive tax bracket system. This means that as your earnings increase, the percentage of your earnings you owe in tax also increases. In addition, the US tax system uses marginal tax brackets – what this means is that US taxpayers pay different tax percentages on different \"chunks\" of their earnings.\n"
   ]
  },
  {
   "cell_type": "code",
   "execution_count": 48,
   "id": "12b84966",
   "metadata": {
    "tags": []
   },
   "outputs": [],
   "source": [
    "def tax_owed(income, brackets):\n",
    "    total = 0.0\n",
    "    previous_limit = 0\n",
    "    \n",
    "    for rate, current_limit in brackets:\n",
    "        # Calculate taxable amount in current bracket\n",
    "        if income <= previous_limit:\n",
    "            break  # No more taxes owed\n",
    "        taxable = min(income, current_limit) - previous_limit\n",
    "        total += taxable * rate\n",
    "        previous_limit = current_limit\n",
    "    \n",
    "    return total\n"
   ]
  },
  {
   "cell_type": "code",
   "execution_count": 49,
   "id": "49887161-aa8b-430d-8e0a-5204a32e9197",
   "metadata": {},
   "outputs": [],
   "source": [
    "def tax_owed(income, brackets):\n",
    "    total = 0.0\n",
    "    for i in range(len(brackets)):\n",
    "        rate, lower = brackets[i]\n",
    "        # Get upper limit (next bracket's lower or infinity)\n",
    "        upper = brackets[i+1][1] if i < len(brackets)-1 else float('inf')\n",
    "        taxable = max(0, min(income, upper) - lower)\n",
    "        total += taxable * rate\n",
    "    return total    "
   ]
  },
  {
   "cell_type": "code",
   "execution_count": 50,
   "id": "cdee2519",
   "metadata": {},
   "outputs": [
    {
     "data": {
      "text/plain": [
       "11807.5"
      ]
     },
     "execution_count": 50,
     "metadata": {},
     "output_type": "execute_result"
    }
   ],
   "source": [
    "example_brackets = [\n",
    " (0.1, 0), \n",
    " (0.12, 11000), \n",
    " (0.22, 44725), \n",
    " (0.24, 95375), \n",
    " (0.32, 182100),\n",
    " (0.35, 231251),\n",
    " (0.37, 578125)]\n",
    "example_owed = tax_owed(75000, example_brackets)\n",
    "example_owed"
   ]
  },
  {
   "cell_type": "markdown",
   "id": "115b7aed",
   "metadata": {},
   "source": [
    "Now that we have a general-purpose function that can take in a gross income and a list of tax brackets and return the tax owed, we want to use this function to compute both the **state** and **federal** taxes each loan applicant owed.\n",
    "\n",
    "To start this process, we'll load in a DataFrame that contains the tax brackets for each state in 2023 ([source](https://taxfoundation.org/data/all/state/state-income-tax-rates-2023/)). Not all of the loan applications were submitted in 2023 – in fact, they were all submitted between 2008 and 2018 – but brackets don't change very much from year to year, so for simplicity we'll use these brackets throughout.\n",
    "\n",
    "Run the cell below to define a DataFrame named `state_taxes_raw` with the relevant information."
   ]
  },
  {
   "cell_type": "code",
   "execution_count": 52,
   "id": "511c63a7",
   "metadata": {},
   "outputs": [
    {
     "data": {
      "text/html": [
       "<div>\n",
       "<style scoped>\n",
       "    .dataframe tbody tr th:only-of-type {\n",
       "        vertical-align: middle;\n",
       "    }\n",
       "\n",
       "    .dataframe tbody tr th {\n",
       "        vertical-align: top;\n",
       "    }\n",
       "\n",
       "    .dataframe thead th {\n",
       "        text-align: right;\n",
       "    }\n",
       "</style>\n",
       "<table border=\"1\" class=\"dataframe\">\n",
       "  <thead>\n",
       "    <tr style=\"text-align: right;\">\n",
       "      <th></th>\n",
       "      <th>State</th>\n",
       "      <th>Rate</th>\n",
       "      <th>Lower Limit</th>\n",
       "    </tr>\n",
       "  </thead>\n",
       "  <tbody>\n",
       "    <tr>\n",
       "      <th>0</th>\n",
       "      <td>Ala.</td>\n",
       "      <td>2.00%</td>\n",
       "      <td>$0</td>\n",
       "    </tr>\n",
       "    <tr>\n",
       "      <th>1</th>\n",
       "      <td>(a, b, c)</td>\n",
       "      <td>4.00%</td>\n",
       "      <td>$500</td>\n",
       "    </tr>\n",
       "    <tr>\n",
       "      <th>2</th>\n",
       "      <td>NaN</td>\n",
       "      <td>5.00%</td>\n",
       "      <td>$3,000</td>\n",
       "    </tr>\n",
       "    <tr>\n",
       "      <th>3</th>\n",
       "      <td>NaN</td>\n",
       "      <td>NaN</td>\n",
       "      <td>NaN</td>\n",
       "    </tr>\n",
       "    <tr>\n",
       "      <th>4</th>\n",
       "      <td>Alaska</td>\n",
       "      <td>none</td>\n",
       "      <td>NaN</td>\n",
       "    </tr>\n",
       "  </tbody>\n",
       "</table>\n",
       "</div>"
      ],
      "text/plain": [
       "       State   Rate Lower Limit\n",
       "0       Ala.  2.00%          $0\n",
       "1  (a, b, c)  4.00%        $500\n",
       "2        NaN  5.00%      $3,000\n",
       "3        NaN    NaN         NaN\n",
       "4     Alaska   none         NaN"
      ]
     },
     "execution_count": 52,
     "metadata": {},
     "output_type": "execute_result"
    }
   ],
   "source": [
    "state_taxes_raw_path = Path('data') / 'state_taxes_raw.csv'\n",
    "state_taxes_raw = pd.read_csv(state_taxes_raw_path)\n",
    "state_taxes_raw.head()"
   ]
  },
  {
   "cell_type": "markdown",
   "id": "a25d02a3",
   "metadata": {},
   "source": [
    "As you can see, the state of the DataFrame is a bit hard to parse. The information we need is in there, but you'll need to clean 🧹 it up so that it's in the right format.\n"
   ]
  },
  {
   "cell_type": "code",
   "execution_count": 53,
   "id": "a518241b-777d-4e5b-bb36-24e4bd82f164",
   "metadata": {},
   "outputs": [],
   "source": [
    "valid_states = [\n",
    "    'Ala.', 'Alaska', 'Ariz.', 'Ark.', 'Calif.', 'Colo.', 'Conn.', 'Del.', \n",
    "    'Fla.', 'Ga.', 'Hawaii', 'Ill.', 'Ind.', 'Iowa', 'Kans.', 'Ky.', 'La.', \n",
    "    'Maine', 'Md.', 'Mass.', 'Mich.', 'Minn.', 'Miss.', 'Mo.', 'Mont.', \n",
    "    'Nebr.', 'Nev.', 'N.H.', 'N.J.', 'N.M.', 'N.Y.', 'N.C.', 'N.D.', 'Ohio', \n",
    "    'Okla.', 'Ore.', 'Pa.', 'R.I.', 'S.C.', 'S.D.', 'Tenn.', 'Tex.', 'Utah', \n",
    "    'Vt.', 'Va.', 'Wash.', 'W.Va.', 'Wis.', 'Wyo.'\n",
    "    ]"
   ]
  },
  {
   "cell_type": "code",
   "execution_count": 54,
   "id": "4cb00020-0ab2-4900-ac3c-d7d0e9121a47",
   "metadata": {},
   "outputs": [
    {
     "data": {
      "text/html": [
       "<div>\n",
       "<style scoped>\n",
       "    .dataframe tbody tr th:only-of-type {\n",
       "        vertical-align: middle;\n",
       "    }\n",
       "\n",
       "    .dataframe tbody tr th {\n",
       "        vertical-align: top;\n",
       "    }\n",
       "\n",
       "    .dataframe thead th {\n",
       "        text-align: right;\n",
       "    }\n",
       "</style>\n",
       "<table border=\"1\" class=\"dataframe\">\n",
       "  <thead>\n",
       "    <tr style=\"text-align: right;\">\n",
       "      <th></th>\n",
       "      <th>State</th>\n",
       "      <th>Rate</th>\n",
       "      <th>Lower Limit</th>\n",
       "    </tr>\n",
       "  </thead>\n",
       "  <tbody>\n",
       "    <tr>\n",
       "      <th>1</th>\n",
       "      <td>(a, b, c)</td>\n",
       "      <td>4.00%</td>\n",
       "      <td>$500</td>\n",
       "    </tr>\n",
       "    <tr>\n",
       "      <th>2</th>\n",
       "      <td>NaN</td>\n",
       "      <td>5.00%</td>\n",
       "      <td>$3,000</td>\n",
       "    </tr>\n",
       "    <tr>\n",
       "      <th>3</th>\n",
       "      <td>NaN</td>\n",
       "      <td>NaN</td>\n",
       "      <td>NaN</td>\n",
       "    </tr>\n",
       "    <tr>\n",
       "      <th>5</th>\n",
       "      <td>NaN</td>\n",
       "      <td>NaN</td>\n",
       "      <td>NaN</td>\n",
       "    </tr>\n",
       "    <tr>\n",
       "      <th>7</th>\n",
       "      <td>NaN</td>\n",
       "      <td>NaN</td>\n",
       "      <td>NaN</td>\n",
       "    </tr>\n",
       "    <tr>\n",
       "      <th>...</th>\n",
       "      <td>...</td>\n",
       "      <td>...</td>\n",
       "      <td>...</td>\n",
       "    </tr>\n",
       "    <tr>\n",
       "      <th>234</th>\n",
       "      <td>NaN</td>\n",
       "      <td>6.50%</td>\n",
       "      <td>$40,000</td>\n",
       "    </tr>\n",
       "    <tr>\n",
       "      <th>235</th>\n",
       "      <td>NaN</td>\n",
       "      <td>8.50%</td>\n",
       "      <td>$60,000</td>\n",
       "    </tr>\n",
       "    <tr>\n",
       "      <th>236</th>\n",
       "      <td>NaN</td>\n",
       "      <td>9.25%</td>\n",
       "      <td>$250,000</td>\n",
       "    </tr>\n",
       "    <tr>\n",
       "      <th>237</th>\n",
       "      <td>NaN</td>\n",
       "      <td>9.75%</td>\n",
       "      <td>$500,000</td>\n",
       "    </tr>\n",
       "    <tr>\n",
       "      <th>238</th>\n",
       "      <td>NaN</td>\n",
       "      <td>10.75%</td>\n",
       "      <td>$1,000,000</td>\n",
       "    </tr>\n",
       "  </tbody>\n",
       "</table>\n",
       "<p>190 rows × 3 columns</p>\n",
       "</div>"
      ],
      "text/plain": [
       "         State    Rate Lower Limit\n",
       "1    (a, b, c)   4.00%        $500\n",
       "2          NaN   5.00%      $3,000\n",
       "3          NaN     NaN         NaN\n",
       "5          NaN     NaN         NaN\n",
       "7          NaN     NaN         NaN\n",
       "..         ...     ...         ...\n",
       "234        NaN   6.50%     $40,000\n",
       "235        NaN   8.50%     $60,000\n",
       "236        NaN   9.25%    $250,000\n",
       "237        NaN   9.75%    $500,000\n",
       "238        NaN  10.75%  $1,000,000\n",
       "\n",
       "[190 rows x 3 columns]"
      ]
     },
     "execution_count": 54,
     "metadata": {},
     "output_type": "execute_result"
    }
   ],
   "source": [
    "state_taxes_raw[~state_taxes_raw['State'].isin(valid_states)]"
   ]
  },
  {
   "cell_type": "code",
   "execution_count": 55,
   "id": "18ea4234",
   "metadata": {
    "tags": []
   },
   "outputs": [
    {
     "data": {
      "text/html": [
       "<div>\n",
       "<style scoped>\n",
       "    .dataframe tbody tr th:only-of-type {\n",
       "        vertical-align: middle;\n",
       "    }\n",
       "\n",
       "    .dataframe tbody tr th {\n",
       "        vertical-align: top;\n",
       "    }\n",
       "\n",
       "    .dataframe thead th {\n",
       "        text-align: right;\n",
       "    }\n",
       "</style>\n",
       "<table border=\"1\" class=\"dataframe\">\n",
       "  <thead>\n",
       "    <tr style=\"text-align: right;\">\n",
       "      <th></th>\n",
       "      <th>State</th>\n",
       "      <th>Rate</th>\n",
       "      <th>Lower Limit</th>\n",
       "    </tr>\n",
       "  </thead>\n",
       "  <tbody>\n",
       "    <tr>\n",
       "      <th>0</th>\n",
       "      <td>Ala.</td>\n",
       "      <td>2.00%</td>\n",
       "      <td>$0</td>\n",
       "    </tr>\n",
       "    <tr>\n",
       "      <th>1</th>\n",
       "      <td>Ala.</td>\n",
       "      <td>4.00%</td>\n",
       "      <td>$500</td>\n",
       "    </tr>\n",
       "    <tr>\n",
       "      <th>2</th>\n",
       "      <td>Ala.</td>\n",
       "      <td>5.00%</td>\n",
       "      <td>$3,000</td>\n",
       "    </tr>\n",
       "    <tr>\n",
       "      <th>3</th>\n",
       "      <td>Ala.</td>\n",
       "      <td>NaN</td>\n",
       "      <td>NaN</td>\n",
       "    </tr>\n",
       "    <tr>\n",
       "      <th>4</th>\n",
       "      <td>Alaska</td>\n",
       "      <td>none</td>\n",
       "      <td>NaN</td>\n",
       "    </tr>\n",
       "    <tr>\n",
       "      <th>...</th>\n",
       "      <td>...</td>\n",
       "      <td>...</td>\n",
       "      <td>...</td>\n",
       "    </tr>\n",
       "    <tr>\n",
       "      <th>234</th>\n",
       "      <td>Wyo.</td>\n",
       "      <td>6.50%</td>\n",
       "      <td>$40,000</td>\n",
       "    </tr>\n",
       "    <tr>\n",
       "      <th>235</th>\n",
       "      <td>Wyo.</td>\n",
       "      <td>8.50%</td>\n",
       "      <td>$60,000</td>\n",
       "    </tr>\n",
       "    <tr>\n",
       "      <th>236</th>\n",
       "      <td>Wyo.</td>\n",
       "      <td>9.25%</td>\n",
       "      <td>$250,000</td>\n",
       "    </tr>\n",
       "    <tr>\n",
       "      <th>237</th>\n",
       "      <td>Wyo.</td>\n",
       "      <td>9.75%</td>\n",
       "      <td>$500,000</td>\n",
       "    </tr>\n",
       "    <tr>\n",
       "      <th>238</th>\n",
       "      <td>Wyo.</td>\n",
       "      <td>10.75%</td>\n",
       "      <td>$1,000,000</td>\n",
       "    </tr>\n",
       "  </tbody>\n",
       "</table>\n",
       "<p>239 rows × 3 columns</p>\n",
       "</div>"
      ],
      "text/plain": [
       "      State    Rate Lower Limit\n",
       "0      Ala.   2.00%          $0\n",
       "1      Ala.   4.00%        $500\n",
       "2      Ala.   5.00%      $3,000\n",
       "3      Ala.     NaN         NaN\n",
       "4    Alaska    none         NaN\n",
       "..      ...     ...         ...\n",
       "234    Wyo.   6.50%     $40,000\n",
       "235    Wyo.   8.50%     $60,000\n",
       "236    Wyo.   9.25%    $250,000\n",
       "237    Wyo.   9.75%    $500,000\n",
       "238    Wyo.  10.75%  $1,000,000\n",
       "\n",
       "[239 rows x 3 columns]"
      ]
     },
     "execution_count": 55,
     "metadata": {},
     "output_type": "execute_result"
    }
   ],
   "source": [
    "taxes = state_taxes_raw.copy()\n",
    "taxes['State'] = taxes['State'].where(taxes['State'].isin(valid_states), np.nan).ffill()\n",
    "taxes"
   ]
  },
  {
   "cell_type": "code",
   "execution_count": 56,
   "id": "dcf09b0d-e021-4eb0-a469-eae623e843be",
   "metadata": {},
   "outputs": [
    {
     "data": {
      "text/plain": [
       "0      0.02\n",
       "1      0.04\n",
       "2      0.05\n",
       "3      0.00\n",
       "4      0.00\n",
       "       ... \n",
       "234    0.06\n",
       "235    0.08\n",
       "236    0.09\n",
       "237    0.10\n",
       "238    0.11\n",
       "Name: Rate, Length: 239, dtype: float64"
      ]
     },
     "execution_count": 56,
     "metadata": {},
     "output_type": "execute_result"
    }
   ],
   "source": [
    "taxes['Rate'] = taxes['Rate'].replace('none', np.nan)\n",
    "\n",
    "# Step 2: Remove '%' and convert to float\n",
    "taxes['Rate'] = taxes['Rate'].str.replace('%', '').astype(float) / 100\n",
    "\n",
    "# Step 3: Round to two decimal places\n",
    "taxes['Rate'] = taxes['Rate'].round(2).fillna(0)\n",
    "\n",
    "taxes['Rate']"
   ]
  },
  {
   "cell_type": "code",
   "execution_count": 57,
   "id": "d75ab1aa-de14-461d-b997-8a3a9f5c44e3",
   "metadata": {},
   "outputs": [
    {
     "data": {
      "text/plain": [
       "0            0\n",
       "1          500\n",
       "2         3000\n",
       "3            0\n",
       "4            0\n",
       "        ...   \n",
       "234      40000\n",
       "235      60000\n",
       "236     250000\n",
       "237     500000\n",
       "238    1000000\n",
       "Name: Lower Limit, Length: 239, dtype: int64"
      ]
     },
     "execution_count": 57,
     "metadata": {},
     "output_type": "execute_result"
    }
   ],
   "source": [
    "taxes['Lower Limit'].str.replace('$','').str.replace(',','').fillna(0).astype(int)"
   ]
  },
  {
   "cell_type": "code",
   "execution_count": 58,
   "id": "057e10f6-c9dc-4a70-9d1b-962583f38c1c",
   "metadata": {},
   "outputs": [],
   "source": [
    "def clean_state_taxes(state_taxes_raw): \n",
    "\n",
    "    taxes = state_taxes_raw.copy()\n",
    "\n",
    "    def drop_empty_rows(df: pd.DataFrame):\n",
    "        return df[df.isna().all(axis = 1) == False]\n",
    "\n",
    "    def state_cleaned(df: pd.DataFrame):\n",
    "        df['State'] = df['State'].astype(str).apply(lambda x: np.nan if '(' in x or 'nan' in x else x).fillna(method = 'ffill')\n",
    "        return df\n",
    "\n",
    "    def rate_cleaned(df: pd.DataFrame):\n",
    "\n",
    "        df['Rate'] = df['Rate'].replace('none', np.nan).str.replace('%', '').fillna(0.0)\n",
    "\n",
    "        df['Rate'] = df['Rate'].astype(float) / 100\n",
    "\n",
    "        df['Rate'] = df['Rate'].round(2)\n",
    "\n",
    "        return df\n",
    "\n",
    "    def lower_limit_cleaned(df: pd.DataFrame):\n",
    "\n",
    "        df['Lower Limit'] = df['Lower Limit'].apply(\n",
    "            lambda x: int(x.replace('$', '').replace(',','')) if pd.notna(x) else 0)\n",
    "        return df\n",
    "\n",
    "    return taxes.pipe(drop_empty_rows\n",
    "            ).pipe(state_cleaned\n",
    "            ).pipe(rate_cleaned\n",
    "            ).pipe(lower_limit_cleaned)"
   ]
  },
  {
   "cell_type": "markdown",
   "id": "d43a4c7a",
   "metadata": {},
   "source": [
    "Run the cell below to call `clean_state_taxes` on `state_taxes_raw` to produce a new DataFrame, `state_taxes`. Make sure to run this cell before moving forward, otherwise the tests won't work correctly."
   ]
  },
  {
   "cell_type": "code",
   "execution_count": 59,
   "id": "0d05760f-3fb7-4886-8454-d5fa72e22cff",
   "metadata": {},
   "outputs": [
    {
     "data": {
      "text/html": [
       "<div>\n",
       "<style scoped>\n",
       "    .dataframe tbody tr th:only-of-type {\n",
       "        vertical-align: middle;\n",
       "    }\n",
       "\n",
       "    .dataframe tbody tr th {\n",
       "        vertical-align: top;\n",
       "    }\n",
       "\n",
       "    .dataframe thead th {\n",
       "        text-align: right;\n",
       "    }\n",
       "</style>\n",
       "<table border=\"1\" class=\"dataframe\">\n",
       "  <thead>\n",
       "    <tr style=\"text-align: right;\">\n",
       "      <th></th>\n",
       "      <th>State</th>\n",
       "      <th>Rate</th>\n",
       "      <th>Lower Limit</th>\n",
       "    </tr>\n",
       "  </thead>\n",
       "  <tbody>\n",
       "    <tr>\n",
       "      <th>0</th>\n",
       "      <td>Ala.</td>\n",
       "      <td>2.00%</td>\n",
       "      <td>$0</td>\n",
       "    </tr>\n",
       "    <tr>\n",
       "      <th>1</th>\n",
       "      <td>(a, b, c)</td>\n",
       "      <td>4.00%</td>\n",
       "      <td>$500</td>\n",
       "    </tr>\n",
       "    <tr>\n",
       "      <th>2</th>\n",
       "      <td>NaN</td>\n",
       "      <td>5.00%</td>\n",
       "      <td>$3,000</td>\n",
       "    </tr>\n",
       "    <tr>\n",
       "      <th>3</th>\n",
       "      <td>NaN</td>\n",
       "      <td>NaN</td>\n",
       "      <td>NaN</td>\n",
       "    </tr>\n",
       "    <tr>\n",
       "      <th>4</th>\n",
       "      <td>Alaska</td>\n",
       "      <td>none</td>\n",
       "      <td>NaN</td>\n",
       "    </tr>\n",
       "    <tr>\n",
       "      <th>...</th>\n",
       "      <td>...</td>\n",
       "      <td>...</td>\n",
       "      <td>...</td>\n",
       "    </tr>\n",
       "    <tr>\n",
       "      <th>234</th>\n",
       "      <td>NaN</td>\n",
       "      <td>6.50%</td>\n",
       "      <td>$40,000</td>\n",
       "    </tr>\n",
       "    <tr>\n",
       "      <th>235</th>\n",
       "      <td>NaN</td>\n",
       "      <td>8.50%</td>\n",
       "      <td>$60,000</td>\n",
       "    </tr>\n",
       "    <tr>\n",
       "      <th>236</th>\n",
       "      <td>NaN</td>\n",
       "      <td>9.25%</td>\n",
       "      <td>$250,000</td>\n",
       "    </tr>\n",
       "    <tr>\n",
       "      <th>237</th>\n",
       "      <td>NaN</td>\n",
       "      <td>9.75%</td>\n",
       "      <td>$500,000</td>\n",
       "    </tr>\n",
       "    <tr>\n",
       "      <th>238</th>\n",
       "      <td>NaN</td>\n",
       "      <td>10.75%</td>\n",
       "      <td>$1,000,000</td>\n",
       "    </tr>\n",
       "  </tbody>\n",
       "</table>\n",
       "<p>239 rows × 3 columns</p>\n",
       "</div>"
      ],
      "text/plain": [
       "         State    Rate Lower Limit\n",
       "0         Ala.   2.00%          $0\n",
       "1    (a, b, c)   4.00%        $500\n",
       "2          NaN   5.00%      $3,000\n",
       "3          NaN     NaN         NaN\n",
       "4       Alaska    none         NaN\n",
       "..         ...     ...         ...\n",
       "234        NaN   6.50%     $40,000\n",
       "235        NaN   8.50%     $60,000\n",
       "236        NaN   9.25%    $250,000\n",
       "237        NaN   9.75%    $500,000\n",
       "238        NaN  10.75%  $1,000,000\n",
       "\n",
       "[239 rows x 3 columns]"
      ]
     },
     "execution_count": 59,
     "metadata": {},
     "output_type": "execute_result"
    }
   ],
   "source": [
    "state_taxes_raw "
   ]
  },
  {
   "cell_type": "code",
   "execution_count": 60,
   "id": "d9c3ed7f",
   "metadata": {},
   "outputs": [
    {
     "data": {
      "text/html": [
       "<div>\n",
       "<style scoped>\n",
       "    .dataframe tbody tr th:only-of-type {\n",
       "        vertical-align: middle;\n",
       "    }\n",
       "\n",
       "    .dataframe tbody tr th {\n",
       "        vertical-align: top;\n",
       "    }\n",
       "\n",
       "    .dataframe thead th {\n",
       "        text-align: right;\n",
       "    }\n",
       "</style>\n",
       "<table border=\"1\" class=\"dataframe\">\n",
       "  <thead>\n",
       "    <tr style=\"text-align: right;\">\n",
       "      <th></th>\n",
       "      <th>State</th>\n",
       "      <th>Rate</th>\n",
       "      <th>Lower Limit</th>\n",
       "    </tr>\n",
       "  </thead>\n",
       "  <tbody>\n",
       "    <tr>\n",
       "      <th>0</th>\n",
       "      <td>Ala.</td>\n",
       "      <td>0.02</td>\n",
       "      <td>0</td>\n",
       "    </tr>\n",
       "    <tr>\n",
       "      <th>1</th>\n",
       "      <td>Ala.</td>\n",
       "      <td>0.04</td>\n",
       "      <td>500</td>\n",
       "    </tr>\n",
       "    <tr>\n",
       "      <th>2</th>\n",
       "      <td>Ala.</td>\n",
       "      <td>0.05</td>\n",
       "      <td>3000</td>\n",
       "    </tr>\n",
       "    <tr>\n",
       "      <th>4</th>\n",
       "      <td>Alaska</td>\n",
       "      <td>0.00</td>\n",
       "      <td>0</td>\n",
       "    </tr>\n",
       "    <tr>\n",
       "      <th>6</th>\n",
       "      <td>Ariz.</td>\n",
       "      <td>0.02</td>\n",
       "      <td>0</td>\n",
       "    </tr>\n",
       "  </tbody>\n",
       "</table>\n",
       "</div>"
      ],
      "text/plain": [
       "    State  Rate  Lower Limit\n",
       "0    Ala.  0.02            0\n",
       "1    Ala.  0.04          500\n",
       "2    Ala.  0.05         3000\n",
       "4  Alaska  0.00            0\n",
       "6   Ariz.  0.02            0"
      ]
     },
     "execution_count": 60,
     "metadata": {},
     "output_type": "execute_result"
    }
   ],
   "source": [
    "state_taxes_raw = pd.read_csv(state_taxes_raw_path)\n",
    "state_taxes = clean_state_taxes(state_taxes_raw)\n",
    "state_taxes.head()"
   ]
  },
  {
   "cell_type": "markdown",
   "id": "0f6adfc5",
   "metadata": {},
   "source": [
    "Moving forward, remember to refer to `state_taxes`, **not** `state_taxes_raw`."
   ]
  },
  {
   "cell_type": "code",
   "execution_count": 62,
   "id": "c19097d2",
   "metadata": {
    "tags": []
   },
   "outputs": [],
   "source": [
    "def combine_loans_and_state_taxes(loans, state_taxes):\n",
    "    import json\n",
    "    from pathlib import Path\n",
    "\n",
    "    # Load the state mapping JSON file\n",
    "    state_mapping_path = Path('data') / 'state_mapping.json'\n",
    "    with open(state_mapping_path, 'r') as f:\n",
    "        state_mapping = json.load(f)\n",
    "\n",
    "    # Map state names to abbreviations\n",
    "    state_taxes['State'] = state_taxes['State'].map(state_mapping)\n",
    "\n",
    "    # Create state tax brackets DataFrame\n",
    "    state_tax_brackets = state_brackets(state_taxes)\n",
    "\n",
    "    # Merge loans with state tax brackets\n",
    "    loans_taxes = loans.rename(columns={'addr_state': 'State'}).merge(\n",
    "        state_tax_brackets, on='State', how='left'\n",
    "    )\n",
    "\n",
    "    # Replace missing or invalid bracket_list values with an empty list\n",
    "    loans_taxes['bracket_list'] = loans_taxes['bracket_list'].apply(\n",
    "        lambda x: x if isinstance(x, list) else []\n",
    "    )\n",
    "\n",
    "    return loans_taxes"
   ]
  },
  {
   "cell_type": "markdown",
   "id": "a8239217",
   "metadata": {},
   "source": [
    "Run the cell below to call `combine_loans_and_state_taxes` on `loans` and `state_taxes` to produce a new DataFrame, `loans_with_state_taxes`. Make sure to run this cell before moving forward, otherwise the tests won't work correctly."
   ]
  },
  {
   "cell_type": "code",
   "execution_count": 63,
   "id": "cb98bde9",
   "metadata": {},
   "outputs": [
    {
     "data": {
      "text/html": [
       "<div>\n",
       "<style scoped>\n",
       "    .dataframe tbody tr th:only-of-type {\n",
       "        vertical-align: middle;\n",
       "    }\n",
       "\n",
       "    .dataframe tbody tr th {\n",
       "        vertical-align: top;\n",
       "    }\n",
       "\n",
       "    .dataframe thead th {\n",
       "        text-align: right;\n",
       "    }\n",
       "</style>\n",
       "<table border=\"1\" class=\"dataframe\">\n",
       "  <thead>\n",
       "    <tr style=\"text-align: right;\">\n",
       "      <th></th>\n",
       "      <th>id</th>\n",
       "      <th>loan_amnt</th>\n",
       "      <th>issue_d</th>\n",
       "      <th>term</th>\n",
       "      <th>int_rate</th>\n",
       "      <th>grade</th>\n",
       "      <th>sub_grade</th>\n",
       "      <th>emp_title</th>\n",
       "      <th>verification_status</th>\n",
       "      <th>home_ownership</th>\n",
       "      <th>...</th>\n",
       "      <th>purpose</th>\n",
       "      <th>desc</th>\n",
       "      <th>State</th>\n",
       "      <th>dti</th>\n",
       "      <th>fico_range_low</th>\n",
       "      <th>fico_range_high</th>\n",
       "      <th>hardship_flag</th>\n",
       "      <th>mths_since_last_delinq</th>\n",
       "      <th>term_end</th>\n",
       "      <th>bracket_list</th>\n",
       "    </tr>\n",
       "  </thead>\n",
       "  <tbody>\n",
       "    <tr>\n",
       "      <th>0</th>\n",
       "      <td>17965023</td>\n",
       "      <td>18000.0</td>\n",
       "      <td>2014-06-01</td>\n",
       "      <td>60</td>\n",
       "      <td>16.99</td>\n",
       "      <td>D</td>\n",
       "      <td>D3</td>\n",
       "      <td>sales</td>\n",
       "      <td>Source Verified</td>\n",
       "      <td>RENT</td>\n",
       "      <td>...</td>\n",
       "      <td>debt_consolidation</td>\n",
       "      <td>NaN</td>\n",
       "      <td>MN</td>\n",
       "      <td>23.22</td>\n",
       "      <td>700.0</td>\n",
       "      <td>704.0</td>\n",
       "      <td>N</td>\n",
       "      <td>72.0</td>\n",
       "      <td>2019-06-01</td>\n",
       "      <td>[(0.05, 0), (0.07, 30070), (0.08, 98760), (0.1...</td>\n",
       "    </tr>\n",
       "    <tr>\n",
       "      <th>1</th>\n",
       "      <td>111414087</td>\n",
       "      <td>10000.0</td>\n",
       "      <td>2017-06-01</td>\n",
       "      <td>36</td>\n",
       "      <td>16.02</td>\n",
       "      <td>C</td>\n",
       "      <td>C5</td>\n",
       "      <td>mechanic</td>\n",
       "      <td>Source Verified</td>\n",
       "      <td>OWN</td>\n",
       "      <td>...</td>\n",
       "      <td>home_improvement</td>\n",
       "      <td>NaN</td>\n",
       "      <td>IL</td>\n",
       "      <td>6.14</td>\n",
       "      <td>680.0</td>\n",
       "      <td>684.0</td>\n",
       "      <td>N</td>\n",
       "      <td>6.0</td>\n",
       "      <td>2020-06-01</td>\n",
       "      <td>[(0.05, 0)]</td>\n",
       "    </tr>\n",
       "    <tr>\n",
       "      <th>2</th>\n",
       "      <td>95219557</td>\n",
       "      <td>12800.0</td>\n",
       "      <td>2016-12-01</td>\n",
       "      <td>36</td>\n",
       "      <td>7.99</td>\n",
       "      <td>A</td>\n",
       "      <td>A5</td>\n",
       "      <td>general manager</td>\n",
       "      <td>Not Verified</td>\n",
       "      <td>MORTGAGE</td>\n",
       "      <td>...</td>\n",
       "      <td>debt_consolidation</td>\n",
       "      <td>NaN</td>\n",
       "      <td>MO</td>\n",
       "      <td>12.89</td>\n",
       "      <td>705.0</td>\n",
       "      <td>709.0</td>\n",
       "      <td>N</td>\n",
       "      <td>66.0</td>\n",
       "      <td>2019-12-01</td>\n",
       "      <td>[(0.02, 1121), (0.02, 2242), (0.03, 3363), (0....</td>\n",
       "    </tr>\n",
       "    <tr>\n",
       "      <th>3</th>\n",
       "      <td>142831837</td>\n",
       "      <td>16000.0</td>\n",
       "      <td>2018-10-01</td>\n",
       "      <td>60</td>\n",
       "      <td>23.40</td>\n",
       "      <td>E</td>\n",
       "      <td>E1</td>\n",
       "      <td>nurse</td>\n",
       "      <td>Source Verified</td>\n",
       "      <td>MORTGAGE</td>\n",
       "      <td>...</td>\n",
       "      <td>home_improvement</td>\n",
       "      <td>NaN</td>\n",
       "      <td>FL</td>\n",
       "      <td>5.66</td>\n",
       "      <td>670.0</td>\n",
       "      <td>674.0</td>\n",
       "      <td>N</td>\n",
       "      <td>NaN</td>\n",
       "      <td>2023-10-01</td>\n",
       "      <td>[(0.0, 0)]</td>\n",
       "    </tr>\n",
       "    <tr>\n",
       "      <th>4</th>\n",
       "      <td>140113255</td>\n",
       "      <td>40000.0</td>\n",
       "      <td>2018-09-01</td>\n",
       "      <td>60</td>\n",
       "      <td>7.84</td>\n",
       "      <td>A</td>\n",
       "      <td>A4</td>\n",
       "      <td>staff pharmacist</td>\n",
       "      <td>Verified</td>\n",
       "      <td>MORTGAGE</td>\n",
       "      <td>...</td>\n",
       "      <td>debt_consolidation</td>\n",
       "      <td>NaN</td>\n",
       "      <td>MN</td>\n",
       "      <td>12.24</td>\n",
       "      <td>735.0</td>\n",
       "      <td>739.0</td>\n",
       "      <td>N</td>\n",
       "      <td>NaN</td>\n",
       "      <td>2023-09-01</td>\n",
       "      <td>[(0.05, 0), (0.07, 30070), (0.08, 98760), (0.1...</td>\n",
       "    </tr>\n",
       "  </tbody>\n",
       "</table>\n",
       "<p>5 rows × 22 columns</p>\n",
       "</div>"
      ],
      "text/plain": [
       "          id  loan_amnt    issue_d  term  int_rate grade sub_grade  \\\n",
       "0   17965023    18000.0 2014-06-01    60     16.99     D        D3   \n",
       "1  111414087    10000.0 2017-06-01    36     16.02     C        C5   \n",
       "2   95219557    12800.0 2016-12-01    36      7.99     A        A5   \n",
       "3  142831837    16000.0 2018-10-01    60     23.40     E        E1   \n",
       "4  140113255    40000.0 2018-09-01    60      7.84     A        A4   \n",
       "\n",
       "          emp_title verification_status home_ownership  ...  \\\n",
       "0             sales     Source Verified           RENT  ...   \n",
       "1          mechanic     Source Verified            OWN  ...   \n",
       "2   general manager        Not Verified       MORTGAGE  ...   \n",
       "3             nurse     Source Verified       MORTGAGE  ...   \n",
       "4  staff pharmacist            Verified       MORTGAGE  ...   \n",
       "\n",
       "              purpose desc State    dti fico_range_low  fico_range_high  \\\n",
       "0  debt_consolidation  NaN    MN  23.22          700.0            704.0   \n",
       "1    home_improvement  NaN    IL   6.14          680.0            684.0   \n",
       "2  debt_consolidation  NaN    MO  12.89          705.0            709.0   \n",
       "3    home_improvement  NaN    FL   5.66          670.0            674.0   \n",
       "4  debt_consolidation  NaN    MN  12.24          735.0            739.0   \n",
       "\n",
       "   hardship_flag  mths_since_last_delinq   term_end  \\\n",
       "0              N                    72.0 2019-06-01   \n",
       "1              N                     6.0 2020-06-01   \n",
       "2              N                    66.0 2019-12-01   \n",
       "3              N                     NaN 2023-10-01   \n",
       "4              N                     NaN 2023-09-01   \n",
       "\n",
       "                                        bracket_list  \n",
       "0  [(0.05, 0), (0.07, 30070), (0.08, 98760), (0.1...  \n",
       "1                                        [(0.05, 0)]  \n",
       "2  [(0.02, 1121), (0.02, 2242), (0.03, 3363), (0....  \n",
       "3                                         [(0.0, 0)]  \n",
       "4  [(0.05, 0), (0.07, 30070), (0.08, 98760), (0.1...  \n",
       "\n",
       "[5 rows x 22 columns]"
      ]
     },
     "execution_count": 63,
     "metadata": {},
     "output_type": "execute_result"
    }
   ],
   "source": [
    "loans = clean_loans(pd.read_csv(loans_path))\n",
    "state_taxes = clean_state_taxes(pd.read_csv(state_taxes_raw_path))\n",
    "loans_with_state_taxes = combine_loans_and_state_taxes(loans, state_taxes)\n",
    "loans_with_state_taxes.head()"
   ]
  },
  {
   "cell_type": "code",
   "execution_count": 65,
   "id": "084c9c1e",
   "metadata": {
    "tags": []
   },
   "outputs": [],
   "source": [
    "def find_disposable_income(loans_with_state_taxes):\n",
    "\n",
    "    FEDERAL_BRACKETS = [\n",
    "        (0.1, 0), \n",
    "        (0.12, 11000), \n",
    "        (0.22, 44725), \n",
    "        (0.24, 95375), \n",
    "        (0.32, 182100),\n",
    "        (0.35, 231251),\n",
    "        (0.37, 578125)\n",
    "    ]\n",
    "\n",
    "    df = loans_with_state_taxes.copy()\n",
    "\n",
    "    # Calculate federal tax owed\n",
    "    df['federal_tax_owed'] = df['annual_inc'].apply(lambda inc: tax_owed(inc, FEDERAL_BRACKETS))\n",
    "\n",
    "    # Calculate state tax owed using the corresponding state's tax brackets\n",
    "    df['state_tax_owed'] = df.apply(lambda row: tax_owed(row['annual_inc'], row['bracket_list']), axis=1)\n",
    "\n",
    "    # Calculate disposable income\n",
    "    df['disposable_income'] = df['annual_inc'] - df['federal_tax_owed'] - df['state_tax_owed']\n",
    "\n",
    "    return df"
   ]
  },
  {
   "cell_type": "code",
   "execution_count": 66,
   "id": "40616ca6",
   "metadata": {
    "tags": []
   },
   "outputs": [
    {
     "data": {
      "text/plain": [
       "0       [(0.05, 0), (0.07, 30070), (0.08, 98760), (0.1...\n",
       "1                                             [(0.05, 0)]\n",
       "2       [(0.02, 1121), (0.02, 2242), (0.03, 3363), (0....\n",
       "3                                              [(0.0, 0)]\n",
       "4       [(0.05, 0), (0.07, 30070), (0.08, 98760), (0.1...\n",
       "                              ...                        \n",
       "6295    [(0.01, 0), (0.02, 10099), (0.04, 23942), (0.0...\n",
       "6296    [(0.01, 0), (0.02, 10099), (0.04, 23942), (0.0...\n",
       "6297    [(0.04, 0), (0.04, 8500), (0.05, 11700), (0.06...\n",
       "6298    [(0.01, 0), (0.02, 10099), (0.04, 23942), (0.0...\n",
       "6299                                           [(0.0, 0)]\n",
       "Name: bracket_list, Length: 6300, dtype: object"
      ]
     },
     "execution_count": 66,
     "metadata": {},
     "output_type": "execute_result"
    }
   ],
   "source": [
    "loans_with_state_taxes['bracket_list']"
   ]
  },
  {
   "cell_type": "code",
   "execution_count": 67,
   "id": "7d876319",
   "metadata": {},
   "outputs": [
    {
     "data": {
      "text/html": [
       "<div>\n",
       "<style scoped>\n",
       "    .dataframe tbody tr th:only-of-type {\n",
       "        vertical-align: middle;\n",
       "    }\n",
       "\n",
       "    .dataframe tbody tr th {\n",
       "        vertical-align: top;\n",
       "    }\n",
       "\n",
       "    .dataframe thead th {\n",
       "        text-align: right;\n",
       "    }\n",
       "</style>\n",
       "<table border=\"1\" class=\"dataframe\">\n",
       "  <thead>\n",
       "    <tr style=\"text-align: right;\">\n",
       "      <th></th>\n",
       "      <th>id</th>\n",
       "      <th>loan_amnt</th>\n",
       "      <th>issue_d</th>\n",
       "      <th>term</th>\n",
       "      <th>int_rate</th>\n",
       "      <th>grade</th>\n",
       "      <th>sub_grade</th>\n",
       "      <th>emp_title</th>\n",
       "      <th>verification_status</th>\n",
       "      <th>home_ownership</th>\n",
       "      <th>...</th>\n",
       "      <th>dti</th>\n",
       "      <th>fico_range_low</th>\n",
       "      <th>fico_range_high</th>\n",
       "      <th>hardship_flag</th>\n",
       "      <th>mths_since_last_delinq</th>\n",
       "      <th>term_end</th>\n",
       "      <th>bracket_list</th>\n",
       "      <th>federal_tax_owed</th>\n",
       "      <th>state_tax_owed</th>\n",
       "      <th>disposable_income</th>\n",
       "    </tr>\n",
       "  </thead>\n",
       "  <tbody>\n",
       "    <tr>\n",
       "      <th>0</th>\n",
       "      <td>17965023</td>\n",
       "      <td>18000.0</td>\n",
       "      <td>2014-06-01</td>\n",
       "      <td>60</td>\n",
       "      <td>16.99</td>\n",
       "      <td>D</td>\n",
       "      <td>D3</td>\n",
       "      <td>sales</td>\n",
       "      <td>Source Verified</td>\n",
       "      <td>RENT</td>\n",
       "      <td>...</td>\n",
       "      <td>23.22</td>\n",
       "      <td>700.0</td>\n",
       "      <td>704.0</td>\n",
       "      <td>N</td>\n",
       "      <td>72.0</td>\n",
       "      <td>2019-06-01</td>\n",
       "      <td>[(0.05, 0), (0.07, 30070), (0.08, 98760), (0.1...</td>\n",
       "      <td>8507.5</td>\n",
       "      <td>3598.60</td>\n",
       "      <td>47893.90</td>\n",
       "    </tr>\n",
       "    <tr>\n",
       "      <th>1</th>\n",
       "      <td>111414087</td>\n",
       "      <td>10000.0</td>\n",
       "      <td>2017-06-01</td>\n",
       "      <td>36</td>\n",
       "      <td>16.02</td>\n",
       "      <td>C</td>\n",
       "      <td>C5</td>\n",
       "      <td>mechanic</td>\n",
       "      <td>Source Verified</td>\n",
       "      <td>OWN</td>\n",
       "      <td>...</td>\n",
       "      <td>6.14</td>\n",
       "      <td>680.0</td>\n",
       "      <td>684.0</td>\n",
       "      <td>N</td>\n",
       "      <td>6.0</td>\n",
       "      <td>2020-06-01</td>\n",
       "      <td>[(0.05, 0)]</td>\n",
       "      <td>6307.5</td>\n",
       "      <td>2500.00</td>\n",
       "      <td>41192.50</td>\n",
       "    </tr>\n",
       "    <tr>\n",
       "      <th>2</th>\n",
       "      <td>95219557</td>\n",
       "      <td>12800.0</td>\n",
       "      <td>2016-12-01</td>\n",
       "      <td>36</td>\n",
       "      <td>7.99</td>\n",
       "      <td>A</td>\n",
       "      <td>A5</td>\n",
       "      <td>general manager</td>\n",
       "      <td>Not Verified</td>\n",
       "      <td>MORTGAGE</td>\n",
       "      <td>...</td>\n",
       "      <td>12.89</td>\n",
       "      <td>705.0</td>\n",
       "      <td>709.0</td>\n",
       "      <td>N</td>\n",
       "      <td>66.0</td>\n",
       "      <td>2019-12-01</td>\n",
       "      <td>[(0.02, 1121), (0.02, 2242), (0.03, 3363), (0....</td>\n",
       "      <td>5757.5</td>\n",
       "      <td>2195.64</td>\n",
       "      <td>39546.86</td>\n",
       "    </tr>\n",
       "    <tr>\n",
       "      <th>3</th>\n",
       "      <td>142831837</td>\n",
       "      <td>16000.0</td>\n",
       "      <td>2018-10-01</td>\n",
       "      <td>60</td>\n",
       "      <td>23.40</td>\n",
       "      <td>E</td>\n",
       "      <td>E1</td>\n",
       "      <td>nurse</td>\n",
       "      <td>Source Verified</td>\n",
       "      <td>MORTGAGE</td>\n",
       "      <td>...</td>\n",
       "      <td>5.66</td>\n",
       "      <td>670.0</td>\n",
       "      <td>674.0</td>\n",
       "      <td>N</td>\n",
       "      <td>NaN</td>\n",
       "      <td>2023-10-01</td>\n",
       "      <td>[(0.0, 0)]</td>\n",
       "      <td>22200.0</td>\n",
       "      <td>0.00</td>\n",
       "      <td>97800.00</td>\n",
       "    </tr>\n",
       "    <tr>\n",
       "      <th>4</th>\n",
       "      <td>140113255</td>\n",
       "      <td>40000.0</td>\n",
       "      <td>2018-09-01</td>\n",
       "      <td>60</td>\n",
       "      <td>7.84</td>\n",
       "      <td>A</td>\n",
       "      <td>A4</td>\n",
       "      <td>staff pharmacist</td>\n",
       "      <td>Verified</td>\n",
       "      <td>MORTGAGE</td>\n",
       "      <td>...</td>\n",
       "      <td>12.24</td>\n",
       "      <td>735.0</td>\n",
       "      <td>739.0</td>\n",
       "      <td>N</td>\n",
       "      <td>NaN</td>\n",
       "      <td>2023-09-01</td>\n",
       "      <td>[(0.05, 0), (0.07, 30070), (0.08, 98760), (0.1...</td>\n",
       "      <td>29400.0</td>\n",
       "      <td>10411.00</td>\n",
       "      <td>110189.00</td>\n",
       "    </tr>\n",
       "  </tbody>\n",
       "</table>\n",
       "<p>5 rows × 25 columns</p>\n",
       "</div>"
      ],
      "text/plain": [
       "          id  loan_amnt    issue_d  term  int_rate grade sub_grade  \\\n",
       "0   17965023    18000.0 2014-06-01    60     16.99     D        D3   \n",
       "1  111414087    10000.0 2017-06-01    36     16.02     C        C5   \n",
       "2   95219557    12800.0 2016-12-01    36      7.99     A        A5   \n",
       "3  142831837    16000.0 2018-10-01    60     23.40     E        E1   \n",
       "4  140113255    40000.0 2018-09-01    60      7.84     A        A4   \n",
       "\n",
       "          emp_title verification_status home_ownership  ...    dti  \\\n",
       "0             sales     Source Verified           RENT  ...  23.22   \n",
       "1          mechanic     Source Verified            OWN  ...   6.14   \n",
       "2   general manager        Not Verified       MORTGAGE  ...  12.89   \n",
       "3             nurse     Source Verified       MORTGAGE  ...   5.66   \n",
       "4  staff pharmacist            Verified       MORTGAGE  ...  12.24   \n",
       "\n",
       "  fico_range_low fico_range_high hardship_flag mths_since_last_delinq  \\\n",
       "0          700.0           704.0             N                   72.0   \n",
       "1          680.0           684.0             N                    6.0   \n",
       "2          705.0           709.0             N                   66.0   \n",
       "3          670.0           674.0             N                    NaN   \n",
       "4          735.0           739.0             N                    NaN   \n",
       "\n",
       "    term_end                                       bracket_list  \\\n",
       "0 2019-06-01  [(0.05, 0), (0.07, 30070), (0.08, 98760), (0.1...   \n",
       "1 2020-06-01                                        [(0.05, 0)]   \n",
       "2 2019-12-01  [(0.02, 1121), (0.02, 2242), (0.03, 3363), (0....   \n",
       "3 2023-10-01                                         [(0.0, 0)]   \n",
       "4 2023-09-01  [(0.05, 0), (0.07, 30070), (0.08, 98760), (0.1...   \n",
       "\n",
       "   federal_tax_owed state_tax_owed  disposable_income  \n",
       "0            8507.5        3598.60           47893.90  \n",
       "1            6307.5        2500.00           41192.50  \n",
       "2            5757.5        2195.64           39546.86  \n",
       "3           22200.0           0.00           97800.00  \n",
       "4           29400.0       10411.00          110189.00  \n",
       "\n",
       "[5 rows x 25 columns]"
      ]
     },
     "execution_count": 67,
     "metadata": {},
     "output_type": "execute_result"
    }
   ],
   "source": [
    "with_disposable_income = find_disposable_income(loans_with_state_taxes)\n",
    "with_disposable_income.head()"
   ]
  },
  {
   "cell_type": "code",
   "execution_count": 68,
   "id": "91f96379",
   "metadata": {},
   "outputs": [
    {
     "data": {
      "application/vnd.plotly.v1+json": {
       "config": {
        "plotlyServerURL": "https://plot.ly"
       },
       "data": [
        {
         "hovertemplate": "<b>%{hovertext}</b><br><br>Median Income=%{x}<br>Effective State Tax Rate<br>sum(state tax) / sum(annual income)=%{y}<br>Number of Borrowers=%{marker.size}<extra></extra>",
         "hovertext": [
          "AK",
          "AL",
          "AR",
          "AZ",
          "CA",
          "CO",
          "CT",
          "DC",
          "DE",
          "FL",
          "GA",
          "HI",
          "ID",
          "IL",
          "IN",
          "KS",
          "KY",
          "LA",
          "MA",
          "MD",
          "ME",
          "MI",
          "MN",
          "MO",
          "MS",
          "MT",
          "NC",
          "ND",
          "NE",
          "NH",
          "NJ",
          "NM",
          "NV",
          "NY",
          "OH",
          "OK",
          "OR",
          "PA",
          "RI",
          "SC",
          "SD",
          "TN",
          "TX",
          "UT",
          "VA",
          "VT",
          "WA",
          "WI",
          "WV",
          "WY"
         ],
         "legendgroup": "",
         "marker": {
          "color": "#1F77B4",
          "size": {
           "bdata": "EwBOADcAgwCJA3EAbgAXABgApAHGABwACwAFAVEAOwAzAEsAqgCXAAwArgCDAGAAJQAUALwABwAfABkA5AAfAFIA8gHMADYAUQDNABoARQANAFkAKQIiALcADwCBAFUAHAAJAA==",
           "dtype": "i2"
          },
          "sizemode": "area",
          "sizeref": 2.2625,
          "symbol": "circle"
         },
         "mode": "markers",
         "name": "",
         "orientation": "v",
         "showlegend": false,
         "type": "scatter",
         "x": {
          "bdata": "AAAAAACI80AAAAAAEAXuQAAAAACAhO5AAAAAAAC970AAAAAAgE/yQAAAAAAAF/FAAAAAAAAX8UAAAAAAAAX0QAAAAAAAve9AAAAAAAC970AAAAAAED7xQAAAAAAAF/FAAAAAAADD7kAAAAAAAJrwQAAAAAAARu5AAAAAAIAB70AAAAAAAJrwQAAAAACAT/JAAAAAAIBP8kAAAAAAAAX0QAAAAACAVfFAAAAAAAAX8UAAAAAAgITuQAAAAAAATO1AAAAAAABM7UAAAAAAANvqQAAAAAAAve9AAAAAAMAx60AAAAAAAF7qQAAAAAAAauhAAAAAAACI80AAAAAAABfxQAAAAAAw0e9AAAAAAAAX8UAAAAAACBzwQAAAAABAOe1AAAAAAABM7UAAAAAAgFXxQAAAAAAAiPNAAAAAAABS7EAAAAAAAPnlQAAAAAAAUuxAAAAAAIBV8UAAAAAAABfxQAAAAAAAF/FAAAAAAABY60AAAAAAABfxQAAAAAAARu5AAAAAAIAT7EAAAAAAAL3vQA==",
          "dtype": "f8"
         },
         "xaxis": "x",
         "y": {
          "bdata": "AAAAAAAAAACug2DexE+pP29lkUdsYag/exSuR+F6lD8swg4Q7+esP3sUrkfheqQ/0eHY7YFUqj9t/AOixAexPznpb6pw0aw/AAAAAAAAAABw3fUv/oStP33i/C0acbI/uB6F61G4rj+amZmZmZmpP7gehetRuJ4/o1R7KJHvqj97FK5H4XqkP5fP3rh996I/mJmZmZmZqT8J7kPBb2apP1PH9be+FbE/exSuR+F6pD9eB1LDTfWvP71xJPh8Tqg/2TRMXX34pT8ie6dLe/+tP5qZmZmZmak/YploUCnviT90tai/ydGrP3sUrkfheqQ/gFLeyMLTpD/YnHIleOenPwAAAAAAAAAAnMqf7EtWsD/aLfEUExuUP7JzzYTTQag/8UHyI7H6tT+5HoXrUbiePybo9aB7Lag/d8yuSroUqj8AAAAAAAAAAAAAAAAAAAAAAAAAAAAAAACZmZmZmZmpPwBiEnFVWa4/ivKoH+I0pT+O7zLG9N9RP9DZVBhu6qg/EIwlucYWqD8AAAAAAAAAAA==",
          "dtype": "f8"
         },
         "yaxis": "y"
        }
       ],
       "layout": {
        "legend": {
         "itemsizing": "constant",
         "tracegroupgap": 0
        },
        "template": {
         "data": {
          "bar": [
           {
            "error_x": {
             "color": "rgb(36,36,36)"
            },
            "error_y": {
             "color": "rgb(36,36,36)"
            },
            "marker": {
             "line": {
              "color": "white",
              "width": 0.5
             },
             "pattern": {
              "fillmode": "overlay",
              "size": 10,
              "solidity": 0.2
             }
            },
            "type": "bar"
           }
          ],
          "barpolar": [
           {
            "marker": {
             "line": {
              "color": "white",
              "width": 0.5
             },
             "pattern": {
              "fillmode": "overlay",
              "size": 10,
              "solidity": 0.2
             }
            },
            "type": "barpolar"
           }
          ],
          "carpet": [
           {
            "aaxis": {
             "endlinecolor": "rgb(36,36,36)",
             "gridcolor": "white",
             "linecolor": "white",
             "minorgridcolor": "white",
             "startlinecolor": "rgb(36,36,36)"
            },
            "baxis": {
             "endlinecolor": "rgb(36,36,36)",
             "gridcolor": "white",
             "linecolor": "white",
             "minorgridcolor": "white",
             "startlinecolor": "rgb(36,36,36)"
            },
            "type": "carpet"
           }
          ],
          "choropleth": [
           {
            "colorbar": {
             "outlinewidth": 1,
             "tickcolor": "rgb(36,36,36)",
             "ticks": "outside"
            },
            "type": "choropleth"
           }
          ],
          "contour": [
           {
            "colorbar": {
             "outlinewidth": 1,
             "tickcolor": "rgb(36,36,36)",
             "ticks": "outside"
            },
            "colorscale": [
             [
              0,
              "#440154"
             ],
             [
              0.1111111111111111,
              "#482878"
             ],
             [
              0.2222222222222222,
              "#3e4989"
             ],
             [
              0.3333333333333333,
              "#31688e"
             ],
             [
              0.4444444444444444,
              "#26828e"
             ],
             [
              0.5555555555555556,
              "#1f9e89"
             ],
             [
              0.6666666666666666,
              "#35b779"
             ],
             [
              0.7777777777777778,
              "#6ece58"
             ],
             [
              0.8888888888888888,
              "#b5de2b"
             ],
             [
              1,
              "#fde725"
             ]
            ],
            "type": "contour"
           }
          ],
          "contourcarpet": [
           {
            "colorbar": {
             "outlinewidth": 1,
             "tickcolor": "rgb(36,36,36)",
             "ticks": "outside"
            },
            "type": "contourcarpet"
           }
          ],
          "heatmap": [
           {
            "colorbar": {
             "outlinewidth": 1,
             "tickcolor": "rgb(36,36,36)",
             "ticks": "outside"
            },
            "colorscale": [
             [
              0,
              "#440154"
             ],
             [
              0.1111111111111111,
              "#482878"
             ],
             [
              0.2222222222222222,
              "#3e4989"
             ],
             [
              0.3333333333333333,
              "#31688e"
             ],
             [
              0.4444444444444444,
              "#26828e"
             ],
             [
              0.5555555555555556,
              "#1f9e89"
             ],
             [
              0.6666666666666666,
              "#35b779"
             ],
             [
              0.7777777777777778,
              "#6ece58"
             ],
             [
              0.8888888888888888,
              "#b5de2b"
             ],
             [
              1,
              "#fde725"
             ]
            ],
            "type": "heatmap"
           }
          ],
          "histogram": [
           {
            "marker": {
             "line": {
              "color": "white",
              "width": 0.6
             }
            },
            "type": "histogram"
           }
          ],
          "histogram2d": [
           {
            "colorbar": {
             "outlinewidth": 1,
             "tickcolor": "rgb(36,36,36)",
             "ticks": "outside"
            },
            "colorscale": [
             [
              0,
              "#440154"
             ],
             [
              0.1111111111111111,
              "#482878"
             ],
             [
              0.2222222222222222,
              "#3e4989"
             ],
             [
              0.3333333333333333,
              "#31688e"
             ],
             [
              0.4444444444444444,
              "#26828e"
             ],
             [
              0.5555555555555556,
              "#1f9e89"
             ],
             [
              0.6666666666666666,
              "#35b779"
             ],
             [
              0.7777777777777778,
              "#6ece58"
             ],
             [
              0.8888888888888888,
              "#b5de2b"
             ],
             [
              1,
              "#fde725"
             ]
            ],
            "type": "histogram2d"
           }
          ],
          "histogram2dcontour": [
           {
            "colorbar": {
             "outlinewidth": 1,
             "tickcolor": "rgb(36,36,36)",
             "ticks": "outside"
            },
            "colorscale": [
             [
              0,
              "#440154"
             ],
             [
              0.1111111111111111,
              "#482878"
             ],
             [
              0.2222222222222222,
              "#3e4989"
             ],
             [
              0.3333333333333333,
              "#31688e"
             ],
             [
              0.4444444444444444,
              "#26828e"
             ],
             [
              0.5555555555555556,
              "#1f9e89"
             ],
             [
              0.6666666666666666,
              "#35b779"
             ],
             [
              0.7777777777777778,
              "#6ece58"
             ],
             [
              0.8888888888888888,
              "#b5de2b"
             ],
             [
              1,
              "#fde725"
             ]
            ],
            "type": "histogram2dcontour"
           }
          ],
          "mesh3d": [
           {
            "colorbar": {
             "outlinewidth": 1,
             "tickcolor": "rgb(36,36,36)",
             "ticks": "outside"
            },
            "type": "mesh3d"
           }
          ],
          "parcoords": [
           {
            "line": {
             "colorbar": {
              "outlinewidth": 1,
              "tickcolor": "rgb(36,36,36)",
              "ticks": "outside"
             }
            },
            "type": "parcoords"
           }
          ],
          "pie": [
           {
            "automargin": true,
            "type": "pie"
           }
          ],
          "scatter": [
           {
            "fillpattern": {
             "fillmode": "overlay",
             "size": 10,
             "solidity": 0.2
            },
            "type": "scatter"
           }
          ],
          "scatter3d": [
           {
            "line": {
             "colorbar": {
              "outlinewidth": 1,
              "tickcolor": "rgb(36,36,36)",
              "ticks": "outside"
             }
            },
            "marker": {
             "colorbar": {
              "outlinewidth": 1,
              "tickcolor": "rgb(36,36,36)",
              "ticks": "outside"
             }
            },
            "type": "scatter3d"
           }
          ],
          "scattercarpet": [
           {
            "marker": {
             "colorbar": {
              "outlinewidth": 1,
              "tickcolor": "rgb(36,36,36)",
              "ticks": "outside"
             }
            },
            "type": "scattercarpet"
           }
          ],
          "scattergeo": [
           {
            "marker": {
             "colorbar": {
              "outlinewidth": 1,
              "tickcolor": "rgb(36,36,36)",
              "ticks": "outside"
             }
            },
            "type": "scattergeo"
           }
          ],
          "scattergl": [
           {
            "marker": {
             "colorbar": {
              "outlinewidth": 1,
              "tickcolor": "rgb(36,36,36)",
              "ticks": "outside"
             }
            },
            "type": "scattergl"
           }
          ],
          "scattermap": [
           {
            "marker": {
             "colorbar": {
              "outlinewidth": 1,
              "tickcolor": "rgb(36,36,36)",
              "ticks": "outside"
             }
            },
            "type": "scattermap"
           }
          ],
          "scattermapbox": [
           {
            "marker": {
             "colorbar": {
              "outlinewidth": 1,
              "tickcolor": "rgb(36,36,36)",
              "ticks": "outside"
             }
            },
            "type": "scattermapbox"
           }
          ],
          "scatterpolar": [
           {
            "marker": {
             "colorbar": {
              "outlinewidth": 1,
              "tickcolor": "rgb(36,36,36)",
              "ticks": "outside"
             }
            },
            "type": "scatterpolar"
           }
          ],
          "scatterpolargl": [
           {
            "marker": {
             "colorbar": {
              "outlinewidth": 1,
              "tickcolor": "rgb(36,36,36)",
              "ticks": "outside"
             }
            },
            "type": "scatterpolargl"
           }
          ],
          "scatterternary": [
           {
            "marker": {
             "colorbar": {
              "outlinewidth": 1,
              "tickcolor": "rgb(36,36,36)",
              "ticks": "outside"
             }
            },
            "type": "scatterternary"
           }
          ],
          "surface": [
           {
            "colorbar": {
             "outlinewidth": 1,
             "tickcolor": "rgb(36,36,36)",
             "ticks": "outside"
            },
            "colorscale": [
             [
              0,
              "#440154"
             ],
             [
              0.1111111111111111,
              "#482878"
             ],
             [
              0.2222222222222222,
              "#3e4989"
             ],
             [
              0.3333333333333333,
              "#31688e"
             ],
             [
              0.4444444444444444,
              "#26828e"
             ],
             [
              0.5555555555555556,
              "#1f9e89"
             ],
             [
              0.6666666666666666,
              "#35b779"
             ],
             [
              0.7777777777777778,
              "#6ece58"
             ],
             [
              0.8888888888888888,
              "#b5de2b"
             ],
             [
              1,
              "#fde725"
             ]
            ],
            "type": "surface"
           }
          ],
          "table": [
           {
            "cells": {
             "fill": {
              "color": "rgb(237,237,237)"
             },
             "line": {
              "color": "white"
             }
            },
            "header": {
             "fill": {
              "color": "rgb(217,217,217)"
             },
             "line": {
              "color": "white"
             }
            },
            "type": "table"
           }
          ]
         },
         "layout": {
          "annotationdefaults": {
           "arrowhead": 0,
           "arrowwidth": 1
          },
          "autosize": true,
          "autotypenumbers": "strict",
          "coloraxis": {
           "colorbar": {
            "outlinewidth": 1,
            "tickcolor": "rgb(36,36,36)",
            "ticks": "outside"
           }
          },
          "colorscale": {
           "diverging": [
            [
             0,
             "rgb(103,0,31)"
            ],
            [
             0.1,
             "rgb(178,24,43)"
            ],
            [
             0.2,
             "rgb(214,96,77)"
            ],
            [
             0.3,
             "rgb(244,165,130)"
            ],
            [
             0.4,
             "rgb(253,219,199)"
            ],
            [
             0.5,
             "rgb(247,247,247)"
            ],
            [
             0.6,
             "rgb(209,229,240)"
            ],
            [
             0.7,
             "rgb(146,197,222)"
            ],
            [
             0.8,
             "rgb(67,147,195)"
            ],
            [
             0.9,
             "rgb(33,102,172)"
            ],
            [
             1,
             "rgb(5,48,97)"
            ]
           ],
           "sequential": [
            [
             0,
             "#440154"
            ],
            [
             0.1111111111111111,
             "#482878"
            ],
            [
             0.2222222222222222,
             "#3e4989"
            ],
            [
             0.3333333333333333,
             "#31688e"
            ],
            [
             0.4444444444444444,
             "#26828e"
            ],
            [
             0.5555555555555556,
             "#1f9e89"
            ],
            [
             0.6666666666666666,
             "#35b779"
            ],
            [
             0.7777777777777778,
             "#6ece58"
            ],
            [
             0.8888888888888888,
             "#b5de2b"
            ],
            [
             1,
             "#fde725"
            ]
           ],
           "sequentialminus": [
            [
             0,
             "#440154"
            ],
            [
             0.1111111111111111,
             "#482878"
            ],
            [
             0.2222222222222222,
             "#3e4989"
            ],
            [
             0.3333333333333333,
             "#31688e"
            ],
            [
             0.4444444444444444,
             "#26828e"
            ],
            [
             0.5555555555555556,
             "#1f9e89"
            ],
            [
             0.6666666666666666,
             "#35b779"
            ],
            [
             0.7777777777777778,
             "#6ece58"
            ],
            [
             0.8888888888888888,
             "#b5de2b"
            ],
            [
             1,
             "#fde725"
            ]
           ]
          },
          "colorway": [
           "#1F77B4",
           "#FF7F0E",
           "#2CA02C",
           "#D62728",
           "#9467BD",
           "#8C564B",
           "#E377C2",
           "#7F7F7F",
           "#BCBD22",
           "#17BECF"
          ],
          "font": {
           "color": "rgb(36,36,36)"
          },
          "geo": {
           "bgcolor": "white",
           "lakecolor": "white",
           "landcolor": "white",
           "showlakes": true,
           "showland": true,
           "subunitcolor": "white"
          },
          "height": 400,
          "hoverlabel": {
           "align": "left"
          },
          "hovermode": "closest",
          "mapbox": {
           "style": "light"
          },
          "margin": {
           "b": 30,
           "l": 30,
           "r": 30,
           "t": 30
          },
          "paper_bgcolor": "white",
          "plot_bgcolor": "white",
          "polar": {
           "angularaxis": {
            "gridcolor": "rgb(232,232,232)",
            "linecolor": "rgb(36,36,36)",
            "showgrid": false,
            "showline": true,
            "ticks": "outside"
           },
           "bgcolor": "white",
           "radialaxis": {
            "gridcolor": "rgb(232,232,232)",
            "linecolor": "rgb(36,36,36)",
            "showgrid": false,
            "showline": true,
            "ticks": "outside"
           }
          },
          "scene": {
           "xaxis": {
            "backgroundcolor": "white",
            "gridcolor": "rgb(232,232,232)",
            "gridwidth": 2,
            "linecolor": "rgb(36,36,36)",
            "showbackground": true,
            "showgrid": false,
            "showline": true,
            "ticks": "outside",
            "zeroline": false,
            "zerolinecolor": "rgb(36,36,36)"
           },
           "yaxis": {
            "backgroundcolor": "white",
            "gridcolor": "rgb(232,232,232)",
            "gridwidth": 2,
            "linecolor": "rgb(36,36,36)",
            "showbackground": true,
            "showgrid": false,
            "showline": true,
            "ticks": "outside",
            "zeroline": false,
            "zerolinecolor": "rgb(36,36,36)"
           },
           "zaxis": {
            "backgroundcolor": "white",
            "gridcolor": "rgb(232,232,232)",
            "gridwidth": 2,
            "linecolor": "rgb(36,36,36)",
            "showbackground": true,
            "showgrid": false,
            "showline": true,
            "ticks": "outside",
            "zeroline": false,
            "zerolinecolor": "rgb(36,36,36)"
           }
          },
          "shapedefaults": {
           "fillcolor": "black",
           "line": {
            "width": 0
           },
           "opacity": 0.3
          },
          "ternary": {
           "aaxis": {
            "gridcolor": "rgb(232,232,232)",
            "linecolor": "rgb(36,36,36)",
            "showgrid": false,
            "showline": true,
            "ticks": "outside"
           },
           "baxis": {
            "gridcolor": "rgb(232,232,232)",
            "linecolor": "rgb(36,36,36)",
            "showgrid": false,
            "showline": true,
            "ticks": "outside"
           },
           "bgcolor": "white",
           "caxis": {
            "gridcolor": "rgb(232,232,232)",
            "linecolor": "rgb(36,36,36)",
            "showgrid": false,
            "showline": true,
            "ticks": "outside"
           }
          },
          "title": {
           "x": 0.5,
           "xanchor": "center"
          },
          "width": 600,
          "xaxis": {
           "automargin": true,
           "gridcolor": "rgb(232,232,232)",
           "linecolor": "rgb(36,36,36)",
           "showgrid": true,
           "showline": true,
           "ticks": "outside",
           "title": {
            "standoff": 15
           },
           "zeroline": false,
           "zerolinecolor": "rgb(36,36,36)"
          },
          "yaxis": {
           "automargin": true,
           "gridcolor": "rgb(232,232,232)",
           "linecolor": "rgb(36,36,36)",
           "showgrid": true,
           "showline": true,
           "ticks": "outside",
           "title": {
            "standoff": 15
           },
           "zeroline": false,
           "zerolinecolor": "rgb(36,36,36)"
          }
         }
        },
        "title": {
         "text": "Effective State Tax Rate vs. Median Income Per State"
        },
        "xaxis": {
         "anchor": "y",
         "domain": [
          0,
          1
         ],
         "title": {
          "text": "Median Income"
         }
        },
        "yaxis": {
         "anchor": "x",
         "domain": [
          0,
          1
         ],
         "title": {
          "text": "Effective State Tax Rate<br>sum(state tax) / sum(annual income)"
         }
        }
       }
      }
     },
     "metadata": {},
     "output_type": "display_data"
    }
   ],
   "source": [
    "effective_tax_per_state = (\n",
    "    with_disposable_income\n",
    "    .groupby('State')\n",
    "    .apply(lambda df: df['state_tax_owed'].sum() / df['annual_inc'].sum())\n",
    ")\n",
    "\n",
    "median_income = (\n",
    "    with_disposable_income\n",
    "    .groupby('State')\n",
    "    ['annual_inc']\n",
    "    .median()\n",
    ")\n",
    "\n",
    "(\n",
    "    pd.DataFrame()\n",
    "    .assign(\n",
    "        effective_tax_per_state=effective_tax_per_state, \n",
    "        median_income=median_income,\n",
    "        count=with_disposable_income.value_counts('State')\n",
    "    )\n",
    "    .reset_index()\n",
    "    .plot(\n",
    "        kind='scatter',\n",
    "        x='median_income',\n",
    "        y='effective_tax_per_state',\n",
    "        hover_name='State',\n",
    "        size='count',\n",
    "        title='Effective State Tax Rate vs. Median Income Per State',\n",
    "        labels={\n",
    "            'median_income': 'Median Income',\n",
    "            'effective_tax_per_state': 'Effective State Tax Rate<br>sum(state tax) / sum(annual income)',\n",
    "            'count': 'Number of Borrowers'\n",
    "        }\n",
    "    )\n",
    ")"
   ]
  },
  {
   "cell_type": "markdown",
   "id": "3687d712",
   "metadata": {},
   "source": [
    "<a id='part3'></a>\n",
    "\n",
    "## Part 3: Identifying Simpson's Paradox 🙃\n",
    "\n",
    "([return to the outline](#outline))\n",
    "\n",
    "The Simpson's Paradox, which occurs when grouped data and ungrouped data show opposing trends. In this final part of the project, we'll try and identify instances of Simpson's Paradox in `loans`."
   ]
  },
  {
   "cell_type": "code",
   "execution_count": 69,
   "id": "659279c4",
   "metadata": {
    "tags": []
   },
   "outputs": [],
   "source": [
    "def aggregate_and_combine(loans, keywords, quantitative_column, categorical_column):\n",
    "    df = pd.DataFrame()\n",
    "\n",
    "    for keyword in keywords:\n",
    "\n",
    "        keyword_filter = loans['emp_title'].str.contains(keyword, na=False)\n",
    "        \n",
    "        means = loans[keyword_filter].groupby(categorical_column)[quantitative_column].mean()\n",
    "\n",
    "        overall_mean = loans[keyword_filter][quantitative_column].mean()\n",
    "\n",
    "        means['Overall'] = overall_mean\n",
    "        \n",
    "        means.name = f\"{keyword}_mean_{quantitative_column}\"\n",
    "    \n",
    "        df = pd.concat([df, means], axis=1)\n",
    "\n",
    "    return df"
   ]
  },
  {
   "cell_type": "markdown",
   "id": "cb3785d6",
   "metadata": {},
   "source": [
    "Run the cell below to call `aggregate_and_combine` to find the mean loan amounts given to those with `'engineer'` in their job title and `'nurse'` in their job title, both overall and separately for each home ownership status. Make sure to run this cell before moving forward, otherwise the tests won't work correctly."
   ]
  },
  {
   "cell_type": "code",
   "execution_count": 70,
   "id": "974a37f6",
   "metadata": {},
   "outputs": [
    {
     "data": {
      "text/html": [
       "<div>\n",
       "<style scoped>\n",
       "    .dataframe tbody tr th:only-of-type {\n",
       "        vertical-align: middle;\n",
       "    }\n",
       "\n",
       "    .dataframe tbody tr th {\n",
       "        vertical-align: top;\n",
       "    }\n",
       "\n",
       "    .dataframe thead th {\n",
       "        text-align: right;\n",
       "    }\n",
       "</style>\n",
       "<table border=\"1\" class=\"dataframe\">\n",
       "  <thead>\n",
       "    <tr style=\"text-align: right;\">\n",
       "      <th></th>\n",
       "      <th>engineer_mean_loan_amnt</th>\n",
       "      <th>nurse_mean_loan_amnt</th>\n",
       "    </tr>\n",
       "  </thead>\n",
       "  <tbody>\n",
       "    <tr>\n",
       "      <th>MORTGAGE</th>\n",
       "      <td>18007.425743</td>\n",
       "      <td>16374.887892</td>\n",
       "    </tr>\n",
       "    <tr>\n",
       "      <th>OWN</th>\n",
       "      <td>19980.693069</td>\n",
       "      <td>19381.661184</td>\n",
       "    </tr>\n",
       "    <tr>\n",
       "      <th>RENT</th>\n",
       "      <td>15002.312500</td>\n",
       "      <td>14358.863636</td>\n",
       "    </tr>\n",
       "    <tr>\n",
       "      <th>Overall</th>\n",
       "      <td>16341.735880</td>\n",
       "      <td>17461.695447</td>\n",
       "    </tr>\n",
       "  </tbody>\n",
       "</table>\n",
       "</div>"
      ],
      "text/plain": [
       "          engineer_mean_loan_amnt  nurse_mean_loan_amnt\n",
       "MORTGAGE             18007.425743          16374.887892\n",
       "OWN                  19980.693069          19381.661184\n",
       "RENT                 15002.312500          14358.863636\n",
       "Overall              16341.735880          17461.695447"
      ]
     },
     "execution_count": 70,
     "metadata": {},
     "output_type": "execute_result"
    }
   ],
   "source": [
    "eng_nurse_loan_home = aggregate_and_combine(loans, ['engineer', 'nurse'], 'loan_amnt', 'home_ownership')\n",
    "eng_nurse_loan_home"
   ]
  },
  {
   "cell_type": "markdown",
   "id": "9bd3aaad",
   "metadata": {},
   "source": [
    "Let's look at `eng_nurse_loan_home` once again:"
   ]
  },
  {
   "cell_type": "code",
   "execution_count": 72,
   "id": "68d0abdf",
   "metadata": {},
   "outputs": [
    {
     "data": {
      "text/html": [
       "<div>\n",
       "<style scoped>\n",
       "    .dataframe tbody tr th:only-of-type {\n",
       "        vertical-align: middle;\n",
       "    }\n",
       "\n",
       "    .dataframe tbody tr th {\n",
       "        vertical-align: top;\n",
       "    }\n",
       "\n",
       "    .dataframe thead th {\n",
       "        text-align: right;\n",
       "    }\n",
       "</style>\n",
       "<table border=\"1\" class=\"dataframe\">\n",
       "  <thead>\n",
       "    <tr style=\"text-align: right;\">\n",
       "      <th></th>\n",
       "      <th>engineer_mean_loan_amnt</th>\n",
       "      <th>nurse_mean_loan_amnt</th>\n",
       "    </tr>\n",
       "  </thead>\n",
       "  <tbody>\n",
       "    <tr>\n",
       "      <th>MORTGAGE</th>\n",
       "      <td>18007.425743</td>\n",
       "      <td>16374.887892</td>\n",
       "    </tr>\n",
       "    <tr>\n",
       "      <th>OWN</th>\n",
       "      <td>19980.693069</td>\n",
       "      <td>19381.661184</td>\n",
       "    </tr>\n",
       "    <tr>\n",
       "      <th>RENT</th>\n",
       "      <td>15002.312500</td>\n",
       "      <td>14358.863636</td>\n",
       "    </tr>\n",
       "    <tr>\n",
       "      <th>Overall</th>\n",
       "      <td>16341.735880</td>\n",
       "      <td>17461.695447</td>\n",
       "    </tr>\n",
       "  </tbody>\n",
       "</table>\n",
       "</div>"
      ],
      "text/plain": [
       "          engineer_mean_loan_amnt  nurse_mean_loan_amnt\n",
       "MORTGAGE             18007.425743          16374.887892\n",
       "OWN                  19980.693069          19381.661184\n",
       "RENT                 15002.312500          14358.863636\n",
       "Overall              16341.735880          17461.695447"
      ]
     },
     "execution_count": 72,
     "metadata": {},
     "output_type": "execute_result"
    }
   ],
   "source": [
    "eng_nurse_loan_home"
   ]
  },
  {
   "cell_type": "markdown",
   "id": "2da6f454",
   "metadata": {},
   "source": [
    "**Pay close attention – if you implemented everything correctly, you should see an instance of Simpson's Paradox above!** Across all three categories of home ownership status – `'MORTGAGE'`, `'OWN'`, and `'RENT'` – those with `'engineer'` in their job title received **higher** loan amounts on average than those with `'nurse'` in their job title. But, the average loan amount given to those with `'engineer'` in their job title was **lower** than the average amount given to those with `'nurse'` in their job title."
   ]
  },
  {
   "cell_type": "code",
   "execution_count": 73,
   "id": "7ed9cd53-7054-458f-9753-8f40bec454a5",
   "metadata": {},
   "outputs": [
    {
     "data": {
      "text/html": [
       "<div>\n",
       "<style scoped>\n",
       "    .dataframe tbody tr th:only-of-type {\n",
       "        vertical-align: middle;\n",
       "    }\n",
       "\n",
       "    .dataframe tbody tr th {\n",
       "        vertical-align: top;\n",
       "    }\n",
       "\n",
       "    .dataframe thead th {\n",
       "        text-align: right;\n",
       "    }\n",
       "</style>\n",
       "<table border=\"1\" class=\"dataframe\">\n",
       "  <thead>\n",
       "    <tr style=\"text-align: right;\">\n",
       "      <th></th>\n",
       "      <th>id</th>\n",
       "      <th>loan_amnt</th>\n",
       "      <th>issue_d</th>\n",
       "      <th>term</th>\n",
       "      <th>int_rate</th>\n",
       "      <th>grade</th>\n",
       "      <th>sub_grade</th>\n",
       "      <th>emp_title</th>\n",
       "      <th>verification_status</th>\n",
       "      <th>home_ownership</th>\n",
       "      <th>...</th>\n",
       "      <th>loan_status</th>\n",
       "      <th>purpose</th>\n",
       "      <th>desc</th>\n",
       "      <th>addr_state</th>\n",
       "      <th>dti</th>\n",
       "      <th>fico_range_low</th>\n",
       "      <th>fico_range_high</th>\n",
       "      <th>hardship_flag</th>\n",
       "      <th>mths_since_last_delinq</th>\n",
       "      <th>term_end</th>\n",
       "    </tr>\n",
       "  </thead>\n",
       "  <tbody>\n",
       "    <tr>\n",
       "      <th>0</th>\n",
       "      <td>17965023</td>\n",
       "      <td>18000.0</td>\n",
       "      <td>2014-06-01</td>\n",
       "      <td>60</td>\n",
       "      <td>16.99</td>\n",
       "      <td>D</td>\n",
       "      <td>D3</td>\n",
       "      <td>sales</td>\n",
       "      <td>Source Verified</td>\n",
       "      <td>RENT</td>\n",
       "      <td>...</td>\n",
       "      <td>Charged Off</td>\n",
       "      <td>debt_consolidation</td>\n",
       "      <td>NaN</td>\n",
       "      <td>MN</td>\n",
       "      <td>23.22</td>\n",
       "      <td>700.0</td>\n",
       "      <td>704.0</td>\n",
       "      <td>N</td>\n",
       "      <td>72.0</td>\n",
       "      <td>2019-06-01</td>\n",
       "    </tr>\n",
       "    <tr>\n",
       "      <th>1</th>\n",
       "      <td>111414087</td>\n",
       "      <td>10000.0</td>\n",
       "      <td>2017-06-01</td>\n",
       "      <td>36</td>\n",
       "      <td>16.02</td>\n",
       "      <td>C</td>\n",
       "      <td>C5</td>\n",
       "      <td>mechanic</td>\n",
       "      <td>Source Verified</td>\n",
       "      <td>OWN</td>\n",
       "      <td>...</td>\n",
       "      <td>Current</td>\n",
       "      <td>home_improvement</td>\n",
       "      <td>NaN</td>\n",
       "      <td>IL</td>\n",
       "      <td>6.14</td>\n",
       "      <td>680.0</td>\n",
       "      <td>684.0</td>\n",
       "      <td>N</td>\n",
       "      <td>6.0</td>\n",
       "      <td>2020-06-01</td>\n",
       "    </tr>\n",
       "    <tr>\n",
       "      <th>2</th>\n",
       "      <td>95219557</td>\n",
       "      <td>12800.0</td>\n",
       "      <td>2016-12-01</td>\n",
       "      <td>36</td>\n",
       "      <td>7.99</td>\n",
       "      <td>A</td>\n",
       "      <td>A5</td>\n",
       "      <td>general manager</td>\n",
       "      <td>Not Verified</td>\n",
       "      <td>MORTGAGE</td>\n",
       "      <td>...</td>\n",
       "      <td>Fully Paid</td>\n",
       "      <td>debt_consolidation</td>\n",
       "      <td>NaN</td>\n",
       "      <td>MO</td>\n",
       "      <td>12.89</td>\n",
       "      <td>705.0</td>\n",
       "      <td>709.0</td>\n",
       "      <td>N</td>\n",
       "      <td>66.0</td>\n",
       "      <td>2019-12-01</td>\n",
       "    </tr>\n",
       "    <tr>\n",
       "      <th>3</th>\n",
       "      <td>142831837</td>\n",
       "      <td>16000.0</td>\n",
       "      <td>2018-10-01</td>\n",
       "      <td>60</td>\n",
       "      <td>23.40</td>\n",
       "      <td>E</td>\n",
       "      <td>E1</td>\n",
       "      <td>nurse</td>\n",
       "      <td>Source Verified</td>\n",
       "      <td>MORTGAGE</td>\n",
       "      <td>...</td>\n",
       "      <td>Current</td>\n",
       "      <td>home_improvement</td>\n",
       "      <td>NaN</td>\n",
       "      <td>FL</td>\n",
       "      <td>5.66</td>\n",
       "      <td>670.0</td>\n",
       "      <td>674.0</td>\n",
       "      <td>N</td>\n",
       "      <td>NaN</td>\n",
       "      <td>2023-10-01</td>\n",
       "    </tr>\n",
       "    <tr>\n",
       "      <th>4</th>\n",
       "      <td>140113255</td>\n",
       "      <td>40000.0</td>\n",
       "      <td>2018-09-01</td>\n",
       "      <td>60</td>\n",
       "      <td>7.84</td>\n",
       "      <td>A</td>\n",
       "      <td>A4</td>\n",
       "      <td>staff pharmacist</td>\n",
       "      <td>Verified</td>\n",
       "      <td>MORTGAGE</td>\n",
       "      <td>...</td>\n",
       "      <td>Current</td>\n",
       "      <td>debt_consolidation</td>\n",
       "      <td>NaN</td>\n",
       "      <td>MN</td>\n",
       "      <td>12.24</td>\n",
       "      <td>735.0</td>\n",
       "      <td>739.0</td>\n",
       "      <td>N</td>\n",
       "      <td>NaN</td>\n",
       "      <td>2023-09-01</td>\n",
       "    </tr>\n",
       "    <tr>\n",
       "      <th>...</th>\n",
       "      <td>...</td>\n",
       "      <td>...</td>\n",
       "      <td>...</td>\n",
       "      <td>...</td>\n",
       "      <td>...</td>\n",
       "      <td>...</td>\n",
       "      <td>...</td>\n",
       "      <td>...</td>\n",
       "      <td>...</td>\n",
       "      <td>...</td>\n",
       "      <td>...</td>\n",
       "      <td>...</td>\n",
       "      <td>...</td>\n",
       "      <td>...</td>\n",
       "      <td>...</td>\n",
       "      <td>...</td>\n",
       "      <td>...</td>\n",
       "      <td>...</td>\n",
       "      <td>...</td>\n",
       "      <td>...</td>\n",
       "      <td>...</td>\n",
       "    </tr>\n",
       "    <tr>\n",
       "      <th>6295</th>\n",
       "      <td>16121830</td>\n",
       "      <td>20000.0</td>\n",
       "      <td>2014-05-01</td>\n",
       "      <td>36</td>\n",
       "      <td>6.03</td>\n",
       "      <td>A</td>\n",
       "      <td>A1</td>\n",
       "      <td>senior buyer</td>\n",
       "      <td>Verified</td>\n",
       "      <td>RENT</td>\n",
       "      <td>...</td>\n",
       "      <td>Fully Paid</td>\n",
       "      <td>debt_consolidation</td>\n",
       "      <td>NaN</td>\n",
       "      <td>CA</td>\n",
       "      <td>6.91</td>\n",
       "      <td>720.0</td>\n",
       "      <td>724.0</td>\n",
       "      <td>N</td>\n",
       "      <td>54.0</td>\n",
       "      <td>2017-05-01</td>\n",
       "    </tr>\n",
       "    <tr>\n",
       "      <th>6296</th>\n",
       "      <td>105091208</td>\n",
       "      <td>20000.0</td>\n",
       "      <td>2017-04-01</td>\n",
       "      <td>36</td>\n",
       "      <td>7.99</td>\n",
       "      <td>A</td>\n",
       "      <td>A5</td>\n",
       "      <td>registered nurse</td>\n",
       "      <td>Source Verified</td>\n",
       "      <td>OWN</td>\n",
       "      <td>...</td>\n",
       "      <td>Fully Paid</td>\n",
       "      <td>debt_consolidation</td>\n",
       "      <td>NaN</td>\n",
       "      <td>CA</td>\n",
       "      <td>5.66</td>\n",
       "      <td>695.0</td>\n",
       "      <td>699.0</td>\n",
       "      <td>N</td>\n",
       "      <td>NaN</td>\n",
       "      <td>2020-04-01</td>\n",
       "    </tr>\n",
       "    <tr>\n",
       "      <th>6297</th>\n",
       "      <td>63990101</td>\n",
       "      <td>10800.0</td>\n",
       "      <td>2015-11-01</td>\n",
       "      <td>60</td>\n",
       "      <td>18.49</td>\n",
       "      <td>E</td>\n",
       "      <td>E2</td>\n",
       "      <td>technician</td>\n",
       "      <td>Verified</td>\n",
       "      <td>OWN</td>\n",
       "      <td>...</td>\n",
       "      <td>Charged Off</td>\n",
       "      <td>debt_consolidation</td>\n",
       "      <td>NaN</td>\n",
       "      <td>NY</td>\n",
       "      <td>25.39</td>\n",
       "      <td>675.0</td>\n",
       "      <td>679.0</td>\n",
       "      <td>N</td>\n",
       "      <td>39.0</td>\n",
       "      <td>2020-11-01</td>\n",
       "    </tr>\n",
       "    <tr>\n",
       "      <th>6298</th>\n",
       "      <td>37641672</td>\n",
       "      <td>15000.0</td>\n",
       "      <td>2014-12-01</td>\n",
       "      <td>60</td>\n",
       "      <td>14.31</td>\n",
       "      <td>C</td>\n",
       "      <td>C4</td>\n",
       "      <td>software engineer</td>\n",
       "      <td>Source Verified</td>\n",
       "      <td>RENT</td>\n",
       "      <td>...</td>\n",
       "      <td>Fully Paid</td>\n",
       "      <td>credit_card</td>\n",
       "      <td>NaN</td>\n",
       "      <td>CA</td>\n",
       "      <td>10.63</td>\n",
       "      <td>660.0</td>\n",
       "      <td>664.0</td>\n",
       "      <td>N</td>\n",
       "      <td>22.0</td>\n",
       "      <td>2019-12-01</td>\n",
       "    </tr>\n",
       "    <tr>\n",
       "      <th>6299</th>\n",
       "      <td>50587446</td>\n",
       "      <td>14000.0</td>\n",
       "      <td>2015-06-01</td>\n",
       "      <td>60</td>\n",
       "      <td>9.99</td>\n",
       "      <td>B</td>\n",
       "      <td>B3</td>\n",
       "      <td>teacher</td>\n",
       "      <td>Not Verified</td>\n",
       "      <td>MORTGAGE</td>\n",
       "      <td>...</td>\n",
       "      <td>Current</td>\n",
       "      <td>home_improvement</td>\n",
       "      <td>NaN</td>\n",
       "      <td>TX</td>\n",
       "      <td>9.25</td>\n",
       "      <td>685.0</td>\n",
       "      <td>689.0</td>\n",
       "      <td>N</td>\n",
       "      <td>NaN</td>\n",
       "      <td>2020-06-01</td>\n",
       "    </tr>\n",
       "  </tbody>\n",
       "</table>\n",
       "<p>6300 rows × 21 columns</p>\n",
       "</div>"
      ],
      "text/plain": [
       "             id  loan_amnt    issue_d  term  int_rate grade sub_grade  \\\n",
       "0      17965023    18000.0 2014-06-01    60     16.99     D        D3   \n",
       "1     111414087    10000.0 2017-06-01    36     16.02     C        C5   \n",
       "2      95219557    12800.0 2016-12-01    36      7.99     A        A5   \n",
       "3     142831837    16000.0 2018-10-01    60     23.40     E        E1   \n",
       "4     140113255    40000.0 2018-09-01    60      7.84     A        A4   \n",
       "...         ...        ...        ...   ...       ...   ...       ...   \n",
       "6295   16121830    20000.0 2014-05-01    36      6.03     A        A1   \n",
       "6296  105091208    20000.0 2017-04-01    36      7.99     A        A5   \n",
       "6297   63990101    10800.0 2015-11-01    60     18.49     E        E2   \n",
       "6298   37641672    15000.0 2014-12-01    60     14.31     C        C4   \n",
       "6299   50587446    14000.0 2015-06-01    60      9.99     B        B3   \n",
       "\n",
       "              emp_title verification_status home_ownership  ...  loan_status  \\\n",
       "0                 sales     Source Verified           RENT  ...  Charged Off   \n",
       "1              mechanic     Source Verified            OWN  ...      Current   \n",
       "2       general manager        Not Verified       MORTGAGE  ...   Fully Paid   \n",
       "3                 nurse     Source Verified       MORTGAGE  ...      Current   \n",
       "4      staff pharmacist            Verified       MORTGAGE  ...      Current   \n",
       "...                 ...                 ...            ...  ...          ...   \n",
       "6295       senior buyer            Verified           RENT  ...   Fully Paid   \n",
       "6296   registered nurse     Source Verified            OWN  ...   Fully Paid   \n",
       "6297         technician            Verified            OWN  ...  Charged Off   \n",
       "6298  software engineer     Source Verified           RENT  ...   Fully Paid   \n",
       "6299            teacher        Not Verified       MORTGAGE  ...      Current   \n",
       "\n",
       "                 purpose desc addr_state    dti  fico_range_low  \\\n",
       "0     debt_consolidation  NaN         MN  23.22           700.0   \n",
       "1       home_improvement  NaN         IL   6.14           680.0   \n",
       "2     debt_consolidation  NaN         MO  12.89           705.0   \n",
       "3       home_improvement  NaN         FL   5.66           670.0   \n",
       "4     debt_consolidation  NaN         MN  12.24           735.0   \n",
       "...                  ...  ...        ...    ...             ...   \n",
       "6295  debt_consolidation  NaN         CA   6.91           720.0   \n",
       "6296  debt_consolidation  NaN         CA   5.66           695.0   \n",
       "6297  debt_consolidation  NaN         NY  25.39           675.0   \n",
       "6298         credit_card  NaN         CA  10.63           660.0   \n",
       "6299    home_improvement  NaN         TX   9.25           685.0   \n",
       "\n",
       "      fico_range_high  hardship_flag mths_since_last_delinq   term_end  \n",
       "0               704.0              N                   72.0 2019-06-01  \n",
       "1               684.0              N                    6.0 2020-06-01  \n",
       "2               709.0              N                   66.0 2019-12-01  \n",
       "3               674.0              N                    NaN 2023-10-01  \n",
       "4               739.0              N                    NaN 2023-09-01  \n",
       "...               ...            ...                    ...        ...  \n",
       "6295            724.0              N                   54.0 2017-05-01  \n",
       "6296            699.0              N                    NaN 2020-04-01  \n",
       "6297            679.0              N                   39.0 2020-11-01  \n",
       "6298            664.0              N                   22.0 2019-12-01  \n",
       "6299            689.0              N                    NaN 2020-06-01  \n",
       "\n",
       "[6300 rows x 21 columns]"
      ]
     },
     "execution_count": 73,
     "metadata": {},
     "output_type": "execute_result"
    }
   ],
   "source": [
    "loans"
   ]
  },
  {
   "cell_type": "code",
   "execution_count": 74,
   "id": "cbc6e12a",
   "metadata": {
    "tags": []
   },
   "outputs": [],
   "source": [
    "def exists_paradox(loans, keywords, quantitative_column, categorical_column):\n",
    "\n",
    "    aggregated = aggregate_and_combine(loans, keywords, quantitative_column, categorical_column)\n",
    "\n",
    "    paradox_found = ((aggregated.iloc[:-1, 0] > aggregated.iloc[:-1, 1]).all() and\n",
    "            (aggregated.iloc[-1, 0] < aggregated.iloc[-1, 1]))\n",
    "    \n",
    "\n",
    "    return bool(paradox_found)\n",
    "\n",
    "\n",
    "def paradox_example(loans):\n",
    "\n",
    "    keywords = [['manager', 'assistant'], ['doctor', 'teacher'], ['developer', 'analyst']]\n",
    "    quant_cols = ['loan_amnt', 'int_rate', 'annual_inc']\n",
    "    categ_cols = ['home_ownership', 'verification_status', 'term']\n",
    "\n",
    "    for keyword_pair in keywords:\n",
    "        for quant_col in quant_cols:\n",
    "            for categ_col in categ_cols:\n",
    "                if exists_paradox(loans, keyword_pair, quant_col, categ_col):\n",
    "                    return {\n",
    "                        'loans': loans,\n",
    "                        'keywords': keyword_pair,\n",
    "                        'quantitative_column': quant_col,\n",
    "                        'categorical_column': categ_col\n",
    "                    }\n",
    "    return None"
   ]
  },
  {
   "cell_type": "markdown",
   "id": "97a2f720",
   "metadata": {},
   "source": [
    "If you implemented `exists_paradox` correctly, then `exists_paradox(**paradox_example(loans))` should return `True`. Remember to not just copy the arguments from Question 9."
   ]
  },
  {
   "cell_type": "code",
   "execution_count": 75,
   "id": "56d689d9",
   "metadata": {},
   "outputs": [
    {
     "data": {
      "text/plain": [
       "True"
      ]
     },
     "execution_count": 75,
     "metadata": {},
     "output_type": "execute_result"
    }
   ],
   "source": [
    "exists_paradox(**paradox_example(loans))"
   ]
  },
  {
   "cell_type": "markdown",
   "id": "9a3d2339",
   "metadata": {},
   "source": [
    "\n",
    "\n",
    "The `loans` dataset is rich, and we've just barely scratched the surface in exploring it. Just to illustrate what's possible, run the cell below to create a line plot that depcits the number of loans approved per year for each loan purpose (car loan, medical debt, etc.)."
   ]
  },
  {
   "cell_type": "code",
   "execution_count": 77,
   "id": "c88d4f36",
   "metadata": {},
   "outputs": [
    {
     "data": {
      "application/vnd.plotly.v1+json": {
       "config": {
        "plotlyServerURL": "https://plot.ly"
       },
       "data": [
        {
         "hovertemplate": "Purpose=car<br>issue_d=%{x}<br>Frequency=%{y}<extra></extra>",
         "legendgroup": "car",
         "line": {
          "color": "#1F77B4",
          "dash": "solid"
         },
         "marker": {
          "symbol": "circle"
         },
         "mode": "lines",
         "name": "car",
         "orientation": "v",
         "showlegend": true,
         "type": "scatter",
         "x": {
          "bdata": "2AcAANkHAADaBwAA2wcAANwHAADdBwAA3gcAAN8HAADgBwAA4QcAAOIHAAA=",
          "dtype": "i4"
         },
         "xaxis": "x",
         "y": {
          "bdata": "AAAAAAAA+H8AAAAAAAD4fwAAAAAAAABAAAAAAAAA8D8AAAAAAADwPwAAAAAAAAhAAAAAAAAAAEAAAAAAAAAkQAAAAAAAACpAAAAAAAAALEAAAAAAAAAiQA==",
          "dtype": "f8"
         },
         "yaxis": "y"
        },
        {
         "hovertemplate": "Purpose=credit_card<br>issue_d=%{x}<br>Frequency=%{y}<extra></extra>",
         "legendgroup": "credit_card",
         "line": {
          "color": "#FF7F0E",
          "dash": "solid"
         },
         "marker": {
          "symbol": "circle"
         },
         "mode": "lines",
         "name": "credit_card",
         "orientation": "v",
         "showlegend": true,
         "type": "scatter",
         "x": {
          "bdata": "2AcAANkHAADaBwAA2wcAANwHAADdBwAA3gcAAN8HAADgBwAA4QcAAOIHAAA=",
          "dtype": "i4"
         },
         "xaxis": "x",
         "y": {
          "bdata": "AAAAAAAA+H8AAAAAAAD4fwAAAAAAABRAAAAAAAAAIEAAAAAAAAA0QAAAAAAAAFRAAAAAAAAgaUAAAAAAAFB0QAAAAAAAAHBAAAAAAACAbUAAAAAAABB0QA==",
          "dtype": "f8"
         },
         "yaxis": "y"
        },
        {
         "hovertemplate": "Purpose=debt_consolidation<br>issue_d=%{x}<br>Frequency=%{y}<extra></extra>",
         "legendgroup": "debt_consolidation",
         "line": {
          "color": "#2CA02C",
          "dash": "solid"
         },
         "marker": {
          "symbol": "circle"
         },
         "mode": "lines",
         "name": "debt_consolidation",
         "orientation": "v",
         "showlegend": true,
         "type": "scatter",
         "x": {
          "bdata": "2AcAANkHAADaBwAA2wcAANwHAADdBwAA3gcAAN8HAADgBwAA4QcAAOIHAAA=",
          "dtype": "i4"
         },
         "xaxis": "x",
         "y": {
          "bdata": "AAAAAAAA8D8AAAAAAAAUQAAAAAAAACZAAAAAAAAAOEAAAAAAAEBTQAAAAAAAoGtAAAAAAADge0AAAAAAAHiIQAAAAAAAgIdAAAAAAABAhUAAAAAAAJiFQA==",
          "dtype": "f8"
         },
         "yaxis": "y"
        },
        {
         "hovertemplate": "Purpose=educational<br>issue_d=%{x}<br>Frequency=%{y}<extra></extra>",
         "legendgroup": "educational",
         "line": {
          "color": "#D62728",
          "dash": "solid"
         },
         "marker": {
          "symbol": "circle"
         },
         "mode": "lines",
         "name": "educational",
         "orientation": "v",
         "showlegend": true,
         "type": "scatter",
         "x": {
          "bdata": "2AcAANkHAADaBwAA2wcAANwHAADdBwAA3gcAAN8HAADgBwAA4QcAAOIHAAA=",
          "dtype": "i4"
         },
         "xaxis": "x",
         "y": {
          "bdata": "AAAAAAAAAEAAAAAAAAD4fwAAAAAAAPh/AAAAAAAA+H8AAAAAAAD4fwAAAAAAAPh/AAAAAAAA+H8AAAAAAAD4fwAAAAAAAPh/AAAAAAAA+H8AAAAAAAD4fw==",
          "dtype": "f8"
         },
         "yaxis": "y"
        },
        {
         "hovertemplate": "Purpose=home_improvement<br>issue_d=%{x}<br>Frequency=%{y}<extra></extra>",
         "legendgroup": "home_improvement",
         "line": {
          "color": "#9467BD",
          "dash": "solid"
         },
         "marker": {
          "symbol": "circle"
         },
         "mode": "lines",
         "name": "home_improvement",
         "orientation": "v",
         "showlegend": true,
         "type": "scatter",
         "x": {
          "bdata": "2AcAANkHAADaBwAA2wcAANwHAADdBwAA3gcAAN8HAADgBwAA4QcAAOIHAAA=",
          "dtype": "i4"
         },
         "xaxis": "x",
         "y": {
          "bdata": "AAAAAAAA8D8AAAAAAAD4fwAAAAAAAPh/AAAAAAAAAEAAAAAAAAAQQAAAAAAAACRAAAAAAAAAR0AAAAAAAABRQAAAAAAAgFdAAAAAAAAAWkAAAAAAAABTQA==",
          "dtype": "f8"
         },
         "yaxis": "y"
        },
        {
         "hovertemplate": "Purpose=house<br>issue_d=%{x}<br>Frequency=%{y}<extra></extra>",
         "legendgroup": "house",
         "line": {
          "color": "#8C564B",
          "dash": "solid"
         },
         "marker": {
          "symbol": "circle"
         },
         "mode": "lines",
         "name": "house",
         "orientation": "v",
         "showlegend": true,
         "type": "scatter",
         "x": {
          "bdata": "2AcAANkHAADaBwAA2wcAANwHAADdBwAA3gcAAN8HAADgBwAA4QcAAOIHAAA=",
          "dtype": "i4"
         },
         "xaxis": "x",
         "y": {
          "bdata": "AAAAAAAA8D8AAAAAAAD4fwAAAAAAAPh/AAAAAAAA8D8AAAAAAAAAQAAAAAAAAAhAAAAAAAAA+H8AAAAAAAAQQAAAAAAAACBAAAAAAAAAGEAAAAAAAAAmQA==",
          "dtype": "f8"
         },
         "yaxis": "y"
        },
        {
         "hovertemplate": "Purpose=major_purchase<br>issue_d=%{x}<br>Frequency=%{y}<extra></extra>",
         "legendgroup": "major_purchase",
         "line": {
          "color": "#E377C2",
          "dash": "solid"
         },
         "marker": {
          "symbol": "circle"
         },
         "mode": "lines",
         "name": "major_purchase",
         "orientation": "v",
         "showlegend": true,
         "type": "scatter",
         "x": {
          "bdata": "2AcAANkHAADaBwAA2wcAANwHAADdBwAA3gcAAN8HAADgBwAA4QcAAOIHAAA=",
          "dtype": "i4"
         },
         "xaxis": "x",
         "y": {
          "bdata": "AAAAAAAA+H8AAAAAAAD4fwAAAAAAAAhAAAAAAAAA8D8AAAAAAADwPwAAAAAAABxAAAAAAAAAFEAAAAAAAAAqQAAAAAAAgEBAAAAAAAAAO0AAAAAAAAA7QA==",
          "dtype": "f8"
         },
         "yaxis": "y"
        },
        {
         "hovertemplate": "Purpose=medical<br>issue_d=%{x}<br>Frequency=%{y}<extra></extra>",
         "legendgroup": "medical",
         "line": {
          "color": "#7F7F7F",
          "dash": "solid"
         },
         "marker": {
          "symbol": "circle"
         },
         "mode": "lines",
         "name": "medical",
         "orientation": "v",
         "showlegend": true,
         "type": "scatter",
         "x": {
          "bdata": "2AcAANkHAADaBwAA2wcAANwHAADdBwAA3gcAAN8HAADgBwAA4QcAAOIHAAA=",
          "dtype": "i4"
         },
         "xaxis": "x",
         "y": {
          "bdata": "AAAAAAAA+H8AAAAAAAD4fwAAAAAAAPh/AAAAAAAA8D8AAAAAAADwPwAAAAAAAPA/AAAAAAAAIkAAAAAAAAAoQAAAAAAAACRAAAAAAAAANUAAAAAAAAAkQA==",
          "dtype": "f8"
         },
         "yaxis": "y"
        },
        {
         "hovertemplate": "Purpose=moving<br>issue_d=%{x}<br>Frequency=%{y}<extra></extra>",
         "legendgroup": "moving",
         "line": {
          "color": "#BCBD22",
          "dash": "solid"
         },
         "marker": {
          "symbol": "circle"
         },
         "mode": "lines",
         "name": "moving",
         "orientation": "v",
         "showlegend": true,
         "type": "scatter",
         "x": {
          "bdata": "2AcAANkHAADaBwAA2wcAANwHAADdBwAA3gcAAN8HAADgBwAA4QcAAOIHAAA=",
          "dtype": "i4"
         },
         "xaxis": "x",
         "y": {
          "bdata": "AAAAAAAA+H8AAAAAAAD4fwAAAAAAAPh/AAAAAAAA8D8AAAAAAAAAQAAAAAAAAABAAAAAAAAAAEAAAAAAAAAQQAAAAAAAABhAAAAAAAAAJEAAAAAAAAAmQA==",
          "dtype": "f8"
         },
         "yaxis": "y"
        },
        {
         "hovertemplate": "Purpose=other<br>issue_d=%{x}<br>Frequency=%{y}<extra></extra>",
         "legendgroup": "other",
         "line": {
          "color": "#17BECF",
          "dash": "solid"
         },
         "marker": {
          "symbol": "circle"
         },
         "mode": "lines",
         "name": "other",
         "orientation": "v",
         "showlegend": true,
         "type": "scatter",
         "x": {
          "bdata": "2AcAANkHAADaBwAA2wcAANwHAADdBwAA3gcAAN8HAADgBwAA4QcAAOIHAAA=",
          "dtype": "i4"
         },
         "xaxis": "x",
         "y": {
          "bdata": "AAAAAAAA+H8AAAAAAAD4fwAAAAAAAAhAAAAAAAAAEEAAAAAAAAAYQAAAAAAAADBAAAAAAAAAPUAAAAAAAABKQAAAAAAAQFBAAAAAAABAVEAAAAAAAABVQA==",
          "dtype": "f8"
         },
         "yaxis": "y"
        },
        {
         "hovertemplate": "Purpose=renewable_energy<br>issue_d=%{x}<br>Frequency=%{y}<extra></extra>",
         "legendgroup": "renewable_energy",
         "line": {
          "color": "#1F77B4",
          "dash": "solid"
         },
         "marker": {
          "symbol": "circle"
         },
         "mode": "lines",
         "name": "renewable_energy",
         "orientation": "v",
         "showlegend": true,
         "type": "scatter",
         "x": {
          "bdata": "2AcAANkHAADaBwAA2wcAANwHAADdBwAA3gcAAN8HAADgBwAA4QcAAOIHAAA=",
          "dtype": "i4"
         },
         "xaxis": "x",
         "y": {
          "bdata": "AAAAAAAA+H8AAAAAAAD4fwAAAAAAAPh/AAAAAAAA+H8AAAAAAADwPwAAAAAAAPh/AAAAAAAA+H8AAAAAAADwPwAAAAAAAPh/AAAAAAAA+H8AAAAAAADwPw==",
          "dtype": "f8"
         },
         "yaxis": "y"
        },
        {
         "hovertemplate": "Purpose=small_business<br>issue_d=%{x}<br>Frequency=%{y}<extra></extra>",
         "legendgroup": "small_business",
         "line": {
          "color": "#FF7F0E",
          "dash": "solid"
         },
         "marker": {
          "symbol": "circle"
         },
         "mode": "lines",
         "name": "small_business",
         "orientation": "v",
         "showlegend": true,
         "type": "scatter",
         "x": {
          "bdata": "2AcAANkHAADaBwAA2wcAANwHAADdBwAA3gcAAN8HAADgBwAA4QcAAOIHAAA=",
          "dtype": "i4"
         },
         "xaxis": "x",
         "y": {
          "bdata": "AAAAAAAA+H8AAAAAAAD4fwAAAAAAAABAAAAAAAAAAEAAAAAAAADwPwAAAAAAABBAAAAAAAAAEEAAAAAAAAAiQAAAAAAAAC5AAAAAAAAAJkAAAAAAAAAmQA==",
          "dtype": "f8"
         },
         "yaxis": "y"
        },
        {
         "hovertemplate": "Purpose=vacation<br>issue_d=%{x}<br>Frequency=%{y}<extra></extra>",
         "legendgroup": "vacation",
         "line": {
          "color": "#2CA02C",
          "dash": "solid"
         },
         "marker": {
          "symbol": "circle"
         },
         "mode": "lines",
         "name": "vacation",
         "orientation": "v",
         "showlegend": true,
         "type": "scatter",
         "x": {
          "bdata": "2AcAANkHAADaBwAA2wcAANwHAADdBwAA3gcAAN8HAADgBwAA4QcAAOIHAAA=",
          "dtype": "i4"
         },
         "xaxis": "x",
         "y": {
          "bdata": "AAAAAAAA+H8AAAAAAAD4fwAAAAAAAPh/AAAAAAAAAEAAAAAAAADwPwAAAAAAAABAAAAAAAAAEEAAAAAAAAAQQAAAAAAAAABAAAAAAAAAJkAAAAAAAAAYQA==",
          "dtype": "f8"
         },
         "yaxis": "y"
        },
        {
         "hovertemplate": "Purpose=wedding<br>issue_d=%{x}<br>Frequency=%{y}<extra></extra>",
         "legendgroup": "wedding",
         "line": {
          "color": "#D62728",
          "dash": "solid"
         },
         "marker": {
          "symbol": "circle"
         },
         "mode": "lines",
         "name": "wedding",
         "orientation": "v",
         "showlegend": true,
         "type": "scatter",
         "x": {
          "bdata": "2AcAANkHAADaBwAA2wcAANwHAADdBwAA3gcAAN8HAADgBwAA4QcAAOIHAAA=",
          "dtype": "i4"
         },
         "xaxis": "x",
         "y": {
          "bdata": "AAAAAAAA+H8AAAAAAAD4fwAAAAAAAABAAAAAAAAAAEAAAAAAAAD4fwAAAAAAAPA/AAAAAAAA+H8AAAAAAAD4fwAAAAAAAPh/AAAAAAAA+H8AAAAAAAD4fw==",
          "dtype": "f8"
         },
         "yaxis": "y"
        }
       ],
       "layout": {
        "legend": {
         "title": {
          "text": "Purpose"
         },
         "tracegroupgap": 0
        },
        "template": {
         "data": {
          "bar": [
           {
            "error_x": {
             "color": "rgb(36,36,36)"
            },
            "error_y": {
             "color": "rgb(36,36,36)"
            },
            "marker": {
             "line": {
              "color": "white",
              "width": 0.5
             },
             "pattern": {
              "fillmode": "overlay",
              "size": 10,
              "solidity": 0.2
             }
            },
            "type": "bar"
           }
          ],
          "barpolar": [
           {
            "marker": {
             "line": {
              "color": "white",
              "width": 0.5
             },
             "pattern": {
              "fillmode": "overlay",
              "size": 10,
              "solidity": 0.2
             }
            },
            "type": "barpolar"
           }
          ],
          "carpet": [
           {
            "aaxis": {
             "endlinecolor": "rgb(36,36,36)",
             "gridcolor": "white",
             "linecolor": "white",
             "minorgridcolor": "white",
             "startlinecolor": "rgb(36,36,36)"
            },
            "baxis": {
             "endlinecolor": "rgb(36,36,36)",
             "gridcolor": "white",
             "linecolor": "white",
             "minorgridcolor": "white",
             "startlinecolor": "rgb(36,36,36)"
            },
            "type": "carpet"
           }
          ],
          "choropleth": [
           {
            "colorbar": {
             "outlinewidth": 1,
             "tickcolor": "rgb(36,36,36)",
             "ticks": "outside"
            },
            "type": "choropleth"
           }
          ],
          "contour": [
           {
            "colorbar": {
             "outlinewidth": 1,
             "tickcolor": "rgb(36,36,36)",
             "ticks": "outside"
            },
            "colorscale": [
             [
              0,
              "#440154"
             ],
             [
              0.1111111111111111,
              "#482878"
             ],
             [
              0.2222222222222222,
              "#3e4989"
             ],
             [
              0.3333333333333333,
              "#31688e"
             ],
             [
              0.4444444444444444,
              "#26828e"
             ],
             [
              0.5555555555555556,
              "#1f9e89"
             ],
             [
              0.6666666666666666,
              "#35b779"
             ],
             [
              0.7777777777777778,
              "#6ece58"
             ],
             [
              0.8888888888888888,
              "#b5de2b"
             ],
             [
              1,
              "#fde725"
             ]
            ],
            "type": "contour"
           }
          ],
          "contourcarpet": [
           {
            "colorbar": {
             "outlinewidth": 1,
             "tickcolor": "rgb(36,36,36)",
             "ticks": "outside"
            },
            "type": "contourcarpet"
           }
          ],
          "heatmap": [
           {
            "colorbar": {
             "outlinewidth": 1,
             "tickcolor": "rgb(36,36,36)",
             "ticks": "outside"
            },
            "colorscale": [
             [
              0,
              "#440154"
             ],
             [
              0.1111111111111111,
              "#482878"
             ],
             [
              0.2222222222222222,
              "#3e4989"
             ],
             [
              0.3333333333333333,
              "#31688e"
             ],
             [
              0.4444444444444444,
              "#26828e"
             ],
             [
              0.5555555555555556,
              "#1f9e89"
             ],
             [
              0.6666666666666666,
              "#35b779"
             ],
             [
              0.7777777777777778,
              "#6ece58"
             ],
             [
              0.8888888888888888,
              "#b5de2b"
             ],
             [
              1,
              "#fde725"
             ]
            ],
            "type": "heatmap"
           }
          ],
          "histogram": [
           {
            "marker": {
             "line": {
              "color": "white",
              "width": 0.6
             }
            },
            "type": "histogram"
           }
          ],
          "histogram2d": [
           {
            "colorbar": {
             "outlinewidth": 1,
             "tickcolor": "rgb(36,36,36)",
             "ticks": "outside"
            },
            "colorscale": [
             [
              0,
              "#440154"
             ],
             [
              0.1111111111111111,
              "#482878"
             ],
             [
              0.2222222222222222,
              "#3e4989"
             ],
             [
              0.3333333333333333,
              "#31688e"
             ],
             [
              0.4444444444444444,
              "#26828e"
             ],
             [
              0.5555555555555556,
              "#1f9e89"
             ],
             [
              0.6666666666666666,
              "#35b779"
             ],
             [
              0.7777777777777778,
              "#6ece58"
             ],
             [
              0.8888888888888888,
              "#b5de2b"
             ],
             [
              1,
              "#fde725"
             ]
            ],
            "type": "histogram2d"
           }
          ],
          "histogram2dcontour": [
           {
            "colorbar": {
             "outlinewidth": 1,
             "tickcolor": "rgb(36,36,36)",
             "ticks": "outside"
            },
            "colorscale": [
             [
              0,
              "#440154"
             ],
             [
              0.1111111111111111,
              "#482878"
             ],
             [
              0.2222222222222222,
              "#3e4989"
             ],
             [
              0.3333333333333333,
              "#31688e"
             ],
             [
              0.4444444444444444,
              "#26828e"
             ],
             [
              0.5555555555555556,
              "#1f9e89"
             ],
             [
              0.6666666666666666,
              "#35b779"
             ],
             [
              0.7777777777777778,
              "#6ece58"
             ],
             [
              0.8888888888888888,
              "#b5de2b"
             ],
             [
              1,
              "#fde725"
             ]
            ],
            "type": "histogram2dcontour"
           }
          ],
          "mesh3d": [
           {
            "colorbar": {
             "outlinewidth": 1,
             "tickcolor": "rgb(36,36,36)",
             "ticks": "outside"
            },
            "type": "mesh3d"
           }
          ],
          "parcoords": [
           {
            "line": {
             "colorbar": {
              "outlinewidth": 1,
              "tickcolor": "rgb(36,36,36)",
              "ticks": "outside"
             }
            },
            "type": "parcoords"
           }
          ],
          "pie": [
           {
            "automargin": true,
            "type": "pie"
           }
          ],
          "scatter": [
           {
            "fillpattern": {
             "fillmode": "overlay",
             "size": 10,
             "solidity": 0.2
            },
            "type": "scatter"
           }
          ],
          "scatter3d": [
           {
            "line": {
             "colorbar": {
              "outlinewidth": 1,
              "tickcolor": "rgb(36,36,36)",
              "ticks": "outside"
             }
            },
            "marker": {
             "colorbar": {
              "outlinewidth": 1,
              "tickcolor": "rgb(36,36,36)",
              "ticks": "outside"
             }
            },
            "type": "scatter3d"
           }
          ],
          "scattercarpet": [
           {
            "marker": {
             "colorbar": {
              "outlinewidth": 1,
              "tickcolor": "rgb(36,36,36)",
              "ticks": "outside"
             }
            },
            "type": "scattercarpet"
           }
          ],
          "scattergeo": [
           {
            "marker": {
             "colorbar": {
              "outlinewidth": 1,
              "tickcolor": "rgb(36,36,36)",
              "ticks": "outside"
             }
            },
            "type": "scattergeo"
           }
          ],
          "scattergl": [
           {
            "marker": {
             "colorbar": {
              "outlinewidth": 1,
              "tickcolor": "rgb(36,36,36)",
              "ticks": "outside"
             }
            },
            "type": "scattergl"
           }
          ],
          "scattermap": [
           {
            "marker": {
             "colorbar": {
              "outlinewidth": 1,
              "tickcolor": "rgb(36,36,36)",
              "ticks": "outside"
             }
            },
            "type": "scattermap"
           }
          ],
          "scattermapbox": [
           {
            "marker": {
             "colorbar": {
              "outlinewidth": 1,
              "tickcolor": "rgb(36,36,36)",
              "ticks": "outside"
             }
            },
            "type": "scattermapbox"
           }
          ],
          "scatterpolar": [
           {
            "marker": {
             "colorbar": {
              "outlinewidth": 1,
              "tickcolor": "rgb(36,36,36)",
              "ticks": "outside"
             }
            },
            "type": "scatterpolar"
           }
          ],
          "scatterpolargl": [
           {
            "marker": {
             "colorbar": {
              "outlinewidth": 1,
              "tickcolor": "rgb(36,36,36)",
              "ticks": "outside"
             }
            },
            "type": "scatterpolargl"
           }
          ],
          "scatterternary": [
           {
            "marker": {
             "colorbar": {
              "outlinewidth": 1,
              "tickcolor": "rgb(36,36,36)",
              "ticks": "outside"
             }
            },
            "type": "scatterternary"
           }
          ],
          "surface": [
           {
            "colorbar": {
             "outlinewidth": 1,
             "tickcolor": "rgb(36,36,36)",
             "ticks": "outside"
            },
            "colorscale": [
             [
              0,
              "#440154"
             ],
             [
              0.1111111111111111,
              "#482878"
             ],
             [
              0.2222222222222222,
              "#3e4989"
             ],
             [
              0.3333333333333333,
              "#31688e"
             ],
             [
              0.4444444444444444,
              "#26828e"
             ],
             [
              0.5555555555555556,
              "#1f9e89"
             ],
             [
              0.6666666666666666,
              "#35b779"
             ],
             [
              0.7777777777777778,
              "#6ece58"
             ],
             [
              0.8888888888888888,
              "#b5de2b"
             ],
             [
              1,
              "#fde725"
             ]
            ],
            "type": "surface"
           }
          ],
          "table": [
           {
            "cells": {
             "fill": {
              "color": "rgb(237,237,237)"
             },
             "line": {
              "color": "white"
             }
            },
            "header": {
             "fill": {
              "color": "rgb(217,217,217)"
             },
             "line": {
              "color": "white"
             }
            },
            "type": "table"
           }
          ]
         },
         "layout": {
          "annotationdefaults": {
           "arrowhead": 0,
           "arrowwidth": 1
          },
          "autosize": true,
          "autotypenumbers": "strict",
          "coloraxis": {
           "colorbar": {
            "outlinewidth": 1,
            "tickcolor": "rgb(36,36,36)",
            "ticks": "outside"
           }
          },
          "colorscale": {
           "diverging": [
            [
             0,
             "rgb(103,0,31)"
            ],
            [
             0.1,
             "rgb(178,24,43)"
            ],
            [
             0.2,
             "rgb(214,96,77)"
            ],
            [
             0.3,
             "rgb(244,165,130)"
            ],
            [
             0.4,
             "rgb(253,219,199)"
            ],
            [
             0.5,
             "rgb(247,247,247)"
            ],
            [
             0.6,
             "rgb(209,229,240)"
            ],
            [
             0.7,
             "rgb(146,197,222)"
            ],
            [
             0.8,
             "rgb(67,147,195)"
            ],
            [
             0.9,
             "rgb(33,102,172)"
            ],
            [
             1,
             "rgb(5,48,97)"
            ]
           ],
           "sequential": [
            [
             0,
             "#440154"
            ],
            [
             0.1111111111111111,
             "#482878"
            ],
            [
             0.2222222222222222,
             "#3e4989"
            ],
            [
             0.3333333333333333,
             "#31688e"
            ],
            [
             0.4444444444444444,
             "#26828e"
            ],
            [
             0.5555555555555556,
             "#1f9e89"
            ],
            [
             0.6666666666666666,
             "#35b779"
            ],
            [
             0.7777777777777778,
             "#6ece58"
            ],
            [
             0.8888888888888888,
             "#b5de2b"
            ],
            [
             1,
             "#fde725"
            ]
           ],
           "sequentialminus": [
            [
             0,
             "#440154"
            ],
            [
             0.1111111111111111,
             "#482878"
            ],
            [
             0.2222222222222222,
             "#3e4989"
            ],
            [
             0.3333333333333333,
             "#31688e"
            ],
            [
             0.4444444444444444,
             "#26828e"
            ],
            [
             0.5555555555555556,
             "#1f9e89"
            ],
            [
             0.6666666666666666,
             "#35b779"
            ],
            [
             0.7777777777777778,
             "#6ece58"
            ],
            [
             0.8888888888888888,
             "#b5de2b"
            ],
            [
             1,
             "#fde725"
            ]
           ]
          },
          "colorway": [
           "#1F77B4",
           "#FF7F0E",
           "#2CA02C",
           "#D62728",
           "#9467BD",
           "#8C564B",
           "#E377C2",
           "#7F7F7F",
           "#BCBD22",
           "#17BECF"
          ],
          "font": {
           "color": "rgb(36,36,36)"
          },
          "geo": {
           "bgcolor": "white",
           "lakecolor": "white",
           "landcolor": "white",
           "showlakes": true,
           "showland": true,
           "subunitcolor": "white"
          },
          "height": 400,
          "hoverlabel": {
           "align": "left"
          },
          "hovermode": "closest",
          "mapbox": {
           "style": "light"
          },
          "margin": {
           "b": 30,
           "l": 30,
           "r": 30,
           "t": 30
          },
          "paper_bgcolor": "white",
          "plot_bgcolor": "white",
          "polar": {
           "angularaxis": {
            "gridcolor": "rgb(232,232,232)",
            "linecolor": "rgb(36,36,36)",
            "showgrid": false,
            "showline": true,
            "ticks": "outside"
           },
           "bgcolor": "white",
           "radialaxis": {
            "gridcolor": "rgb(232,232,232)",
            "linecolor": "rgb(36,36,36)",
            "showgrid": false,
            "showline": true,
            "ticks": "outside"
           }
          },
          "scene": {
           "xaxis": {
            "backgroundcolor": "white",
            "gridcolor": "rgb(232,232,232)",
            "gridwidth": 2,
            "linecolor": "rgb(36,36,36)",
            "showbackground": true,
            "showgrid": false,
            "showline": true,
            "ticks": "outside",
            "zeroline": false,
            "zerolinecolor": "rgb(36,36,36)"
           },
           "yaxis": {
            "backgroundcolor": "white",
            "gridcolor": "rgb(232,232,232)",
            "gridwidth": 2,
            "linecolor": "rgb(36,36,36)",
            "showbackground": true,
            "showgrid": false,
            "showline": true,
            "ticks": "outside",
            "zeroline": false,
            "zerolinecolor": "rgb(36,36,36)"
           },
           "zaxis": {
            "backgroundcolor": "white",
            "gridcolor": "rgb(232,232,232)",
            "gridwidth": 2,
            "linecolor": "rgb(36,36,36)",
            "showbackground": true,
            "showgrid": false,
            "showline": true,
            "ticks": "outside",
            "zeroline": false,
            "zerolinecolor": "rgb(36,36,36)"
           }
          },
          "shapedefaults": {
           "fillcolor": "black",
           "line": {
            "width": 0
           },
           "opacity": 0.3
          },
          "ternary": {
           "aaxis": {
            "gridcolor": "rgb(232,232,232)",
            "linecolor": "rgb(36,36,36)",
            "showgrid": false,
            "showline": true,
            "ticks": "outside"
           },
           "baxis": {
            "gridcolor": "rgb(232,232,232)",
            "linecolor": "rgb(36,36,36)",
            "showgrid": false,
            "showline": true,
            "ticks": "outside"
           },
           "bgcolor": "white",
           "caxis": {
            "gridcolor": "rgb(232,232,232)",
            "linecolor": "rgb(36,36,36)",
            "showgrid": false,
            "showline": true,
            "ticks": "outside"
           }
          },
          "title": {
           "x": 0.5,
           "xanchor": "center"
          },
          "width": 600,
          "xaxis": {
           "automargin": true,
           "gridcolor": "rgb(232,232,232)",
           "linecolor": "rgb(36,36,36)",
           "showgrid": true,
           "showline": true,
           "ticks": "outside",
           "title": {
            "standoff": 15
           },
           "zeroline": false,
           "zerolinecolor": "rgb(36,36,36)"
          },
          "yaxis": {
           "automargin": true,
           "gridcolor": "rgb(232,232,232)",
           "linecolor": "rgb(36,36,36)",
           "showgrid": true,
           "showline": true,
           "ticks": "outside",
           "title": {
            "standoff": 15
           },
           "zeroline": false,
           "zerolinecolor": "rgb(36,36,36)"
          }
         }
        },
        "title": {
         "text": "Trends in Loan Purposes Over Time"
        },
        "xaxis": {
         "anchor": "y",
         "domain": [
          0,
          1
         ],
         "title": {
          "text": "Year"
         }
        },
        "yaxis": {
         "anchor": "x",
         "domain": [
          0,
          1
         ],
         "title": {
          "text": "Number of Loans"
         }
        }
       }
      }
     },
     "metadata": {},
     "output_type": "display_data"
    }
   ],
   "source": [
    "def loan_purpose_over_time(loans):\n",
    "    loans = loans.copy()\n",
    "    loan_purpose_yearly = loans.groupby([loans['issue_d'].dt.year, 'purpose']).size().unstack()\n",
    "    loan_purpose_yearly = loan_purpose_yearly.reset_index().melt(id_vars='issue_d', var_name='Purpose', value_name='Frequency')\n",
    "    \n",
    "    fig = px.line(loan_purpose_yearly, x='issue_d', y='Frequency', color='Purpose', title='Trends in Loan Purposes Over Time')\n",
    "    fig.update_xaxes(title_text='Year')\n",
    "    fig.update_yaxes(title_text='Number of Loans')\n",
    "    return fig\n",
    "\n",
    "loan_purpose_over_time(loans)"
   ]
  }
 ],
 "metadata": {
  "kernelspec": {
   "display_name": "portfolio_ds",
   "language": "python",
   "name": "python3"
  },
  "language_info": {
   "codemirror_mode": {
    "name": "ipython",
    "version": 3
   },
   "file_extension": ".py",
   "mimetype": "text/x-python",
   "name": "python",
   "nbconvert_exporter": "python",
   "pygments_lexer": "ipython3",
   "version": "3.12.9"
  },
  "otter": {
   "tests": {
    "q1": {
     "name": "q1",
     "points": null,
     "suites": [
      {
       "cases": [
        {
         "code": ">>> isinstance(loans, pd.DataFrame) and loans.shape == (6300, 21)\nTrue",
         "hidden": false,
         "locked": false,
         "points": 1
        },
        {
         "code": ">>> type(loans['issue_d'].iloc[0]) == pd._libs.tslibs.timestamps.Timestamp\nTrue",
         "hidden": false,
         "locked": false,
         "points": 1
        },
        {
         "code": ">>> import numbers\n>>> isinstance(loans['term'].iloc[0], numbers.Integral)\nTrue",
         "hidden": false,
         "locked": false,
         "points": 1
        }
       ],
       "scored": true,
       "setup": "",
       "teardown": "",
       "type": "doctest"
      }
     ]
    },
    "q10": {
     "name": "q10",
     "points": null,
     "suites": [
      {
       "cases": [
        {
         "code": ">>> type(exists_paradox(**paradox_example(loans))) == bool\nTrue",
         "hidden": false,
         "locked": false,
         "points": 1
        },
        {
         "code": ">>> list(paradox_example(loans).keys()) == ['loans', 'keywords', 'quantitative_column', 'categorical_column']\nTrue",
         "hidden": false,
         "locked": false,
         "points": 1
        },
        {
         "code": ">>> exists_paradox(loans, ['engineer', 'nurse'], 'loan_amnt', 'home_ownership')\nTrue",
         "hidden": false,
         "locked": false,
         "points": 1
        },
        {
         "code": ">>> exists_paradox(**paradox_example(loans))\nTrue",
         "hidden": false,
         "locked": false,
         "points": 1
        }
       ],
       "scored": true,
       "setup": "",
       "teardown": "",
       "type": "doctest"
      }
     ]
    },
    "q2": {
     "name": "q2",
     "points": null,
     "suites": [
      {
       "cases": [
        {
         "code": ">>> callable(correlations) and isinstance(q2_correlations, pd.Series) and q2_correlations.shape == (4,)\nTrue",
         "hidden": false,
         "locked": false,
         "points": 1
        },
        {
         "code": ">>> type(q2_correlations.iloc[0]) == np.float64 or type(q2_correlations.iloc[0]) == float\nTrue",
         "hidden": false,
         "locked": false,
         "points": 1
        }
       ],
       "scored": true,
       "setup": "",
       "teardown": "",
       "type": "doctest"
      }
     ]
    },
    "q3": {
     "name": "q3",
     "points": null,
     "suites": [
      {
       "cases": [
        {
         "code": ">>> str(type(q3_fig)) == \"<class 'plotly.graph_objs._figure.Figure'>\"\nTrue",
         "hidden": false,
         "locked": false,
         "points": 0.5
        },
        {
         "code": ">>> q3_fig.data[0].type == 'box'\nTrue",
         "hidden": false,
         "locked": false,
         "points": 0.5
        },
        {
         "code": ">>> q3_fig.layout['title']['text'].lower().strip() == 'interest rate vs. credit score'\nTrue",
         "hidden": false,
         "locked": false,
         "points": 1
        },
        {
         "code": ">>> bool((np.sort(np.unique(q3_fig.data[0]['x'])) == np.array(['[580, 670)', '[670, 740)', '[740, 800)', '[800, 850)'])).all())\nTrue",
         "hidden": false,
         "locked": false,
         "points": 1
        },
        {
         "code": ">>> q3_fig.layout['xaxis']['title']['text'].lower().strip() == 'credit score range' \\\n... and q3_fig.layout['yaxis']['title']['text'].lower().strip() == 'interest rate (%)' \\\n... and q3_fig.layout['legend']['title']['text'].lower().strip() == 'loan length (months)'\nTrue",
         "hidden": false,
         "locked": false,
         "points": 1
        },
        {
         "code": ">>> q3_fig.data[0]['marker']['color'] != '#1F77B4' and q3_fig.data[1]['marker']['color'] != '#FF7F0E'\nTrue",
         "hidden": false,
         "locked": false,
         "points": 1
        }
       ],
       "scored": true,
       "setup": "",
       "teardown": "",
       "type": "doctest"
      }
     ]
    },
    "q4": {
     "name": "q4",
     "points": null,
     "suites": [
      {
       "cases": [
        {
         "code": ">>> type(ps_test(loans, 1)) != int\nTrue",
         "hidden": false,
         "locked": false,
         "points": 1
        },
        {
         "code": ">>> type(missingness_mechanism()) == int\nTrue",
         "hidden": false,
         "locked": false,
         "points": 1
        },
        {
         "code": ">>> type(argument_for_nmar()) == str\nTrue",
         "hidden": false,
         "locked": false,
         "points": 1
        }
       ],
       "scored": true,
       "setup": "",
       "teardown": "",
       "type": "doctest"
      }
     ]
    },
    "q5": {
     "name": "q5",
     "points": null,
     "suites": [
      {
       "cases": [
        {
         "code": ">>> example_owed == 11807.5\nTrue",
         "hidden": false,
         "locked": false,
         "points": 1
        }
       ],
       "scored": true,
       "setup": "",
       "teardown": "",
       "type": "doctest"
      }
     ]
    },
    "q6": {
     "name": "q6",
     "points": null,
     "suites": [
      {
       "cases": [
        {
         "code": ">>> type(state_taxes) == pd.DataFrame\nTrue",
         "hidden": false,
         "locked": false,
         "points": 0.5
        },
        {
         "code": ">>> type(state_taxes['State'].iloc[0]) == str\nTrue",
         "hidden": false,
         "locked": false,
         "points": 0.5
        },
        {
         "code": ">>> type(state_taxes['Rate'].iloc[-1]) == np.float64 or type(state_taxes['Rate'].iloc[-1]) == float\nTrue",
         "hidden": false,
         "locked": false,
         "points": 0.5
        },
        {
         "code": ">>> import numbers\n>>> isinstance(state_taxes['Lower Limit'].iloc[-1], numbers.Integral)\nTrue",
         "hidden": false,
         "locked": false,
         "points": 0.5
        },
        {
         "code": ">>> state_taxes.shape == (182, 3)\nTrue",
         "hidden": false,
         "locked": false,
         "points": 2
        }
       ],
       "scored": true,
       "setup": "",
       "teardown": "",
       "type": "doctest"
      }
     ]
    },
    "q7": {
     "name": "q7",
     "points": null,
     "suites": [
      {
       "cases": [
        {
         "code": ">>> type(state_brackets(state_taxes)) == pd.DataFrame\nTrue",
         "hidden": false,
         "locked": false,
         "points": 0.5
        },
        {
         "code": ">>> row = state_brackets(state_taxes)['bracket_list'].iloc[0]\n>>> isinstance(row, list) and all([isinstance(ele, tuple) for ele in row])\nTrue",
         "hidden": false,
         "locked": false,
         "points": 0.5
        },
        {
         "code": ">>> 'MN' in loans_with_state_taxes['State'].tolist()\nTrue",
         "hidden": false,
         "locked": false,
         "points": 0.5
        },
        {
         "code": ">>> loans_with_state_taxes.shape == (6300, 22)\nTrue",
         "hidden": false,
         "locked": false,
         "points": 0.5
        }
       ],
       "scored": true,
       "setup": "",
       "teardown": "",
       "type": "doctest"
      }
     ]
    },
    "q8": {
     "name": "q8",
     "points": null,
     "suites": [
      {
       "cases": [
        {
         "code": ">>> with_disposable_income.shape == (6300, 25)\nTrue",
         "hidden": false,
         "locked": false,
         "points": 1
        },
        {
         "code": ">>> with_disposable_income[['federal_tax_owed', 'state_tax_owed', 'disposable_income']].iloc[7].dtype == np.float64\nTrue",
         "hidden": false,
         "locked": false,
         "points": 1
        }
       ],
       "scored": true,
       "setup": "",
       "teardown": "",
       "type": "doctest"
      }
     ]
    },
    "q9": {
     "name": "q9",
     "points": null,
     "suites": [
      {
       "cases": [
        {
         "code": ">>> eng_nurse_loan_home.shape == (4, 2)\nTrue",
         "hidden": false,
         "locked": false,
         "points": 1
        },
        {
         "code": ">>> all(eng_nurse_loan_home.columns == ['engineer_mean_loan_amnt', 'nurse_mean_loan_amnt'])\nTrue",
         "hidden": false,
         "locked": false,
         "points": 1
        },
        {
         "code": ">>> bool(np.isclose(eng_nurse_loan_home.iloc[-1, 0], 16341.735880398672) and np.isclose(eng_nurse_loan_home.iloc[-2, 1], 14358.86))\nTrue",
         "hidden": false,
         "locked": false,
         "points": 2
        }
       ],
       "scored": true,
       "setup": "",
       "teardown": "",
       "type": "doctest"
      }
     ]
    }
   }
  }
 },
 "nbformat": 4,
 "nbformat_minor": 5
}
